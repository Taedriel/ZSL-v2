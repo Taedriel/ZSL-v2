{
  "nbformat": 4,
  "nbformat_minor": 0,
  "metadata": {
    "colab": {
      "name": "pipeline.ipynb",
      "provenance": [],
      "collapsed_sections": [],
      "mount_file_id": "1OR6E3sgk-F1D3bS7Da1dyPBZYeidS0Kr",
      "authorship_tag": "ABX9TyPzZYzbcLAQPhGLgGRirS4Z",
      "include_colab_link": true
    },
    "kernelspec": {
      "name": "python3",
      "display_name": "Python 3"
    },
    "language_info": {
      "name": "python"
    },
    "accelerator": "GPU",
    "widgets": {
      "application/vnd.jupyter.widget-state+json": {
        "3e7440fd50d24b319878bfb5717388de": {
          "model_module": "@jupyter-widgets/controls",
          "model_name": "HBoxModel",
          "model_module_version": "1.5.0",
          "state": {
            "_dom_classes": [],
            "_model_module": "@jupyter-widgets/controls",
            "_model_module_version": "1.5.0",
            "_model_name": "HBoxModel",
            "_view_count": null,
            "_view_module": "@jupyter-widgets/controls",
            "_view_module_version": "1.5.0",
            "_view_name": "HBoxView",
            "box_style": "",
            "children": [
              "IPY_MODEL_682a8b74b7024460ad9bde38ab28ba06",
              "IPY_MODEL_22e181633f8246d1ab0ef2549205d768",
              "IPY_MODEL_07bea5e8bc444b0da312a5b21e157edf"
            ],
            "layout": "IPY_MODEL_a2d2432a243b4f2e9477db6df96f740a"
          }
        },
        "682a8b74b7024460ad9bde38ab28ba06": {
          "model_module": "@jupyter-widgets/controls",
          "model_name": "HTMLModel",
          "model_module_version": "1.5.0",
          "state": {
            "_dom_classes": [],
            "_model_module": "@jupyter-widgets/controls",
            "_model_module_version": "1.5.0",
            "_model_name": "HTMLModel",
            "_view_count": null,
            "_view_module": "@jupyter-widgets/controls",
            "_view_module_version": "1.5.0",
            "_view_name": "HTMLView",
            "description": "",
            "description_tooltip": null,
            "layout": "IPY_MODEL_390d28243c084be8b46dfea5fa7088d0",
            "placeholder": "​",
            "style": "IPY_MODEL_f4b89857d4284ab7adbe2046e4a0f7b6",
            "value": "100%"
          }
        },
        "22e181633f8246d1ab0ef2549205d768": {
          "model_module": "@jupyter-widgets/controls",
          "model_name": "FloatProgressModel",
          "model_module_version": "1.5.0",
          "state": {
            "_dom_classes": [],
            "_model_module": "@jupyter-widgets/controls",
            "_model_module_version": "1.5.0",
            "_model_name": "FloatProgressModel",
            "_view_count": null,
            "_view_module": "@jupyter-widgets/controls",
            "_view_module_version": "1.5.0",
            "_view_name": "ProgressView",
            "bar_style": "success",
            "description": "",
            "description_tooltip": null,
            "layout": "IPY_MODEL_f9293ea29fd44bab926e6bc805dbba59",
            "max": 102530333,
            "min": 0,
            "orientation": "horizontal",
            "style": "IPY_MODEL_9b42d024364c411baba05e39501e973d",
            "value": 102530333
          }
        },
        "07bea5e8bc444b0da312a5b21e157edf": {
          "model_module": "@jupyter-widgets/controls",
          "model_name": "HTMLModel",
          "model_module_version": "1.5.0",
          "state": {
            "_dom_classes": [],
            "_model_module": "@jupyter-widgets/controls",
            "_model_module_version": "1.5.0",
            "_model_name": "HTMLModel",
            "_view_count": null,
            "_view_module": "@jupyter-widgets/controls",
            "_view_module_version": "1.5.0",
            "_view_name": "HTMLView",
            "description": "",
            "description_tooltip": null,
            "layout": "IPY_MODEL_277b97d8f3d246aaa4a980c048ac1bce",
            "placeholder": "​",
            "style": "IPY_MODEL_6d47963242b3421a89cbc0c627e0e5fe",
            "value": " 97.8M/97.8M [00:00&lt;00:00, 253MB/s]"
          }
        },
        "a2d2432a243b4f2e9477db6df96f740a": {
          "model_module": "@jupyter-widgets/base",
          "model_name": "LayoutModel",
          "model_module_version": "1.2.0",
          "state": {
            "_model_module": "@jupyter-widgets/base",
            "_model_module_version": "1.2.0",
            "_model_name": "LayoutModel",
            "_view_count": null,
            "_view_module": "@jupyter-widgets/base",
            "_view_module_version": "1.2.0",
            "_view_name": "LayoutView",
            "align_content": null,
            "align_items": null,
            "align_self": null,
            "border": null,
            "bottom": null,
            "display": null,
            "flex": null,
            "flex_flow": null,
            "grid_area": null,
            "grid_auto_columns": null,
            "grid_auto_flow": null,
            "grid_auto_rows": null,
            "grid_column": null,
            "grid_gap": null,
            "grid_row": null,
            "grid_template_areas": null,
            "grid_template_columns": null,
            "grid_template_rows": null,
            "height": null,
            "justify_content": null,
            "justify_items": null,
            "left": null,
            "margin": null,
            "max_height": null,
            "max_width": null,
            "min_height": null,
            "min_width": null,
            "object_fit": null,
            "object_position": null,
            "order": null,
            "overflow": null,
            "overflow_x": null,
            "overflow_y": null,
            "padding": null,
            "right": null,
            "top": null,
            "visibility": null,
            "width": null
          }
        },
        "390d28243c084be8b46dfea5fa7088d0": {
          "model_module": "@jupyter-widgets/base",
          "model_name": "LayoutModel",
          "model_module_version": "1.2.0",
          "state": {
            "_model_module": "@jupyter-widgets/base",
            "_model_module_version": "1.2.0",
            "_model_name": "LayoutModel",
            "_view_count": null,
            "_view_module": "@jupyter-widgets/base",
            "_view_module_version": "1.2.0",
            "_view_name": "LayoutView",
            "align_content": null,
            "align_items": null,
            "align_self": null,
            "border": null,
            "bottom": null,
            "display": null,
            "flex": null,
            "flex_flow": null,
            "grid_area": null,
            "grid_auto_columns": null,
            "grid_auto_flow": null,
            "grid_auto_rows": null,
            "grid_column": null,
            "grid_gap": null,
            "grid_row": null,
            "grid_template_areas": null,
            "grid_template_columns": null,
            "grid_template_rows": null,
            "height": null,
            "justify_content": null,
            "justify_items": null,
            "left": null,
            "margin": null,
            "max_height": null,
            "max_width": null,
            "min_height": null,
            "min_width": null,
            "object_fit": null,
            "object_position": null,
            "order": null,
            "overflow": null,
            "overflow_x": null,
            "overflow_y": null,
            "padding": null,
            "right": null,
            "top": null,
            "visibility": null,
            "width": null
          }
        },
        "f4b89857d4284ab7adbe2046e4a0f7b6": {
          "model_module": "@jupyter-widgets/controls",
          "model_name": "DescriptionStyleModel",
          "model_module_version": "1.5.0",
          "state": {
            "_model_module": "@jupyter-widgets/controls",
            "_model_module_version": "1.5.0",
            "_model_name": "DescriptionStyleModel",
            "_view_count": null,
            "_view_module": "@jupyter-widgets/base",
            "_view_module_version": "1.2.0",
            "_view_name": "StyleView",
            "description_width": ""
          }
        },
        "f9293ea29fd44bab926e6bc805dbba59": {
          "model_module": "@jupyter-widgets/base",
          "model_name": "LayoutModel",
          "model_module_version": "1.2.0",
          "state": {
            "_model_module": "@jupyter-widgets/base",
            "_model_module_version": "1.2.0",
            "_model_name": "LayoutModel",
            "_view_count": null,
            "_view_module": "@jupyter-widgets/base",
            "_view_module_version": "1.2.0",
            "_view_name": "LayoutView",
            "align_content": null,
            "align_items": null,
            "align_self": null,
            "border": null,
            "bottom": null,
            "display": null,
            "flex": null,
            "flex_flow": null,
            "grid_area": null,
            "grid_auto_columns": null,
            "grid_auto_flow": null,
            "grid_auto_rows": null,
            "grid_column": null,
            "grid_gap": null,
            "grid_row": null,
            "grid_template_areas": null,
            "grid_template_columns": null,
            "grid_template_rows": null,
            "height": null,
            "justify_content": null,
            "justify_items": null,
            "left": null,
            "margin": null,
            "max_height": null,
            "max_width": null,
            "min_height": null,
            "min_width": null,
            "object_fit": null,
            "object_position": null,
            "order": null,
            "overflow": null,
            "overflow_x": null,
            "overflow_y": null,
            "padding": null,
            "right": null,
            "top": null,
            "visibility": null,
            "width": null
          }
        },
        "9b42d024364c411baba05e39501e973d": {
          "model_module": "@jupyter-widgets/controls",
          "model_name": "ProgressStyleModel",
          "model_module_version": "1.5.0",
          "state": {
            "_model_module": "@jupyter-widgets/controls",
            "_model_module_version": "1.5.0",
            "_model_name": "ProgressStyleModel",
            "_view_count": null,
            "_view_module": "@jupyter-widgets/base",
            "_view_module_version": "1.2.0",
            "_view_name": "StyleView",
            "bar_color": null,
            "description_width": ""
          }
        },
        "277b97d8f3d246aaa4a980c048ac1bce": {
          "model_module": "@jupyter-widgets/base",
          "model_name": "LayoutModel",
          "model_module_version": "1.2.0",
          "state": {
            "_model_module": "@jupyter-widgets/base",
            "_model_module_version": "1.2.0",
            "_model_name": "LayoutModel",
            "_view_count": null,
            "_view_module": "@jupyter-widgets/base",
            "_view_module_version": "1.2.0",
            "_view_name": "LayoutView",
            "align_content": null,
            "align_items": null,
            "align_self": null,
            "border": null,
            "bottom": null,
            "display": null,
            "flex": null,
            "flex_flow": null,
            "grid_area": null,
            "grid_auto_columns": null,
            "grid_auto_flow": null,
            "grid_auto_rows": null,
            "grid_column": null,
            "grid_gap": null,
            "grid_row": null,
            "grid_template_areas": null,
            "grid_template_columns": null,
            "grid_template_rows": null,
            "height": null,
            "justify_content": null,
            "justify_items": null,
            "left": null,
            "margin": null,
            "max_height": null,
            "max_width": null,
            "min_height": null,
            "min_width": null,
            "object_fit": null,
            "object_position": null,
            "order": null,
            "overflow": null,
            "overflow_x": null,
            "overflow_y": null,
            "padding": null,
            "right": null,
            "top": null,
            "visibility": null,
            "width": null
          }
        },
        "6d47963242b3421a89cbc0c627e0e5fe": {
          "model_module": "@jupyter-widgets/controls",
          "model_name": "DescriptionStyleModel",
          "model_module_version": "1.5.0",
          "state": {
            "_model_module": "@jupyter-widgets/controls",
            "_model_module_version": "1.5.0",
            "_model_name": "DescriptionStyleModel",
            "_view_count": null,
            "_view_module": "@jupyter-widgets/base",
            "_view_module_version": "1.2.0",
            "_view_name": "StyleView",
            "description_width": ""
          }
        }
      }
    }
  },
  "cells": [
    {
      "cell_type": "markdown",
      "metadata": {
        "id": "view-in-github",
        "colab_type": "text"
      },
      "source": [
        "<a href=\"https://colab.research.google.com/github/Taedriel/ZSL-v2/blob/googleImageFSL/pipeline.ipynb\" target=\"_parent\"><img src=\"https://colab.research.google.com/assets/colab-badge.svg\" alt=\"Open In Colab\"/></a>"
      ]
    },
    {
      "cell_type": "code",
      "execution_count": null,
      "metadata": {
        "id": "RxCGioBVtE6f"
      },
      "outputs": [],
      "source": [
        "!yes | pip install -U --quiet selenium scikit-learn-intelex Pillow sklearn\n",
        "!cd \"./drive/MyDrive/Colab Notebooks/pipeline\" && pip install -r --quiet requirements.txt\n",
        "\n",
        "!apt install chromium-chromedriver\n",
        "!cp /usr/lib/chromium-browser/chromedriver /usr/bin\n",
        "import sys\n",
        "sys.path.insert(0,'/usr/lib/chromium-browser/chromedriver')"
      ]
    },
    {
      "cell_type": "code",
      "source": [
        "import numpy as np\n",
        "import matplotlib.pyplot as plt\n",
        "import os, itertools, shutil, requests, webbrowser, urllib.request, time, random\n",
        "import PIL.Image\n",
        "\n",
        "from IPython.core.display import Image\n",
        "from statistics import mean, pstdev\n",
        "from selenium import webdriver\n",
        "from bs4 import BeautifulSoup \n",
        "\n",
        "import torch\n",
        "from torch import nn, optim\n",
        "import torch.nn.functional as F\n",
        "from torchvision import transforms, utils\n",
        "from torchvision.models import resnet18, resnet50\n",
        "from sklearn.metrics import classification_report, confusion_matrix\n",
        "\n",
        "from tqdm import tqdm"
      ],
      "metadata": {
        "id": "xMwX0RACteAV",
        "colab": {
          "base_uri": "https://localhost:8080/"
        },
        "outputId": "b6587dba-24df-4c27-b10a-98cb9e3319ea"
      },
      "execution_count": 1,
      "outputs": [
        {
          "output_type": "stream",
          "name": "stderr",
          "text": [
            "/usr/local/lib/python3.7/dist-packages/requests/__init__.py:91: RequestsDependencyWarning: urllib3 (1.26.9) or chardet (3.0.4) doesn't match a supported version!\n",
            "  RequestsDependencyWarning)\n"
          ]
        }
      ]
    },
    {
      "cell_type": "code",
      "source": [
        "PATH = \"/content/drive/MyDrive/Colab Notebooks/pipeline/\"\n",
        "PATH_IMAGES = \"/content/drive/MyDrive/Colab Notebooks/pipeline/images/\"\n",
        "PATH_DATA = \"/content/drive/MyDrive/Colab Notebooks/pipeline/model/dataO/omniglot-py/images_background/\" #\"/content/drive/MyDrive/Colab Notebooks/pipeline/model/data/CUB/images/\"\n",
        "PATH_MODEL = \"/content/drive/MyDrive/Colab Notebooks/pipeline/model/\"\n",
        "\n",
        "globalSize = 20\n",
        "LEN_FOR_ONE_SCROLL = 20\n",
        "\n",
        "N_WAY = 5\n",
        "N_SHOT = 5\n",
        "N_QUERY = 15\n",
        "\n",
        "batchSize = 1000"
      ],
      "metadata": {
        "id": "lfOI7oJptom3"
      },
      "execution_count": 2,
      "outputs": []
    },
    {
      "cell_type": "markdown",
      "source": [
        "--- UTILS ---"
      ],
      "metadata": {
        "id": "pxqyDjnLvkDe"
      }
    },
    {
      "cell_type": "code",
      "source": [
        "def createListOfClasses(classesFile):\n",
        "\n",
        "  \"\"\"\n",
        "  get set of all classes to be used in the support set from Ismael's text file\n",
        "  \"\"\"\n",
        "\n",
        "  classes = []\n",
        "  index=0\n",
        "\n",
        "  for animal in classesFile.readlines():\n",
        "    animal = animal.strip(\"\\n\").replace(\" \", \"\")\n",
        "    classes.append(animal)\n",
        "\n",
        "  return classes"
      ],
      "metadata": {
        "id": "VfqxDwYmjW-S"
      },
      "execution_count": 5,
      "outputs": []
    },
    {
      "cell_type": "code",
      "source": [
        "def getUa(mesurements, k=1):\n",
        "\n",
        "  \"\"\"\n",
        "  get mean and incertitude from a list of mesurements, the first element in the list\n",
        "  must be the title of the experiement.\n",
        "  \"\"\"\n",
        "\n",
        "  title = mesurements[0]\n",
        "  l = mesurements[1:]\n",
        "  inv_n = 1.0/(len(l)-1)\n",
        "  inv_ns = 1.0/pow(len(l), 0.5)\n",
        "  m_ = round(mean(l), 2)\n",
        "  dm2 = [pow(mi - m_, 2) for mi in l]\n",
        "  pstd = pow(inv_n*sum(dm2), 0.5)\n",
        "  u = round(k*pstd*inv_ns, 2)\n",
        "  \n",
        "  return title+str(m_) + \"% +- \" + str(u) + \" (with 95% confidence)\" if k!=1 else \"\", m_, u\n",
        "\n",
        "def getUaList(listOfExperiences, k=1):\n",
        "\n",
        "  for mesurements in listOfExperiences:\n",
        "    string, m_, u = getUa(mesurements, k)\n",
        "    print(string)"
      ],
      "metadata": {
        "id": "sE1BsKKFvl0G"
      },
      "execution_count": 6,
      "outputs": []
    },
    {
      "cell_type": "code",
      "source": [
        "def getOnlyImages(set_):\n",
        "  justSet = []\n",
        "  for class_ in set_:\n",
        "    for image in class_:\n",
        "      justSet.append(image[0])\n",
        "\n",
        "  return torch.stack(justSet)\n",
        "\n",
        "def plot_images(images, title, images_per_row):\n",
        "  plt.figure()\n",
        "  plt.title(title)\n",
        "  plt.imshow(utils.make_grid(images, nrow=images_per_row).permute(1, 2, 0))"
      ],
      "metadata": {
        "id": "8WyF1u7Hr4rS"
      },
      "execution_count": 7,
      "outputs": []
    },
    {
      "cell_type": "code",
      "source": [
        "def saveFile(filename, data):\n",
        "  file = open(PATH_MODEL+filename, \"w+\")\n",
        "  for d in data:\n",
        "    file.write(str(d)+\"\\n\")\n",
        "  file.close()\n",
        "\n",
        "def showRegression(rangeOfData, data, degree):\n",
        "  coef = np.polyfit(rangeOfData, data, degree)\n",
        "  poly1d_fn = np.poly1d(coef) \n",
        "  plt.plot(rangeOfData, data, '-yo', rangeOfData, poly1d_fn(rangeOfData), '--k')\n",
        "  plt.show()\n",
        "  print(\"regression polynome :\\n\")\n",
        "  print(np.poly1d(poly1d_fn))\n",
        "  print(\"started at\", data[0], \"and ended at\", data[-1])\n",
        "  print(\"\\n\")\n",
        "\n",
        "def showData(data, title, degree, saveInfo=[False, \"\"]):\n",
        "\n",
        "  path = saveInfo[1]\n",
        "  if saveInfo[0]:\n",
        "    saveFile(path, data)\n",
        "\n",
        "  numberOfIteration = range(0, len(data))\n",
        "\n",
        "  plt.plot(numberOfIteration, data)\n",
        "  plt.title(title)\n",
        "  plt.show()\n",
        "  showRegression(numberOfIteration, data, degree)"
      ],
      "metadata": {
        "id": "Lg76q2xjLZmu"
      },
      "execution_count": 8,
      "outputs": []
    },
    {
      "cell_type": "code",
      "source": [
        "def getMatrixReport(labels, predicted_labels):\n",
        "    print(\"\\n\")\n",
        "    listOfClasses = list(dict.fromkeys(labels))\n",
        "    res = classification_report(labels, predicted_labels, target_names=[\"c\"+str(i) for i in range(1, len(listOfClasses)+1)],  output_dict=True)\n",
        "    return res, res['accuracy'], confusion_matrix(labels, predicted_labels)"
      ],
      "metadata": {
        "id": "DPZbdieI2dCB"
      },
      "execution_count": 9,
      "outputs": []
    },
    {
      "cell_type": "markdown",
      "source": [
        "--- IMAGE RETRIEVAL ---"
      ],
      "metadata": {
        "id": "jSc4ewvWt-rx"
      }
    },
    {
      "cell_type": "code",
      "source": [
        "\"\"\"\n",
        "thumbnail / jpg (compression) may be an issue\n",
        "\"\"\"\n",
        "\n",
        "def getParser(classeName):\n",
        "\n",
        "  site = 'https://www.google.com/search?tbm=isch&q='+classeName\n",
        "\n",
        "  chrome_options = webdriver.ChromeOptions()\n",
        "  chrome_options.add_argument('--headless')\n",
        "  chrome_options.add_argument('--no-sandbox')\n",
        "  chrome_options.add_argument('--disable-dev-shm-usage')\n",
        "\n",
        "  driver = webdriver.Chrome('chromedriver', options=chrome_options)\n",
        "  driver.get(site)\n",
        "  driver.execute_script(\"window.scrollBy(0, document.body.scrollHeight)\")\n",
        "  soup = BeautifulSoup(driver.page_source, 'html.parser')\n",
        "  driver.close()\n",
        "\n",
        "  return soup\n",
        "\n",
        "\n",
        "def getImages(classes):\n",
        "\n",
        "  imagesNumber = 0\n",
        "\n",
        "  shutil.rmtree(PATH_IMAGES, ignore_errors=False)\n",
        "  os.makedirs(PATH_IMAGES)\n",
        "\n",
        "  print(\"downloading images...\")\n",
        "\n",
        "  for classe in tqdm(classes.split(\",\")):\n",
        "\n",
        "    try:\n",
        "      classeName = classe.replace(\" \", \"\")\n",
        "      os.makedirs(PATH_IMAGES+classeName)\n",
        "\n",
        "      soup = getParser(classeName)\n",
        "      img_tags = soup.find_all(\"img\", class_=\"rg_i\")\n",
        "\n",
        "      for index in range(0, len(img_tags)):\n",
        "        try:\n",
        "            urllib.request.urlretrieve(img_tags[index]['src'], PATH_IMAGES+classeName+\"/\"+str(classeName+str(index))+\".jpg\")\n",
        "            imagesNumber+=1\n",
        "        except Exception as e:\n",
        "            pass\n",
        "    except:\n",
        "      pass\n",
        "\n",
        "  return imagesNumber\n",
        "\n",
        "def getClassesImagesURLLIB(classes, download=True):\n",
        "\n",
        "  imagesNumber = 0\n",
        "\n",
        "  if download:\n",
        "    imagesNumber = getImages(classes)\n",
        "  \n",
        "  print(\"\\n\"+str(imagesNumber) + \" images were downloaded. \" + str(imagesNumber/len(classes.split(\",\"))) + \" per classes\")"
      ],
      "metadata": {
        "id": "62epbrFRtxhG"
      },
      "execution_count": 10,
      "outputs": []
    },
    {
      "cell_type": "code",
      "source": [
        "retreivalNotDone = False\n",
        "\n",
        "classesFile = open(PATH_MODEL+\"animals.txt\")\n",
        "classes = createListOfClasses(classesFile)\n",
        "print(\"classes :\", classes)\n",
        "\n",
        "if retreivalNotDone:\n",
        "  getClassesImagesURLLIB(classes, retreivalNotDone)\n",
        "  retreivalNotDone = False"
      ],
      "metadata": {
        "id": "I33Xnwvzt6HQ",
        "colab": {
          "base_uri": "https://localhost:8080/"
        },
        "outputId": "6f85d6c6-9bdd-4845-d623-ac2de7f57136"
      },
      "execution_count": null,
      "outputs": [
        {
          "output_type": "stream",
          "name": "stdout",
          "text": [
            "classes : ['Aardvark', 'Aardwolf', 'Africanbuffalo', 'Africanelephant', 'Africanleopard', 'Albatross', 'Alligator', 'Alpaca', 'Americanrobin', 'Amphibian', 'Anaconda', 'Angelfish', 'Anglerfish', 'Ant', 'Anteater', 'Antelope', 'Antlion', 'Ape', 'Aphid']\n"
          ]
        }
      ]
    },
    {
      "cell_type": "markdown",
      "source": [
        "--- DATASET ---"
      ],
      "metadata": {
        "id": "euAvQ-YK9UA_"
      }
    },
    {
      "cell_type": "code",
      "source": [
        "def getNrandomClassesPaths(listClasses, n_way):\n",
        "\n",
        "  paths = []\n",
        "  for i in range(0, n_way):\n",
        "    ridx = random.randint(0, len(listClasses)-1)\n",
        "    paths.append(PATH_DATA+listClasses[ridx]+\"/\")\n",
        "    listClasses.remove(listClasses[ridx])\n",
        "\n",
        "  return paths"
      ],
      "metadata": {
        "id": "Roxh7OEF-m2k"
      },
      "execution_count": 11,
      "outputs": []
    },
    {
      "cell_type": "code",
      "source": [
        "imageResize = (224, 224)\n",
        "\n",
        "# each set is as follows : \n",
        "\"\"\"\n",
        "[\n",
        "  [(I, c), (I, c), ..., (I, c), (I, c)],\n",
        "  [(I, c), (I, c), ..., (I, c), (I, c)],\n",
        "   .          .                    .\n",
        "   .            .                  .\n",
        "   .              .                .\n",
        "   .                .              .\n",
        "                      .            .\n",
        "  [(I, c), (I, c), ..., (I, c), (I, c)]\n",
        "]\n",
        "\"\"\"\n",
        "\n",
        "def getImageTensor(path):\n",
        "  convert = transforms.Compose([\n",
        "                                transforms.Grayscale(num_output_channels=3),\n",
        "                                transforms.ToTensor(),\n",
        "                                transforms.Normalize((0, 0, 0), (1, 1, 1))\n",
        "                              ])\n",
        "  return convert(PIL.Image.open(path).resize(imageResize))\n",
        "\n",
        "def getFolderTensors(path, supportNumber, queryNumber, label):\n",
        "\n",
        "  images = os.listdir(path)\n",
        "  support_i, query_i = [], []\n",
        "\n",
        "  for i in range(0, supportNumber):\n",
        "    ridx = random.randint(0, len(images)-1)\n",
        "    support_i.append( (getImageTensor(path+images[ridx]), label) )\n",
        "    images.remove(images[ridx])\n",
        "  \n",
        "  for i in range(0, queryNumber):\n",
        "    ridx = random.randint(0, len(images)-1)\n",
        "    query_i.append( (getImageTensor(path+images[ridx]), label) )\n",
        "    images.remove(images[ridx])\n",
        "\n",
        "  return support_i, query_i\n",
        "\n",
        "def getSets(paths, supportNumber, queryNumber):\n",
        "\n",
        "  supportSet, querySet = [], []\n",
        "  for label, path in enumerate(paths):\n",
        "    Si, Qi = getFolderTensors(path, supportNumber, queryNumber, label)\n",
        "    supportSet.append(Si)\n",
        "    querySet.append(Qi)\n",
        "\n",
        "  return supportSet, querySet"
      ],
      "metadata": {
        "id": "a1L4ibBT9Sgf"
      },
      "execution_count": 12,
      "outputs": []
    },
    {
      "cell_type": "code",
      "source": [
        "def getPair(c1, i, c2, j, setOfImages):\n",
        "\n",
        "  I1 = setOfImages[c1][i][0]\n",
        "  I2 = setOfImages[c2][j][0]\n",
        "  s = 1.0 if c1 == c2 else 0.0\n",
        "\n",
        "  return I1, I2, s\n",
        "\n",
        "\"\"\"\n",
        "For both PP and NP\n",
        "compute cartesian product of set (without doublons).\n",
        "For PP the sets are horizontal (images of same class)\n",
        "For NP the sets are vertical (iamges of different class)\n",
        "\n",
        "possible bias because (theorically) PP = NP ?\n",
        "\"\"\"\n",
        "\n",
        "\"\"\"\n",
        "[\n",
        "  [(I, c), (I, c), ..., (I, c), (I, c)],\n",
        "  [(I, c), (I, c), ..., (I, c), (I, c)],\n",
        "   .          .                    .\n",
        "   .            .                  .\n",
        "   .              .                .\n",
        "   .                .              .\n",
        "                      .            .\n",
        "  [(I, c), (I, c), ..., (I, c), (I, c)]\n",
        "]\n",
        "\"\"\"\n",
        "\n",
        "def getPP(setOfImages):\n",
        "\n",
        "  PP = []\n",
        "  for set_ in range(0, N_WAY):\n",
        "    for offset in range(0, N_SHOT):\n",
        "      for other in range(offset, N_SHOT):\n",
        "        PP.append(getPair(set_, offset, set_, other, setOfImages))\n",
        "\n",
        "  return PP\n",
        "\n",
        "def getNP(setOfImages):\n",
        "\n",
        "  NP = []\n",
        "  for set_ in range(0, N_SHOT):\n",
        "    for offset in range(0, N_WAY):\n",
        "      for other in range(offset+1, N_WAY):\n",
        "        NP.append(getPair(offset, set_, other, set_, setOfImages))\n",
        "\n",
        "  return NP\n",
        "\n",
        "\n",
        "def generatePNPairs(setOfImages):\n",
        "\n",
        "  PP, NP = [], []\n",
        "  PP = getPP(setOfImages)\n",
        "  NP = getNP(setOfImages)\n",
        "\n",
        "  SET = PP + NP\n",
        "  random.shuffle(SET)\n",
        "  return SET\n",
        "\n",
        "  # ------------------------\n",
        "\n",
        "def getRandomPair(setOfImages):\n",
        "  nbClasses = len(setOfImages)\n",
        "  nbEx = len(setOfImages[0])\n",
        "  ci1, e1 = random.randint(0, nbClasses-1), random.randint(0, nbEx-1) \n",
        "  ci2, e2 = random.randint(0, nbClasses-1), random.randint(0, nbEx-1)\n",
        "\n",
        "  I1 = torch.stack([setOfImages[ci1][e1][0]])\n",
        "  I2 = torch.stack([setOfImages[ci2][e2][0]])\n",
        "\n",
        "  return I1, I2, 1.0 if ci1 == ci2 else 0.0"
      ],
      "metadata": {
        "id": "3AyEelw5FMDk"
      },
      "execution_count": 13,
      "outputs": []
    },
    {
      "cell_type": "markdown",
      "source": [
        "--- NETWORK ---"
      ],
      "metadata": {
        "id": "wvnjwBYbmLsC"
      }
    },
    {
      "cell_type": "code",
      "source": [
        "# taken from https://github.com/fangpin/siamese-pytorch/blob/master/model.py and modified\n",
        "\n",
        "\"\"\"\n",
        "I1 --> CNN --> u\n",
        "                \\\n",
        "                  |u-v| --> NN --> x --> s(x) --> L(.,.)\n",
        "                /\n",
        "I2 --> CNN --> v\n",
        "\"\"\"\n",
        "\n",
        "cuda_ = True\n",
        "\n",
        "backbone = resnet50(pretrained=True)\n",
        "modules=list(backbone.children())[:-1]\n",
        "combination = lambda u, v: torch.abs(u-v)               \n",
        "\n",
        "def get_vector(image):\n",
        "\n",
        "  image = image.cuda() if cuda_ else image\n",
        "  return torch.flatten(backbone(image))\n",
        "\n",
        "def createCombinedVector(I1, I2):\n",
        "\n",
        "  u = get_vector(I1)\n",
        "  v = get_vector(I2)\n",
        "  return combination(u, v)\n",
        "\n",
        "class Siamese(nn.Module):\n",
        "\n",
        "  def __init__(self):\n",
        "    super(Siamese, self).__init__()\n",
        "    self.enter = 2048\n",
        "    self.hidden = 1024\n",
        "    \n",
        "    self.metric = nn.Sequential(nn.Linear(self.enter, self.hidden), nn.ReLU(),\n",
        "                                \n",
        "                                nn.Linear(self.hidden, self.hidden), nn.ReLU(),\n",
        "                                nn.Linear(self.hidden, self.hidden), nn.ReLU(),\n",
        "\n",
        "                                nn.Linear(self.hidden, 1)) \n",
        "\n",
        "  def forward(self, w):\n",
        "    out = self.metric(w)\n",
        "    out_normalized = torch.sigmoid(out)\n",
        "\n",
        "    return out_normalized\n",
        "\n",
        "\n",
        "if cuda_:\n",
        "  backbone=nn.Sequential(*modules).cuda() \n",
        "  model = Siamese().cuda()\n",
        "else:\n",
        "  backbone=nn.Sequential(*modules)\n",
        "  model = Siamese()"
      ],
      "metadata": {
        "id": "tuRuYT_5pz5d",
        "colab": {
          "base_uri": "https://localhost:8080/",
          "height": 66,
          "referenced_widgets": [
            "3e7440fd50d24b319878bfb5717388de",
            "682a8b74b7024460ad9bde38ab28ba06",
            "22e181633f8246d1ab0ef2549205d768",
            "07bea5e8bc444b0da312a5b21e157edf",
            "a2d2432a243b4f2e9477db6df96f740a",
            "390d28243c084be8b46dfea5fa7088d0",
            "f4b89857d4284ab7adbe2046e4a0f7b6",
            "f9293ea29fd44bab926e6bc805dbba59",
            "9b42d024364c411baba05e39501e973d",
            "277b97d8f3d246aaa4a980c048ac1bce",
            "6d47963242b3421a89cbc0c627e0e5fe"
          ]
        },
        "outputId": "3bca2635-98fb-47a1-fd4d-b07109779944"
      },
      "execution_count": 14,
      "outputs": [
        {
          "output_type": "stream",
          "name": "stderr",
          "text": [
            "Downloading: \"https://download.pytorch.org/models/resnet50-0676ba61.pth\" to /root/.cache/torch/hub/checkpoints/resnet50-0676ba61.pth\n"
          ]
        },
        {
          "output_type": "display_data",
          "data": {
            "text/plain": [
              "  0%|          | 0.00/97.8M [00:00<?, ?B/s]"
            ],
            "application/vnd.jupyter.widget-view+json": {
              "version_major": 2,
              "version_minor": 0,
              "model_id": "3e7440fd50d24b319878bfb5717388de"
            }
          },
          "metadata": {}
        }
      ]
    },
    {
      "cell_type": "code",
      "source": [
        "reset = True\n",
        "\n",
        "if reset:\n",
        "  for layer in model.children():\n",
        "    if hasattr(layer, 'reset_parameters'):\n",
        "      layer.reset_parameters()"
      ],
      "metadata": {
        "id": "DaTG-oO-2E9A"
      },
      "execution_count": null,
      "outputs": []
    },
    {
      "cell_type": "code",
      "source": [
        "ADAM = True\n",
        "\n",
        "if ADAM:\n",
        "  optimizer = torch.optim.Adam(model.parameters(), lr=0.001)\n",
        "else:\n",
        "  torch.optim.SGD(model.parameters(), lr=0.001, momentum=0.9, weight_decay=0.5)"
      ],
      "metadata": {
        "id": "9Z-IZaUj2F1O"
      },
      "execution_count": 15,
      "outputs": []
    },
    {
      "cell_type": "markdown",
      "source": [
        "--- TESTING FUNCTIONS ---"
      ],
      "metadata": {
        "id": "VJfJ57AP20Yy"
      }
    },
    {
      "cell_type": "code",
      "source": [
        "def getImages(image1, image2):\n",
        "\n",
        "  if image1.dim() < 4:\n",
        "    image1 = image1.unsqueeze(0)\n",
        "  \n",
        "  if image2.dim() < 4:\n",
        "    image2 = image2.unsqueeze(0)\n",
        "\n",
        "  return image1, image2"
      ],
      "metadata": {
        "id": "LIqscPg-2vOT"
      },
      "execution_count": 16,
      "outputs": []
    },
    {
      "cell_type": "code",
      "source": [
        "def getFirstClassBasedOnRepresentation(predictions):\n",
        "\n",
        "  representation = [0]*N_WAY\n",
        "  for pred in predictions:\n",
        "    representation[pred[0]] += 1\n",
        "\n",
        "  return representation.index(max(representation))\n",
        "\n",
        "def isCorrect(predictions, queryClass):\n",
        "\n",
        "  pred_sorted = sorted(predictions, key=lambda tup: tup[-1], reverse=True)\n",
        "  first_five = pred_sorted[0:5]\n",
        "\n",
        "  predictedClassLabel = getFirstClassBasedOnRepresentation(first_five)\n",
        "  similarity = int(queryClass == predictedClassLabel)\n",
        "  \n",
        "  #print(\"query is \", queryClass, \" and prediction are :\", list(map(lambda t: (t[0], t[1].cpu().numpy()[0]), pred_sorted[0:5])), \" similarity : \", int(queryClass == pred_sorted[0][0]))\n",
        "  print(\"query is\", queryClass, \"and prediction is\", predictedClassLabel, \"similarity : \", similarity)\n",
        "\n",
        "  return similarity, predictedClassLabel\n",
        "\n",
        "def evaluate(supportSet, querySet):\n",
        "\n",
        "  triplets = []\n",
        "  pred_labels = []\n",
        "  query_labels = []\n",
        "  correctClass, correct = 0, 0\n",
        "  \n",
        "  model.eval()\n",
        "  with torch.no_grad():\n",
        "\n",
        "    for indexQuery, queryInfo in enumerate(list(itertools.chain(*querySet))):\n",
        "\n",
        "      torch.cuda.empty_cache()\n",
        "      query, queryClass = queryInfo\n",
        "\n",
        "      for imageInfo in list(itertools.chain(*supportSet)):\n",
        "\n",
        "        image, imageClass = imageInfo\n",
        "        query, image = getImages(query, image)\n",
        "        w = createCombinedVector(query, image)\n",
        "        p = model(w)\n",
        "        triplets.append((imageClass, p))\n",
        "      \n",
        "      areReallySimilar, imageClass = isCorrect(triplets, queryClass)\n",
        "      if areReallySimilar == 1: correct+=1\n",
        "      triplets = []\n",
        "      pred_labels.append(imageClass)\n",
        "      query_labels.append(queryClass)\n",
        "\n",
        "  return \"\\n accuracy :\"+str(100.0*correct/(N_WAY*N_QUERY)), pred_labels, query_labels"
      ],
      "metadata": {
        "id": "tzQbisEVMXtV"
      },
      "execution_count": 17,
      "outputs": []
    },
    {
      "cell_type": "markdown",
      "source": [
        "--- TRAINING FUNCTIONS ---"
      ],
      "metadata": {
        "id": "8L_6Ob4a24JT"
      }
    },
    {
      "cell_type": "code",
      "source": [
        "LOSS = nn.BCELoss() # nn.MSELoss() # "
      ],
      "metadata": {
        "id": "olKyBFkt3gRY"
      },
      "execution_count": 18,
      "outputs": []
    },
    {
      "cell_type": "code",
      "source": [
        "def saveModel(epoch, loss_value):\n",
        "\n",
        "  torch.save({\n",
        "  'epoch': epoch,\n",
        "  'model_state_dict': model.state_dict(),\n",
        "  'optimizer_state_dict': optimizer.state_dict(),\n",
        "  'loss': loss_value\n",
        "  }, \"/content/drive/MyDrive/Colab Notebooks/pipeline/model/model_check_start.pt\")"
      ],
      "metadata": {
        "id": "NXdE-wge27ri"
      },
      "execution_count": 23,
      "outputs": []
    },
    {
      "cell_type": "code",
      "source": [
        "def epoch(suppSet):\n",
        "\n",
        "  lossForBatch = []\n",
        "  for i in range(0, batchSize):\n",
        "\n",
        "    I1, I2, s = getRandomPair(suppSet)\n",
        "\n",
        "    # talk to feeham :\n",
        "    \"\"\"\n",
        "    where does your training start ? => NN.\n",
        "    but start with w creation. Does it influence ?\n",
        "    \"\"\"\n",
        "\n",
        "    I1, I2 = getImages(I1, I2)\n",
        "    w = createCombinedVector(I1, I2)\n",
        "    out = model(w)\n",
        "    s = torch.tensor([s]).cuda() if cuda_ else torch.tensor([s])\n",
        "\n",
        "    optimizer.zero_grad()\n",
        "    loss = LOSS(out, s)\n",
        "    loss.backward()\n",
        "    optimizer.step()\n",
        "    lossForBatch.append(loss.item())\n",
        "\n",
        "  return lossForBatch\n",
        "\n",
        "\n",
        "validation = False\n",
        "def training(supportSet, querySet):\n",
        "\n",
        "  numberOfEpochs = 200\n",
        "  setOfPairs = generatePNPairs(supportSet)\n",
        "\n",
        "  valFreq = 10\n",
        "  bestAcc = 0.0\n",
        "  bestModel = model.state_dict()\n",
        "\n",
        "  losses = []\n",
        "  \n",
        "  model.train()\n",
        "  for epoch_i in tqdm(range(0, numberOfEpochs)):\n",
        "\n",
        "    batchLoss = epoch(supportSet)\n",
        "    mean_loss = sum(batchLoss)*1.0/len(batchLoss)\n",
        "    losses.append(mean_loss)\n",
        "\n",
        "    if epoch_i % valFreq == 0 and epoch_i != 0:\n",
        "      saveModel(model, mean_loss)\n",
        "\n",
        "  torch.save(model.state_dict(), PATH_MODEL+\"SN.pt\")\n",
        "\n",
        "  return losses"
      ],
      "metadata": {
        "id": "vZZfT6rGFCTF"
      },
      "execution_count": 21,
      "outputs": []
    },
    {
      "cell_type": "markdown",
      "source": [
        "--- ACTUAL MODEL PIPELINE ---"
      ],
      "metadata": {
        "id": "mkTapSlw3fBO"
      }
    },
    {
      "cell_type": "code",
      "source": [
        "CUB, OMNIGLOT = False, True\n",
        "\n",
        "if CUB:\n",
        "  listClass = os.listdir(PATH_DATA)\n",
        "elif OMNIGLOT:\n",
        "  listAlphabet = os.listdir(PATH_DATA)\n",
        "  choosenAlphabet = listAlphabet[random.randint(0, len(listAlphabet)-1)]\n",
        "  listClass = [choosenAlphabet+\"/\"+char for char in os.listdir(PATH_DATA+choosenAlphabet)]"
      ],
      "metadata": {
        "id": "cY52Www1o2fA"
      },
      "execution_count": 26,
      "outputs": []
    },
    {
      "cell_type": "code",
      "source": [
        "print(listClass)"
      ],
      "metadata": {
        "colab": {
          "base_uri": "https://localhost:8080/"
        },
        "id": "zB1mjTPtnoY6",
        "outputId": "86022e88-765f-4193-e60d-dfd011d29c16"
      },
      "execution_count": 27,
      "outputs": [
        {
          "output_type": "stream",
          "name": "stdout",
          "text": [
            "['Hebrew/character01', 'Hebrew/character02', 'Hebrew/character03', 'Hebrew/character04', 'Hebrew/character05', 'Hebrew/character06', 'Hebrew/character07', 'Hebrew/character08', 'Hebrew/character09', 'Hebrew/character10', 'Hebrew/character11', 'Hebrew/character12', 'Hebrew/character13', 'Hebrew/character14', 'Hebrew/character15', 'Hebrew/character16', 'Hebrew/character17', 'Hebrew/character18', 'Hebrew/character19', 'Hebrew/character20', 'Hebrew/character21', 'Hebrew/character22']\n"
          ]
        }
      ]
    },
    {
      "cell_type": "code",
      "source": [
        "supportClasses = getNrandomClassesPaths(listClass, N_WAY)\n",
        "supportSet, querySet = getSets(supportClasses, N_SHOT, N_QUERY)"
      ],
      "metadata": {
        "id": "XSdaM9T2nnLF"
      },
      "execution_count": 28,
      "outputs": []
    },
    {
      "cell_type": "code",
      "source": [
        "justSupport = getOnlyImages(supportSet)\n",
        "justQuery = getOnlyImages(querySet)\n",
        "plot_images(justSupport, title=\"support set\", images_per_row=N_SHOT)\n",
        "plot_images(justQuery, title=\"query set\", images_per_row=N_QUERY)"
      ],
      "metadata": {
        "colab": {
          "base_uri": "https://localhost:8080/",
          "height": 440
        },
        "id": "O09nfF7nu6s7",
        "outputId": "865966fa-3603-4b5e-8b8c-a1c27ade40fa"
      },
      "execution_count": 29,
      "outputs": [
        {
          "output_type": "display_data",
          "data": {
            "text/plain": [
              "<Figure size 432x288 with 1 Axes>"
            ],
            "image/png": "[encoded data removed]"
          },
          "metadata": {
            "needs_background": "light"
          }
        },
        {
          "output_type": "display_data",
          "data": {
            "text/plain": [
              "<Figure size 432x288 with 1 Axes>"
            ],
            "image/png": "[encoded data removed]"
          },
          "metadata": {
            "needs_background": "light"
          }
        }
      ]
    },
    {
      "cell_type": "code",
      "source": [
        "save, load = False, False\n",
        "if save : \n",
        "  torch.save(model.state_dict(), PATH_MODEL+\"SN_startingPoint.pt\")\n",
        "  saveModel(0, 0)\n",
        "if load : model.load_state_dict(torch.load(PATH_MODEL+\"SN_startingPoint.pt\"))"
      ],
      "metadata": {
        "id": "kzqdpnNrZZQE"
      },
      "execution_count": 25,
      "outputs": []
    },
    {
      "cell_type": "code",
      "source": [
        "trainingNeeded = True\n",
        "\n",
        "if trainingNeeded:\n",
        "  losses = training(supportSet, querySet)\n",
        "else:\n",
        "  model.load_state_dict(torch.load(PATH_MODEL+\"SN.pt\"))\n",
        "  print(\"model loaded\")"
      ],
      "metadata": {
        "id": "rzXzsKyIM_sQ",
        "colab": {
          "base_uri": "https://localhost:8080/"
        },
        "outputId": "373bc974-75ec-4b4b-af2d-1042683b9721"
      },
      "execution_count": null,
      "outputs": [
        {
          "output_type": "stream",
          "name": "stderr",
          "text": [
            " 62%|██████▎   | 125/200 [2:03:43<1:14:19, 59.45s/it]"
          ]
        }
      ]
    },
    {
      "cell_type": "code",
      "source": [
        "showData(losses, \"loss during training\", 3)"
      ],
      "metadata": {
        "id": "ihmw9QdRTeaX"
      },
      "execution_count": null,
      "outputs": []
    },
    {
      "cell_type": "code",
      "source": [
        "accuracyResults, y_pred, y = evaluate(supportSet, querySet)\n",
        "\n",
        "_, _, confM = getMatrixReport(y, y_pred)\n",
        "print(accuracyResults)\n",
        "print(confM)"
      ],
      "metadata": {
        "id": "SWoqWprmGG_5"
      },
      "execution_count": null,
      "outputs": []
    },
    {
      "cell_type": "code",
      "source": [
        "listOfExperiences5 = [\n",
        "                     [\"(Adam, 1E-3), 3h1o (512, 240)..(240, 1)), Pre-done, 350x350, BCELoss, 70 epochs: \", 41, 40, 30.66, 34.66, 26.66],\n",
        "                     [\"(Adam, 1E-3), 3h1o (512, 240)..(240, 1)), Random  , 350x350, BCELoss, 70 epochs: \", 38.67, 26.67, 34.67, 38.67, 45],\n",
        "                     [\"(Adam, 1E-3), 3h1o (2048, 1024)..(1024, 1)), Random, 224x224, BCELoss, 70 epochs, normalized: \", 62.67, 50.67, 45.33, 54.67, 52],\n",
        "                     [\"(Adam, 1E-3), 3h1o (2048, 1024)..(1024, 1)), Random, 224x224, MSELoss, 70 epochs, normalized, representation, Omni \", 77.33, 77.33, 78.67, 77.33],\n",
        "                     [\"(Adam, 1E-3), 3h1o (2048, 1024)..(1024, 1)), Random, 224x224, MSELoss, 70 epochs, normalized, representation, Omni with reset \", 94.67, 86.67, 72]\n",
        "                    ]\n",
        "listOfExperiences6 = [\n",
        "                      [\"(Adam, 1E-3), 3h1o (2048, 1024)..(1024, 1)), Random, 224x224, BCELoss, 70 epochs, normalized, representation: \", 60, 53.33, 72, 46.67, 53.33, 42.67],\n",
        "                      [\"(Adam, 1E-3), 3h1o (2048, 1024)..(1024, 1)), Random, 224x224, BCELoss, 70 epochs, normalized, representation, Omni: \", 84, 74.67, 92, 77.33, 76, 68]\n",
        "                      ]\n",
        "\n",
        "listOfExperiences7 = [\n",
        "                      [\"(Adam, 1E-3), 3h1o (2048, 1024)..(1024, 1)), Random, 350x350, BCELoss, 70 epochs: \", 48, 46.67, 48, 41.33, 49, 42, 40]\n",
        "                      ]\n",
        "\n",
        "TotalList = [listOfExperiences5,\n",
        "             listOfExperiences6, \n",
        "             listOfExperiences7\n",
        "            ]"
      ],
      "metadata": {
        "id": "bSPXS5VJ6w1z"
      },
      "execution_count": 4,
      "outputs": []
    },
    {
      "cell_type": "code",
      "source": [
        "getUaList(listOfExperiences5, 2.776)\n",
        "getUaList(listOfExperiences6, 1.945)\n",
        "getUaList(listOfExperiences7, 1.895)"
      ],
      "metadata": {
        "id": "3KRmXET5eMbz"
      },
      "execution_count": null,
      "outputs": []
    },
    {
      "cell_type": "code",
      "source": [
        "for listExp in TotalList:\n",
        "  for x in listExp:\n",
        "    plt.hist(x[1:])\n",
        "    plt.title(x[0])\n",
        "    plt.show()"
      ],
      "metadata": {
        "id": "dKwiVNJYePf2"
      },
      "execution_count": null,
      "outputs": []
    }
  ]
}