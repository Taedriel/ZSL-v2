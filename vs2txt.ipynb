{
  "nbformat": 4,
  "nbformat_minor": 0,
  "metadata": {
    "colab": {
      "name": "vs2txt.ipynb",
      "provenance": [],
      "mount_file_id": "1vykwUE-MQzWVJfohvUYMk5MsC1HrrGPB",
      "authorship_tag": "ABX9TyOZDO9RRHmhc0TQ7jJcWO6V",
      "include_colab_link": true
    },
    "kernelspec": {
      "name": "python3",
      "display_name": "Python 3"
    },
    "language_info": {
      "name": "python"
    }
  },
  "cells": [
    {
      "cell_type": "markdown",
      "metadata": {
        "id": "view-in-github",
        "colab_type": "text"
      },
      "source": [
        "<a href=\"https://colab.research.google.com/github/Taedriel/ZSL-v2/blob/visual2textual/vs2txt.ipynb\" target=\"_parent\"><img src=\"https://colab.research.google.com/assets/colab-badge.svg\" alt=\"Open In Colab\"/></a>"
      ]
    },
    {
      "cell_type": "code",
      "execution_count": 1,
      "metadata": {
        "id": "XyVopqPOzW5g"
      },
      "outputs": [],
      "source": [
        "import numpy as np\n",
        "import tensorflow as tf\n",
        "import matplotlib as plt\n",
        "import pandas as pd\n",
        "import sklearn.metrics.pairwise as skpairwise\n",
        "from matplotlib import pyplot as plt\n",
        "from typing import List, Tuple, Dict"
      ]
    },
    {
      "cell_type": "markdown",
      "source": [
        "## Loading the dataset :"
      ],
      "metadata": {
        "id": "pMNZzE2ozk5A"
      }
    },
    {
      "cell_type": "code",
      "source": [
        "x_train: np.ndarray = None\n",
        "x_test: np.ndarray = None\n",
        "y_train: np.ndarray = None\n",
        "y_test: np.ndarray = None\n",
        "(x_train, y_train), (x_test, y_test) = (tf.keras.datasets.cifar100.load_data(label_mode=\"fine\"))"
      ],
      "metadata": {
        "colab": {
          "base_uri": "https://localhost:8080/"
        },
        "id": "4NSOvcB9zcrQ",
        "outputId": "a60e24de-3b6a-4dcb-da23-cc751fc923ae"
      },
      "execution_count": 2,
      "outputs": [
        {
          "output_type": "stream",
          "name": "stdout",
          "text": [
            "Downloading data from https://www.cs.toronto.edu/~kriz/cifar-100-python.tar.gz\n",
            "169009152/169001437 [==============================] - 2s 0us/step\n",
            "169017344/169001437 [==============================] - 2s 0us/step\n"
          ]
        }
      ]
    },
    {
      "cell_type": "code",
      "source": [
        "print(f\"Train images shape:\\t {x_train.shape}\")\n",
        "print(f\"Train fine labels shape: {y_train.shape}\")\n",
        "print(f\"Test images shape:\\t {x_test.shape}\")\n",
        "print(f\"Test fine labels shape:\\t {y_test.shape}\")"
      ],
      "metadata": {
        "colab": {
          "base_uri": "https://localhost:8080/"
        },
        "id": "HTgjx-FVznfu",
        "outputId": "e2cacb91-daeb-4d8c-87ab-acde4e47bb00"
      },
      "execution_count": 3,
      "outputs": [
        {
          "output_type": "stream",
          "name": "stdout",
          "text": [
            "Train images shape:\t (50000, 32, 32, 3)\n",
            "Train fine labels shape: (50000, 1)\n",
            "Test images shape:\t (10000, 32, 32, 3)\n",
            "Test fine labels shape:\t (10000, 1)\n"
          ]
        }
      ]
    },
    {
      "cell_type": "markdown",
      "source": [
        "## The model "
      ],
      "metadata": {
        "id": "8lBvMLj10Bwe"
      }
    },
    {
      "cell_type": "code",
      "source": [
        "class Mapping:\n",
        "    def __init__(self, cnn, img_shape):\n",
        "       self.cnn = cnn\n",
        "       self.img_shape = img_shape\n",
        "    \n",
        "    def train(self, X_train, y_train, optimizer, loss, epochs=20, batch_size=32, last_layer_shape=300):\n",
        "        #X_train = self.cnn.preprocess_input(X_train)\n",
        "        base_model: tf.keras.Model = self.cnn\n",
        "        base_model.trainable = False\n",
        "        self.model = tf.keras.models.Sequential()\n",
        "        self.model.add(tf.keras.Input(shape=(self.img_shape[0], self.img_shape[1], self.img_shape[2])))\n",
        "        self.model.add(tf.keras.layers.experimental.preprocessing.RandomFlip(\"horizontal\"))\n",
        "        self.model.add(tf.keras.layers.experimental.preprocessing.RandomRotation(0.1))\n",
        "        self.model.add(base_model)\n",
        "        self.model.add(tf.keras.layers.Dense(448, activation='relu'))\n",
        "        self.model.add(tf.keras.layers.Dropout(0.25))\n",
        "        self.model.add(tf.keras.layers.Dense(384, activation='relu'))\n",
        "        self.model.add(tf.keras.layers.Dropout(0.25))\n",
        "        self.model.add(tf.keras.layers.Dense(last_layer_shape))\n",
        "        self.model.summary()\n",
        "        self.model.compile(optimizer=optimizer, loss=loss)\n",
        "        early_stopping = tf.keras.callbacks.EarlyStopping(monitor=\"val_loss\", min_delta=0.01, patience=3, mode=\"min\",\n",
        "                                                            restore_best_weights=True)\n",
        "        self.history = self.model.fit(X_train, y_train, epochs=epochs, shuffle=True, \n",
        "                            batch_size=batch_size, validation_split=0.2, callbacks=[early_stopping])\n",
        "    \n",
        "    def plot_training_results(self):\n",
        "        plt.plot(self.history.history['loss'])\n",
        "        plt.plot(self.history.history['val_loss'])\n",
        "        plt.title('Model Loss')\n",
        "        plt.ylabel('Loss')\n",
        "        plt.xlabel('Epoch')\n",
        "        plt.legend(['Train', 'Validation'], loc='upper right')\n",
        "        plt.show()\n",
        "\n",
        "    def test(self, X_test, y_test):\n",
        "        model_eval: float = self.model.evaluate(X_test, y_test) \n",
        "        print(f\"Model loss {model_eval}\")\n",
        "    \n",
        "    def save_model(self, model_name):\n",
        "        self.model.save(model_name+\".model\", save_format=\"h5\")\n"
      ],
      "metadata": {
        "id": "Buko44dDzu9D"
      },
      "execution_count": 59,
      "outputs": []
    },
    {
      "cell_type": "markdown",
      "source": [
        "## testing on cifar100 :\n",
        "### Testing on different embedding :"
      ],
      "metadata": {
        "id": "482muIhw3P5Y"
      }
    },
    {
      "cell_type": "code",
      "source": [
        "import os\n",
        "embs = sorted(os.listdir('/content/drive/MyDrive/data/embs'))\n",
        "embs"
      ],
      "metadata": {
        "colab": {
          "base_uri": "https://localhost:8080/"
        },
        "id": "yfryTXtV0Dvt",
        "outputId": "1c28a997-214f-426f-a00b-0edee318fcaf"
      },
      "execution_count": 5,
      "outputs": [
        {
          "output_type": "execute_result",
          "data": {
            "text/plain": [
              "['cifar100-roberta-base-0.csv',\n",
              " 'cifar100-roberta-base-100.csv',\n",
              " 'cifar100-roberta-base-200.csv',\n",
              " 'cifar100-roberta-base-300.csv',\n",
              " 'cifar100-roberta-base-400.csv',\n",
              " 'cifar100-roberta-large-0.csv',\n",
              " 'cifar100-roberta-large-100.csv',\n",
              " 'cifar100-roberta-large-200.csv',\n",
              " 'cifar100-roberta-large-300.csv',\n",
              " 'cifar100-roberta-large-400.csv']"
            ]
          },
          "metadata": {},
          "execution_count": 5
        }
      ]
    },
    {
      "cell_type": "markdown",
      "source": [
        "## Image embbedings :   \n",
        "### Models :     \n",
        "    1. VGG16\n",
        "    2. ResNet\n",
        "    3. MobileNet\n"
      ],
      "metadata": {
        "id": "Yon1esSO68fC"
      }
    },
    {
      "cell_type": "code",
      "source": [
        "from tensorflow.keras.applications import MobileNetV2, VGG19, ResNet50V2\n",
        "\n",
        "cnn1 = VGG19(weights='imagenet', include_top=False, input_shape=(32, 32, 3), pooling='max')\n",
        "cnn2 = ResNet50V2(weights='imagenet', include_top=False, input_shape=(32, 32, 3), pooling='max')\n",
        "cnn3 = MobileNetV2(weights='imagenet', include_top=False, input_shape=(32, 32, 3), pooling='max')"
      ],
      "metadata": {
        "colab": {
          "base_uri": "https://localhost:8080/"
        },
        "id": "bF98kTT33TcU",
        "outputId": "c2d2eefd-3867-4809-9a80-897f21f963a4"
      },
      "execution_count": 58,
      "outputs": [
        {
          "output_type": "stream",
          "name": "stdout",
          "text": [
            "Downloading data from https://storage.googleapis.com/tensorflow/keras-applications/vgg19/vgg19_weights_tf_dim_ordering_tf_kernels_notop.h5\n",
            "80142336/80134624 [==============================] - 1s 0us/step\n",
            "80150528/80134624 [==============================] - 1s 0us/step\n",
            "WARNING:tensorflow:`input_shape` is undefined or non-square, or `rows` is not in [96, 128, 160, 192, 224]. Weights for input shape (224, 224) will be loaded as the default.\n"
          ]
        }
      ]
    },
    {
      "cell_type": "markdown",
      "source": [
        "## Preprocessing the text embeddings :"
      ],
      "metadata": {
        "id": "8dIgNj5U8iy8"
      }
    },
    {
      "cell_type": "code",
      "source": [
        "labels: List[str] = [\n",
        "    'apple', 'aquarium_fish', 'baby', 'bear', 'beaver',\n",
        "    'bed', 'bee', 'beetle', 'bicycle', 'bottle', 'bowl',\n",
        "    'boy', 'bridge', 'bus', 'butterfly', 'camel', 'can',\n",
        "    'castle', 'caterpillar', 'cattle', 'chair',\n",
        "    'chimpanzee', 'clock', 'cloud', 'cockroach',\n",
        "    'couch', 'crab', 'crocodile', 'cup', 'dinosaur',\n",
        "    'dolphin', 'elephant', 'flatfish', 'forest', 'fox',\n",
        "    'girl', 'hamster', 'house', 'kangaroo',\n",
        "    'computer_keyboard', 'lamp', 'lawn_mower',\n",
        "    'leopard', 'lion', 'lizard', 'lobster', 'man',\n",
        "    'maple_tree', 'motorcycle', 'mountain', 'mouse', 'mushroom',\n",
        "    'oak_tree', 'orange', 'orchid', 'otter', 'palm_tree', 'pear',\n",
        "    'pickup_truck', 'pine_tree', 'plain', 'plate', 'poppy',\n",
        "    'porcupine', 'possum', 'rabbit', 'raccoon', 'ray', 'road',\n",
        "    'rocket', 'rose', 'sea', 'seal', 'shark', 'shrew', 'skunk',\n",
        "    'skyscraper', 'snail', 'snake', 'spider', 'squirrel',\n",
        "    'streetcar', 'sunflower', 'sweet_pepper', 'table', 'tank',\n",
        "    'telephone', 'television', 'tiger', 'tractor', 'train',\n",
        "    'trout', 'tulip', 'turtle', 'wardrobe', 'whale',\n",
        "    'willow_tree', 'wolf', 'woman', 'worm'\n",
        "]"
      ],
      "metadata": {
        "id": "aypVQC1-8Yhh"
      },
      "execution_count": 7,
      "outputs": []
    },
    {
      "cell_type": "code",
      "source": [
        "def txt_vec(emb_path):\n",
        "    df = pd.read_csv(emb_path)\n",
        "    df = df.drop(['embeddings'], axis = 1)\n",
        "    label_vec = df.to_numpy()\n",
        "\n",
        "    return label_vec"
      ],
      "metadata": {
        "id": "j7-T6yon8mUY"
      },
      "execution_count": 8,
      "outputs": []
    },
    {
      "cell_type": "code",
      "source": [
        "def compute_similarity(txt_vector):\n",
        "    # calculate cosine similarity between each two labels\n",
        "    similarity_matrix: np.ndarray = skpairwise.cosine_similarity(\n",
        "        txt_vector, txt_vector)\n",
        "    \n",
        "    # get only lower triangle\n",
        "    similarity_matrix: np.ndarray = np.tril(similarity_matrix, -1)\n",
        "\n",
        "    # get indexes with cosine similarity greater than 0.65\n",
        "    indexes: np.ndarray = np.argwhere(similarity_matrix > 0.6)\n",
        "\n",
        "    # create dataframe for better printing\n",
        "    labels_high_similarity: pd.DataFrame = pd.DataFrame(\n",
        "        {'Label 1': [labels[i[0]] for i in indexes],\n",
        "        'Label 2':  [labels[i[1]] for i in indexes],\n",
        "        'cosine similarity': [similarity_matrix[i[0], i[1]] for i in indexes]\n",
        "        }\n",
        "    )\n",
        "    print(\"\\nFine labels with high cosine\"\n",
        "        \"similarity and the cosine similarity value:\\n\"\n",
        "        f\"{labels_high_similarity}\")"
      ],
      "metadata": {
        "id": "YCYXM5owQbWb"
      },
      "execution_count": 17,
      "outputs": []
    },
    {
      "cell_type": "code",
      "source": [
        "def compute_euclidean(txt_vector):\n",
        "    # calculate cosine similarity between each two labels\n",
        "    similarity_matrix: np.ndarray = skpairwise.euclidean_distances(\n",
        "        txt_vector, txt_vector)\n",
        "    \n",
        "    # get only lower triangle\n",
        "    similarity_matrix: np.ndarray = np.tril(similarity_matrix, -1)\n",
        "\n",
        "    # get indexes with cosine similarity greater than 0.65\n",
        "    indexes: np.ndarray = np.argwhere(similarity_matrix < 0.5)\n",
        "\n",
        "    # create dataframe for better printing\n",
        "    labels_high_similarity: pd.DataFrame = pd.DataFrame(\n",
        "        {'Label 1': [labels[i[0]] for i in indexes],\n",
        "        'Label 2':  [labels[i[1]] for i in indexes],\n",
        "        'euclidean distance': [similarity_matrix[i[0], i[1]] for i in indexes]\n",
        "        }\n",
        "    )\n",
        "    print(\"\\nFine labels with high cosine\"\n",
        "        \"similarity and the cosine similarity value:\\n\"\n",
        "        f\"{labels_high_similarity}\")"
      ],
      "metadata": {
        "id": "sAjKAm0q2n9y"
      },
      "execution_count": 46,
      "outputs": []
    },
    {
      "cell_type": "markdown",
      "source": [
        "##\n"
      ],
      "metadata": {
        "id": "f2KJHgzyPMbV"
      }
    },
    {
      "cell_type": "code",
      "source": [
        "path = '/content/drive/MyDrive/data/embs'\n",
        "\n",
        "txt_vectors = dict()\n",
        "for pth in embs:\n",
        "    name = pth.split('.')[0]\n",
        "    emb_path = os.path.join(path, pth)\n",
        "    vecs = txt_vec(emb_path)\n",
        "    txt_vectors[name] = vecs"
      ],
      "metadata": {
        "id": "uaCWXC_fPI0_"
      },
      "execution_count": 10,
      "outputs": []
    },
    {
      "cell_type": "code",
      "source": [
        "embs"
      ],
      "metadata": {
        "colab": {
          "base_uri": "https://localhost:8080/"
        },
        "id": "Z25YtMvf0zD_",
        "outputId": "7fb75974-c3c6-447f-89ab-b78606547f5b"
      },
      "execution_count": 12,
      "outputs": [
        {
          "output_type": "execute_result",
          "data": {
            "text/plain": [
              "['cifar100-roberta-base-0.csv',\n",
              " 'cifar100-roberta-base-100.csv',\n",
              " 'cifar100-roberta-base-200.csv',\n",
              " 'cifar100-roberta-base-300.csv',\n",
              " 'cifar100-roberta-base-400.csv',\n",
              " 'cifar100-roberta-large-0.csv',\n",
              " 'cifar100-roberta-large-100.csv',\n",
              " 'cifar100-roberta-large-200.csv',\n",
              " 'cifar100-roberta-large-300.csv',\n",
              " 'cifar100-roberta-large-400.csv']"
            ]
          },
          "metadata": {},
          "execution_count": 12
        }
      ]
    },
    {
      "cell_type": "code",
      "source": [
        "print(txt_vectors['cifar100-roberta-base-0'].shape)\n",
        "print(txt_vectors['cifar100-roberta-large-0'].shape)"
      ],
      "metadata": {
        "colab": {
          "base_uri": "https://localhost:8080/"
        },
        "id": "VgNGdTmC01Yd",
        "outputId": "705272ef-9312-47ae-829c-abdd524faea5"
      },
      "execution_count": 11,
      "outputs": [
        {
          "output_type": "stream",
          "name": "stdout",
          "text": [
            "(100, 768)\n",
            "(100, 1024)\n"
          ]
        }
      ]
    },
    {
      "cell_type": "code",
      "source": [
        "word2vec_emb = txt_vec('/content/drive/MyDrive/data/cifar100-wiki2vec-300.csv')"
      ],
      "metadata": {
        "id": "JrySYHFW53ct"
      },
      "execution_count": 13,
      "outputs": []
    },
    {
      "cell_type": "code",
      "source": [
        "word2vec_emb.shape"
      ],
      "metadata": {
        "colab": {
          "base_uri": "https://localhost:8080/"
        },
        "id": "D-wpuk0bMAl2",
        "outputId": "c123fab3-ffe8-4ba4-e259-47f41cc321f7"
      },
      "execution_count": 14,
      "outputs": [
        {
          "output_type": "execute_result",
          "data": {
            "text/plain": [
              "(100, 300)"
            ]
          },
          "metadata": {},
          "execution_count": 14
        }
      ]
    },
    {
      "cell_type": "code",
      "source": [
        "compute_similarity(word2vec_emb)"
      ],
      "metadata": {
        "colab": {
          "base_uri": "https://localhost:8080/"
        },
        "id": "NpN7wWPUMEnl",
        "outputId": "65b21c79-64fc-4afa-a4db-31b4f98fac82"
      },
      "execution_count": 18,
      "outputs": [
        {
          "output_type": "stream",
          "name": "stdout",
          "text": [
            "\n",
            "Fine labels with high cosinesimilarity and the cosine similarity value:\n",
            "       Label 1        Label 2  cosine similarity\n",
            "0      hamster            boy           0.773344\n",
            "1         lion       flatfish           0.626982\n",
            "2      lobster      crocodile           0.723904\n",
            "3   motorcycle        bicycle           0.696072\n",
            "4        skunk        raccoon           0.613739\n",
            "5     squirrel        raccoon           0.618531\n",
            "6        tiger        leopard           0.601433\n",
            "7        trout  aquarium_fish           0.619525\n",
            "8        whale       elephant           0.652803\n",
            "9        whale          shark           0.621905\n",
            "10       woman        hamster           0.700592\n",
            "11       woman            man           0.685186\n"
          ]
        }
      ]
    },
    {
      "cell_type": "markdown",
      "source": [
        "### Visualizing similarities between labels :    "
      ],
      "metadata": {
        "id": "M2ctElsu1BN5"
      }
    },
    {
      "cell_type": "code",
      "source": [
        "for key, value in txt_vectors.items():\n",
        "    print(key)\n",
        "    compute_similarity(value)"
      ],
      "metadata": {
        "colab": {
          "base_uri": "https://localhost:8080/"
        },
        "id": "nxMy6RQC05uT",
        "outputId": "06436513-d0ce-46a7-861b-d12e9c0a57e1"
      },
      "execution_count": 19,
      "outputs": [
        {
          "output_type": "stream",
          "name": "stdout",
          "text": [
            "cifar100-roberta-base-0\n",
            "\n",
            "Fine labels with high cosinesimilarity and the cosine similarity value:\n",
            "            Label 1        Label 2  cosine similarity\n",
            "0     aquarium_fish          apple           0.999923\n",
            "1              baby          apple           0.999975\n",
            "2              baby  aquarium_fish           0.999922\n",
            "3              bear          apple           0.999988\n",
            "4              bear  aquarium_fish           0.999920\n",
            "...             ...            ...                ...\n",
            "4945           worm       wardrobe           0.999965\n",
            "4946           worm          whale           0.999968\n",
            "4947           worm    willow_tree           0.999926\n",
            "4948           worm           wolf           0.999990\n",
            "4949           worm          woman           0.999991\n",
            "\n",
            "[4950 rows x 3 columns]\n",
            "cifar100-roberta-base-100\n",
            "\n",
            "Fine labels with high cosinesimilarity and the cosine similarity value:\n",
            "            Label 1        Label 2  cosine similarity\n",
            "0     aquarium_fish          apple           0.998810\n",
            "1              baby          apple           0.999832\n",
            "2              baby  aquarium_fish           0.998685\n",
            "3              bear          apple           0.999874\n",
            "4              bear  aquarium_fish           0.998613\n",
            "...             ...            ...                ...\n",
            "4945           worm       wardrobe           0.999796\n",
            "4946           worm          whale           0.999845\n",
            "4947           worm    willow_tree           0.999905\n",
            "4948           worm           wolf           0.998527\n",
            "4949           worm          woman           0.999786\n",
            "\n",
            "[4950 rows x 3 columns]\n",
            "cifar100-roberta-base-200\n",
            "\n",
            "Fine labels with high cosinesimilarity and the cosine similarity value:\n",
            "            Label 1        Label 2  cosine similarity\n",
            "0     aquarium_fish          apple           0.999872\n",
            "1              baby          apple           0.999879\n",
            "2              baby  aquarium_fish           0.999856\n",
            "3              bear          apple           0.998755\n",
            "4              bear  aquarium_fish           0.998683\n",
            "...             ...            ...                ...\n",
            "4945           worm       wardrobe           0.999839\n",
            "4946           worm          whale           0.998821\n",
            "4947           worm    willow_tree           0.999881\n",
            "4948           worm           wolf           0.999842\n",
            "4949           worm          woman           0.999817\n",
            "\n",
            "[4950 rows x 3 columns]\n",
            "cifar100-roberta-base-300\n",
            "\n",
            "Fine labels with high cosinesimilarity and the cosine similarity value:\n",
            "            Label 1        Label 2  cosine similarity\n",
            "0     aquarium_fish          apple           0.999870\n",
            "1              baby          apple           0.999878\n",
            "2              baby  aquarium_fish           0.999854\n",
            "3              bear          apple           0.999250\n",
            "4              bear  aquarium_fish           0.999130\n",
            "...             ...            ...                ...\n",
            "4945           worm       wardrobe           0.999812\n",
            "4946           worm          whale           0.999873\n",
            "4947           worm    willow_tree           0.999113\n",
            "4948           worm           wolf           0.999843\n",
            "4949           worm          woman           0.999851\n",
            "\n",
            "[4950 rows x 3 columns]\n",
            "cifar100-roberta-base-400\n",
            "\n",
            "Fine labels with high cosinesimilarity and the cosine similarity value:\n",
            "            Label 1        Label 2  cosine similarity\n",
            "0     aquarium_fish          apple           0.999775\n",
            "1              baby          apple           0.999480\n",
            "2              baby  aquarium_fish           0.999079\n",
            "3              bear          apple           0.999591\n",
            "4              bear  aquarium_fish           0.999159\n",
            "...             ...            ...                ...\n",
            "4945           worm       wardrobe           0.999753\n",
            "4946           worm          whale           0.998682\n",
            "4947           worm    willow_tree           0.999112\n",
            "4948           worm           wolf           0.998861\n",
            "4949           worm          woman           0.998711\n",
            "\n",
            "[4950 rows x 3 columns]\n",
            "cifar100-roberta-large-0\n",
            "\n",
            "Fine labels with high cosinesimilarity and the cosine similarity value:\n",
            "            Label 1        Label 2  cosine similarity\n",
            "0     aquarium_fish          apple           0.998807\n",
            "1              baby          apple           0.999359\n",
            "2              baby  aquarium_fish           0.998881\n",
            "3              bear          apple           0.999364\n",
            "4              bear  aquarium_fish           0.998882\n",
            "...             ...            ...                ...\n",
            "4945           worm       wardrobe           0.999031\n",
            "4946           worm          whale           0.999366\n",
            "4947           worm    willow_tree           0.998954\n",
            "4948           worm           wolf           0.999600\n",
            "4949           worm          woman           0.999626\n",
            "\n",
            "[4950 rows x 3 columns]\n",
            "cifar100-roberta-large-100\n",
            "\n",
            "Fine labels with high cosinesimilarity and the cosine similarity value:\n",
            "            Label 1        Label 2  cosine similarity\n",
            "0     aquarium_fish          apple           0.995970\n",
            "1              baby          apple           0.994545\n",
            "2              baby  aquarium_fish           0.995372\n",
            "3              bear          apple           0.996154\n",
            "4              bear  aquarium_fish           0.996248\n",
            "...             ...            ...                ...\n",
            "4945           worm       wardrobe           0.997155\n",
            "4946           worm          whale           0.993307\n",
            "4947           worm    willow_tree           0.989225\n",
            "4948           worm           wolf           0.992411\n",
            "4949           worm          woman           0.993299\n",
            "\n",
            "[4950 rows x 3 columns]\n",
            "cifar100-roberta-large-200\n",
            "\n",
            "Fine labels with high cosinesimilarity and the cosine similarity value:\n",
            "            Label 1        Label 2  cosine similarity\n",
            "0     aquarium_fish          apple           0.995828\n",
            "1              baby          apple           0.997978\n",
            "2              baby  aquarium_fish           0.995453\n",
            "3              bear          apple           0.996779\n",
            "4              bear  aquarium_fish           0.995523\n",
            "...             ...            ...                ...\n",
            "4945           worm       wardrobe           0.989278\n",
            "4946           worm          whale           0.992819\n",
            "4947           worm    willow_tree           0.996537\n",
            "4948           worm           wolf           0.992915\n",
            "4949           worm          woman           0.992373\n",
            "\n",
            "[4950 rows x 3 columns]\n",
            "cifar100-roberta-large-300\n",
            "\n",
            "Fine labels with high cosinesimilarity and the cosine similarity value:\n",
            "            Label 1        Label 2  cosine similarity\n",
            "0     aquarium_fish          apple           0.994024\n",
            "1              baby          apple           0.997494\n",
            "2              baby  aquarium_fish           0.994322\n",
            "3              bear          apple           0.996255\n",
            "4              bear  aquarium_fish           0.996567\n",
            "...             ...            ...                ...\n",
            "4945           worm       wardrobe           0.993690\n",
            "4946           worm          whale           0.997216\n",
            "4947           worm    willow_tree           0.997706\n",
            "4948           worm           wolf           0.996087\n",
            "4949           worm          woman           0.994394\n",
            "\n",
            "[4950 rows x 3 columns]\n",
            "cifar100-roberta-large-400\n",
            "\n",
            "Fine labels with high cosinesimilarity and the cosine similarity value:\n",
            "            Label 1        Label 2  cosine similarity\n",
            "0     aquarium_fish          apple           0.993463\n",
            "1              baby          apple           0.996819\n",
            "2              baby  aquarium_fish           0.992251\n",
            "3              bear          apple           0.996621\n",
            "4              bear  aquarium_fish           0.990333\n",
            "...             ...            ...                ...\n",
            "4945           worm       wardrobe           0.993641\n",
            "4946           worm          whale           0.996988\n",
            "4947           worm    willow_tree           0.997033\n",
            "4948           worm           wolf           0.994707\n",
            "4949           worm          woman           0.993666\n",
            "\n",
            "[4950 rows x 3 columns]\n"
          ]
        }
      ]
    },
    {
      "cell_type": "markdown",
      "source": [
        "## Preparing for training the neural network :"
      ],
      "metadata": {
        "id": "SVEObg4AM8LC"
      }
    },
    {
      "cell_type": "code",
      "source": [
        "y_train_vecs: np.ndarray = np.asarray(\n",
        "    [word2vec_emb[label] for label in y_train])\n",
        "y_train_vecs: np.ndarray = y_train_vecs.reshape((50000, 300))\n",
        "y_test_vecs: np.ndarray = np.asarray(\n",
        "    [word2vec_emb[label] for label in y_test])\n",
        "y_test_vecs: np.ndarray = y_test_vecs.reshape((10000, 300))\n",
        "\n",
        "print(f\"Train fine labels vectors shape: {y_train_vecs.shape}\")\n",
        "print(f\"Test fine labels vectors shape: {y_test_vecs.shape}\")"
      ],
      "metadata": {
        "colab": {
          "base_uri": "https://localhost:8080/"
        },
        "id": "elrOgz4X1O2t",
        "outputId": "c3c04dd9-637a-405a-d56f-06a5383ca99c"
      },
      "execution_count": 60,
      "outputs": [
        {
          "output_type": "stream",
          "name": "stdout",
          "text": [
            "Train fine labels vectors shape: (50000, 300)\n",
            "Test fine labels vectors shape: (10000, 300)\n"
          ]
        }
      ]
    },
    {
      "cell_type": "code",
      "source": [
        "X_train: np.ndarray = tf.keras.applications.vgg19.preprocess_input(x_train)\n",
        "X_test: np.ndarray = tf.keras.applications.vgg19.preprocess_input(x_test)"
      ],
      "metadata": {
        "id": "NLK9mvshN6pG"
      },
      "execution_count": 61,
      "outputs": []
    },
    {
      "cell_type": "code",
      "source": [
        "model = Mapping(cnn1, [32, 32, 3])"
      ],
      "metadata": {
        "id": "yfZ9icn3NK-s"
      },
      "execution_count": 62,
      "outputs": []
    },
    {
      "cell_type": "code",
      "source": [
        "optimizer = tf.keras.optimizers.Adam(learning_rate=0.001)\n",
        "loss = tf.keras.losses.CosineSimilarity(axis=1)\n",
        "model.train(X_train, y_train_vecs, optimizer=optimizer, loss=loss)"
      ],
      "metadata": {
        "colab": {
          "base_uri": "https://localhost:8080/"
        },
        "id": "fIeJiTDQN1ng",
        "outputId": "262d1adb-3038-454a-8c47-4c2eb73535a6"
      },
      "execution_count": 63,
      "outputs": [
        {
          "output_type": "stream",
          "name": "stdout",
          "text": [
            "Model: \"sequential_1\"\n",
            "_________________________________________________________________\n",
            " Layer (type)                Output Shape              Param #   \n",
            "=================================================================\n",
            " random_flip (RandomFlip)    (None, 32, 32, 3)         0         \n",
            "                                                                 \n",
            " random_rotation (RandomRota  (None, 32, 32, 3)        0         \n",
            " tion)                                                           \n",
            "                                                                 \n",
            " vgg19 (Functional)          (None, 512)               20024384  \n",
            "                                                                 \n",
            " dense_3 (Dense)             (None, 448)               229824    \n",
            "                                                                 \n",
            " dropout_2 (Dropout)         (None, 448)               0         \n",
            "                                                                 \n",
            " dense_4 (Dense)             (None, 384)               172416    \n",
            "                                                                 \n",
            " dropout_3 (Dropout)         (None, 384)               0         \n",
            "                                                                 \n",
            " dense_5 (Dense)             (None, 300)               115500    \n",
            "                                                                 \n",
            "=================================================================\n",
            "Total params: 20,542,124\n",
            "Trainable params: 517,740\n",
            "Non-trainable params: 20,024,384\n",
            "_________________________________________________________________\n",
            "Epoch 1/20\n",
            "1250/1250 [==============================] - 694s 554ms/step - loss: -0.5626 - val_loss: -0.6122\n",
            "Epoch 2/20\n",
            "1250/1250 [==============================] - 692s 554ms/step - loss: -0.6098 - val_loss: -0.6346\n",
            "Epoch 3/20\n",
            "1250/1250 [==============================] - 694s 555ms/step - loss: -0.6278 - val_loss: -0.6461\n",
            "Epoch 4/20\n",
            "1250/1250 [==============================] - 691s 553ms/step - loss: -0.6387 - val_loss: -0.6503\n",
            "Epoch 5/20\n",
            "1250/1250 [==============================] - 689s 551ms/step - loss: -0.6469 - val_loss: -0.6548\n",
            "Epoch 6/20\n",
            "1250/1250 [==============================] - 689s 551ms/step - loss: -0.6536 - val_loss: -0.6590\n",
            "Epoch 7/20\n",
            "1250/1250 [==============================] - 688s 551ms/step - loss: -0.6589 - val_loss: -0.6628\n",
            "Epoch 8/20\n",
            "1250/1250 [==============================] - 688s 551ms/step - loss: -0.6636 - val_loss: -0.6637\n",
            "Epoch 9/20\n",
            "1250/1250 [==============================] - 691s 553ms/step - loss: -0.6684 - val_loss: -0.6641\n"
          ]
        }
      ]
    },
    {
      "cell_type": "code",
      "source": [
        "model.test(X_test, y_test_vecs)"
      ],
      "metadata": {
        "colab": {
          "base_uri": "https://localhost:8080/"
        },
        "id": "Lwz1AN0YOhcS",
        "outputId": "e093fada-5b46-4ab9-d40a-82f2dc448261"
      },
      "execution_count": 64,
      "outputs": [
        {
          "output_type": "stream",
          "name": "stdout",
          "text": [
            "313/313 [==============================] - 137s 436ms/step - loss: -0.6614\n",
            "Model loss -0.6614300608634949\n"
          ]
        }
      ]
    },
    {
      "cell_type": "code",
      "source": [
        "model.plot_training_results()"
      ],
      "metadata": {
        "colab": {
          "base_uri": "https://localhost:8080/",
          "height": 295
        },
        "id": "IQ0l-BAVR00s",
        "outputId": "e41da4b8-0788-4314-ca35-10cfa87df923"
      },
      "execution_count": 65,
      "outputs": [
        {
          "output_type": "display_data",
          "data": {
            "text/plain": [
              "<Figure size 432x288 with 1 Axes>"
            ],
            "image/png": "[encoded data removed]"
          },
          "metadata": {
            "needs_background": "light"
          }
        }
      ]
    },
    {
      "cell_type": "code",
      "source": [
        "model.save_model(\"vggnet\")"
      ],
      "metadata": {
        "id": "mS7qqXf3RHeb"
      },
      "execution_count": 66,
      "outputs": []
    },
    {
      "cell_type": "code",
      "source": [
        "from tensorflow.keras.models import load_model\n",
        "\n",
        "mob = load_model(\"/content/vggnet.model\")"
      ],
      "metadata": {
        "id": "3nV7zxTHRYdF"
      },
      "execution_count": 67,
      "outputs": []
    },
    {
      "cell_type": "code",
      "source": [
        "img: np.ndarray = x_test[15].copy()\n",
        "plt.imshow(img)"
      ],
      "metadata": {
        "colab": {
          "base_uri": "https://localhost:8080/",
          "height": 283
        },
        "id": "njswwN0GRtvO",
        "outputId": "d10ef51b-5e11-4762-f925-d7e87b4190fb"
      },
      "execution_count": 68,
      "outputs": [
        {
          "output_type": "execute_result",
          "data": {
            "text/plain": [
              "<matplotlib.image.AxesImage at 0x7f0f441aae90>"
            ]
          },
          "metadata": {},
          "execution_count": 68
        },
        {
          "output_type": "display_data",
          "data": {
            "text/plain": [
              "<Figure size 432x288 with 1 Axes>"
            ],
            "image/png": "[encoded data removed]"
          },
          "metadata": {
            "needs_background": "light"
          }
        }
      ]
    },
    {
      "cell_type": "code",
      "source": [
        "prediction: np.ndarray = mob.predict(np.expand_dims(tf.keras.applications.vgg19.preprocess_input(img), axis=0))\n",
        "prediction.shape"
      ],
      "metadata": {
        "colab": {
          "base_uri": "https://localhost:8080/"
        },
        "id": "7KQNopscR_YZ",
        "outputId": "f2bba0a0-b327-4448-b1d7-ea24303be225"
      },
      "execution_count": 69,
      "outputs": [
        {
          "output_type": "execute_result",
          "data": {
            "text/plain": [
              "(1, 300)"
            ]
          },
          "metadata": {},
          "execution_count": 69
        }
      ]
    },
    {
      "cell_type": "code",
      "source": [
        "import torch\n",
        "import logging\n",
        "from tqdm import tqdm\n",
        "\n",
        "class EmbeddingsLoader:\n",
        "\n",
        "    def __init__(self, filename : str):\n",
        "\n",
        "        self.file = filename\n",
        "        self.embeddings = {}\n",
        "\n",
        "        self._load_file()\n",
        "\n",
        "    def _load_file(self):\n",
        "        try:\n",
        "            with open(self.file, \"r\") as f:\n",
        "                lines = f.readlines()\n",
        "                \n",
        "            for line in lines:\n",
        "                data = line.split(\",\")\n",
        "                self.embeddings[data[0]] = torch.FloatTensor(list(map(float, data[1:])))\n",
        "\n",
        "        except IOError as e:\n",
        "            raise IOError(f\"No file {self.file}\")\n",
        "\n",
        "class SimilarityCompute(EmbeddingsLoader):\n",
        "\n",
        "    def __init__(self, embeddings):\n",
        "        super(SimilarityCompute, self).__init__(embeddings)\n",
        "\n",
        "\n",
        "    def compute_sim(self):\n",
        "        \"\"\" compute cosine similarity between all vectors \"\"\"\n",
        "        if len(self.embeddings) == 0:\n",
        "            raise Exception(\"Tags not converted yet !\")\n",
        "\n",
        "        logging.info(\"Computing cosine similarity, this could take some time...\")\n",
        "\n",
        "        if self.cosine_sim_matrix is None:\n",
        "            n_tokens = len(self.embeddings)\n",
        "            self.cosine_sim_matrix = [[1 for j in range(n_tokens)] for i in range(n_tokens)]\n",
        "\n",
        "        for j, vector in tqdm(enumerate(self.embeddings), total = len(self.embeddings)):\n",
        "\n",
        "            for i, other_vector in enumerate(self.embeddings):\n",
        "\n",
        "                if i == j:\n",
        "                    continue\n",
        "\n",
        "                cos = torch.nn.CosineSimilarity(dim=0)\n",
        "                similarity = cos(vector[1], other_vector[1])\n",
        "\n",
        "                self.cosine_sim_matrix[i][j] = similarity\n",
        "                self.cosine_sim_matrix[j][i] = similarity\n",
        "\n",
        "    def export_sim_matrix(self, filename):\n",
        "        if self.cosine_sim_matrix == None:\n",
        "            self.compute_sim()\n",
        "        \n",
        "        try:\n",
        "            f = open(filename, \"w\")\n",
        "        except OSError:\n",
        "            raise OSError(\"Could not open file\")\n",
        "\n",
        "        with f:\n",
        "            print(\"/\", \",\".join([tag[0] for tag in self.embeddings]), sep = \",\", file = f)\n",
        "\n",
        "            for j, tag_y in enumerate(self.embeddings):\n",
        "                print(tag_y[0], \",\".join( [str(round(float(self.cosine_sim_matrix[j][i]), 3)) for i in range(len(self.embeddings))]), sep = \",\", file = f)\n",
        "\n",
        "    def sim_between(self, token1, token2):\n",
        "        index1, v1 = [(i, v[1]) for i, v in enumerate(self.embeddings) if v[0] == token1][0]\n",
        "        index2, v2 = [(i, v[1]) for i, v in enumerate(self.embeddings) if v[0] == token2][0]\n",
        "\n",
        "        if self.cosine_sim_matrix is None:\n",
        "            n_tokens = len(self.embeddings)\n",
        "            self.cosine_sim_matrix = [[1 for j in range(n_tokens)] for i in range(n_tokens)]\n",
        "\n",
        "        if self.cosine_sim_matrix[index1][index2] == 0 or self.cosine_sim_matrix[index2][index1]:\n",
        "            cos = torch.nn.CosineSimilarity(dim=0)\n",
        "            similarity = cos(v1, v2)\n",
        "\n",
        "            self.cosine_sim_matrix[index1][index2] = similarity\n",
        "            self.cosine_sim_matrix[index2][index1] = similarity\n",
        "\n",
        "        return self.cosine_sim_matrix[index1][index2]\n",
        "\n",
        "class Solver(EmbeddingsLoader):\n",
        "\n",
        "    def __init__(self, embeddings):\n",
        "        super(Solver, self).__init__(embeddings)\n",
        "\n",
        "    def get_nearest_embedding_of(self, embedding, nb = 100):\n",
        "\n",
        "        if nb > len(self.embeddings):\n",
        "            raise Exception(\"nb too high, not enough token\")\n",
        "\n",
        "        nearest = []\n",
        "        for tag, e in self.embeddings.items():\n",
        "\n",
        "            cos = torch.nn.CosineSimilarity(dim=0)\n",
        "            similarity = cos(embedding, e)\n",
        "\n",
        "            nearest.append((tag, similarity))\n",
        "        \n",
        "        nearest.sort(key = lambda tup : tup[1])\n",
        "        return nearest[-1:-nb-1:-1]"
      ],
      "metadata": {
        "id": "msvijZKTSGau"
      },
      "execution_count": 70,
      "outputs": []
    },
    {
      "cell_type": "code",
      "source": [
        "solver = Solver(\"/content/drive/MyDrive/data/cifar100-wiki2vec-300.csv\")\n",
        "totest = torch.FloatTensor(prediction.reshape(-1))\n",
        "print(solver.get_nearest_embedding_of(totest))"
      ],
      "metadata": {
        "colab": {
          "base_uri": "https://localhost:8080/"
        },
        "id": "3na4iWTlSLkP",
        "outputId": "e1d418f0-6c5b-43e0-b847-830c7dd625a5"
      },
      "execution_count": 71,
      "outputs": [
        {
          "output_type": "stream",
          "name": "stdout",
          "text": [
            "[('lion', tensor(0.9199)), ('leopard', tensor(0.7440)), ('elephant', tensor(0.7102)), ('tiger', tensor(0.6751)), ('wolf', tensor(0.6234)), ('bear', tensor(0.6037)), ('crocodile', tensor(0.5694)), ('porcupine', tensor(0.5667)), ('squirrel', tensor(0.5571)), ('dolphin', tensor(0.5553)), ('raccoon', tensor(0.5323)), ('camel', tensor(0.5316)), ('beaver', tensor(0.5226)), ('otter', tensor(0.5207)), ('rabbit', tensor(0.5134)), ('snake', tensor(0.5109)), ('chimpanzee', tensor(0.5041)), ('shark', tensor(0.4976)), ('shrew', tensor(0.4947)), ('turtle', tensor(0.4935)), ('seal', tensor(0.4917)), ('skunk', tensor(0.4704)), ('lizard', tensor(0.4543)), ('man', tensor(0.4532)), ('kangaroo', tensor(0.4491)), ('fox', tensor(0.4488)), ('whale', tensor(0.4484)), ('hamster', tensor(0.4386)), ('possum', tensor(0.4236)), ('crab', tensor(0.4229)), ('mouse', tensor(0.4179)), ('aquarium_fish', tensor(0.4118)), ('baby', tensor(0.4073)), ('boy', tensor(0.4035)), ('trout', tensor(0.4005)), ('mountain', tensor(0.3993)), ('cockroach', tensor(0.3986)), ('bee', tensor(0.3875)), ('girl', tensor(0.3869)), ('sea', tensor(0.3845)), ('lobster', tensor(0.3739)), ('spider', tensor(0.3727)), ('sweet_pepper', tensor(0.3712)), ('worm', tensor(0.3691)), ('rose', tensor(0.3687)), ('butterfly', tensor(0.3671)), ('caterpillar', tensor(0.3613)), ('palm_tree', tensor(0.3602)), ('apple', tensor(0.3569)), ('woman', tensor(0.3534)), ('dinosaur', tensor(0.3497)), ('bottle', tensor(0.3496)), ('snail', tensor(0.3454)), ('wardrobe', tensor(0.3418)), ('poppy', tensor(0.3355)), ('pear', tensor(0.3338)), ('sunflower', tensor(0.3271)), ('castle', tensor(0.3263)), ('cattle', tensor(0.3237)), ('orange', tensor(0.3235)), ('tulip', tensor(0.3210)), ('forest', tensor(0.3203)), ('cloud', tensor(0.3128)), ('tank', tensor(0.3104)), ('oak_tree', tensor(0.3067)), ('clock', tensor(0.2946)), ('rocket', tensor(0.2931)), ('willow_tree', tensor(0.2898)), ('ray', tensor(0.2894)), ('couch', tensor(0.2855)), ('beetle', tensor(0.2846)), ('orchid', tensor(0.2843)), ('lamp', tensor(0.2815)), ('mushroom', tensor(0.2811)), ('house', tensor(0.2802)), ('lawn_mower', tensor(0.2792)), ('flatfish', tensor(0.2731)), ('train', tensor(0.2726)), ('motorcycle', tensor(0.2562)), ('plate', tensor(0.2549)), ('bowl', tensor(0.2539)), ('bed', tensor(0.2488)), ('plain', tensor(0.2487)), ('tractor', tensor(0.2484)), ('maple_tree', tensor(0.2371)), ('television', tensor(0.2325)), ('bus', tensor(0.2228)), ('road', tensor(0.2166)), ('table', tensor(0.2120)), ('bridge', tensor(0.2116)), ('computer_keyboard', tensor(0.2076)), ('cup', tensor(0.2037)), ('pickup_truck', tensor(0.1990)), ('bicycle', tensor(0.1969)), ('skyscraper', tensor(0.1922)), ('pine_tree', tensor(0.1921)), ('streetcar', tensor(0.1772)), ('chair', tensor(0.1752)), ('can', tensor(0.1715)), ('telephone', tensor(0.1383))]\n"
          ]
        }
      ]
    },
    {
      "cell_type": "code",
      "source": [
        "test_img : np.ndarray = x_test[37].copy()\n",
        "plt.imshow(test_img)"
      ],
      "metadata": {
        "colab": {
          "base_uri": "https://localhost:8080/",
          "height": 283
        },
        "id": "-Y-2k5UKyKpL",
        "outputId": "11da5d46-60a6-41da-888d-89858b510cd8"
      },
      "execution_count": 76,
      "outputs": [
        {
          "output_type": "execute_result",
          "data": {
            "text/plain": [
              "<matplotlib.image.AxesImage at 0x7f0f5742b550>"
            ]
          },
          "metadata": {},
          "execution_count": 76
        },
        {
          "output_type": "display_data",
          "data": {
            "text/plain": [
              "<Figure size 432x288 with 1 Axes>"
            ],
            "image/png": "[encoded data removed]"
          },
          "metadata": {
            "needs_background": "light"
          }
        }
      ]
    },
    {
      "cell_type": "code",
      "source": [
        "pred2: np.ndarray = mob.predict(np.expand_dims(tf.keras.applications.vgg19.preprocess_input(test_img), axis=0))\n",
        "solver = Solver(\"/content/drive/MyDrive/data/cifar100-wiki2vec-300.csv\")\n",
        "totest = torch.FloatTensor(pred2.reshape(-1))\n",
        "print(solver.get_nearest_embedding_of(totest))"
      ],
      "metadata": {
        "colab": {
          "base_uri": "https://localhost:8080/"
        },
        "id": "ngL-dYzAyf7l",
        "outputId": "f54de71f-06d0-419d-e070-a38343009bdb"
      },
      "execution_count": 77,
      "outputs": [
        {
          "output_type": "stream",
          "name": "stdout",
          "text": [
            "[('boy', tensor(0.7601)), ('man', tensor(0.7595)), ('girl', tensor(0.7482)), ('woman', tensor(0.7311)), ('baby', tensor(0.6994)), ('rabbit', tensor(0.5842)), ('wolf', tensor(0.5535)), ('elephant', tensor(0.5522)), ('sweet_pepper', tensor(0.5279)), ('fox', tensor(0.5248)), ('skunk', tensor(0.5244)), ('hamster', tensor(0.5132)), ('aquarium_fish', tensor(0.5099)), ('raccoon', tensor(0.5093)), ('squirrel', tensor(0.5059)), ('shark', tensor(0.5047)), ('snake', tensor(0.4983)), ('bottle', tensor(0.4893)), ('mouse', tensor(0.4867)), ('spider', tensor(0.4741)), ('turtle', tensor(0.4739)), ('bear', tensor(0.4687)), ('lion', tensor(0.4675)), ('chimpanzee', tensor(0.4665)), ('cockroach', tensor(0.4653)), ('crocodile', tensor(0.4644)), ('beaver', tensor(0.4611)), ('dolphin', tensor(0.4598)), ('lawn_mower', tensor(0.4573)), ('whale', tensor(0.4559)), ('camel', tensor(0.4530)), ('possum', tensor(0.4496)), ('palm_tree', tensor(0.4495)), ('crab', tensor(0.4421)), ('couch', tensor(0.4404)), ('tiger', tensor(0.4374)), ('lobster', tensor(0.4365)), ('can', tensor(0.4349)), ('lamp', tensor(0.4206)), ('porcupine', tensor(0.4197)), ('kangaroo', tensor(0.4190)), ('worm', tensor(0.4173)), ('bed', tensor(0.4129)), ('leopard', tensor(0.4122)), ('bee', tensor(0.4101)), ('lizard', tensor(0.4099)), ('poppy', tensor(0.4086)), ('television', tensor(0.3998)), ('rose', tensor(0.3970)), ('cattle', tensor(0.3953)), ('dinosaur', tensor(0.3934)), ('otter', tensor(0.3908)), ('mushroom', tensor(0.3883)), ('ray', tensor(0.3830)), ('train', tensor(0.3782)), ('trout', tensor(0.3776)), ('seal', tensor(0.3767)), ('wardrobe', tensor(0.3742)), ('pickup_truck', tensor(0.3739)), ('pear', tensor(0.3729)), ('shrew', tensor(0.3679)), ('motorcycle', tensor(0.3668)), ('sunflower', tensor(0.3654)), ('apple', tensor(0.3651)), ('butterfly', tensor(0.3636)), ('caterpillar', tensor(0.3587)), ('snail', tensor(0.3489)), ('clock', tensor(0.3469)), ('bicycle', tensor(0.3443)), ('tractor', tensor(0.3398)), ('mountain', tensor(0.3390)), ('rocket', tensor(0.3346)), ('chair', tensor(0.3296)), ('house', tensor(0.3289)), ('telephone', tensor(0.3233)), ('streetcar', tensor(0.3232)), ('flatfish', tensor(0.3209)), ('beetle', tensor(0.3209)), ('sea', tensor(0.3156)), ('bridge', tensor(0.3147)), ('orchid', tensor(0.3086)), ('plate', tensor(0.3077)), ('willow_tree', tensor(0.3060)), ('castle', tensor(0.3036)), ('road', tensor(0.3006)), ('cloud', tensor(0.2978)), ('computer_keyboard', tensor(0.2960)), ('bowl', tensor(0.2933)), ('plain', tensor(0.2912)), ('tank', tensor(0.2905)), ('table', tensor(0.2885)), ('bus', tensor(0.2872)), ('tulip', tensor(0.2865)), ('skyscraper', tensor(0.2827)), ('forest', tensor(0.2821)), ('orange', tensor(0.2729)), ('oak_tree', tensor(0.2685)), ('maple_tree', tensor(0.2135)), ('cup', tensor(0.2131)), ('pine_tree', tensor(0.2031))]\n"
          ]
        }
      ]
    }
  ]
}