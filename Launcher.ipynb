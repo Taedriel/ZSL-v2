{
  "nbformat": 4,
  "nbformat_minor": 0,
  "metadata": {
    "colab": {
      "name": "Launcher.ipynb",
      "provenance": [],
      "authorship_tag": "ABX9TyOLHh2xQbu/3dK6Jn6o14ll",
      "include_colab_link": true
    },
    "kernelspec": {
      "name": "python3",
      "display_name": "Python 3"
    },
    "language_info": {
      "name": "python"
    }
  },
  "cells": [
    {
      "cell_type": "markdown",
      "metadata": {
        "id": "view-in-github",
        "colab_type": "text"
      },
      "source": [
        "<a href=\"https://colab.research.google.com/github/Taedriel/ZSL-v2/blob/main/Launcher.ipynb\" target=\"_parent\"><img src=\"https://colab.research.google.com/assets/colab-badge.svg\" alt=\"Open In Colab\"/></a>"
      ]
    },
    {
      "cell_type": "code",
      "execution_count": 1,
      "metadata": {
        "id": "8DB9CVVe2Vta",
        "outputId": "19eeab92-8339-42a4-c6cb-58c7d6b91987",
        "colab": {
          "base_uri": "https://localhost:8080/"
        }
      },
      "outputs": [
        {
          "output_type": "stream",
          "name": "stdout",
          "text": [
            "fatal: destination path 'ZSL-v2' already exists and is not an empty directory.\n",
            "\u001b[31mERROR: Operation cancelled by user\u001b[0m\n"
          ]
        }
      ],
      "source": [
        "!git clone https://github.com/Taedriel/ZSL-v2.git\n",
        "# !cd ZSL-v2/ ; git checkout startArchiWordEmbedding; git pull\n",
        "!cd ZSL-v2/ ; git lfs pull; pip install -r requirements.txt --quiet --upgrade"
      ]
    },
    {
      "cell_type": "code",
      "source": [
        "# !cd ZSL-v2/ ; git checkout main; git pull\n",
        "!cd ZSL-v2/; git lfs pull\n"
      ],
      "metadata": {
        "id": "QJgDtRWz7GDb",
        "outputId": "65122b51-5500-4825-e115-153718d376cb",
        "colab": {
          "base_uri": "https://localhost:8080/"
        }
      },
      "execution_count": 5,
      "outputs": [
        {
          "output_type": "stream",
          "name": "stdout",
          "text": [
            "Git LFS: (4 of 4 files) 336.11 MB / 336.11 MB\n"
          ]
        }
      ]
    },
    {
      "cell_type": "code",
      "source": [
        "import sys\n",
        "sys.path.append(\"/content/ZSL-v2\")\n",
        "sys.path.append(\"/content/ZSL-v2/zsl\")\n",
        "\n",
        "import zsl"
      ],
      "metadata": {
        "id": "b-Np1knU7I-8"
      },
      "execution_count": 2,
      "outputs": []
    },
    {
      "cell_type": "code",
      "source": [
        "from Launcher import *\n",
        "\n",
        "if __name__ == \"__main__\":\n",
        "    preprocess()\n",
        "    result, _ = run_pipeline(\"examples/002.jpg\", intermediate_result = False)\n",
        "\n"
      ],
      "metadata": {
        "id": "vdcKTAwQ34kT"
      },
      "execution_count": null,
      "outputs": []
    }
  ]
}