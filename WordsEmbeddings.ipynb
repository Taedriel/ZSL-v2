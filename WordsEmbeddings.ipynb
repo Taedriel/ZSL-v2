{
  "nbformat": 4,
  "nbformat_minor": 0,
  "metadata": {
    "colab": {
      "name": "WordsEmbeddings.ipynb",
      "provenance": [],
      "collapsed_sections": [],
      "include_colab_link": true
    },
    "kernelspec": {
      "name": "python3",
      "display_name": "Python 3"
    },
    "language_info": {
      "name": "python"
    },
    "widgets": {
      "application/vnd.jupyter.widget-state+json": {
        "c7c2a554c3cf431ba73e14993c0fff7c": {
          "model_module": "@jupyter-widgets/controls",
          "model_name": "HBoxModel",
          "model_module_version": "1.5.0",
          "state": {
            "_dom_classes": [],
            "_model_module": "@jupyter-widgets/controls",
            "_model_module_version": "1.5.0",
            "_model_name": "HBoxModel",
            "_view_count": null,
            "_view_module": "@jupyter-widgets/controls",
            "_view_module_version": "1.5.0",
            "_view_name": "HBoxView",
            "box_style": "",
            "children": [
              "IPY_MODEL_a334579a29f446b3938aa376bc716cd1",
              "IPY_MODEL_3e40316b693b4a8d933cd3daa639cae0",
              "IPY_MODEL_d045c0b533f942b78e273526a00ef497"
            ],
            "layout": "IPY_MODEL_27fcab27b8d64179a42cedfba37f7f69"
          }
        },
        "a334579a29f446b3938aa376bc716cd1": {
          "model_module": "@jupyter-widgets/controls",
          "model_name": "HTMLModel",
          "model_module_version": "1.5.0",
          "state": {
            "_dom_classes": [],
            "_model_module": "@jupyter-widgets/controls",
            "_model_module_version": "1.5.0",
            "_model_name": "HTMLModel",
            "_view_count": null,
            "_view_module": "@jupyter-widgets/controls",
            "_view_module_version": "1.5.0",
            "_view_name": "HTMLView",
            "description": "",
            "description_tooltip": null,
            "layout": "IPY_MODEL_ca01113679b8407892757c402177bb87",
            "placeholder": "​",
            "style": "IPY_MODEL_d877a7720a154eccbbaf13d792677739",
            "value": "Downloading: 100%"
          }
        },
        "3e40316b693b4a8d933cd3daa639cae0": {
          "model_module": "@jupyter-widgets/controls",
          "model_name": "FloatProgressModel",
          "model_module_version": "1.5.0",
          "state": {
            "_dom_classes": [],
            "_model_module": "@jupyter-widgets/controls",
            "_model_module_version": "1.5.0",
            "_model_name": "FloatProgressModel",
            "_view_count": null,
            "_view_module": "@jupyter-widgets/controls",
            "_view_module_version": "1.5.0",
            "_view_name": "ProgressView",
            "bar_style": "success",
            "description": "",
            "description_tooltip": null,
            "layout": "IPY_MODEL_606cd44f3a674103ab4dfb4e256bf53e",
            "max": 898823,
            "min": 0,
            "orientation": "horizontal",
            "style": "IPY_MODEL_b4d4091844c24ce6a9391d76dca46fe5",
            "value": 898823
          }
        },
        "d045c0b533f942b78e273526a00ef497": {
          "model_module": "@jupyter-widgets/controls",
          "model_name": "HTMLModel",
          "model_module_version": "1.5.0",
          "state": {
            "_dom_classes": [],
            "_model_module": "@jupyter-widgets/controls",
            "_model_module_version": "1.5.0",
            "_model_name": "HTMLModel",
            "_view_count": null,
            "_view_module": "@jupyter-widgets/controls",
            "_view_module_version": "1.5.0",
            "_view_name": "HTMLView",
            "description": "",
            "description_tooltip": null,
            "layout": "IPY_MODEL_b563c1c7c27a4be8b64b957682c8630b",
            "placeholder": "​",
            "style": "IPY_MODEL_4ba1b7eadcfd4211a1c57e4a1d1d06cf",
            "value": " 878k/878k [00:00&lt;00:00, 2.00MB/s]"
          }
        },
        "27fcab27b8d64179a42cedfba37f7f69": {
          "model_module": "@jupyter-widgets/base",
          "model_name": "LayoutModel",
          "model_module_version": "1.2.0",
          "state": {
            "_model_module": "@jupyter-widgets/base",
            "_model_module_version": "1.2.0",
            "_model_name": "LayoutModel",
            "_view_count": null,
            "_view_module": "@jupyter-widgets/base",
            "_view_module_version": "1.2.0",
            "_view_name": "LayoutView",
            "align_content": null,
            "align_items": null,
            "align_self": null,
            "border": null,
            "bottom": null,
            "display": null,
            "flex": null,
            "flex_flow": null,
            "grid_area": null,
            "grid_auto_columns": null,
            "grid_auto_flow": null,
            "grid_auto_rows": null,
            "grid_column": null,
            "grid_gap": null,
            "grid_row": null,
            "grid_template_areas": null,
            "grid_template_columns": null,
            "grid_template_rows": null,
            "height": null,
            "justify_content": null,
            "justify_items": null,
            "left": null,
            "margin": null,
            "max_height": null,
            "max_width": null,
            "min_height": null,
            "min_width": null,
            "object_fit": null,
            "object_position": null,
            "order": null,
            "overflow": null,
            "overflow_x": null,
            "overflow_y": null,
            "padding": null,
            "right": null,
            "top": null,
            "visibility": null,
            "width": null
          }
        },
        "ca01113679b8407892757c402177bb87": {
          "model_module": "@jupyter-widgets/base",
          "model_name": "LayoutModel",
          "model_module_version": "1.2.0",
          "state": {
            "_model_module": "@jupyter-widgets/base",
            "_model_module_version": "1.2.0",
            "_model_name": "LayoutModel",
            "_view_count": null,
            "_view_module": "@jupyter-widgets/base",
            "_view_module_version": "1.2.0",
            "_view_name": "LayoutView",
            "align_content": null,
            "align_items": null,
            "align_self": null,
            "border": null,
            "bottom": null,
            "display": null,
            "flex": null,
            "flex_flow": null,
            "grid_area": null,
            "grid_auto_columns": null,
            "grid_auto_flow": null,
            "grid_auto_rows": null,
            "grid_column": null,
            "grid_gap": null,
            "grid_row": null,
            "grid_template_areas": null,
            "grid_template_columns": null,
            "grid_template_rows": null,
            "height": null,
            "justify_content": null,
            "justify_items": null,
            "left": null,
            "margin": null,
            "max_height": null,
            "max_width": null,
            "min_height": null,
            "min_width": null,
            "object_fit": null,
            "object_position": null,
            "order": null,
            "overflow": null,
            "overflow_x": null,
            "overflow_y": null,
            "padding": null,
            "right": null,
            "top": null,
            "visibility": null,
            "width": null
          }
        },
        "d877a7720a154eccbbaf13d792677739": {
          "model_module": "@jupyter-widgets/controls",
          "model_name": "DescriptionStyleModel",
          "model_module_version": "1.5.0",
          "state": {
            "_model_module": "@jupyter-widgets/controls",
            "_model_module_version": "1.5.0",
            "_model_name": "DescriptionStyleModel",
            "_view_count": null,
            "_view_module": "@jupyter-widgets/base",
            "_view_module_version": "1.2.0",
            "_view_name": "StyleView",
            "description_width": ""
          }
        },
        "606cd44f3a674103ab4dfb4e256bf53e": {
          "model_module": "@jupyter-widgets/base",
          "model_name": "LayoutModel",
          "model_module_version": "1.2.0",
          "state": {
            "_model_module": "@jupyter-widgets/base",
            "_model_module_version": "1.2.0",
            "_model_name": "LayoutModel",
            "_view_count": null,
            "_view_module": "@jupyter-widgets/base",
            "_view_module_version": "1.2.0",
            "_view_name": "LayoutView",
            "align_content": null,
            "align_items": null,
            "align_self": null,
            "border": null,
            "bottom": null,
            "display": null,
            "flex": null,
            "flex_flow": null,
            "grid_area": null,
            "grid_auto_columns": null,
            "grid_auto_flow": null,
            "grid_auto_rows": null,
            "grid_column": null,
            "grid_gap": null,
            "grid_row": null,
            "grid_template_areas": null,
            "grid_template_columns": null,
            "grid_template_rows": null,
            "height": null,
            "justify_content": null,
            "justify_items": null,
            "left": null,
            "margin": null,
            "max_height": null,
            "max_width": null,
            "min_height": null,
            "min_width": null,
            "object_fit": null,
            "object_position": null,
            "order": null,
            "overflow": null,
            "overflow_x": null,
            "overflow_y": null,
            "padding": null,
            "right": null,
            "top": null,
            "visibility": null,
            "width": null
          }
        },
        "b4d4091844c24ce6a9391d76dca46fe5": {
          "model_module": "@jupyter-widgets/controls",
          "model_name": "ProgressStyleModel",
          "model_module_version": "1.5.0",
          "state": {
            "_model_module": "@jupyter-widgets/controls",
            "_model_module_version": "1.5.0",
            "_model_name": "ProgressStyleModel",
            "_view_count": null,
            "_view_module": "@jupyter-widgets/base",
            "_view_module_version": "1.2.0",
            "_view_name": "StyleView",
            "bar_color": null,
            "description_width": ""
          }
        },
        "b563c1c7c27a4be8b64b957682c8630b": {
          "model_module": "@jupyter-widgets/base",
          "model_name": "LayoutModel",
          "model_module_version": "1.2.0",
          "state": {
            "_model_module": "@jupyter-widgets/base",
            "_model_module_version": "1.2.0",
            "_model_name": "LayoutModel",
            "_view_count": null,
            "_view_module": "@jupyter-widgets/base",
            "_view_module_version": "1.2.0",
            "_view_name": "LayoutView",
            "align_content": null,
            "align_items": null,
            "align_self": null,
            "border": null,
            "bottom": null,
            "display": null,
            "flex": null,
            "flex_flow": null,
            "grid_area": null,
            "grid_auto_columns": null,
            "grid_auto_flow": null,
            "grid_auto_rows": null,
            "grid_column": null,
            "grid_gap": null,
            "grid_row": null,
            "grid_template_areas": null,
            "grid_template_columns": null,
            "grid_template_rows": null,
            "height": null,
            "justify_content": null,
            "justify_items": null,
            "left": null,
            "margin": null,
            "max_height": null,
            "max_width": null,
            "min_height": null,
            "min_width": null,
            "object_fit": null,
            "object_position": null,
            "order": null,
            "overflow": null,
            "overflow_x": null,
            "overflow_y": null,
            "padding": null,
            "right": null,
            "top": null,
            "visibility": null,
            "width": null
          }
        },
        "4ba1b7eadcfd4211a1c57e4a1d1d06cf": {
          "model_module": "@jupyter-widgets/controls",
          "model_name": "DescriptionStyleModel",
          "model_module_version": "1.5.0",
          "state": {
            "_model_module": "@jupyter-widgets/controls",
            "_model_module_version": "1.5.0",
            "_model_name": "DescriptionStyleModel",
            "_view_count": null,
            "_view_module": "@jupyter-widgets/base",
            "_view_module_version": "1.2.0",
            "_view_name": "StyleView",
            "description_width": ""
          }
        },
        "9252e0d54aa942c694b5652bd4208361": {
          "model_module": "@jupyter-widgets/controls",
          "model_name": "HBoxModel",
          "model_module_version": "1.5.0",
          "state": {
            "_dom_classes": [],
            "_model_module": "@jupyter-widgets/controls",
            "_model_module_version": "1.5.0",
            "_model_name": "HBoxModel",
            "_view_count": null,
            "_view_module": "@jupyter-widgets/controls",
            "_view_module_version": "1.5.0",
            "_view_name": "HBoxView",
            "box_style": "",
            "children": [
              "IPY_MODEL_12379a2f7896419390a366f15f72efe9",
              "IPY_MODEL_a1aa17253851496385f767f3ac01d67e",
              "IPY_MODEL_9f3ae4460ee447949df78cc3e528196f"
            ],
            "layout": "IPY_MODEL_35f13f9620ab4eceb63a12f07ffaaae7"
          }
        },
        "12379a2f7896419390a366f15f72efe9": {
          "model_module": "@jupyter-widgets/controls",
          "model_name": "HTMLModel",
          "model_module_version": "1.5.0",
          "state": {
            "_dom_classes": [],
            "_model_module": "@jupyter-widgets/controls",
            "_model_module_version": "1.5.0",
            "_model_name": "HTMLModel",
            "_view_count": null,
            "_view_module": "@jupyter-widgets/controls",
            "_view_module_version": "1.5.0",
            "_view_name": "HTMLView",
            "description": "",
            "description_tooltip": null,
            "layout": "IPY_MODEL_15fd5fc62c3d4d0d8d05606a5a6b20b3",
            "placeholder": "​",
            "style": "IPY_MODEL_e40ade4d4cd24ede9e3d40c1dca63dec",
            "value": "Downloading: 100%"
          }
        },
        "a1aa17253851496385f767f3ac01d67e": {
          "model_module": "@jupyter-widgets/controls",
          "model_name": "FloatProgressModel",
          "model_module_version": "1.5.0",
          "state": {
            "_dom_classes": [],
            "_model_module": "@jupyter-widgets/controls",
            "_model_module_version": "1.5.0",
            "_model_name": "FloatProgressModel",
            "_view_count": null,
            "_view_module": "@jupyter-widgets/controls",
            "_view_module_version": "1.5.0",
            "_view_name": "ProgressView",
            "bar_style": "success",
            "description": "",
            "description_tooltip": null,
            "layout": "IPY_MODEL_04c8c9960c1144539ab98a7b821804e4",
            "max": 456318,
            "min": 0,
            "orientation": "horizontal",
            "style": "IPY_MODEL_340048e5540041c8ae6f8038aeee0d12",
            "value": 456318
          }
        },
        "9f3ae4460ee447949df78cc3e528196f": {
          "model_module": "@jupyter-widgets/controls",
          "model_name": "HTMLModel",
          "model_module_version": "1.5.0",
          "state": {
            "_dom_classes": [],
            "_model_module": "@jupyter-widgets/controls",
            "_model_module_version": "1.5.0",
            "_model_name": "HTMLModel",
            "_view_count": null,
            "_view_module": "@jupyter-widgets/controls",
            "_view_module_version": "1.5.0",
            "_view_name": "HTMLView",
            "description": "",
            "description_tooltip": null,
            "layout": "IPY_MODEL_df2c3c09bd9d46e9ab46d9e91b848f58",
            "placeholder": "​",
            "style": "IPY_MODEL_d431d986376e4b6d9c5e3278ea27aa7c",
            "value": " 446k/446k [00:00&lt;00:00, 2.11MB/s]"
          }
        },
        "35f13f9620ab4eceb63a12f07ffaaae7": {
          "model_module": "@jupyter-widgets/base",
          "model_name": "LayoutModel",
          "model_module_version": "1.2.0",
          "state": {
            "_model_module": "@jupyter-widgets/base",
            "_model_module_version": "1.2.0",
            "_model_name": "LayoutModel",
            "_view_count": null,
            "_view_module": "@jupyter-widgets/base",
            "_view_module_version": "1.2.0",
            "_view_name": "LayoutView",
            "align_content": null,
            "align_items": null,
            "align_self": null,
            "border": null,
            "bottom": null,
            "display": null,
            "flex": null,
            "flex_flow": null,
            "grid_area": null,
            "grid_auto_columns": null,
            "grid_auto_flow": null,
            "grid_auto_rows": null,
            "grid_column": null,
            "grid_gap": null,
            "grid_row": null,
            "grid_template_areas": null,
            "grid_template_columns": null,
            "grid_template_rows": null,
            "height": null,
            "justify_content": null,
            "justify_items": null,
            "left": null,
            "margin": null,
            "max_height": null,
            "max_width": null,
            "min_height": null,
            "min_width": null,
            "object_fit": null,
            "object_position": null,
            "order": null,
            "overflow": null,
            "overflow_x": null,
            "overflow_y": null,
            "padding": null,
            "right": null,
            "top": null,
            "visibility": null,
            "width": null
          }
        },
        "15fd5fc62c3d4d0d8d05606a5a6b20b3": {
          "model_module": "@jupyter-widgets/base",
          "model_name": "LayoutModel",
          "model_module_version": "1.2.0",
          "state": {
            "_model_module": "@jupyter-widgets/base",
            "_model_module_version": "1.2.0",
            "_model_name": "LayoutModel",
            "_view_count": null,
            "_view_module": "@jupyter-widgets/base",
            "_view_module_version": "1.2.0",
            "_view_name": "LayoutView",
            "align_content": null,
            "align_items": null,
            "align_self": null,
            "border": null,
            "bottom": null,
            "display": null,
            "flex": null,
            "flex_flow": null,
            "grid_area": null,
            "grid_auto_columns": null,
            "grid_auto_flow": null,
            "grid_auto_rows": null,
            "grid_column": null,
            "grid_gap": null,
            "grid_row": null,
            "grid_template_areas": null,
            "grid_template_columns": null,
            "grid_template_rows": null,
            "height": null,
            "justify_content": null,
            "justify_items": null,
            "left": null,
            "margin": null,
            "max_height": null,
            "max_width": null,
            "min_height": null,
            "min_width": null,
            "object_fit": null,
            "object_position": null,
            "order": null,
            "overflow": null,
            "overflow_x": null,
            "overflow_y": null,
            "padding": null,
            "right": null,
            "top": null,
            "visibility": null,
            "width": null
          }
        },
        "e40ade4d4cd24ede9e3d40c1dca63dec": {
          "model_module": "@jupyter-widgets/controls",
          "model_name": "DescriptionStyleModel",
          "model_module_version": "1.5.0",
          "state": {
            "_model_module": "@jupyter-widgets/controls",
            "_model_module_version": "1.5.0",
            "_model_name": "DescriptionStyleModel",
            "_view_count": null,
            "_view_module": "@jupyter-widgets/base",
            "_view_module_version": "1.2.0",
            "_view_name": "StyleView",
            "description_width": ""
          }
        },
        "04c8c9960c1144539ab98a7b821804e4": {
          "model_module": "@jupyter-widgets/base",
          "model_name": "LayoutModel",
          "model_module_version": "1.2.0",
          "state": {
            "_model_module": "@jupyter-widgets/base",
            "_model_module_version": "1.2.0",
            "_model_name": "LayoutModel",
            "_view_count": null,
            "_view_module": "@jupyter-widgets/base",
            "_view_module_version": "1.2.0",
            "_view_name": "LayoutView",
            "align_content": null,
            "align_items": null,
            "align_self": null,
            "border": null,
            "bottom": null,
            "display": null,
            "flex": null,
            "flex_flow": null,
            "grid_area": null,
            "grid_auto_columns": null,
            "grid_auto_flow": null,
            "grid_auto_rows": null,
            "grid_column": null,
            "grid_gap": null,
            "grid_row": null,
            "grid_template_areas": null,
            "grid_template_columns": null,
            "grid_template_rows": null,
            "height": null,
            "justify_content": null,
            "justify_items": null,
            "left": null,
            "margin": null,
            "max_height": null,
            "max_width": null,
            "min_height": null,
            "min_width": null,
            "object_fit": null,
            "object_position": null,
            "order": null,
            "overflow": null,
            "overflow_x": null,
            "overflow_y": null,
            "padding": null,
            "right": null,
            "top": null,
            "visibility": null,
            "width": null
          }
        },
        "340048e5540041c8ae6f8038aeee0d12": {
          "model_module": "@jupyter-widgets/controls",
          "model_name": "ProgressStyleModel",
          "model_module_version": "1.5.0",
          "state": {
            "_model_module": "@jupyter-widgets/controls",
            "_model_module_version": "1.5.0",
            "_model_name": "ProgressStyleModel",
            "_view_count": null,
            "_view_module": "@jupyter-widgets/base",
            "_view_module_version": "1.2.0",
            "_view_name": "StyleView",
            "bar_color": null,
            "description_width": ""
          }
        },
        "df2c3c09bd9d46e9ab46d9e91b848f58": {
          "model_module": "@jupyter-widgets/base",
          "model_name": "LayoutModel",
          "model_module_version": "1.2.0",
          "state": {
            "_model_module": "@jupyter-widgets/base",
            "_model_module_version": "1.2.0",
            "_model_name": "LayoutModel",
            "_view_count": null,
            "_view_module": "@jupyter-widgets/base",
            "_view_module_version": "1.2.0",
            "_view_name": "LayoutView",
            "align_content": null,
            "align_items": null,
            "align_self": null,
            "border": null,
            "bottom": null,
            "display": null,
            "flex": null,
            "flex_flow": null,
            "grid_area": null,
            "grid_auto_columns": null,
            "grid_auto_flow": null,
            "grid_auto_rows": null,
            "grid_column": null,
            "grid_gap": null,
            "grid_row": null,
            "grid_template_areas": null,
            "grid_template_columns": null,
            "grid_template_rows": null,
            "height": null,
            "justify_content": null,
            "justify_items": null,
            "left": null,
            "margin": null,
            "max_height": null,
            "max_width": null,
            "min_height": null,
            "min_width": null,
            "object_fit": null,
            "object_position": null,
            "order": null,
            "overflow": null,
            "overflow_x": null,
            "overflow_y": null,
            "padding": null,
            "right": null,
            "top": null,
            "visibility": null,
            "width": null
          }
        },
        "d431d986376e4b6d9c5e3278ea27aa7c": {
          "model_module": "@jupyter-widgets/controls",
          "model_name": "DescriptionStyleModel",
          "model_module_version": "1.5.0",
          "state": {
            "_model_module": "@jupyter-widgets/controls",
            "_model_module_version": "1.5.0",
            "_model_name": "DescriptionStyleModel",
            "_view_count": null,
            "_view_module": "@jupyter-widgets/base",
            "_view_module_version": "1.2.0",
            "_view_name": "StyleView",
            "description_width": ""
          }
        },
        "a4f6207cdc744125a6081ed8f401896b": {
          "model_module": "@jupyter-widgets/controls",
          "model_name": "HBoxModel",
          "model_module_version": "1.5.0",
          "state": {
            "_dom_classes": [],
            "_model_module": "@jupyter-widgets/controls",
            "_model_module_version": "1.5.0",
            "_model_name": "HBoxModel",
            "_view_count": null,
            "_view_module": "@jupyter-widgets/controls",
            "_view_module_version": "1.5.0",
            "_view_name": "HBoxView",
            "box_style": "",
            "children": [
              "IPY_MODEL_982340294f404fb89aa88131552881b6",
              "IPY_MODEL_cce1c21003014bc483e5a65bf923bd8e",
              "IPY_MODEL_0c143d2df91a405599269a4434ce3493"
            ],
            "layout": "IPY_MODEL_3ee89653dd7749d8bcde9e0cc85eeab8"
          }
        },
        "982340294f404fb89aa88131552881b6": {
          "model_module": "@jupyter-widgets/controls",
          "model_name": "HTMLModel",
          "model_module_version": "1.5.0",
          "state": {
            "_dom_classes": [],
            "_model_module": "@jupyter-widgets/controls",
            "_model_module_version": "1.5.0",
            "_model_name": "HTMLModel",
            "_view_count": null,
            "_view_module": "@jupyter-widgets/controls",
            "_view_module_version": "1.5.0",
            "_view_name": "HTMLView",
            "description": "",
            "description_tooltip": null,
            "layout": "IPY_MODEL_c5902c37de764976a6a0f2dfac1298a3",
            "placeholder": "​",
            "style": "IPY_MODEL_d7f116b4cb9349eaa55c8df6b146c943",
            "value": "Downloading: 100%"
          }
        },
        "cce1c21003014bc483e5a65bf923bd8e": {
          "model_module": "@jupyter-widgets/controls",
          "model_name": "FloatProgressModel",
          "model_module_version": "1.5.0",
          "state": {
            "_dom_classes": [],
            "_model_module": "@jupyter-widgets/controls",
            "_model_module_version": "1.5.0",
            "_model_name": "FloatProgressModel",
            "_view_count": null,
            "_view_module": "@jupyter-widgets/controls",
            "_view_module_version": "1.5.0",
            "_view_name": "ProgressView",
            "bar_style": "success",
            "description": "",
            "description_tooltip": null,
            "layout": "IPY_MODEL_dd88c45e9e2843e7bfb38c040020a01a",
            "max": 481,
            "min": 0,
            "orientation": "horizontal",
            "style": "IPY_MODEL_637ccb9f846b4410afd7b70c8b2ce764",
            "value": 481
          }
        },
        "0c143d2df91a405599269a4434ce3493": {
          "model_module": "@jupyter-widgets/controls",
          "model_name": "HTMLModel",
          "model_module_version": "1.5.0",
          "state": {
            "_dom_classes": [],
            "_model_module": "@jupyter-widgets/controls",
            "_model_module_version": "1.5.0",
            "_model_name": "HTMLModel",
            "_view_count": null,
            "_view_module": "@jupyter-widgets/controls",
            "_view_module_version": "1.5.0",
            "_view_name": "HTMLView",
            "description": "",
            "description_tooltip": null,
            "layout": "IPY_MODEL_9c15e1527e6946578a8f2eae11abd743",
            "placeholder": "​",
            "style": "IPY_MODEL_437d4788ef464fbcbdafdfe5d54fabd7",
            "value": " 481/481 [00:00&lt;00:00, 9.17kB/s]"
          }
        },
        "3ee89653dd7749d8bcde9e0cc85eeab8": {
          "model_module": "@jupyter-widgets/base",
          "model_name": "LayoutModel",
          "model_module_version": "1.2.0",
          "state": {
            "_model_module": "@jupyter-widgets/base",
            "_model_module_version": "1.2.0",
            "_model_name": "LayoutModel",
            "_view_count": null,
            "_view_module": "@jupyter-widgets/base",
            "_view_module_version": "1.2.0",
            "_view_name": "LayoutView",
            "align_content": null,
            "align_items": null,
            "align_self": null,
            "border": null,
            "bottom": null,
            "display": null,
            "flex": null,
            "flex_flow": null,
            "grid_area": null,
            "grid_auto_columns": null,
            "grid_auto_flow": null,
            "grid_auto_rows": null,
            "grid_column": null,
            "grid_gap": null,
            "grid_row": null,
            "grid_template_areas": null,
            "grid_template_columns": null,
            "grid_template_rows": null,
            "height": null,
            "justify_content": null,
            "justify_items": null,
            "left": null,
            "margin": null,
            "max_height": null,
            "max_width": null,
            "min_height": null,
            "min_width": null,
            "object_fit": null,
            "object_position": null,
            "order": null,
            "overflow": null,
            "overflow_x": null,
            "overflow_y": null,
            "padding": null,
            "right": null,
            "top": null,
            "visibility": null,
            "width": null
          }
        },
        "c5902c37de764976a6a0f2dfac1298a3": {
          "model_module": "@jupyter-widgets/base",
          "model_name": "LayoutModel",
          "model_module_version": "1.2.0",
          "state": {
            "_model_module": "@jupyter-widgets/base",
            "_model_module_version": "1.2.0",
            "_model_name": "LayoutModel",
            "_view_count": null,
            "_view_module": "@jupyter-widgets/base",
            "_view_module_version": "1.2.0",
            "_view_name": "LayoutView",
            "align_content": null,
            "align_items": null,
            "align_self": null,
            "border": null,
            "bottom": null,
            "display": null,
            "flex": null,
            "flex_flow": null,
            "grid_area": null,
            "grid_auto_columns": null,
            "grid_auto_flow": null,
            "grid_auto_rows": null,
            "grid_column": null,
            "grid_gap": null,
            "grid_row": null,
            "grid_template_areas": null,
            "grid_template_columns": null,
            "grid_template_rows": null,
            "height": null,
            "justify_content": null,
            "justify_items": null,
            "left": null,
            "margin": null,
            "max_height": null,
            "max_width": null,
            "min_height": null,
            "min_width": null,
            "object_fit": null,
            "object_position": null,
            "order": null,
            "overflow": null,
            "overflow_x": null,
            "overflow_y": null,
            "padding": null,
            "right": null,
            "top": null,
            "visibility": null,
            "width": null
          }
        },
        "d7f116b4cb9349eaa55c8df6b146c943": {
          "model_module": "@jupyter-widgets/controls",
          "model_name": "DescriptionStyleModel",
          "model_module_version": "1.5.0",
          "state": {
            "_model_module": "@jupyter-widgets/controls",
            "_model_module_version": "1.5.0",
            "_model_name": "DescriptionStyleModel",
            "_view_count": null,
            "_view_module": "@jupyter-widgets/base",
            "_view_module_version": "1.2.0",
            "_view_name": "StyleView",
            "description_width": ""
          }
        },
        "dd88c45e9e2843e7bfb38c040020a01a": {
          "model_module": "@jupyter-widgets/base",
          "model_name": "LayoutModel",
          "model_module_version": "1.2.0",
          "state": {
            "_model_module": "@jupyter-widgets/base",
            "_model_module_version": "1.2.0",
            "_model_name": "LayoutModel",
            "_view_count": null,
            "_view_module": "@jupyter-widgets/base",
            "_view_module_version": "1.2.0",
            "_view_name": "LayoutView",
            "align_content": null,
            "align_items": null,
            "align_self": null,
            "border": null,
            "bottom": null,
            "display": null,
            "flex": null,
            "flex_flow": null,
            "grid_area": null,
            "grid_auto_columns": null,
            "grid_auto_flow": null,
            "grid_auto_rows": null,
            "grid_column": null,
            "grid_gap": null,
            "grid_row": null,
            "grid_template_areas": null,
            "grid_template_columns": null,
            "grid_template_rows": null,
            "height": null,
            "justify_content": null,
            "justify_items": null,
            "left": null,
            "margin": null,
            "max_height": null,
            "max_width": null,
            "min_height": null,
            "min_width": null,
            "object_fit": null,
            "object_position": null,
            "order": null,
            "overflow": null,
            "overflow_x": null,
            "overflow_y": null,
            "padding": null,
            "right": null,
            "top": null,
            "visibility": null,
            "width": null
          }
        },
        "637ccb9f846b4410afd7b70c8b2ce764": {
          "model_module": "@jupyter-widgets/controls",
          "model_name": "ProgressStyleModel",
          "model_module_version": "1.5.0",
          "state": {
            "_model_module": "@jupyter-widgets/controls",
            "_model_module_version": "1.5.0",
            "_model_name": "ProgressStyleModel",
            "_view_count": null,
            "_view_module": "@jupyter-widgets/base",
            "_view_module_version": "1.2.0",
            "_view_name": "StyleView",
            "bar_color": null,
            "description_width": ""
          }
        },
        "9c15e1527e6946578a8f2eae11abd743": {
          "model_module": "@jupyter-widgets/base",
          "model_name": "LayoutModel",
          "model_module_version": "1.2.0",
          "state": {
            "_model_module": "@jupyter-widgets/base",
            "_model_module_version": "1.2.0",
            "_model_name": "LayoutModel",
            "_view_count": null,
            "_view_module": "@jupyter-widgets/base",
            "_view_module_version": "1.2.0",
            "_view_name": "LayoutView",
            "align_content": null,
            "align_items": null,
            "align_self": null,
            "border": null,
            "bottom": null,
            "display": null,
            "flex": null,
            "flex_flow": null,
            "grid_area": null,
            "grid_auto_columns": null,
            "grid_auto_flow": null,
            "grid_auto_rows": null,
            "grid_column": null,
            "grid_gap": null,
            "grid_row": null,
            "grid_template_areas": null,
            "grid_template_columns": null,
            "grid_template_rows": null,
            "height": null,
            "justify_content": null,
            "justify_items": null,
            "left": null,
            "margin": null,
            "max_height": null,
            "max_width": null,
            "min_height": null,
            "min_width": null,
            "object_fit": null,
            "object_position": null,
            "order": null,
            "overflow": null,
            "overflow_x": null,
            "overflow_y": null,
            "padding": null,
            "right": null,
            "top": null,
            "visibility": null,
            "width": null
          }
        },
        "437d4788ef464fbcbdafdfe5d54fabd7": {
          "model_module": "@jupyter-widgets/controls",
          "model_name": "DescriptionStyleModel",
          "model_module_version": "1.5.0",
          "state": {
            "_model_module": "@jupyter-widgets/controls",
            "_model_module_version": "1.5.0",
            "_model_name": "DescriptionStyleModel",
            "_view_count": null,
            "_view_module": "@jupyter-widgets/base",
            "_view_module_version": "1.2.0",
            "_view_name": "StyleView",
            "description_width": ""
          }
        },
        "1d60bff766a444958283ac3f16588b3b": {
          "model_module": "@jupyter-widgets/controls",
          "model_name": "HBoxModel",
          "model_module_version": "1.5.0",
          "state": {
            "_dom_classes": [],
            "_model_module": "@jupyter-widgets/controls",
            "_model_module_version": "1.5.0",
            "_model_name": "HBoxModel",
            "_view_count": null,
            "_view_module": "@jupyter-widgets/controls",
            "_view_module_version": "1.5.0",
            "_view_name": "HBoxView",
            "box_style": "",
            "children": [
              "IPY_MODEL_8e2f9cbf2d8f4b91a78c67d9c1da8382",
              "IPY_MODEL_bc27aa4b42d7477690bc10eac62b0d9f",
              "IPY_MODEL_1c89508fec9548b9a0fbcbe9df0d670f"
            ],
            "layout": "IPY_MODEL_d94c022bd95e4f8b80610415984606ca"
          }
        },
        "8e2f9cbf2d8f4b91a78c67d9c1da8382": {
          "model_module": "@jupyter-widgets/controls",
          "model_name": "HTMLModel",
          "model_module_version": "1.5.0",
          "state": {
            "_dom_classes": [],
            "_model_module": "@jupyter-widgets/controls",
            "_model_module_version": "1.5.0",
            "_model_name": "HTMLModel",
            "_view_count": null,
            "_view_module": "@jupyter-widgets/controls",
            "_view_module_version": "1.5.0",
            "_view_name": "HTMLView",
            "description": "",
            "description_tooltip": null,
            "layout": "IPY_MODEL_ac2b1083a5be44ae83d42d71f52ec3b1",
            "placeholder": "​",
            "style": "IPY_MODEL_5b2ce94af09e413a96196344ce43656e",
            "value": "Downloading: 100%"
          }
        },
        "bc27aa4b42d7477690bc10eac62b0d9f": {
          "model_module": "@jupyter-widgets/controls",
          "model_name": "FloatProgressModel",
          "model_module_version": "1.5.0",
          "state": {
            "_dom_classes": [],
            "_model_module": "@jupyter-widgets/controls",
            "_model_module_version": "1.5.0",
            "_model_name": "FloatProgressModel",
            "_view_count": null,
            "_view_module": "@jupyter-widgets/controls",
            "_view_module_version": "1.5.0",
            "_view_name": "ProgressView",
            "bar_style": "success",
            "description": "",
            "description_tooltip": null,
            "layout": "IPY_MODEL_8690fbf0ee304dbc86cf246f1fe1e1cf",
            "max": 501200538,
            "min": 0,
            "orientation": "horizontal",
            "style": "IPY_MODEL_1316cf0c2e3e446a95d70785a35f3938",
            "value": 501200538
          }
        },
        "1c89508fec9548b9a0fbcbe9df0d670f": {
          "model_module": "@jupyter-widgets/controls",
          "model_name": "HTMLModel",
          "model_module_version": "1.5.0",
          "state": {
            "_dom_classes": [],
            "_model_module": "@jupyter-widgets/controls",
            "_model_module_version": "1.5.0",
            "_model_name": "HTMLModel",
            "_view_count": null,
            "_view_module": "@jupyter-widgets/controls",
            "_view_module_version": "1.5.0",
            "_view_name": "HTMLView",
            "description": "",
            "description_tooltip": null,
            "layout": "IPY_MODEL_3ca9ba7c6ce0484f8f95116597a787fc",
            "placeholder": "​",
            "style": "IPY_MODEL_b24f12b39fab4d058a6bb21bd10b7d0f",
            "value": " 478M/478M [00:14&lt;00:00, 39.5MB/s]"
          }
        },
        "d94c022bd95e4f8b80610415984606ca": {
          "model_module": "@jupyter-widgets/base",
          "model_name": "LayoutModel",
          "model_module_version": "1.2.0",
          "state": {
            "_model_module": "@jupyter-widgets/base",
            "_model_module_version": "1.2.0",
            "_model_name": "LayoutModel",
            "_view_count": null,
            "_view_module": "@jupyter-widgets/base",
            "_view_module_version": "1.2.0",
            "_view_name": "LayoutView",
            "align_content": null,
            "align_items": null,
            "align_self": null,
            "border": null,
            "bottom": null,
            "display": null,
            "flex": null,
            "flex_flow": null,
            "grid_area": null,
            "grid_auto_columns": null,
            "grid_auto_flow": null,
            "grid_auto_rows": null,
            "grid_column": null,
            "grid_gap": null,
            "grid_row": null,
            "grid_template_areas": null,
            "grid_template_columns": null,
            "grid_template_rows": null,
            "height": null,
            "justify_content": null,
            "justify_items": null,
            "left": null,
            "margin": null,
            "max_height": null,
            "max_width": null,
            "min_height": null,
            "min_width": null,
            "object_fit": null,
            "object_position": null,
            "order": null,
            "overflow": null,
            "overflow_x": null,
            "overflow_y": null,
            "padding": null,
            "right": null,
            "top": null,
            "visibility": null,
            "width": null
          }
        },
        "ac2b1083a5be44ae83d42d71f52ec3b1": {
          "model_module": "@jupyter-widgets/base",
          "model_name": "LayoutModel",
          "model_module_version": "1.2.0",
          "state": {
            "_model_module": "@jupyter-widgets/base",
            "_model_module_version": "1.2.0",
            "_model_name": "LayoutModel",
            "_view_count": null,
            "_view_module": "@jupyter-widgets/base",
            "_view_module_version": "1.2.0",
            "_view_name": "LayoutView",
            "align_content": null,
            "align_items": null,
            "align_self": null,
            "border": null,
            "bottom": null,
            "display": null,
            "flex": null,
            "flex_flow": null,
            "grid_area": null,
            "grid_auto_columns": null,
            "grid_auto_flow": null,
            "grid_auto_rows": null,
            "grid_column": null,
            "grid_gap": null,
            "grid_row": null,
            "grid_template_areas": null,
            "grid_template_columns": null,
            "grid_template_rows": null,
            "height": null,
            "justify_content": null,
            "justify_items": null,
            "left": null,
            "margin": null,
            "max_height": null,
            "max_width": null,
            "min_height": null,
            "min_width": null,
            "object_fit": null,
            "object_position": null,
            "order": null,
            "overflow": null,
            "overflow_x": null,
            "overflow_y": null,
            "padding": null,
            "right": null,
            "top": null,
            "visibility": null,
            "width": null
          }
        },
        "5b2ce94af09e413a96196344ce43656e": {
          "model_module": "@jupyter-widgets/controls",
          "model_name": "DescriptionStyleModel",
          "model_module_version": "1.5.0",
          "state": {
            "_model_module": "@jupyter-widgets/controls",
            "_model_module_version": "1.5.0",
            "_model_name": "DescriptionStyleModel",
            "_view_count": null,
            "_view_module": "@jupyter-widgets/base",
            "_view_module_version": "1.2.0",
            "_view_name": "StyleView",
            "description_width": ""
          }
        },
        "8690fbf0ee304dbc86cf246f1fe1e1cf": {
          "model_module": "@jupyter-widgets/base",
          "model_name": "LayoutModel",
          "model_module_version": "1.2.0",
          "state": {
            "_model_module": "@jupyter-widgets/base",
            "_model_module_version": "1.2.0",
            "_model_name": "LayoutModel",
            "_view_count": null,
            "_view_module": "@jupyter-widgets/base",
            "_view_module_version": "1.2.0",
            "_view_name": "LayoutView",
            "align_content": null,
            "align_items": null,
            "align_self": null,
            "border": null,
            "bottom": null,
            "display": null,
            "flex": null,
            "flex_flow": null,
            "grid_area": null,
            "grid_auto_columns": null,
            "grid_auto_flow": null,
            "grid_auto_rows": null,
            "grid_column": null,
            "grid_gap": null,
            "grid_row": null,
            "grid_template_areas": null,
            "grid_template_columns": null,
            "grid_template_rows": null,
            "height": null,
            "justify_content": null,
            "justify_items": null,
            "left": null,
            "margin": null,
            "max_height": null,
            "max_width": null,
            "min_height": null,
            "min_width": null,
            "object_fit": null,
            "object_position": null,
            "order": null,
            "overflow": null,
            "overflow_x": null,
            "overflow_y": null,
            "padding": null,
            "right": null,
            "top": null,
            "visibility": null,
            "width": null
          }
        },
        "1316cf0c2e3e446a95d70785a35f3938": {
          "model_module": "@jupyter-widgets/controls",
          "model_name": "ProgressStyleModel",
          "model_module_version": "1.5.0",
          "state": {
            "_model_module": "@jupyter-widgets/controls",
            "_model_module_version": "1.5.0",
            "_model_name": "ProgressStyleModel",
            "_view_count": null,
            "_view_module": "@jupyter-widgets/base",
            "_view_module_version": "1.2.0",
            "_view_name": "StyleView",
            "bar_color": null,
            "description_width": ""
          }
        },
        "3ca9ba7c6ce0484f8f95116597a787fc": {
          "model_module": "@jupyter-widgets/base",
          "model_name": "LayoutModel",
          "model_module_version": "1.2.0",
          "state": {
            "_model_module": "@jupyter-widgets/base",
            "_model_module_version": "1.2.0",
            "_model_name": "LayoutModel",
            "_view_count": null,
            "_view_module": "@jupyter-widgets/base",
            "_view_module_version": "1.2.0",
            "_view_name": "LayoutView",
            "align_content": null,
            "align_items": null,
            "align_self": null,
            "border": null,
            "bottom": null,
            "display": null,
            "flex": null,
            "flex_flow": null,
            "grid_area": null,
            "grid_auto_columns": null,
            "grid_auto_flow": null,
            "grid_auto_rows": null,
            "grid_column": null,
            "grid_gap": null,
            "grid_row": null,
            "grid_template_areas": null,
            "grid_template_columns": null,
            "grid_template_rows": null,
            "height": null,
            "justify_content": null,
            "justify_items": null,
            "left": null,
            "margin": null,
            "max_height": null,
            "max_width": null,
            "min_height": null,
            "min_width": null,
            "object_fit": null,
            "object_position": null,
            "order": null,
            "overflow": null,
            "overflow_x": null,
            "overflow_y": null,
            "padding": null,
            "right": null,
            "top": null,
            "visibility": null,
            "width": null
          }
        },
        "b24f12b39fab4d058a6bb21bd10b7d0f": {
          "model_module": "@jupyter-widgets/controls",
          "model_name": "DescriptionStyleModel",
          "model_module_version": "1.5.0",
          "state": {
            "_model_module": "@jupyter-widgets/controls",
            "_model_module_version": "1.5.0",
            "_model_name": "DescriptionStyleModel",
            "_view_count": null,
            "_view_module": "@jupyter-widgets/base",
            "_view_module_version": "1.2.0",
            "_view_name": "StyleView",
            "description_width": ""
          }
        }
      }
    }
  },
  "cells": [
    {
      "cell_type": "markdown",
      "metadata": {
        "id": "view-in-github",
        "colab_type": "text"
      },
      "source": [
        "<a href=\"https://colab.research.google.com/github/Taedriel/ZSL-v2/blob/wordEmbedding/WordsEmbeddings.ipynb\" target=\"_parent\"><img src=\"https://colab.research.google.com/assets/colab-badge.svg\" alt=\"Open In Colab\"/></a>"
      ]
    },
    {
      "cell_type": "markdown",
      "source": [
        "# Preparation part"
      ],
      "metadata": {
        "id": "bYtbXyM-iE1n"
      }
    },
    {
      "cell_type": "markdown",
      "source": [
        "## import stuff\n"
      ],
      "metadata": {
        "id": "7fqDjGPZE1hr"
      }
    },
    {
      "cell_type": "code",
      "source": [
        "!yes | pip install transformers wget \"wikipedia>=1.4.0\" unzip mxnet gluonnlp \"scipy>=1.7\" scikit-bio wikipedia2vec --quiet --upgrade\n",
        "!mkdir -p temp article"
      ],
      "metadata": {
        "id": "HEq14T6Nl535"
      },
      "execution_count": 304,
      "outputs": []
    },
    {
      "cell_type": "code",
      "source": [
        "import numpy as  np\n",
        "import torch\n",
        "from transformers import BertTokenizer, BertModel, RobertaModel, RobertaTokenizer\n",
        "import tensorflow as tf\n",
        "import gluonnlp as nlp \n",
        "import nltk\n",
        "nltk.download('omw-1.4')\n",
        "nltk.download('wordnet')\n",
        "from nltk.corpus import wordnet\n",
        "\n",
        "import matplotlib as mpl\n",
        "import matplotlib.pyplot as plt\n",
        "\n",
        "from wikipedia2vec import Wikipedia2Vec\n",
        "import wikipedia\n",
        "wikipedia.set_rate_limiting(True)\n",
        "\n",
        "import gc\n",
        "import traceback\n",
        "import pickle\n",
        "import json\n",
        "import math\n",
        "\n",
        "from tqdm import tqdm\n",
        "from typing import List, Tuple, Dict, Callable\n",
        "from os.path import exists, join, abspath\n",
        "from os import system\n",
        "from enum import Enum\n",
        "from time import perf_counter\n",
        "from scipy.spatial.distance import cityblock\n",
        "\n",
        "from scipy.stats import SpearmanRConstantInputWarning\n",
        "from scipy.stats import spearmanr\n",
        "from skbio import DistanceMatrix\n",
        "from skbio.tree import nj"
      ],
      "metadata": {
        "id": "spXWSv2iW9i5",
        "outputId": "9ae6c198-9285-42e1-cb0b-4b7eab3230ae",
        "colab": {
          "base_uri": "https://localhost:8080/"
        }
      },
      "execution_count": 305,
      "outputs": [
        {
          "output_type": "stream",
          "name": "stderr",
          "text": [
            "[nltk_data] Downloading package omw-1.4 to /root/nltk_data...\n",
            "[nltk_data]   Package omw-1.4 is already up-to-date!\n",
            "[nltk_data] Downloading package wordnet to /root/nltk_data...\n",
            "[nltk_data]   Package wordnet is already up-to-date!\n"
          ]
        }
      ]
    },
    {
      "cell_type": "code",
      "source": [
        "import logging\n",
        "import warnings\n",
        "from transformers import logging as transformer_logging\n",
        "\n",
        "FORMAT = '%(levelname)-10s %(message)s'\n",
        "logging.basicConfig(format=FORMAT, level = logging.INFO, filename = \"WordsEmbeddings.log\" )\n",
        "\n",
        "transformer_logging.set_verbosity_error()\n",
        "\n",
        "warnings.filterwarnings(\"ignore\", category=UserWarning, module='wikipedia')"
      ],
      "metadata": {
        "id": "MPgmkR7MdZne"
      },
      "execution_count": 306,
      "outputs": []
    },
    {
      "cell_type": "markdown",
      "source": [
        "## Utils classes"
      ],
      "metadata": {
        "id": "kjt7fI8Olf5x"
      }
    },
    {
      "cell_type": "markdown",
      "source": [
        "### Usefull functions ✅"
      ],
      "metadata": {
        "id": "W3-C-5ztMDZz"
      }
    },
    {
      "cell_type": "code",
      "source": [
        "def dict2csv(filename : str, embeddings : Dict[str, List[float]]) -> None:\n",
        "    \"\"\" write a dict of embeddings under a .CSV file\n",
        "\n",
        "    the .CSV file is construct with a header looking like this :\n",
        "    \\tembeddings\\t | 0 | 1 | 2 | 3 | ...\n",
        "    where each line contain an embeddings for the word in the first row\n",
        "    Args:\n",
        "        filename (str) : a path to the file where the .csv is to be written\n",
        "        embeddings (Dict[str, List[float]]): a dictionnary of embeddings\n",
        "\n",
        "    \"\"\"\n",
        "    logging.info(f\"writing dict to {filename} file\")\n",
        "    try:\n",
        "        f = open(filename, \"w\")\n",
        "    except OSError:\n",
        "        raise OSError(\"Could not open file\")\n",
        "\n",
        "    dimension_number = len(next(iter(embeddings.values())))\n",
        "    with f:\n",
        "        print(\"embeddings\", *[str(i) for i in range(dimension_number)], sep=\",\", file=f)\n",
        "        for tag, embedding in embeddings.items():\n",
        "            print(tag, *list(map(lambda x: str(float(x)), embedding)), sep=\",\", file=f)\n",
        "    logging.info(\"done\")\n",
        "\n",
        "def sim2dist(mat : List[List[float]], func : Callable[[float], float] \\\n",
        "             = lambda x: 1 - x, hollow : bool = True) -> List[List[float]]:\n",
        "    \"\"\" map the function func to each elements in the matrix\n",
        "\n",
        "    apply the lambda function func to each element of the matrix. if hollow is set \n",
        "    to True, set the diagonal of the matrix to 0.\n",
        "    Args:\n",
        "        mat (List[List[float]]) : a matrix of number\n",
        "        func (Callable[[float], float]) : a simple function to apply to each elem of the matrix\n",
        "        hollow (bool) : whether to consider the diagonal of the matrix or not\n",
        "    \n",
        "    \"\"\"\n",
        "    logging.info(f\"converting similarity matrix to distance matrix\")\n",
        "    inv_data = [[0 for i in range(len(mat[0]))] for j in range(len(mat))]\n",
        "\n",
        "    for i, elem in enumerate(mat):\n",
        "        for j, case in enumerate(elem):\n",
        "            if i == j and hollow: \n",
        "                inv_data[i][j] = 0\n",
        "            else:\n",
        "                inv_data[i][j] = func(case)\n",
        "                \n",
        "    logging.info(\"done\")\n",
        "    return inv_data\n",
        "\n",
        "def print_mat(mat : List[List[float]], format_function : Callable[[float], str]=lambda x: x) -> None:\n",
        "    \"\"\" print a matrice on stdout\n",
        "\n",
        "    format each number in the matrice using the format_function\n",
        "    Args:\n",
        "        mat (List[List[float]]) : a matrix of number\n",
        "        format_function (Callable[[float], str]) : a simple format function to display numbers froms the matrix\n",
        "    \"\"\"\n",
        "    for line in mat:\n",
        "        for case in line:\n",
        "            print(f\"{format_function(case):8}\", end=\"\")\n",
        "        print()"
      ],
      "metadata": {
        "id": "COZfnM3QNwUc"
      },
      "execution_count": 307,
      "outputs": []
    },
    {
      "cell_type": "markdown",
      "source": [
        "### Strategy ✅\n",
        "\n"
      ],
      "metadata": {
        "id": "-Wd47Q50gPSS"
      }
    },
    {
      "cell_type": "code",
      "source": [
        "class BERTMergeStrategy:\n",
        "    \"\"\" strategy to extract BERT embeddings\n",
        "    \n",
        "    different approach exist, \n",
        "    see https://raw.githubusercontent.com/lbourdois/blog/master/assets/images/BERT/bert-feature-extraction-contextualized-embeddings.png\n",
        "    for more possible strategy\n",
        "    \"\"\"\n",
        "\n",
        "    def merge(self, vector : List[List[float]]) -> torch.Tensor:\n",
        "        raise NotImplementedError\n",
        "\n",
        "class Sum4LastLayers(BERTMergeStrategy):\n",
        "\n",
        "    def merge(self, vector : List[List[float]]) -> torch.Tensor:\n",
        "        return torch.sum(vector[-4:], dim = 0)\n",
        "\n",
        "class Concat4LastLayer(BERTMergeStrategy):\n",
        "\n",
        "    def merge(self, vector : List[List[float]]) -> torch.Tensor:\n",
        "        return torch.concat(vector[-4:], dim = 0)\n",
        "\n",
        "class SimilarityStrategy:\n",
        "    \"\"\"strategy to compute similarity between embeddings. Cosine similarity should \n",
        "    be the only valid one in word embeddings, other aren't relevant\n",
        "    \"\"\"\n",
        "\n",
        "    def sim(self, embed1 : List[float], embed2 : List[float]) -> float:\n",
        "        raise NotImplementedError\n",
        "\n",
        "class CosineSim(SimilarityStrategy):\n",
        "\n",
        "    def sim(self, embed1 : List[float], embed2 : List[float]) -> float:\n",
        "        cos = torch.nn.CosineSimilarity(dim=0)\n",
        "        return cos(embed1, embed2)\n",
        "\n",
        "class EuclidianDistSim(SimilarityStrategy):\n",
        "\n",
        "    def sim(self, embed1 : List[float], embed2 : List[float]) -> float:\n",
        "        return np.linalg.norm(embed1-embed2)\n",
        "\n",
        "class ManhattanDistSim(SimilarityStrategy):\n",
        "\n",
        "    def sim(self, embed1 : List[float], embed2 : List[float]) -> float:\n",
        "        return cityblock(embed1, embed2)"
      ],
      "metadata": {
        "id": "LC8LdC2ngRtx"
      },
      "execution_count": 308,
      "outputs": []
    },
    {
      "cell_type": "markdown",
      "source": [
        "### Article"
      ],
      "metadata": {
        "id": "7G26rtCEfQny"
      }
    },
    {
      "cell_type": "code",
      "source": [
        "class customArticle:\n",
        "    \"\"\" store a wikipedia article for further processing by models\"\"\"\n",
        "\n",
        "    def __init__(self, index : int, title : str, realtitle : str, summary : str, ambiguous : bool):\n",
        "        self.index : int = index\n",
        "        self.title : str = title\n",
        "        self.realtitle : str = realtitle\n",
        "        self.summary :str = summary\n",
        "        self.ambiguous :bool = ambiguous\n",
        "\n",
        "class ArticleRetriever:\n",
        "\n",
        "    \"\"\" Class in charge of retrieveing article from different sources and store them in orer\n",
        "    to not re retrieve them. \n",
        "    \n",
        "    Act as a proxy between wikipedia and the model. This class save all the article \n",
        "    retrieve in a dict using the name given. Further call to this retriever will \n",
        "    then load the previously saved file if it hasn't been deleted.\n",
        "    \"\"\"\n",
        "\n",
        "    article_dir = \"./article\"\n",
        "\n",
        "    def __init__(self, name : str = None, list_title : List[str] = []):\n",
        "\n",
        "        self.name : str = name\n",
        "        if self.name is None:\n",
        "            self.name = \"temp\"\n",
        "\n",
        "        self.list_title : List[str] = list_title\n",
        "        self.modified : bool = False\n",
        "        self._load()\n",
        "\n",
        "    def _load(self):\n",
        "        if not exists(self.get_filename()):\n",
        "            self.articles_map = {}\n",
        "            logging.info(f\"creating file {self.get_filename()}\")\n",
        "        else:\n",
        "            with open(self.get_filename(), \"rb\") as mapfile:\n",
        "                self.articles_map = pickle.load(mapfile)\n",
        "                assert(type(self.articles_map) == type(dict()))\n",
        "            logging.info(f\"loading file {self.get_filename()} with {len(self.articles_map)} articles\")\n",
        "    \n",
        "    def set_list_vocab(self, new_name : str, list_title : List[str]):\n",
        "        logging.info(\"changing vocab, reloading file...\")\n",
        "        self.list_title : List[str] = list_title\n",
        "        self.name = new_name\n",
        "        self._load()\n",
        "\n",
        "    def get_filename(self) -> str:\n",
        "        \"\"\" return the filename of the file where article are saved\"\"\"\n",
        "        return join(WikipediaArticleRetriever.article_dir, self.name)\n",
        "\n",
        "    def load_article(self, title : str, force_reload : bool = False) -> customArticle:\n",
        "        \"\"\" retrieve an article from wikipedia. If forcce reload is specified, re check the article \n",
        "        is summary isn't present or if article not alread in the dict\"\"\" \n",
        "\n",
        "        if title not in self.articles_map:\n",
        "            self.modified = True\n",
        "            realtitle, summary, ambiguous = self._retrieve_article(title)\n",
        "            self.articles_map[title] = customArticle(len(self.articles_map), title, realtitle, summary, ambiguous)\n",
        "\n",
        "        if title in self.articles_map and self.articles_map[title].summary == None and force_reload:\n",
        "            self.modified = True\n",
        "            realtitle, summary, ambiguous = self._retrieve_article(title)\n",
        "            self.articles_map[title].summary = summary\n",
        "\n",
        "        return self.articles_map[title]\n",
        "\n",
        "    def load_all_articles(self, force_reload : bool = False) -> None:\n",
        "        \"\"\"retrieve all article from the vocab from sources\"\"\"\n",
        "        \n",
        "        logging.info(f\"Starting loading articles... [Force reload : {force_reload}]\")\n",
        "        nb_success = 0\n",
        "\n",
        "        nb_article = len(self.list_title)\n",
        "        for i, title in tqdm(enumerate(self.list_title), total=nb_article, desc=f\"{'loading articles':30}\"):\n",
        "            self.load_article(title, force_reload)\n",
        "\n",
        "            if self.articles_map[title].summary is not None: \n",
        "                nb_success += 1\n",
        "\n",
        "        logging.info(f\"Finished loading {nb_success} article(s) / {nb_article} ({round(nb_success / nb_article * 100, 1)}%)!\")\n",
        "        return self.modified\n",
        "\n",
        "    def __call__(self, force_reload : bool = False) -> None:\n",
        "        return self.load_all_articles(force_reload)\n",
        "\n",
        "    def _retrieve_article(self, title : str, closed_list : List[str]) -> Tuple[str, str, bool]:\n",
        "        raise NotImplementedError\n",
        "\n",
        "    def get_article(self, title) -> customArticle:\n",
        "        \"\"\"return the article if it's present, else, try to retrieve it\"\"\"\n",
        "\n",
        "        if title not in self.articles_map:\n",
        "            self.load_article(title)\n",
        "\n",
        "        return self.articles_map[title]\n",
        "        \n",
        "    def save(self):\n",
        "        \"\"\"save the articles in a binary format using pickle\"\"\"\n",
        "        logging.info(f\"saving the file {self.get_filename()}\")\n",
        "        with open(self.get_filename(), \"wb\") as mapfile:\n",
        "            pickle.dump(self.articles_map, mapfile)\n",
        "\n",
        "class WikipediaArticleRetriever(ArticleRetriever):\n",
        "\n",
        "    def __init__(self, name: str = None, list_title: List[str] = []):\n",
        "        super().__init__(name, list_title)\n",
        "\n",
        "    def get_filename(self) -> str:\n",
        "        \"\"\" return the filename of the file where article are saved\"\"\"\n",
        "        return join(WikipediaArticleRetriever.article_dir, \"Wiki-\" + self.name)\n",
        "\n",
        "    def _retrieve_article(self, title : str, closed_list : List = []) -> Tuple[str, str, bool]: \n",
        "        closed_list.append(title)\n",
        "        try:\n",
        "            article = wikipedia.page(title, auto_suggest=False, redirect=True)\n",
        "            return (article.title, article.summary, False)\n",
        "\n",
        "        except wikipedia.PageError as e:\n",
        "            search_result = wikipedia.search(title, suggestion = False)\n",
        "\n",
        "            logging.warning(f\"{title} misspelled or article missing. Best find is {search_result[0]}\")\n",
        "            if search_result[0] is not None and search_result[0] not in closed_list:            \n",
        "                return self._retrieve_article(search_result[0], closed_list)  \n",
        "            else: return (None, None, None)\n",
        "\n",
        "        except wikipedia.DisambiguationError as e:\n",
        "            logging.warning(f\"{title} is ambiguous, fallback on {e.options[0]}\")\n",
        "            return (None, None, None)\n",
        "            # if e.options[0] is not None and e.options[0] not in closed_list:\n",
        "            #     res = self._retrieve_article(e.options[0], closed_list)\n",
        "            #     return (res[0], res[1], True)\n",
        "        return (None, None, None)\n",
        "\n",
        "class WordNetArticleRetriever(ArticleRetriever):\n",
        "\n",
        "    def __init__(self, name: str = None, list_title: List[str] = []):\n",
        "        super().__init__(name, list_title)\n",
        "\n",
        "    def get_filename(self) -> str:\n",
        "        \"\"\" return the filename of the file where article are saved\"\"\"\n",
        "        return join(WikipediaArticleRetriever.article_dir, \"Word-\" + self.name)\n",
        "\n",
        "    def _retrieve_article(self, title: str, closed_list : List = []) -> Tuple[str, str, bool]:\n",
        "        result = wordnet.synsets(title)\n",
        "        if len(result) > 0:\n",
        "            return (title, result[0].definition(), True)\n",
        "\n",
        "        return (None, None, None)\n",
        "\n",
        "class ArticleViewer():\n",
        "\n",
        "    def __init__(self, filename):\n",
        "        self.name = filename\n",
        "\n",
        "        if not exists(self.name):\n",
        "            raise FileNotFoundError()\n",
        "        else:\n",
        "            with open(self.name, \"rb\") as mapfile:\n",
        "                self.articles_map = pickle.load(mapfile)\n",
        "\n",
        "    def get(self, title):\n",
        "        return self.articles_map[title]\n",
        "\n",
        "    def get_all_articles(self):\n",
        "        return self.articles_map.keys()\n"
      ],
      "metadata": {
        "id": "QZiZ2Pr-lUiS"
      },
      "execution_count": 309,
      "outputs": []
    },
    {
      "cell_type": "markdown",
      "source": [
        "### Embeddings operations "
      ],
      "metadata": {
        "id": "bw3z2xRJfeYr"
      }
    },
    {
      "cell_type": "code",
      "source": [
        "class EmbeddingsLoader:\n",
        "\n",
        "    \"\"\"class that load an embeddings file to perform operation on it. Base class\n",
        "     for multiple operations such as matrix similarity operations.\n",
        "     \"\"\"\n",
        "\n",
        "    def __init__(self, filename : str):\n",
        "\n",
        "        self.file = filename\n",
        "        self.embeddings = {}\n",
        "\n",
        "        self._load_file()\n",
        "\n",
        "    def _load_file(self):\n",
        "        try:\n",
        "            with open(self.file, \"r\") as f:\n",
        "                lines = f.readlines()\n",
        "                \n",
        "            for line in lines[1:]:\n",
        "                data = line.split(\",\")\n",
        "                self.embeddings[data[0]] = torch.FloatTensor(list(map(float, data[1:])))\n",
        "\n",
        "        except IOError as e:\n",
        "            raise IOError(f\"No file {self.file}\")\n",
        "\n",
        "class SimilarityMatrix(EmbeddingsLoader):\n",
        "\n",
        "    def __init__(self, embeddings : Dict[str, List[float]], strategy : SimilarityStrategy):\n",
        "        super(SimilarityMatrix, self).__init__(embeddings)\n",
        "        self.strategy = strategy\n",
        "        self._create_matrix()\n",
        "        self.computed : bool = False\n",
        "\n",
        "    def _create_matrix(self) -> None:\n",
        "        n_tokens = len(self.embeddings)\n",
        "        self.cosine_sim_matrix : Dict[Dict[float]] = {}\n",
        "        for tag in self.embeddings.keys():\n",
        "            self.cosine_sim_matrix[tag] = {}\n",
        "\n",
        "    def compute_sim(self) -> None:\n",
        "        \"\"\" compute cosine similarity between all vectors \"\"\"\n",
        "\n",
        "        closed_list = []\n",
        "\n",
        "        logging.info(\"Computing cosine similarity, this could take some time...\")\n",
        "        for tag, vector in tqdm(self.embeddings.items(), total = len(self.embeddings), desc=f\"{'computing sim matrix':30}\"):\n",
        "\n",
        "            for otag, other_vector in self.embeddings.items():\n",
        "\n",
        "                if otag == tag: continue\n",
        "                # if (tag, otag) in closed_list or (otag, tag) in closed_list: continue\n",
        "\n",
        "                similarity = self.strategy.sim(vector, other_vector)\n",
        "\n",
        "                self.cosine_sim_matrix[otag][tag] = similarity\n",
        "                self.cosine_sim_matrix[tag][otag] = similarity\n",
        "\n",
        "                # closed_list.append((tag, otag))\n",
        "                # closed_list.append((otag, tag))\n",
        "\n",
        "        self.computed = True\n",
        "\n",
        "    def export_sim_matrix(self, filename):\n",
        "        if not self.computed:\n",
        "            self.compute_sim()\n",
        "        \n",
        "        try:\n",
        "            f = open(filename, \"w\")\n",
        "        except OSError:\n",
        "            raise OSError(\"Could not open file\")\n",
        "\n",
        "        with f:\n",
        "            print(\"/\", *[tag for tag in self.embeddings.keys()], sep = \",\", file = f)\n",
        "\n",
        "            for tag in self.embeddings.keys():\n",
        "                print(tag, *[str(round(float(self.cosine_sim_matrix[tag][otag]), 3)) for otag in self.embeddings.keys()], sep = \",\", file = f)\n",
        "\n",
        "    def get_sim_matrix(self) -> Tuple[List[str], List[List[float]]]:\n",
        "        \"\"\"return the similarity matrix of the embeddings\n",
        "        \"\"\"\n",
        "        if not self.computed:\n",
        "            self.compute_sim()\n",
        "\n",
        "        X = len(self.embeddings)\n",
        "        matrix = [[0 for j in range(X)] for i in range(X)]\n",
        "        ids = []\n",
        "        \n",
        "        for i, tag in enumerate(self.embeddings.keys()):\n",
        "            ids.append(tag)\n",
        "            for j, otag in enumerate(self.embeddings.keys()):\n",
        "                if i == j:\n",
        "                    continue\n",
        "\n",
        "                matrix[i][j] = self.cosine_sim_matrix[tag][otag]\n",
        "                matrix[j][i] = self.cosine_sim_matrix[tag][otag]\n",
        "\n",
        "        return ids, matrix\n",
        "\n",
        "    def sim_between(self, token1 : str, token2 : str) -> float:\n",
        "        v1 = self.embeddings[token1]\n",
        "        v2 = self.embeddings[token2]\n",
        "\n",
        "        if token2 not in self.cosine_sim_matrix[token1] or token1 not in self.cosine_sim_matrix[token2]:\n",
        "            similarity = self.strategy.sim(v1, v2)\n",
        "            self.computed = True\n",
        "\n",
        "            self.cosine_sim_matrix[token1][token2] = similarity\n",
        "            self.cosine_sim_matrix[token1][token2] = similarity\n",
        "\n",
        "        return self.cosine_sim_matrix[token1][token2]"
      ],
      "metadata": {
        "id": "5AxDIhr1rkca"
      },
      "execution_count": 310,
      "outputs": []
    },
    {
      "cell_type": "markdown",
      "source": [
        "### Solver"
      ],
      "metadata": {
        "id": "0bRoDbKafoVa"
      }
    },
    {
      "cell_type": "code",
      "source": [
        "class Solver(EmbeddingsLoader):\n",
        "\n",
        "    DEFAULT_MIN_LIST_RESULT = 10\n",
        "\n",
        "    def __init__(self, embeddings):\n",
        "        super(Solver, self).__init__(embeddings)\n",
        "\n",
        "    def get_nearest_embedding_of(self, embedding, nb = 10):\n",
        "\n",
        "        if nb > len(self.embeddings):\n",
        "            raise Exception(\"nb too high, not enough token\")\n",
        "\n",
        "        nearest = []\n",
        "        for tag, e in self.embeddings.items():\n",
        "\n",
        "            cos = torch.nn.CosineSimilarity(dim=0)\n",
        "            similarity = cos(embedding, e)\n",
        "\n",
        "            nearest.append((tag, similarity))\n",
        "        \n",
        "        nearest.sort(key = lambda tup : tup[1])\n",
        "        return nearest[-1:-nb-1:-1]\n",
        "\n",
        "    def __call__(self, embeddeding, tag=None):\n",
        "        result = self.get_nearest_embedding_of(embeddeding, min(Solver.DEFAULT_MIN_LIST_RESULT, len(self.embeddings)))\n",
        "        if tag is not None:\n",
        "            print(f\"Nearest Word for {tag}:\")\n",
        "        for i in result:\n",
        "            print(f\"\\t{i[0]:12}: {round(float(i[1]) * 100, 3)}%\")\n",
        "    \n",
        "    def score(self, embedding, target):\n",
        "        target_embeddings = self.embeddings[target]\n",
        "\n",
        "        cos = torch.nn.CosineSimilarity(dim=0)\n",
        "        return float(cos(embedding, target_embeddings))\n",
        "\n",
        "    def least_squared_score(self, embedding, target):\n",
        "        target_embeddings = self.embeddings[target]\n",
        "        return float(np.linalg.norm(target_embeddings - embedding))\n",
        "\n",
        "    def mean_squared_score(self, embedding, target):\n",
        "        target_embeddings = self.embeddings[target]\n",
        "        return float(np.square(np.subtract(embedding, target_embeddings)).mean())\n",
        "        "
      ],
      "metadata": {
        "id": "KpVPJ9IxfnC5"
      },
      "execution_count": 311,
      "outputs": []
    },
    {
      "cell_type": "markdown",
      "source": [
        "## Models"
      ],
      "metadata": {
        "id": "nYaqmgXe1-EX"
      }
    },
    {
      "cell_type": "code",
      "source": [
        "class WordToVector:\n",
        "\n",
        "    def __init__(self, list_tags : List[str] = []):\n",
        "        self.list_tags = list_tags\n",
        "        self.embeddings = {}\n",
        "\n",
        "    def set_list_class(self, list_class : List[str]):\n",
        "        self.list_tags = list_class\n",
        "        self.reset_embeddings()\n",
        "\n",
        "    def check_embeddings_exist(self, filename : str, article_ret : WikipediaArticleRetriever):\n",
        "        temp_tags_list = self.list_tags\n",
        "        first_tag = self.list_tags[0]\n",
        "        self.list_tags = [first_tag]\n",
        "\n",
        "        self.convert(article_ret)\n",
        "        try:\n",
        "            loader = EmbeddingsLoader(filename)\n",
        "        except OSError:\n",
        "            self.list_tags = temp_tags_list\n",
        "            return False\n",
        "\n",
        "        first_embedding = self.embeddings[first_tag]\n",
        "        to_compare = loader.embeddings[first_tag]\n",
        "\n",
        "        intersect = set(temp_tags_list) & set(loader.embeddings.keys())\n",
        "\n",
        "        self.list_tags = temp_tags_list\n",
        "        if torch.equal(first_embedding, to_compare) and len(intersect) == len(temp_tags_list):\n",
        "            return True\n",
        "\n",
        "        return False\n",
        "\n",
        "    def convert(self, article_ret : WikipediaArticleRetriever):\n",
        "        return NotImplementedError\n",
        "\n",
        "    def reset_embeddings(self):\n",
        "        self.embeddings.clear()\n",
        "\n",
        "    def get_embedding_of(self, token):\n",
        "        if token not in self.embeddings:\n",
        "            raise Exception(f\"no such token {token}\")\n",
        "        \n",
        "        return self.embeddings[token]\n",
        "\n",
        "    def get_class_list(self):\n",
        "        return self.embeddings.keys()\n",
        "\n",
        "    def export(self, filename):\n",
        "        \"\"\"export all the embeddings in filename under a .csv format.\n",
        "           Raise exception if embeddings hasn't been calculed yet.\"\"\"\n",
        "\n",
        "        if len(self.embeddings) == 0:\n",
        "            raise Exception(\"Tags not converted yet !\")\n",
        "        \n",
        "        dict2csv(filename, self.embeddings)"
      ],
      "metadata": {
        "id": "Q448MeSB7ay8"
      },
      "execution_count": 312,
      "outputs": []
    },
    {
      "cell_type": "markdown",
      "source": [
        "### BERT model"
      ],
      "metadata": {
        "id": "-0g4CJtelYfJ"
      }
    },
    {
      "cell_type": "code",
      "source": [
        "class BERTModel(WordToVector):\n",
        "\n",
        "    temp_dir = \"./temp\"\n",
        "\n",
        "    def __init__(self, list_tag : List[str], big: bool = False, window : int = 100):\n",
        "        super(BERTModel, self).__init__(list_tag)\n",
        "        self.window_size = window\n",
        "\n",
        "        self.model_size = \"bert-large-uncased\" if big else \"bert-base-uncased\"\n",
        "\n",
        "        self.tokenizer = BertTokenizer.from_pretrained(self.model_size, padding=True, truncation=True)\n",
        "        self.model = BertModel.from_pretrained(self.model_size, output_hidden_states = True)\n",
        "\n",
        "        self.merging_strategy = Sum4LastLayers()\n",
        "\n",
        "        self.model.eval()\n",
        "\n",
        "    def _one_pass(self, inputs):\n",
        "        with torch.no_grad():\n",
        "            outputs = self.model(input_ids = inputs[\"input_ids\"], attention_mask = inputs[\"attention_mask\"])\n",
        "\n",
        "        hidden_states = outputs[2]\n",
        "\n",
        "        # [# layers, # batches, # tokens, # features] ==> [# tokens, # layers, # features]\n",
        "        token_embeddings = torch.stack(hidden_states, dim=0)\n",
        "        token_embeddings = torch.squeeze(token_embeddings, dim=1)\n",
        "        token_embeddings = token_embeddings.permute(1,0,2)\n",
        "\n",
        "        return self.merging_strategy.merge(token_embeddings[0])\n",
        "\n",
        "    def convert(self, article_ret : WikipediaArticleRetriever):\n",
        "        \"\"\" convert all word in their embeddings\"\"\"\n",
        "\n",
        "        if len(self.list_tags) == 0:\n",
        "            raise Exception(\"no tags yet !\")\n",
        "\n",
        "        logging.info(\"Starting converting tokens...\")\n",
        "        nb_token = len(self.list_tags)\n",
        "        for i, tag in tqdm(enumerate(self.list_tags), total = nb_token, desc=f\"{'converting to embedding':30}\"):\n",
        "            \n",
        "            if tag in self.embeddings: continue\n",
        "\n",
        "            article = article_ret.get_article(tag)\n",
        "            if article.summary is None or self.window_size == 0:\n",
        "                self.embeddings[tag] = self._one_pass(self.tokenizer(tag, return_tensors = \"pt\"))\n",
        "                continue\n",
        "\n",
        "            sub_ids = self.tokenizer.encode(tag + \". \" + article.summary)[0:self.window_size]\n",
        "            subinputs = {   \"input_ids\": torch.IntTensor(sub_ids).unsqueeze(0), \\\n",
        "                            \"token_type_ids\": torch.IntTensor([0 for k in range(len(sub_ids))]).unsqueeze(0), \\\n",
        "                            \"attention_mask\": torch.IntTensor([1 for k in range(len(sub_ids))]).unsqueeze(0)  }\n",
        "\n",
        "            self.embeddings[tag] = self._one_pass(subinputs)\n",
        "\n"
      ],
      "metadata": {
        "id": "UVJUSGWQorYj"
      },
      "execution_count": 313,
      "outputs": []
    },
    {
      "cell_type": "markdown",
      "source": [
        "### RoBERTa model"
      ],
      "metadata": {
        "id": "eGVvWFvtlqLx"
      }
    },
    {
      "cell_type": "code",
      "source": [
        "class ROBERTAModel(BERTModel):\n",
        "\n",
        "    def __init__(self, list_tag : List[str], big: bool = False, window : int = 100):\n",
        "        WordToVector.__init__(self, list_tag)\n",
        "        self.window_size = window\n",
        "\n",
        "        self.model_size = \"roberta-large\" if big else \"roberta-base\"\n",
        "\n",
        "        self.tokenizer = RobertaTokenizer.from_pretrained(self.model_size, padding=True, truncation=True)\n",
        "        self.model = RobertaModel.from_pretrained(self.model_size, output_hidden_states = True)\n",
        "\n",
        "        self.merging_strategy = Sum4LastLayers()\n",
        "\n",
        "        self.model.eval()"
      ],
      "metadata": {
        "id": "7oWZOwG-mCYI"
      },
      "execution_count": 314,
      "outputs": []
    },
    {
      "cell_type": "markdown",
      "source": [
        "### DocBERTModel model"
      ],
      "metadata": {
        "id": "GqQ1HgNyz-zm"
      }
    },
    {
      "cell_type": "code",
      "source": [
        "class DocBERTModel(BERTModel):\n",
        "\n",
        "    def __init__(self, list_tag : List[str], big : bool = False):\n",
        "        WordToVector.__init__(self, list_tag)\n",
        "        self.window_size = \"document\"\n",
        "\n",
        "        self.model_size = \"bert-large-uncased\" if big else \"bert-base-uncased\"\n",
        "\n",
        "        self.tokenizer = BertTokenizer.from_pretrained(self.model_size, padding=True, truncation=True)\n",
        "        self.model = BertModel.from_pretrained(self.model_size, output_hidden_states = True)\n",
        "\n",
        "        self.max_size = self.tokenizer.model_max_length\n",
        "        self.merging_strategy = Sum4LastLayers()\n",
        "\n",
        "        self.model.eval()\n",
        "\n",
        "    def _one_pass(self, subinputs):\n",
        "        with torch.no_grad():\n",
        "            outputs = self.model(input_ids = subinputs[\"input_ids\"], attention_mask = subinputs[\"attention_mask\"])\n",
        "\n",
        "        hidden_states = outputs[2]\n",
        "\n",
        "        # [# layers, # batches, # tokens, # features] ==> [# tokens, # layers, # features]\n",
        "        token_embeddings = torch.stack(hidden_states, dim=0)\n",
        "        token_embeddings = torch.squeeze(token_embeddings, dim=1)\n",
        "        token_embeddings = token_embeddings.permute(1,0,2)\n",
        "\n",
        "        return self.merging_strategy.merge(token_embeddings[0])\n",
        "\n",
        "\n",
        "    def convert(self, article_ret):\n",
        "        \"\"\" convert all word in their embeddings\"\"\"\n",
        "\n",
        "        if len(self.list_tags) == 0:\n",
        "            raise Exception(\"no tags yet !\")\n",
        "\n",
        "        logging.info(\"Starting converting tokens...\")\n",
        "        nb_token = len(self.list_tags)\n",
        "        for i, tag in tqdm(enumerate(self.list_tags), total = nb_token, desc=f\"{'converting to embedding':30}\"):\n",
        "            \n",
        "            if tag in self.embeddings: continue\n",
        "\n",
        "            article = article_ret.get_article(tag)\n",
        "\n",
        "            if article.summary is None:\n",
        "                logging.warning(f\"no article for {tag}\")\n",
        "                self.embeddings[tag] = self._one_pass(self.tokenizer(tag, return_tensors = \"pt\"))\n",
        "                continue\n",
        "\n",
        "            torch_cls = []\n",
        "\n",
        "            ids = self.tokenizer.encode(article.summary)\n",
        "            nb_token = len(ids)\n",
        "\n",
        "            if nb_token < self.max_size:\n",
        "                self.embeddings[tag] = self._one_pass(self.tokenizer(tag, return_tensors = \"pt\"))\n",
        "                continue\n",
        "\n",
        "            nb_pass = math.ceil(nb_token / self.max_size)\n",
        "            logging.info(f\"{tag} is {nb_pass} pass\")\n",
        "\n",
        "            stop = 50\n",
        "            for j in range(nb_pass):\n",
        "                start = stop - 50\n",
        "                stop = min(nb_token, start + self.max_size)\n",
        "                \n",
        "                sub_ids = ids[start:stop]\n",
        "\n",
        "                subinputs = { \"input_ids\": torch.IntTensor(sub_ids).unsqueeze(0), \\\n",
        "                            \"token_type_ids\": torch.IntTensor([0 for k in range(len(sub_ids))]).unsqueeze(0), \\\n",
        "                            \"attention_mask\": torch.IntTensor([1 for k in range(len(sub_ids))]).unsqueeze(0)  }\n",
        "                torch_cls.append(self._one_pass(subinputs))\n",
        "                if stop == nb_token: break\n",
        "\n",
        "            self.embeddings[tag] = torch.mean(torch.stack(tuple(t for t in torch_cls)), axis=0)"
      ],
      "metadata": {
        "id": "nnq0gSYxiIQd"
      },
      "execution_count": 315,
      "outputs": []
    },
    {
      "cell_type": "markdown",
      "source": [
        "### DocBERTAModel model"
      ],
      "metadata": {
        "id": "mRkUxi2g0FT2"
      }
    },
    {
      "cell_type": "code",
      "source": [
        "class DocBERTAModel(DocBERTModel):\n",
        "\n",
        "    def __init__(self, list_tag : List[str], big : bool = False):\n",
        "        WordToVector.__init__(self, list_tag)\n",
        "        self.window_size = \"document\"\n",
        "\n",
        "        self.model_size = \"roberta-large\" if big else \"roberta-base\"\n",
        "\n",
        "        self.tokenizer = RobertaTokenizer.from_pretrained(self.model_size, padding=True, truncation=True)\n",
        "        self.model = RobertaModel.from_pretrained(self.model_size, output_hidden_states = True)\n",
        "\n",
        "        self.max_size = self.tokenizer.model_max_length\n",
        "\n",
        "        self.merging_strategy = Sum4LastLayers()\n",
        "\n",
        "        self.model.eval()"
      ],
      "metadata": {
        "id": "FHdFrESi0Joa"
      },
      "execution_count": 316,
      "outputs": []
    },
    {
      "cell_type": "markdown",
      "source": [
        "### Wikipedia2Vec"
      ],
      "metadata": {
        "id": "mFf6OoBG1xVp"
      }
    },
    {
      "cell_type": "code",
      "source": [
        "class Wiki2VecModel(WordToVector):\n",
        "\n",
        "    file = []\n",
        "\n",
        "    def __init__(self, list_tag : List[str], size : int = 300):\n",
        "        WordToVector.__init__(self, list_tag)\n",
        "        self.window_size = size\n",
        "\n",
        "        self.model_size = \"wikipedia2vec\"\n",
        "        assert size in [100, 300, 500], f\"size should be one of this value (100, 300, 500)\"\n",
        "        self.zip_filename = f\"enwiki_20180420_{self.window_size}d.pkl.bz2\"\n",
        "        self.unzip_filename = self.zip_filename[:-4]\n",
        "        \n",
        "        try:\n",
        "            self._load()\n",
        "        except:\n",
        "            return\n",
        "        \n",
        "        self.model = Wikipedia2Vec.load(self.path)\n",
        "\n",
        "    def _load(self):\n",
        "\n",
        "        self.path = abspath(self.unzip_filename)\n",
        "\n",
        "        if exists(self.path):\n",
        "            return\n",
        "\n",
        "        try:\n",
        "            system(f\"wget http://wikipedia2vec.s3.amazonaws.com/models/en/2018-04-20/{self.zip_filename}\")\n",
        "        except:\n",
        "            raise SystemError(f\"can't retrieve the file {self.zip_filename}\")\n",
        "\n",
        "        try:\n",
        "            system(f\"bunzip2 ./{self.zip_filename}\")\n",
        "        except:\n",
        "            raise SystemError(f\"can't unzip the file {self.zip_filename}\")\n",
        "\n",
        "    def _retrieve(self, word):\n",
        "        try: return self.model.get_word_vector(word)\n",
        "        except: pass\n",
        "\n",
        "        try: return self.model.get_word_vector(word.capitalize())\n",
        "        except: pass\n",
        "\n",
        "        try: return self.model.get_word_vector(word.lower())\n",
        "        except: pass\n",
        "\n",
        "        try: return self.model.get_entity_vector(word)\n",
        "        except: pass\n",
        "\n",
        "        try: return self.model.get_entity_vector(word.capitalize())\n",
        "        except: pass\n",
        "        \n",
        "        try: return self.model.get_entity_vector(word.lower())\n",
        "        except: pass\n",
        "\n",
        "        return None\n",
        "    \n",
        "    def _one_turn(self, resolve_dict = {}):\n",
        "        unk = []\n",
        "\n",
        "        for word in self.list_tags:\n",
        "            w = word.replace(\"_\", \" \")\n",
        "            if w in self.embeddings: continue\n",
        "\n",
        "            if w in resolve_dict:\n",
        "                embed = self._retrieve(resolve_dict[w])\n",
        "            else:\n",
        "                embed = self._retrieve(w)\n",
        "\n",
        "            if embed is None:\n",
        "                logging.warning(f\"{w} cannot be retrieved.\")\n",
        "                unk.append(word)\n",
        "            else:\n",
        "                self.embeddings[w] = torch.from_numpy(embed)\n",
        "        \n",
        "        return unk\n",
        "\n",
        "    def convert(self, ar):\n",
        "        resolve_filename = f\"./temp/{ar.name[:-4]}_resolve.json\"\n",
        "        resolve = {}\n",
        "        while True: \n",
        "            unk_list = self._one_turn(resolve)\n",
        "        \n",
        "            if unk_list is None or len(unk_list) == 0:\n",
        "                break\n",
        "\n",
        "            print(len(unk_list), \"items haven't been found, resolve mode.\")\n",
        "\n",
        "            with open(resolve_filename, 'w') as f:\n",
        "                resolve_dict = {word: \"\" for word in unk_list}\n",
        "                json.dump(resolve_dict, f)\n",
        "\n",
        "            input(\"press enter to resume resolve\")\n",
        "\n",
        "            resolve = {}\n",
        "            with open(resolve_filename, 'r') as f:\n",
        "                resolve = json.load(f)\n",
        "                assert(type(resolve) == type(dict()))"
      ],
      "metadata": {
        "id": "w0zukX6Zk3W5"
      },
      "execution_count": 317,
      "outputs": []
    },
    {
      "cell_type": "code",
      "source": [
        "gc.collect()"
      ],
      "metadata": {
        "id": "44KuFxQOG0WX",
        "outputId": "15034639-8f06-4b05-af86-1f5621543360",
        "colab": {
          "base_uri": "https://localhost:8080/"
        }
      },
      "execution_count": 318,
      "outputs": [
        {
          "output_type": "execute_result",
          "data": {
            "text/plain": [
              "25629"
            ]
          },
          "metadata": {},
          "execution_count": 318
        }
      ]
    },
    {
      "cell_type": "markdown",
      "source": [
        "# Practical part"
      ],
      "metadata": {
        "id": "ue8SGNE5iKaH"
      }
    },
    {
      "cell_type": "markdown",
      "source": [
        "## Embeddings to word proba"
      ],
      "metadata": {
        "id": "JNFmhVBmUTgh"
      }
    },
    {
      "cell_type": "code",
      "source": [
        "solver = Solver(\"/content/animal10-roberta-base-0.csv\")\n",
        "\n",
        "totest = solver.embeddings[\"cat\"]\n",
        "\n",
        "solver(totest, \"cat\")\n",
        "print(solver.score(totest, \"dog\"))\n",
        "print(solver.mean_squared_score(totest, \"dog\"))\n",
        "print(solver.least_squared_score(totest, \"dog\"))"
      ],
      "metadata": {
        "id": "tD8XokPDUhkp"
      },
      "execution_count": null,
      "outputs": []
    },
    {
      "cell_type": "markdown",
      "source": [
        "##Word to embeddings"
      ],
      "metadata": {
        "id": "LN273RlCUGza"
      }
    },
    {
      "cell_type": "code",
      "source": [
        "#@title List of vocab :\n",
        "#@markdown * animal10\n",
        "#@markdown * cifar 10 / 100 \n",
        "#@markdown * imagenet / subimagenet (200 first)\n",
        "#@markdown * king / queen \n",
        "\n",
        "labels_path = tf.keras.utils.get_file('ImageNetLabels.txt','https://storage.googleapis.com/download.tensorflow.org/data/ImageNetLabels.txt')\n",
        "imagenet = list(np.array(open(labels_path).read().splitlines()))\n",
        "subimagenet = imagenet[:200]\n",
        "\n",
        "animal10 = [\"dog\", \"cat\", \"horse\", \"spider\", \"butterfly\", \"chicken\", \"sheep\", \"cow\", \"squirrel\", \"elephant\"]\n",
        "\n",
        "cifar10  = [\"airplane\", \"automobile\", \"bird\", \"cat\", \"deer\", \"dog\", \"frog\", \"horse\", \"ship\", \"truck\"]\n",
        "\n",
        "cifar100 = [\"apple\", \"aquarium_fish\", \"baby\", \"bear\", \"beaver\", \"bed\", \"bee\", \"beetle\", \"bicycle\", \"bottle\", \"bowl\", \"boy\", \"bridge\", \"bus\", \"butterfly\", \"camel\", \"can\", \\\n",
        "            \"castle\", \"caterpillar\", \"cattle\", \"chair\", \"chimpanzee\", \"clock\", \"cloud\", \"cockroach\", \"computer_keyboard\", \"couch\", \"crab\", \"crocodile\", \"cup\", \\\n",
        "            \"dinosaur\", 'dolphin', 'elephant', 'flatfish', 'forest', 'fox', 'girl', 'hamster', 'house', 'kangaroo', 'lamp', 'lawn_mower', 'leopard', 'lion', \\\n",
        "            'lizard', 'lobster', 'man', 'maple_tree', 'motorcycle', 'mountain', 'mouse', 'mushroom', 'oak_tree', 'orange', 'orchid', 'otter', 'palm_tree', 'pear', \\\n",
        "            'pickup_truck', 'pine_tree', 'plain', 'plate', 'poppy', 'porcupine', 'possum', 'rabbit', 'raccoon', 'ray', 'road', 'rocket', 'rose', 'sea', 'seal', 'shark',\\\n",
        "            'shrew', 'skunk', 'skyscraper', 'snail', 'snake', 'spider', 'squirrel', 'streetcar', 'sunflower', 'sweet_pepper', 'table', 'tank', 'telephone', \\\n",
        "            'television', 'tiger', 'tractor', 'train', 'trout', 'tulip', 'turtle', 'wardrobe', 'whale', 'willow_tree', 'wolf', 'woman', 'worm']\n",
        "\n",
        "king = [\"king\", \"woman\", \"man\", \"queen\", \"boy\", \"girl\", \"male\", \"female\"]\n",
        "\n",
        "custom = []"
      ],
      "metadata": {
        "id": "NIJ8zsk-UTuh",
        "cellView": "form"
      },
      "execution_count": 319,
      "outputs": []
    },
    {
      "cell_type": "code",
      "source": [
        "#@title Choose a dataset\n",
        "save_name = \"cifar100\" #@param [\"animal10\", \"cifar10\", \"cifar100\", \"king\", \"imagenet\", \"subimagenet\", \"custom\"]\n",
        "mapping_save_list = {\n",
        "    \"animal10\": animal10,\n",
        "    \"cifar10\" : cifar10,\n",
        "    \"cifar100\" : cifar100,\n",
        "    \"king\" : king,\n",
        "    \"imagenet\" : imagenet,\n",
        "    \"subimagenet\": subimagenet,\n",
        "    \"custom\" : custom\n",
        "}\n",
        "\n",
        "vocab = mapping_save_list[save_name]"
      ],
      "metadata": {
        "id": "EYnbJc84xuh5",
        "cellView": "form"
      },
      "execution_count": null,
      "outputs": []
    },
    {
      "cell_type": "code",
      "source": [
        "#@title Choose a model and params\n",
        "window_size  = 300 #@param [\"0\", \"100\", \"200\", \"300\", \"400\", \"500\"] {type:\"raw\"}\n",
        "is_big       = True #@param {type:\"boolean\"}\n",
        "model_choice = \"BERT\" #@param [\"ROBERTA\", \"BERT\", \"Wikipedia2Vec\", \"DocBERT\", \"DocBERTA\"]\n",
        "\n",
        "if model_choice == \"ROBERT\":\n",
        "    model = ROBERTAModel(vocab, big = is_big, window = window_size)\n",
        "elif model_choice == \"BERT\":\n",
        "    model = BERTModel(vocab, big = is_big, window = window_size)\n",
        "elif model_choice == \"Wikipedia2Vec\":\n",
        "    model = Wiki2VecModel(vocab, size = window_size)\n",
        "elif model_choice == \"DocBERT\":\n",
        "    model = DocBERTModel(vocab, big = is_big)\n",
        "elif model_choice == \"DocBERTA\":\n",
        "    model = DocBERTAModel(vocab, big = is_big)\n",
        "    \n",
        "articlesRetriever = WikipediaArticleRetriever(save_name + \".art\", vocab)"
      ],
      "metadata": {
        "id": "NvIn_JeFlYfK",
        "cellView": "form"
      },
      "execution_count": null,
      "outputs": []
    },
    {
      "cell_type": "code",
      "source": [
        "csv_file = f\"{save_name}-{model.model_size}-{model.window_size}.csv\"\n",
        "\n",
        "if articlesRetriever():\n",
        "    articlesRetriever.save()\n",
        "\n",
        "model.reset_embeddings()\n",
        "\n",
        "if not model.check_embeddings_exist(csv_file, articlesRetriever):\n",
        "    model.convert(articlesRetriever)\n",
        "    model.export(csv_file)\n",
        "\n",
        "print(\"\\n\", len(model.get_class_list()))"
      ],
      "metadata": {
        "id": "WOOlgG8koVD6",
        "outputId": "c4e1e93e-325e-4fa2-8f14-1dd0c15e43b6",
        "colab": {
          "base_uri": "https://localhost:8080/"
        }
      },
      "execution_count": null,
      "outputs": [
        {
          "output_type": "stream",
          "name": "stderr",
          "text": [
            "loading articles              : 100%|██████████| 100/100 [00:00<00:00, 73700.65it/s]\n",
            "converting to embedding       : 100%|██████████| 1/1 [00:12<00:00, 12.17s/it]"
          ]
        },
        {
          "output_type": "stream",
          "name": "stdout",
          "text": [
            "\n",
            " 1\n"
          ]
        },
        {
          "output_type": "stream",
          "name": "stderr",
          "text": [
            "\n"
          ]
        }
      ]
    },
    {
      "cell_type": "code",
      "source": [
        "# wiki2vec_dict = model.model.dictionary\n",
        "\n",
        "# with open(\"./temp/wiki_article.txt\", \"w\") as f:\n",
        "#     for word in wiki2vec_dict.words():\n",
        "#         print(word.text, file=f)\n",
        "\n",
        "#     for ent in wiki2vec_dict.entities():\n",
        "#         print(ent.title, file=f)"
      ],
      "metadata": {
        "id": "z0qnv2UbfqZJ"
      },
      "execution_count": null,
      "outputs": []
    },
    {
      "cell_type": "markdown",
      "source": [
        "## Neighboor joining Tree"
      ],
      "metadata": {
        "id": "0WZFTDaGbr1a"
      }
    },
    {
      "cell_type": "code",
      "source": [
        "neighboor_sim = SimilarityMatrix(csv_file, CosineSim())\n",
        "\n",
        "ids, data = neighboor_sim.get_sim_matrix()\n",
        "\n",
        "ids = [tids.replace(\" \", \"_\") for tids in ids]\n",
        "inv_data  = sim2dist(data, lambda x: 1 - x) \n",
        "\n",
        "# print()\n",
        "# print_mat(data_inv, format_function = lambda x: round(float(x), 2))"
      ],
      "metadata": {
        "id": "crcMR8dDuH7s"
      },
      "execution_count": null,
      "outputs": []
    },
    {
      "cell_type": "code",
      "source": [
        "dm = DistanceMatrix(inv_data, ids)\n",
        "tree = nj(dm)\n",
        "\n",
        "with open(f\"{save_name}-{model_choice}-.tree\", \"w\") as f:\n",
        "    print(tree, file = f)\n",
        "\n",
        "print(\"\\n\\n\", tree.ascii_art())"
      ],
      "metadata": {
        "id": "_J431TiosB8h"
      },
      "execution_count": null,
      "outputs": []
    },
    {
      "cell_type": "markdown",
      "source": [
        "## wikipedia debug"
      ],
      "metadata": {
        "id": "7jubA6JXUMk4"
      }
    },
    {
      "cell_type": "code",
      "source": [
        "#@title Article to search for { run: \"auto\", vertical-output: true, display-mode: \"both\" }\n",
        "totest = \"buck\" #@param {type:\"string\"}\n",
        "\n",
        "result = wikipedia.search(totest, suggestion = False)\n",
        "print(result)\n",
        "print(f\"first result is: {result[0]}\")\n",
        "\n",
        "try:\n",
        "    print(wikipedia.page(totest, auto_suggest=False, redirect=True))\n",
        "    print(wikipedia.page(result[0], auto_suggest=False, redirect=True))\n",
        "except Exception as e:\n",
        "    print(f\"best option envisaged: {e.options[0]}\")\n",
        "    print(e)"
      ],
      "metadata": {
        "id": "PeM8XAu6h5gD"
      },
      "execution_count": null,
      "outputs": []
    },
    {
      "cell_type": "code",
      "source": [
        "articleviewer = ArticleViewer(\"/content/article/cifar100.art\")\n",
        "print(articleviewer.get_all_articles())\n",
        "articleviewer.get(articleviewer.get_all_articles()[0]).summary"
      ],
      "metadata": {
        "id": "O5sAnE0nuhD_"
      },
      "execution_count": null,
      "outputs": []
    },
    {
      "cell_type": "markdown",
      "source": [
        "# Test part"
      ],
      "metadata": {
        "id": "ax8Aw_qVRxer"
      }
    },
    {
      "cell_type": "markdown",
      "source": [
        "## Tests "
      ],
      "metadata": {
        "id": "AW1u-xshmuZ5"
      }
    },
    {
      "cell_type": "markdown",
      "source": [
        "### Test superclass"
      ],
      "metadata": {
        "id": "ols0X2IDmqJx"
      }
    },
    {
      "cell_type": "code",
      "source": [
        "class Test:\n",
        "\n",
        "    def __init__(self, name):\n",
        "        self.name = name\n",
        "        self.vocab = []\n",
        "    \n",
        "    def _start(self, model : WordToVector, articlesRetriever : ArticleRetriever):\n",
        "        articlesRetriever.set_list_vocab(f\"{self.name}.art\", self.vocab)\n",
        "\n",
        "        if articlesRetriever(force_reload = False):\n",
        "            articlesRetriever.save()\n",
        "\n",
        "        self.save_file = f\"test-{self.name}-{model.model_size}-{model.window_size}.csv\"\n",
        "        model.set_list_class(self.vocab)\n",
        "\n",
        "        if not model.check_embeddings_exist(self.save_file, articlesRetriever):\n",
        "            model.convert(articlesRetriever)\n",
        "            model.export(self.save_file)\n",
        "\n",
        "\n",
        "    def _end(self):\n",
        "        raise NotImplementedError\n",
        "\n",
        "    def __call__(self, model, articlesRetriever):\n",
        "\n",
        "        logging.info(f\"Start test {self.name}\")\n",
        "\n",
        "        tic = perf_counter()\n",
        "        self._start(model, articlesRetriever)\n",
        "        result = self._end(model)\n",
        "        toc = perf_counter()\n",
        "\n",
        "        logging.info(f\"End test {self.name}\")\n",
        "\n",
        "        return result, toc - tic"
      ],
      "metadata": {
        "id": "OQcNCqBSmo9Y"
      },
      "execution_count": 320,
      "outputs": []
    },
    {
      "cell_type": "markdown",
      "source": [
        "### Embedding distance Test"
      ],
      "metadata": {
        "id": "dFbjPbSVpzno"
      }
    },
    {
      "cell_type": "code",
      "source": [
        "class EmbeddingDistanceTest(Test):\n",
        "\n",
        "    def __init__(self, vocab, thresold, name):\n",
        "        Test.__init__(self, name)\n",
        "\n",
        "        self.thresold = thresold\n",
        "        self.vocab = vocab\n",
        "\n",
        "    def _end(self, model):\n",
        "        \n",
        "        sim_matrix = SimilarityMatrix(self.save_file, CosineSim())\n",
        "        ids, cosine_mat = sim_matrix.get_sim_matrix()\n",
        "\n",
        "        sim_list = []\n",
        "\n",
        "        for i, idsa in tqdm(enumerate(ids), total = len(ids), desc=f\"{'listing sim matrix':30}\"):\n",
        "            for j, idsb in enumerate(ids):\n",
        "\n",
        "                if i == j: continue \n",
        "\n",
        "                cos_val = cosine_mat[i][j]\n",
        "\n",
        "                if cos_val >= self.thresold:\n",
        "                    sim_list.append((idsa, idsb, cos_val))\n",
        "\n",
        "        sim_list.sort(key=lambda x: x[2], reverse = True)\n",
        "        return len(sim_list) // 2\n"
      ],
      "metadata": {
        "id": "w9ibkPUfp5Tm"
      },
      "execution_count": 321,
      "outputs": []
    },
    {
      "cell_type": "markdown",
      "source": [
        "### Syntactic test"
      ],
      "metadata": {
        "id": "rYWi-UIguOly"
      }
    },
    {
      "cell_type": "code",
      "source": [
        "class SyntacticTest(Test):\n",
        "\n",
        "    def __init__(self, quadruple_set : Tuple[str, str, str, str], name : str):\n",
        "        Test.__init__(self, name)\n",
        "\n",
        "        self.relations : Tuple[str, str, str, str] = quadruple_set\n",
        "\n",
        "        for relation in self.relations:\n",
        "            for item in relation:\n",
        "                if item not in self.vocab:\n",
        "                    self.vocab.append(item)\n",
        "\n",
        "    def _end(self, model):\n",
        "\n",
        "        solver = Solver(self.save_file)\n",
        "        top1, top3, top5, top10 = 0, 0, 0, 0\n",
        "\n",
        "        for w1, w2, w3, w4 in tqdm(self.relations, total=len(self.relations), desc=f\"{'calculating relations':30}\"):\n",
        "\n",
        "            w1_emb = model.get_embedding_of(w1).numpy()\n",
        "            w2_emb = model.get_embedding_of(w2).numpy()\n",
        "            w3_emb = model.get_embedding_of(w3).numpy()\n",
        "\n",
        "            totest = w1_emb - w2_emb + w3_emb\n",
        "            result = solver.get_nearest_embedding_of(torch.from_numpy(totest), 13)\n",
        "            filtered_result = list(filter(lambda x: x != None, map(lambda x: x[0] if x[0] not in [w1, w2, w3] else None, result)))\n",
        "\n",
        "            if filtered_result[0] == w4:\n",
        "                top1 += 1\n",
        "\n",
        "            if w4 in filtered_result[:3]:\n",
        "                top3 += 1\n",
        "\n",
        "            if w4 in filtered_result[:5]:\n",
        "                top5 += 1\n",
        "\n",
        "            if w4 in filtered_result[:10]:\n",
        "                top10 += 1\n",
        "\n",
        "        \n",
        "        return list(map(lambda x : x / len(self.relations), (top1, top3, top5, top10)))"
      ],
      "metadata": {
        "id": "d-BMuVTTuQ2i"
      },
      "execution_count": 322,
      "outputs": []
    },
    {
      "cell_type": "markdown",
      "source": [
        "### Similarity Test"
      ],
      "metadata": {
        "id": "QDP8gaRAm1s5"
      }
    },
    {
      "cell_type": "code",
      "source": [
        "class SimilarityTest(Test):\n",
        "\n",
        "    def __init__(self, pair_set : Tuple[str, str, float], pair_name):\n",
        "        Test.__init__(self, pair_name)\n",
        "\n",
        "        self.pair : Tuple[str, str, float] = pair_set\n",
        "\n",
        "        for w1, w2, i in self.pair:\n",
        "            if w1 not in self.vocab:\n",
        "                self.vocab.append(w1)\n",
        "            if w2 not in self.vocab:\n",
        "                self.vocab.append(w2)\n",
        "    \n",
        "    def _end(self, model):\n",
        "        sim_list = []\n",
        "        i_list = []\n",
        "\n",
        "        sim_computer = SimilarityMatrix(self.save_file, CosineSim())\n",
        "\n",
        "        for w1, w2, i in tqdm(self.pair, total=len(self.pair), desc=f\"{'calculating pair':30}\"):\n",
        "            sim = sim_computer.sim_between(w1, w2)\n",
        "\n",
        "            sim_list.append(sim)\n",
        "            i_list.append(i)\n",
        "\n",
        "        result = spearmanr(sim_list, i_list)\n",
        "        return (result.correlation, result.pvalue)"
      ],
      "metadata": {
        "id": "zMBHN_B5bQym"
      },
      "execution_count": 323,
      "outputs": []
    },
    {
      "cell_type": "code",
      "source": [
        "def print_list(listed):\n",
        "    print(f\"{'word':20}{'target':20}{'similarity':10}\")\n",
        "    print(\"=\"*50)\n",
        "    for ida, idb, sim in listed:\n",
        "        print(f\"{ida:20}{idb:20}{round(float(sim), 6):6}\")\n"
      ],
      "metadata": {
        "id": "Kiq-UPEApL0U"
      },
      "execution_count": 324,
      "outputs": []
    },
    {
      "cell_type": "markdown",
      "source": [
        "## Pipeline"
      ],
      "metadata": {
        "id": "JzRqbWiHm4mr"
      }
    },
    {
      "cell_type": "code",
      "source": [
        "class TestPipeline():\n",
        "\n",
        "    list_test = [ SimilarityTest(nlp.data.WordSim353('all'), \"Wordsim353\"), \n",
        "                  SimilarityTest(nlp.data.SimLex999('all') , \"SimLex999\") ,\n",
        "                  SyntacticTest(nlp.data.GoogleAnalogyTestSet(), \"GoogleAnalogy\"),\n",
        "                  EmbeddingDistanceTest(cifar100, 0.80, \"Imagenet\")\n",
        "                ]\n",
        "\n",
        "    def __init__(self, model, articleRetriever, list_test = None):\n",
        "        self.model = model\n",
        "        self.articleRetriver = articleRetriever\n",
        "\n",
        "        if list_test == None:\n",
        "            self.list_test = TestPipeline.list_test\n",
        "        else:\n",
        "            self.list_test = list_test \n",
        "\n",
        "    def execute(self):\n",
        "\n",
        "        for i, test in enumerate(self.list_test):\n",
        "\n",
        "            print(f\"Test {i} : {test.name}\".center(80, \"=\"))\n",
        "            res, time_elapsed = test(self.model, self.articleRetriver)\n",
        "            print(f\"\\n{res}\")\n",
        "            print(f\"{round(time_elapsed, 2)} sec.\".center(80, \"=\"))"
      ],
      "metadata": {
        "id": "SlsqEiRqm8dx"
      },
      "execution_count": 325,
      "outputs": []
    },
    {
      "cell_type": "markdown",
      "source": [
        "# main"
      ],
      "metadata": {
        "id": "YCvIISI4E2VT"
      }
    },
    {
      "cell_type": "code",
      "source": [
        "gc.collect()"
      ],
      "metadata": {
        "id": "X8f8wEuBH2Uj",
        "outputId": "2d9ce3d1-4886-4106-981c-33644b0d9f59",
        "colab": {
          "base_uri": "https://localhost:8080/"
        }
      },
      "execution_count": null,
      "outputs": [
        {
          "output_type": "execute_result",
          "data": {
            "text/plain": [
              "96733"
            ]
          },
          "metadata": {},
          "execution_count": 302
        }
      ]
    },
    {
      "cell_type": "code",
      "source": [
        "def all_models_gen():\n",
        "    # yield BERTModel([], big = False, window = 0)    \n",
        "    # yield BERTModel([], big = False, window = 100)\n",
        "    # yield BERTModel([], big = False, window = 300)\n",
        "    # yield BERTModel([], big = False, window = 512)\n",
        "    # yield BERTModel([], big = True, window = 0)\n",
        "    # yield BERTModel([], big = True, window = 100)\n",
        "    # yield BERTModel([], big = True, window = 300)\n",
        "    yield BERTModel([], big = True, window = 512)\n",
        "    yield ROBERTAModel([], big = False, window = 0)\n",
        "    yield ROBERTAModel([], big = False, window = 100)\n",
        "    yield ROBERTAModel([], big = False, window = 300)\n",
        "    yield ROBERTAModel([], big = False, window = 512)\n",
        "    yield ROBERTAModel([], big = True, window = 0)\n",
        "    yield ROBERTAModel([], big = True, window = 100)\n",
        "    yield ROBERTAModel([], big = True, window = 300)\n",
        "    yield ROBERTAModel([], big = True, window = 512)\n",
        "    yield DocBERTModel([], big = False)\n",
        "    yield DocBERTModel([], big = True)\n",
        "    yield DocBERTAModel([], big = False)\n",
        "    yield DocBERTAModel([], big = True)\n",
        "    yield Wiki2VecModel([])\n",
        "\n",
        "def split_test(name):\n",
        "    print()\n",
        "    print(\"#\" * 80)\n",
        "    print(\"#\", name.center(78, \" \"), \"#\", sep=\"\")\n",
        "    print(\"#\" * 80)\n",
        "    print()\n",
        "\n",
        "def one_test_all_model(test_pipeline, articleRetriever):\n",
        "\n",
        "    for model in all_models_gen():\n",
        "        split_test(f\"{model.model_size} {model.window_size}\")\n",
        "        TestPipeline(model, articleRetriever, test_pipeline).execute()\n",
        "        gc.collect()\n",
        "\n",
        "\n",
        "def all_test_all_model(articleRetriever):\n",
        "\n",
        "    for model in all_models_gen():\n",
        "        split_test(f\"{model.model_size} {model.window_size}\")\n",
        "        TestPipeline(model, articleRetriever).execute()\n",
        "        gc.collect()\n",
        "\n",
        "gc.collect()\n",
        "logging.info('Starting Main'.center(40, \"=\"))\n",
        "\n",
        "wikiRetriever = WikipediaArticleRetriever()\n",
        "wordRetriever = WordNetArticleRetriever()\n",
        "\n",
        "all_test_all_model(wikiRetriever)\n"
      ],
      "metadata": {
        "id": "DhjlqisSgL7x",
        "colab": {
          "base_uri": "https://localhost:8080/",
          "height": 1000,
          "referenced_widgets": [
            "c7c2a554c3cf431ba73e14993c0fff7c",
            "a334579a29f446b3938aa376bc716cd1",
            "3e40316b693b4a8d933cd3daa639cae0",
            "d045c0b533f942b78e273526a00ef497",
            "27fcab27b8d64179a42cedfba37f7f69",
            "ca01113679b8407892757c402177bb87",
            "d877a7720a154eccbbaf13d792677739",
            "606cd44f3a674103ab4dfb4e256bf53e",
            "b4d4091844c24ce6a9391d76dca46fe5",
            "b563c1c7c27a4be8b64b957682c8630b",
            "4ba1b7eadcfd4211a1c57e4a1d1d06cf",
            "9252e0d54aa942c694b5652bd4208361",
            "12379a2f7896419390a366f15f72efe9",
            "a1aa17253851496385f767f3ac01d67e",
            "9f3ae4460ee447949df78cc3e528196f",
            "35f13f9620ab4eceb63a12f07ffaaae7",
            "15fd5fc62c3d4d0d8d05606a5a6b20b3",
            "e40ade4d4cd24ede9e3d40c1dca63dec",
            "04c8c9960c1144539ab98a7b821804e4",
            "340048e5540041c8ae6f8038aeee0d12",
            "df2c3c09bd9d46e9ab46d9e91b848f58",
            "d431d986376e4b6d9c5e3278ea27aa7c",
            "a4f6207cdc744125a6081ed8f401896b",
            "982340294f404fb89aa88131552881b6",
            "cce1c21003014bc483e5a65bf923bd8e",
            "0c143d2df91a405599269a4434ce3493",
            "3ee89653dd7749d8bcde9e0cc85eeab8",
            "c5902c37de764976a6a0f2dfac1298a3",
            "d7f116b4cb9349eaa55c8df6b146c943",
            "dd88c45e9e2843e7bfb38c040020a01a",
            "637ccb9f846b4410afd7b70c8b2ce764",
            "9c15e1527e6946578a8f2eae11abd743",
            "437d4788ef464fbcbdafdfe5d54fabd7",
            "1d60bff766a444958283ac3f16588b3b",
            "8e2f9cbf2d8f4b91a78c67d9c1da8382",
            "bc27aa4b42d7477690bc10eac62b0d9f",
            "1c89508fec9548b9a0fbcbe9df0d670f",
            "d94c022bd95e4f8b80610415984606ca",
            "ac2b1083a5be44ae83d42d71f52ec3b1",
            "5b2ce94af09e413a96196344ce43656e",
            "8690fbf0ee304dbc86cf246f1fe1e1cf",
            "1316cf0c2e3e446a95d70785a35f3938",
            "3ca9ba7c6ce0484f8f95116597a787fc",
            "b24f12b39fab4d058a6bb21bd10b7d0f"
          ]
        },
        "outputId": "20ad0d64-774e-4788-a763-4161aaed118e"
      },
      "execution_count": 326,
      "outputs": [
        {
          "output_type": "stream",
          "name": "stdout",
          "text": [
            "\n",
            "################################################################################\n",
            "#                            bert-large-uncased 512                            #\n",
            "################################################################################\n",
            "\n",
            "==============================Test 0 : Wordsim353===============================\n"
          ]
        },
        {
          "output_type": "stream",
          "name": "stderr",
          "text": [
            "loading articles              : 100%|██████████| 437/437 [00:00<00:00, 184249.18it/s]\n",
            "converting to embedding       : 100%|██████████| 1/1 [00:00<00:00,  1.27it/s]\n",
            "converting to embedding       : 100%|██████████| 437/437 [20:55<00:00,  2.87s/it]\n",
            "calculating pair              : 100%|██████████| 352/352 [00:00<00:00, 11371.05it/s]\n"
          ]
        },
        {
          "output_type": "stream",
          "name": "stdout",
          "text": [
            "\n",
            "(0.14980400618453207, 0.004855230412851583)\n",
            "==================================1257.8 sec.===================================\n",
            "===============================Test 1 : SimLex999===============================\n"
          ]
        },
        {
          "output_type": "stream",
          "name": "stderr",
          "text": [
            "loading articles              : 100%|██████████| 1028/1028 [00:00<00:00, 245013.33it/s]\n",
            "converting to embedding       : 100%|██████████| 1/1 [00:00<00:00,  3.84it/s]\n",
            "converting to embedding       : 100%|██████████| 1028/1028 [40:46<00:00,  2.38s/it]\n",
            "calculating pair              : 100%|██████████| 999/999 [00:00<00:00, 13439.88it/s]\n"
          ]
        },
        {
          "output_type": "stream",
          "name": "stdout",
          "text": [
            "\n",
            "(0.003013330121444818, 0.9242169835893634)\n",
            "==================================2449.83 sec.==================================\n",
            "=============================Test 2 : GoogleAnalogy=============================\n"
          ]
        },
        {
          "output_type": "stream",
          "name": "stderr",
          "text": [
            "loading articles              : 100%|██████████| 905/905 [00:00<00:00, 125267.15it/s]\n",
            "converting to embedding       : 100%|██████████| 1/1 [00:06<00:00,  6.78s/it]\n",
            "converting to embedding       : 100%|██████████| 905/905 [48:33<00:00,  3.22s/it]\n",
            "calculating relations         : 100%|██████████| 19544/19544 [26:10<00:00, 12.45it/s]\n"
          ]
        },
        {
          "output_type": "stream",
          "name": "stdout",
          "text": [
            "\n",
            "[0.106938190749079, 0.12714899713467048, 0.13252148997134672, 0.14311297584936553]\n",
            "==================================4493.49 sec.==================================\n",
            "===============================Test 3 : Imagenet================================\n"
          ]
        },
        {
          "output_type": "stream",
          "name": "stderr",
          "text": [
            "loading articles              : 100%|██████████| 100/100 [00:00<00:00, 179243.76it/s]\n",
            "converting to embedding       : 100%|██████████| 1/1 [00:05<00:00,  5.63s/it]\n",
            "converting to embedding       : 100%|██████████| 100/100 [06:34<00:00,  3.94s/it]\n",
            "computing sim matrix          : 100%|██████████| 100/100 [00:00<00:00, 166.14it/s]\n",
            "listing sim matrix            : 100%|██████████| 100/100 [00:00<00:00, 1170.22it/s]\n"
          ]
        },
        {
          "output_type": "stream",
          "name": "stdout",
          "text": [
            "\n",
            "1200\n",
            "==================================401.31 sec.===================================\n"
          ]
        },
        {
          "output_type": "display_data",
          "data": {
            "text/plain": [
              "Downloading:   0%|          | 0.00/878k [00:00<?, ?B/s]"
            ],
            "application/vnd.jupyter.widget-view+json": {
              "version_major": 2,
              "version_minor": 0,
              "model_id": "c7c2a554c3cf431ba73e14993c0fff7c"
            }
          },
          "metadata": {}
        },
        {
          "output_type": "display_data",
          "data": {
            "text/plain": [
              "Downloading:   0%|          | 0.00/446k [00:00<?, ?B/s]"
            ],
            "application/vnd.jupyter.widget-view+json": {
              "version_major": 2,
              "version_minor": 0,
              "model_id": "9252e0d54aa942c694b5652bd4208361"
            }
          },
          "metadata": {}
        },
        {
          "output_type": "display_data",
          "data": {
            "text/plain": [
              "Downloading:   0%|          | 0.00/481 [00:00<?, ?B/s]"
            ],
            "application/vnd.jupyter.widget-view+json": {
              "version_major": 2,
              "version_minor": 0,
              "model_id": "a4f6207cdc744125a6081ed8f401896b"
            }
          },
          "metadata": {}
        },
        {
          "output_type": "display_data",
          "data": {
            "text/plain": [
              "Downloading:   0%|          | 0.00/478M [00:00<?, ?B/s]"
            ],
            "application/vnd.jupyter.widget-view+json": {
              "version_major": 2,
              "version_minor": 0,
              "model_id": "1d60bff766a444958283ac3f16588b3b"
            }
          },
          "metadata": {}
        },
        {
          "output_type": "stream",
          "name": "stdout",
          "text": [
            "\n",
            "################################################################################\n",
            "#                                roberta-base 0                                #\n",
            "################################################################################\n",
            "\n",
            "==============================Test 0 : Wordsim353===============================\n"
          ]
        },
        {
          "output_type": "stream",
          "name": "stderr",
          "text": [
            "loading articles              : 100%|██████████| 437/437 [00:00<00:00, 223607.52it/s]\n",
            "converting to embedding       : 100%|██████████| 1/1 [00:00<00:00,  3.56it/s]\n",
            "converting to embedding       : 100%|██████████| 437/437 [00:38<00:00, 11.31it/s]\n",
            "calculating pair              : 100%|██████████| 352/352 [00:00<00:00, 12234.88it/s]\n"
          ]
        },
        {
          "output_type": "stream",
          "name": "stdout",
          "text": [
            "\n",
            "(0.14198584834023478, 0.007631677553729135)\n",
            "===================================40.19 sec.===================================\n",
            "===============================Test 1 : SimLex999===============================\n"
          ]
        },
        {
          "output_type": "stream",
          "name": "stderr",
          "text": [
            "loading articles              : 100%|██████████| 1028/1028 [00:00<00:00, 367676.69it/s]\n",
            "converting to embedding       : 100%|██████████| 1/1 [00:00<00:00, 12.56it/s]\n",
            "converting to embedding       : 100%|██████████| 1028/1028 [01:23<00:00, 12.26it/s]\n",
            "calculating pair              : 100%|██████████| 999/999 [00:00<00:00, 13525.12it/s]\n"
          ]
        },
        {
          "output_type": "stream",
          "name": "stdout",
          "text": [
            "\n",
            "(0.04171245644840325, 0.18772912487897597)\n",
            "===================================86.61 sec.===================================\n",
            "=============================Test 2 : GoogleAnalogy=============================\n"
          ]
        },
        {
          "output_type": "stream",
          "name": "stderr",
          "text": [
            "loading articles              : 100%|██████████| 905/905 [00:00<00:00, 372909.43it/s]\n",
            "converting to embedding       : 100%|██████████| 1/1 [00:00<00:00, 10.27it/s]\n",
            "converting to embedding       : 100%|██████████| 905/905 [01:15<00:00, 12.01it/s]\n",
            "calculating relations         : 100%|██████████| 19544/19544 [26:01<00:00, 12.52it/s]\n"
          ]
        },
        {
          "output_type": "stream",
          "name": "stdout",
          "text": [
            "\n",
            "[0.054441260744985676, 0.10371469504707327, 0.1257163323782235, 0.15498362668849774]\n",
            "==================================1638.85 sec.==================================\n",
            "===============================Test 3 : Imagenet================================\n"
          ]
        },
        {
          "output_type": "stream",
          "name": "stderr",
          "text": [
            "loading articles              : 100%|██████████| 100/100 [00:00<00:00, 197100.75it/s]\n",
            "converting to embedding       : 100%|██████████| 1/1 [00:00<00:00,  2.16it/s]\n",
            "converting to embedding       : 100%|██████████| 100/100 [00:08<00:00, 12.11it/s]\n",
            "computing sim matrix          : 100%|██████████| 100/100 [00:00<00:00, 156.93it/s]\n",
            "listing sim matrix            : 100%|██████████| 100/100 [00:00<00:00, 1201.63it/s]\n"
          ]
        },
        {
          "output_type": "stream",
          "name": "stdout",
          "text": [
            "\n",
            "4950\n",
            "===================================10.14 sec.===================================\n",
            "\n",
            "################################################################################\n",
            "#                               roberta-base 100                               #\n",
            "################################################################################\n",
            "\n",
            "==============================Test 0 : Wordsim353===============================\n"
          ]
        },
        {
          "output_type": "stream",
          "name": "stderr",
          "text": [
            "loading articles              : 100%|██████████| 437/437 [00:00<00:00, 431374.64it/s]\n",
            "converting to embedding       : 100%|██████████| 1/1 [00:00<00:00, 10.24it/s]\n",
            "converting to embedding       : 100%|██████████| 437/437 [02:28<00:00,  2.93it/s]\n",
            "calculating pair              : 100%|██████████| 352/352 [00:00<00:00, 12661.18it/s]\n"
          ]
        },
        {
          "output_type": "stream",
          "name": "stdout",
          "text": [
            "\n",
            "(0.09564256413037295, 0.07311033715800276)\n",
            "===================================150.3 sec.===================================\n",
            "===============================Test 1 : SimLex999===============================\n"
          ]
        },
        {
          "output_type": "stream",
          "name": "stderr",
          "text": [
            "loading articles              : 100%|██████████| 1028/1028 [00:00<00:00, 249291.43it/s]\n",
            "converting to embedding       : 100%|██████████| 1/1 [00:00<00:00, 13.56it/s]\n",
            "converting to embedding       : 100%|██████████| 1028/1028 [05:25<00:00,  3.16it/s]\n",
            "calculating pair              : 100%|██████████| 999/999 [00:00<00:00, 14676.75it/s]\n"
          ]
        },
        {
          "output_type": "stream",
          "name": "stdout",
          "text": [
            "\n",
            "(-0.01840817583088511, 0.5611411749891346)\n",
            "==================================328.11 sec.===================================\n",
            "=============================Test 2 : GoogleAnalogy=============================\n"
          ]
        },
        {
          "output_type": "stream",
          "name": "stderr",
          "text": [
            "loading articles              : 100%|██████████| 905/905 [00:00<00:00, 528742.88it/s]\n",
            "converting to embedding       : 100%|██████████| 1/1 [00:00<00:00,  2.01it/s]\n",
            "converting to embedding       : 100%|██████████| 905/905 [05:05<00:00,  2.97it/s]\n",
            "calculating relations         :  27%|██▋       | 5371/19544 [07:10<18:56, 12.47it/s]\n"
          ]
        },
        {
          "output_type": "error",
          "ename": "KeyboardInterrupt",
          "evalue": "ignored",
          "traceback": [
            "\u001b[0;31m---------------------------------------------------------------------------\u001b[0m",
            "\u001b[0;31mKeyboardInterrupt\u001b[0m                         Traceback (most recent call last)",
            "\u001b[0;32m<ipython-input-326-3ee7771f6a9e>\u001b[0m in \u001b[0;36m<module>\u001b[0;34m()\u001b[0m\n\u001b[1;32m     50\u001b[0m \u001b[0mwordRetriever\u001b[0m \u001b[0;34m=\u001b[0m \u001b[0mWordNetArticleRetriever\u001b[0m\u001b[0;34m(\u001b[0m\u001b[0;34m)\u001b[0m\u001b[0;34m\u001b[0m\u001b[0;34m\u001b[0m\u001b[0m\n\u001b[1;32m     51\u001b[0m \u001b[0;34m\u001b[0m\u001b[0m\n\u001b[0;32m---> 52\u001b[0;31m \u001b[0mall_test_all_model\u001b[0m\u001b[0;34m(\u001b[0m\u001b[0mwikiRetriever\u001b[0m\u001b[0;34m)\u001b[0m\u001b[0;34m\u001b[0m\u001b[0;34m\u001b[0m\u001b[0m\n\u001b[0m",
            "\u001b[0;32m<ipython-input-326-3ee7771f6a9e>\u001b[0m in \u001b[0;36mall_test_all_model\u001b[0;34m(articleRetriever)\u001b[0m\n\u001b[1;32m     41\u001b[0m     \u001b[0;32mfor\u001b[0m \u001b[0mmodel\u001b[0m \u001b[0;32min\u001b[0m \u001b[0mall_models_gen\u001b[0m\u001b[0;34m(\u001b[0m\u001b[0;34m)\u001b[0m\u001b[0;34m:\u001b[0m\u001b[0;34m\u001b[0m\u001b[0;34m\u001b[0m\u001b[0m\n\u001b[1;32m     42\u001b[0m         \u001b[0msplit_test\u001b[0m\u001b[0;34m(\u001b[0m\u001b[0;34mf\"{model.model_size} {model.window_size}\"\u001b[0m\u001b[0;34m)\u001b[0m\u001b[0;34m\u001b[0m\u001b[0;34m\u001b[0m\u001b[0m\n\u001b[0;32m---> 43\u001b[0;31m         \u001b[0mTestPipeline\u001b[0m\u001b[0;34m(\u001b[0m\u001b[0mmodel\u001b[0m\u001b[0;34m,\u001b[0m \u001b[0marticleRetriever\u001b[0m\u001b[0;34m)\u001b[0m\u001b[0;34m.\u001b[0m\u001b[0mexecute\u001b[0m\u001b[0;34m(\u001b[0m\u001b[0;34m)\u001b[0m\u001b[0;34m\u001b[0m\u001b[0;34m\u001b[0m\u001b[0m\n\u001b[0m\u001b[1;32m     44\u001b[0m         \u001b[0mgc\u001b[0m\u001b[0;34m.\u001b[0m\u001b[0mcollect\u001b[0m\u001b[0;34m(\u001b[0m\u001b[0;34m)\u001b[0m\u001b[0;34m\u001b[0m\u001b[0;34m\u001b[0m\u001b[0m\n\u001b[1;32m     45\u001b[0m \u001b[0;34m\u001b[0m\u001b[0m\n",
            "\u001b[0;32m<ipython-input-325-0f0c0bd277e2>\u001b[0m in \u001b[0;36mexecute\u001b[0;34m(self)\u001b[0m\n\u001b[1;32m     21\u001b[0m \u001b[0;34m\u001b[0m\u001b[0m\n\u001b[1;32m     22\u001b[0m             \u001b[0mprint\u001b[0m\u001b[0;34m(\u001b[0m\u001b[0;34mf\"Test {i} : {test.name}\"\u001b[0m\u001b[0;34m.\u001b[0m\u001b[0mcenter\u001b[0m\u001b[0;34m(\u001b[0m\u001b[0;36m80\u001b[0m\u001b[0;34m,\u001b[0m \u001b[0;34m\"=\"\u001b[0m\u001b[0;34m)\u001b[0m\u001b[0;34m)\u001b[0m\u001b[0;34m\u001b[0m\u001b[0;34m\u001b[0m\u001b[0m\n\u001b[0;32m---> 23\u001b[0;31m             \u001b[0mres\u001b[0m\u001b[0;34m,\u001b[0m \u001b[0mtime_elapsed\u001b[0m \u001b[0;34m=\u001b[0m \u001b[0mtest\u001b[0m\u001b[0;34m(\u001b[0m\u001b[0mself\u001b[0m\u001b[0;34m.\u001b[0m\u001b[0mmodel\u001b[0m\u001b[0;34m,\u001b[0m \u001b[0mself\u001b[0m\u001b[0;34m.\u001b[0m\u001b[0marticleRetriver\u001b[0m\u001b[0;34m)\u001b[0m\u001b[0;34m\u001b[0m\u001b[0;34m\u001b[0m\u001b[0m\n\u001b[0m\u001b[1;32m     24\u001b[0m             \u001b[0mprint\u001b[0m\u001b[0;34m(\u001b[0m\u001b[0;34mf\"\\n{res}\"\u001b[0m\u001b[0;34m)\u001b[0m\u001b[0;34m\u001b[0m\u001b[0;34m\u001b[0m\u001b[0m\n\u001b[1;32m     25\u001b[0m             \u001b[0mprint\u001b[0m\u001b[0;34m(\u001b[0m\u001b[0;34mf\"{round(time_elapsed, 2)} sec.\"\u001b[0m\u001b[0;34m.\u001b[0m\u001b[0mcenter\u001b[0m\u001b[0;34m(\u001b[0m\u001b[0;36m80\u001b[0m\u001b[0;34m,\u001b[0m \u001b[0;34m\"=\"\u001b[0m\u001b[0;34m)\u001b[0m\u001b[0;34m)\u001b[0m\u001b[0;34m\u001b[0m\u001b[0;34m\u001b[0m\u001b[0m\n",
            "\u001b[0;32m<ipython-input-320-e47eb6a162d1>\u001b[0m in \u001b[0;36m__call__\u001b[0;34m(self, model, articlesRetriever)\u001b[0m\n\u001b[1;32m     28\u001b[0m         \u001b[0mtic\u001b[0m \u001b[0;34m=\u001b[0m \u001b[0mperf_counter\u001b[0m\u001b[0;34m(\u001b[0m\u001b[0;34m)\u001b[0m\u001b[0;34m\u001b[0m\u001b[0;34m\u001b[0m\u001b[0m\n\u001b[1;32m     29\u001b[0m         \u001b[0mself\u001b[0m\u001b[0;34m.\u001b[0m\u001b[0m_start\u001b[0m\u001b[0;34m(\u001b[0m\u001b[0mmodel\u001b[0m\u001b[0;34m,\u001b[0m \u001b[0marticlesRetriever\u001b[0m\u001b[0;34m)\u001b[0m\u001b[0;34m\u001b[0m\u001b[0;34m\u001b[0m\u001b[0m\n\u001b[0;32m---> 30\u001b[0;31m         \u001b[0mresult\u001b[0m \u001b[0;34m=\u001b[0m \u001b[0mself\u001b[0m\u001b[0;34m.\u001b[0m\u001b[0m_end\u001b[0m\u001b[0;34m(\u001b[0m\u001b[0mmodel\u001b[0m\u001b[0;34m)\u001b[0m\u001b[0;34m\u001b[0m\u001b[0;34m\u001b[0m\u001b[0m\n\u001b[0m\u001b[1;32m     31\u001b[0m         \u001b[0mtoc\u001b[0m \u001b[0;34m=\u001b[0m \u001b[0mperf_counter\u001b[0m\u001b[0;34m(\u001b[0m\u001b[0;34m)\u001b[0m\u001b[0;34m\u001b[0m\u001b[0;34m\u001b[0m\u001b[0m\n\u001b[1;32m     32\u001b[0m \u001b[0;34m\u001b[0m\u001b[0m\n",
            "\u001b[0;32m<ipython-input-322-8f0e8137d1b5>\u001b[0m in \u001b[0;36m_end\u001b[0;34m(self, model)\u001b[0m\n\u001b[1;32m     23\u001b[0m \u001b[0;34m\u001b[0m\u001b[0m\n\u001b[1;32m     24\u001b[0m             \u001b[0mtotest\u001b[0m \u001b[0;34m=\u001b[0m \u001b[0mw1_emb\u001b[0m \u001b[0;34m-\u001b[0m \u001b[0mw2_emb\u001b[0m \u001b[0;34m+\u001b[0m \u001b[0mw3_emb\u001b[0m\u001b[0;34m\u001b[0m\u001b[0;34m\u001b[0m\u001b[0m\n\u001b[0;32m---> 25\u001b[0;31m             \u001b[0mresult\u001b[0m \u001b[0;34m=\u001b[0m \u001b[0msolver\u001b[0m\u001b[0;34m.\u001b[0m\u001b[0mget_nearest_embedding_of\u001b[0m\u001b[0;34m(\u001b[0m\u001b[0mtorch\u001b[0m\u001b[0;34m.\u001b[0m\u001b[0mfrom_numpy\u001b[0m\u001b[0;34m(\u001b[0m\u001b[0mtotest\u001b[0m\u001b[0;34m)\u001b[0m\u001b[0;34m,\u001b[0m \u001b[0;36m13\u001b[0m\u001b[0;34m)\u001b[0m\u001b[0;34m\u001b[0m\u001b[0;34m\u001b[0m\u001b[0m\n\u001b[0m\u001b[1;32m     26\u001b[0m             \u001b[0mfiltered_result\u001b[0m \u001b[0;34m=\u001b[0m \u001b[0mlist\u001b[0m\u001b[0;34m(\u001b[0m\u001b[0mfilter\u001b[0m\u001b[0;34m(\u001b[0m\u001b[0;32mlambda\u001b[0m \u001b[0mx\u001b[0m\u001b[0;34m:\u001b[0m \u001b[0mx\u001b[0m \u001b[0;34m!=\u001b[0m \u001b[0;32mNone\u001b[0m\u001b[0;34m,\u001b[0m \u001b[0mmap\u001b[0m\u001b[0;34m(\u001b[0m\u001b[0;32mlambda\u001b[0m \u001b[0mx\u001b[0m\u001b[0;34m:\u001b[0m \u001b[0mx\u001b[0m\u001b[0;34m[\u001b[0m\u001b[0;36m0\u001b[0m\u001b[0;34m]\u001b[0m \u001b[0;32mif\u001b[0m \u001b[0mx\u001b[0m\u001b[0;34m[\u001b[0m\u001b[0;36m0\u001b[0m\u001b[0;34m]\u001b[0m \u001b[0;32mnot\u001b[0m \u001b[0;32min\u001b[0m \u001b[0;34m[\u001b[0m\u001b[0mw1\u001b[0m\u001b[0;34m,\u001b[0m \u001b[0mw2\u001b[0m\u001b[0;34m,\u001b[0m \u001b[0mw3\u001b[0m\u001b[0;34m]\u001b[0m \u001b[0;32melse\u001b[0m \u001b[0;32mNone\u001b[0m\u001b[0;34m,\u001b[0m \u001b[0mresult\u001b[0m\u001b[0;34m)\u001b[0m\u001b[0;34m)\u001b[0m\u001b[0;34m)\u001b[0m\u001b[0;34m\u001b[0m\u001b[0;34m\u001b[0m\u001b[0m\n\u001b[1;32m     27\u001b[0m \u001b[0;34m\u001b[0m\u001b[0m\n",
            "\u001b[0;32m<ipython-input-311-a7c6bdabc7bf>\u001b[0m in \u001b[0;36mget_nearest_embedding_of\u001b[0;34m(self, embedding, nb)\u001b[0m\n\u001b[1;32m     14\u001b[0m         \u001b[0;32mfor\u001b[0m \u001b[0mtag\u001b[0m\u001b[0;34m,\u001b[0m \u001b[0me\u001b[0m \u001b[0;32min\u001b[0m \u001b[0mself\u001b[0m\u001b[0;34m.\u001b[0m\u001b[0membeddings\u001b[0m\u001b[0;34m.\u001b[0m\u001b[0mitems\u001b[0m\u001b[0;34m(\u001b[0m\u001b[0;34m)\u001b[0m\u001b[0;34m:\u001b[0m\u001b[0;34m\u001b[0m\u001b[0;34m\u001b[0m\u001b[0m\n\u001b[1;32m     15\u001b[0m \u001b[0;34m\u001b[0m\u001b[0m\n\u001b[0;32m---> 16\u001b[0;31m             \u001b[0mcos\u001b[0m \u001b[0;34m=\u001b[0m \u001b[0mtorch\u001b[0m\u001b[0;34m.\u001b[0m\u001b[0mnn\u001b[0m\u001b[0;34m.\u001b[0m\u001b[0mCosineSimilarity\u001b[0m\u001b[0;34m(\u001b[0m\u001b[0mdim\u001b[0m\u001b[0;34m=\u001b[0m\u001b[0;36m0\u001b[0m\u001b[0;34m)\u001b[0m\u001b[0;34m\u001b[0m\u001b[0;34m\u001b[0m\u001b[0m\n\u001b[0m\u001b[1;32m     17\u001b[0m             \u001b[0msimilarity\u001b[0m \u001b[0;34m=\u001b[0m \u001b[0mcos\u001b[0m\u001b[0;34m(\u001b[0m\u001b[0membedding\u001b[0m\u001b[0;34m,\u001b[0m \u001b[0me\u001b[0m\u001b[0;34m)\u001b[0m\u001b[0;34m\u001b[0m\u001b[0;34m\u001b[0m\u001b[0m\n\u001b[1;32m     18\u001b[0m \u001b[0;34m\u001b[0m\u001b[0m\n",
            "\u001b[0;32m/usr/local/lib/python3.7/dist-packages/torch/nn/modules/distance.py\u001b[0m in \u001b[0;36m__init__\u001b[0;34m(self, dim, eps)\u001b[0m\n\u001b[1;32m     70\u001b[0m \u001b[0;34m\u001b[0m\u001b[0m\n\u001b[1;32m     71\u001b[0m     \u001b[0;32mdef\u001b[0m \u001b[0m__init__\u001b[0m\u001b[0;34m(\u001b[0m\u001b[0mself\u001b[0m\u001b[0;34m,\u001b[0m \u001b[0mdim\u001b[0m\u001b[0;34m:\u001b[0m \u001b[0mint\u001b[0m \u001b[0;34m=\u001b[0m \u001b[0;36m1\u001b[0m\u001b[0;34m,\u001b[0m \u001b[0meps\u001b[0m\u001b[0;34m:\u001b[0m \u001b[0mfloat\u001b[0m \u001b[0;34m=\u001b[0m \u001b[0;36m1e-8\u001b[0m\u001b[0;34m)\u001b[0m \u001b[0;34m->\u001b[0m \u001b[0;32mNone\u001b[0m\u001b[0;34m:\u001b[0m\u001b[0;34m\u001b[0m\u001b[0;34m\u001b[0m\u001b[0m\n\u001b[0;32m---> 72\u001b[0;31m         \u001b[0msuper\u001b[0m\u001b[0;34m(\u001b[0m\u001b[0mCosineSimilarity\u001b[0m\u001b[0;34m,\u001b[0m \u001b[0mself\u001b[0m\u001b[0;34m)\u001b[0m\u001b[0;34m.\u001b[0m\u001b[0m__init__\u001b[0m\u001b[0;34m(\u001b[0m\u001b[0;34m)\u001b[0m\u001b[0;34m\u001b[0m\u001b[0;34m\u001b[0m\u001b[0m\n\u001b[0m\u001b[1;32m     73\u001b[0m         \u001b[0mself\u001b[0m\u001b[0;34m.\u001b[0m\u001b[0mdim\u001b[0m \u001b[0;34m=\u001b[0m \u001b[0mdim\u001b[0m\u001b[0;34m\u001b[0m\u001b[0;34m\u001b[0m\u001b[0m\n\u001b[1;32m     74\u001b[0m         \u001b[0mself\u001b[0m\u001b[0;34m.\u001b[0m\u001b[0meps\u001b[0m \u001b[0;34m=\u001b[0m \u001b[0meps\u001b[0m\u001b[0;34m\u001b[0m\u001b[0;34m\u001b[0m\u001b[0m\n",
            "\u001b[0;32m/usr/local/lib/python3.7/dist-packages/torch/nn/modules/module.py\u001b[0m in \u001b[0;36m__init__\u001b[0;34m(self)\u001b[0m\n\u001b[1;32m    268\u001b[0m         \u001b[0mself\u001b[0m\u001b[0;34m.\u001b[0m\u001b[0m_state_dict_hooks\u001b[0m\u001b[0;34m:\u001b[0m \u001b[0mDict\u001b[0m\u001b[0;34m[\u001b[0m\u001b[0mint\u001b[0m\u001b[0;34m,\u001b[0m \u001b[0mCallable\u001b[0m\u001b[0;34m]\u001b[0m \u001b[0;34m=\u001b[0m \u001b[0mOrderedDict\u001b[0m\u001b[0;34m(\u001b[0m\u001b[0;34m)\u001b[0m\u001b[0;34m\u001b[0m\u001b[0;34m\u001b[0m\u001b[0m\n\u001b[1;32m    269\u001b[0m         \u001b[0mself\u001b[0m\u001b[0;34m.\u001b[0m\u001b[0m_load_state_dict_pre_hooks\u001b[0m\u001b[0;34m:\u001b[0m \u001b[0mDict\u001b[0m\u001b[0;34m[\u001b[0m\u001b[0mint\u001b[0m\u001b[0;34m,\u001b[0m \u001b[0mCallable\u001b[0m\u001b[0;34m]\u001b[0m \u001b[0;34m=\u001b[0m \u001b[0mOrderedDict\u001b[0m\u001b[0;34m(\u001b[0m\u001b[0;34m)\u001b[0m\u001b[0;34m\u001b[0m\u001b[0;34m\u001b[0m\u001b[0m\n\u001b[0;32m--> 270\u001b[0;31m         \u001b[0mself\u001b[0m\u001b[0;34m.\u001b[0m\u001b[0m_modules\u001b[0m\u001b[0;34m:\u001b[0m \u001b[0mDict\u001b[0m\u001b[0;34m[\u001b[0m\u001b[0mstr\u001b[0m\u001b[0;34m,\u001b[0m \u001b[0mOptional\u001b[0m\u001b[0;34m[\u001b[0m\u001b[0;34m'Module'\u001b[0m\u001b[0;34m]\u001b[0m\u001b[0;34m]\u001b[0m \u001b[0;34m=\u001b[0m \u001b[0mOrderedDict\u001b[0m\u001b[0;34m(\u001b[0m\u001b[0;34m)\u001b[0m\u001b[0;34m\u001b[0m\u001b[0;34m\u001b[0m\u001b[0m\n\u001b[0m\u001b[1;32m    271\u001b[0m \u001b[0;34m\u001b[0m\u001b[0m\n\u001b[1;32m    272\u001b[0m     \u001b[0mforward\u001b[0m\u001b[0;34m:\u001b[0m \u001b[0mCallable\u001b[0m\u001b[0;34m[\u001b[0m\u001b[0;34m...\u001b[0m\u001b[0;34m,\u001b[0m \u001b[0mAny\u001b[0m\u001b[0;34m]\u001b[0m \u001b[0;34m=\u001b[0m \u001b[0m_forward_unimplemented\u001b[0m\u001b[0;34m\u001b[0m\u001b[0;34m\u001b[0m\u001b[0m\n",
            "\u001b[0;32m/usr/local/lib/python3.7/dist-packages/torch/nn/modules/module.py\u001b[0m in \u001b[0;36m__setattr__\u001b[0;34m(self, name, value)\u001b[0m\n\u001b[1;32m   1209\u001b[0m             \u001b[0mself\u001b[0m\u001b[0;34m.\u001b[0m\u001b[0mregister_parameter\u001b[0m\u001b[0;34m(\u001b[0m\u001b[0mname\u001b[0m\u001b[0;34m,\u001b[0m \u001b[0mvalue\u001b[0m\u001b[0;34m)\u001b[0m\u001b[0;34m\u001b[0m\u001b[0;34m\u001b[0m\u001b[0m\n\u001b[1;32m   1210\u001b[0m         \u001b[0;32melse\u001b[0m\u001b[0;34m:\u001b[0m\u001b[0;34m\u001b[0m\u001b[0;34m\u001b[0m\u001b[0m\n\u001b[0;32m-> 1211\u001b[0;31m             \u001b[0mmodules\u001b[0m \u001b[0;34m=\u001b[0m \u001b[0mself\u001b[0m\u001b[0;34m.\u001b[0m\u001b[0m__dict__\u001b[0m\u001b[0;34m.\u001b[0m\u001b[0mget\u001b[0m\u001b[0;34m(\u001b[0m\u001b[0;34m'_modules'\u001b[0m\u001b[0;34m)\u001b[0m\u001b[0;34m\u001b[0m\u001b[0;34m\u001b[0m\u001b[0m\n\u001b[0m\u001b[1;32m   1212\u001b[0m             \u001b[0;32mif\u001b[0m \u001b[0misinstance\u001b[0m\u001b[0;34m(\u001b[0m\u001b[0mvalue\u001b[0m\u001b[0;34m,\u001b[0m \u001b[0mModule\u001b[0m\u001b[0;34m)\u001b[0m\u001b[0;34m:\u001b[0m\u001b[0;34m\u001b[0m\u001b[0;34m\u001b[0m\u001b[0m\n\u001b[1;32m   1213\u001b[0m                 \u001b[0;32mif\u001b[0m \u001b[0mmodules\u001b[0m \u001b[0;32mis\u001b[0m \u001b[0;32mNone\u001b[0m\u001b[0;34m:\u001b[0m\u001b[0;34m\u001b[0m\u001b[0;34m\u001b[0m\u001b[0m\n",
            "\u001b[0;31mKeyboardInterrupt\u001b[0m: "
          ]
        }
      ]
    },
    {
      "cell_type": "code",
      "source": [
        ""
      ],
      "metadata": {
        "id": "JxyvGzFO_dDQ"
      },
      "execution_count": null,
      "outputs": []
    }
  ]
}