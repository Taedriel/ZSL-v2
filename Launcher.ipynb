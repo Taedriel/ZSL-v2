{
  "cells": [
    {
      "cell_type": "markdown",
      "metadata": {
        "colab_type": "text",
        "id": "view-in-github"
      },
      "source": [
        "<a href=\"https://colab.research.google.com/github/Taedriel/ZSL-v2/blob/startArchiWordEmbedding/Launcher.ipynb\" target=\"_parent\"><img src=\"https://colab.research.google.com/assets/colab-badge.svg\" alt=\"Open In Colab\"/></a>"
      ]
    },
    {
      "cell_type": "code",
      "execution_count": null,
      "metadata": {
        "id": "8DB9CVVe2Vta"
      },
      "outputs": [],
      "source": [
        "!git clone https://github.com/Taedriel/ZSL-v2.git\n",
        "!cd ZSL-v2/ ; git checkout startArchiWordEmbedding; git pull\n",
        "!cd ZSL-v2/ ; pip install -r requirements.txt --quiet --upgrade"
      ]
    },
    {
      "cell_type": "code",
      "execution_count": null,
      "metadata": {
        "id": "b-Np1knU7I-8"
      },
      "outputs": [],
      "source": [
        "import sys\n",
        "sys.path.append(\"/content/ZSL-v2\")\n",
        "sys.path.append(\"/content/ZSL-v2/zsl\")\n",
        "\n",
        "from typing import List\n",
        "from torch import Tensor\n",
        "from Orange.data import Table\n",
        "\n",
        "import zsl"
      ]
    },
    {
      "cell_type": "code",
      "execution_count": null,
      "metadata": {},
      "outputs": [],
      "source": [
        "from Launcher import *"
      ]
    },
    {
      "cell_type": "code",
      "execution_count": null,
      "metadata": {
        "colab": {
          "base_uri": "https://localhost:8080/",
          "height": 358
        },
        "id": "vdcKTAwQ34kT",
        "outputId": "323ebe45-47d0-4f7e-898e-1021416fffc0"
      },
      "outputs": [],
      "source": [
        "if __name__ == \"__main__\":\n",
        "    check_file_presence()\n",
        "    preprocess()\n",
        "    result, _ = run_pipeline(\"examples/002.png\", intermediate_result = False)\n",
        "\n"
      ]
    }
  ],
  "metadata": {
    "colab": {
      "authorship_tag": "ABX9TyMSRrpCpNdkVsRMXM2o5A/r",
      "include_colab_link": true,
      "name": "Launcher.ipynb",
      "provenance": []
    },
    "kernelspec": {
      "display_name": "Python 3.6.9 ('venv': venv)",
      "language": "python",
      "name": "python3"
    },
    "language_info": {
      "name": "python",
      "version": "3.6.9"
    },
    "vscode": {
      "interpreter": {
        "hash": "b6e74e080779f4327d1bc330104efc69320e4fab7c9c1450effce58340d6763d"
      }
    }
  },
  "nbformat": 4,
  "nbformat_minor": 0
}
