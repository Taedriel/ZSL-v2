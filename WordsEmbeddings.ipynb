{
  "nbformat": 4,
  "nbformat_minor": 0,
  "metadata": {
    "colab": {
      "name": "WordsEmbeddings.ipynb",
      "provenance": [],
      "collapsed_sections": [],
      "authorship_tag": "ABX9TyOjpqmYcIoMs15xsLaYG2B6",
      "include_colab_link": true
    },
    "kernelspec": {
      "name": "python3",
      "display_name": "Python 3"
    },
    "language_info": {
      "name": "python"
    }
  },
  "cells": [
    {
      "cell_type": "markdown",
      "metadata": {
        "id": "view-in-github",
        "colab_type": "text"
      },
      "source": [
        "<a href=\"https://colab.research.google.com/github/Taedriel/ZSL-v2/blob/wordEmbedding/WordsEmbeddings.ipynb\" target=\"_parent\"><img src=\"https://colab.research.google.com/assets/colab-badge.svg\" alt=\"Open In Colab\"/></a>"
      ]
    },
    {
      "cell_type": "code",
      "execution_count": 1,
      "metadata": {
        "colab": {
          "base_uri": "https://localhost:8080/"
        },
        "id": "BYxydB4dlTpi",
        "outputId": "fe2b857f-2419-423a-f3ad-22edc696861f"
      },
      "outputs": [
        {
          "output_type": "stream",
          "name": "stdout",
          "text": [
            "Mounted at /content/drive\n",
            "/content/drive/MyDrive/Kingston/ZSL-v2\n"
          ]
        }
      ],
      "source": [
        "from google.colab import drive\n",
        "drive.mount('/content/drive')\n",
        "\n",
        "%cd /content/drive/MyDrive/Kingston/ZSL-v2/"
      ]
    },
    {
      "cell_type": "code",
      "source": [
        "!pip install transformers gensim wget"
      ],
      "metadata": {
        "colab": {
          "base_uri": "https://localhost:8080/"
        },
        "id": "HEq14T6Nl535",
        "outputId": "06df61c2-f110-43aa-d861-f205ed58921b"
      },
      "execution_count": 9,
      "outputs": [
        {
          "output_type": "stream",
          "name": "stdout",
          "text": [
            "Requirement already satisfied: transformers in /usr/local/lib/python3.7/dist-packages (4.19.0)\n",
            "Requirement already satisfied: gensim in /usr/local/lib/python3.7/dist-packages (3.6.0)\n",
            "Collecting wget\n",
            "  Downloading wget-3.2.zip (10 kB)\n",
            "Requirement already satisfied: numpy>=1.17 in /usr/local/lib/python3.7/dist-packages (from transformers) (1.21.6)\n",
            "Requirement already satisfied: pyyaml>=5.1 in /usr/local/lib/python3.7/dist-packages (from transformers) (6.0)\n",
            "Requirement already satisfied: requests in /usr/local/lib/python3.7/dist-packages (from transformers) (2.23.0)\n",
            "Requirement already satisfied: tokenizers!=0.11.3,<0.13,>=0.11.1 in /usr/local/lib/python3.7/dist-packages (from transformers) (0.12.1)\n",
            "Requirement already satisfied: huggingface-hub<1.0,>=0.1.0 in /usr/local/lib/python3.7/dist-packages (from transformers) (0.6.0)\n",
            "Requirement already satisfied: importlib-metadata in /usr/local/lib/python3.7/dist-packages (from transformers) (4.11.3)\n",
            "Requirement already satisfied: tqdm>=4.27 in /usr/local/lib/python3.7/dist-packages (from transformers) (4.64.0)\n",
            "Requirement already satisfied: regex!=2019.12.17 in /usr/local/lib/python3.7/dist-packages (from transformers) (2019.12.20)\n",
            "Requirement already satisfied: packaging>=20.0 in /usr/local/lib/python3.7/dist-packages (from transformers) (21.3)\n",
            "Requirement already satisfied: filelock in /usr/local/lib/python3.7/dist-packages (from transformers) (3.6.0)\n",
            "Requirement already satisfied: typing-extensions>=3.7.4.3 in /usr/local/lib/python3.7/dist-packages (from huggingface-hub<1.0,>=0.1.0->transformers) (4.2.0)\n",
            "Requirement already satisfied: pyparsing!=3.0.5,>=2.0.2 in /usr/local/lib/python3.7/dist-packages (from packaging>=20.0->transformers) (3.0.8)\n",
            "Requirement already satisfied: scipy>=0.18.1 in /usr/local/lib/python3.7/dist-packages (from gensim) (1.4.1)\n",
            "Requirement already satisfied: six>=1.5.0 in /usr/local/lib/python3.7/dist-packages (from gensim) (1.15.0)\n",
            "Requirement already satisfied: smart-open>=1.2.1 in /usr/local/lib/python3.7/dist-packages (from gensim) (6.0.0)\n",
            "Requirement already satisfied: zipp>=0.5 in /usr/local/lib/python3.7/dist-packages (from importlib-metadata->transformers) (3.8.0)\n",
            "Requirement already satisfied: chardet<4,>=3.0.2 in /usr/local/lib/python3.7/dist-packages (from requests->transformers) (3.0.4)\n",
            "Requirement already satisfied: urllib3!=1.25.0,!=1.25.1,<1.26,>=1.21.1 in /usr/local/lib/python3.7/dist-packages (from requests->transformers) (1.24.3)\n",
            "Requirement already satisfied: idna<3,>=2.5 in /usr/local/lib/python3.7/dist-packages (from requests->transformers) (2.10)\n",
            "Requirement already satisfied: certifi>=2017.4.17 in /usr/local/lib/python3.7/dist-packages (from requests->transformers) (2021.10.8)\n",
            "Building wheels for collected packages: wget\n",
            "  Building wheel for wget (setup.py) ... \u001b[?25l\u001b[?25hdone\n",
            "  Created wheel for wget: filename=wget-3.2-py3-none-any.whl size=9675 sha256=8573dfff407f257f6688d172ca826819d1e7eb89847b1970c7473e2fd877a119\n",
            "  Stored in directory: /root/.cache/pip/wheels/a1/b6/7c/0e63e34eb06634181c63adacca38b79ff8f35c37e3c13e3c02\n",
            "Successfully built wget\n",
            "Installing collected packages: wget\n",
            "Successfully installed wget-3.2\n"
          ]
        }
      ]
    },
    {
      "cell_type": "code",
      "source": [
        "!git pull"
      ],
      "metadata": {
        "id": "UVJUSGWQorYj",
        "colab": {
          "base_uri": "https://localhost:8080/"
        },
        "outputId": "59d75348-7f0c-4a84-f54c-b84e4be572c7"
      },
      "execution_count": 3,
      "outputs": [
        {
          "output_type": "stream",
          "name": "stdout",
          "text": [
            "remote: Enumerating objects: 10, done.\u001b[K\n",
            "remote: Counting objects:  10% (1/10)\u001b[K\rremote: Counting objects:  20% (2/10)\u001b[K\rremote: Counting objects:  30% (3/10)\u001b[K\rremote: Counting objects:  40% (4/10)\u001b[K\rremote: Counting objects:  50% (5/10)\u001b[K\rremote: Counting objects:  60% (6/10)\u001b[K\rremote: Counting objects:  70% (7/10)\u001b[K\rremote: Counting objects:  80% (8/10)\u001b[K\rremote: Counting objects:  90% (9/10)\u001b[K\rremote: Counting objects: 100% (10/10)\u001b[K\rremote: Counting objects: 100% (10/10), done.\u001b[K\n",
            "remote: Compressing objects:  16% (1/6)\u001b[K\rremote: Compressing objects:  33% (2/6)\u001b[K\rremote: Compressing objects:  50% (3/6)\u001b[K\rremote: Compressing objects:  66% (4/6)\u001b[K\rremote: Compressing objects:  83% (5/6)\u001b[K\rremote: Compressing objects: 100% (6/6)\u001b[K\rremote: Compressing objects: 100% (6/6), done.\u001b[K\n",
            "remote: Total 6 (delta 1), reused 0 (delta 0), pack-reused 0\u001b[K\n",
            "Unpacking objects: 100% (6/6), done.\n",
            "From https://github.com/Taedriel/ZSL-v2\n",
            "   1d32dea..d684304  wordEmbedding  -> origin/wordEmbedding\n",
            "   3603bd6..0a4103b  googleImageFSL -> origin/googleImageFSL\n",
            "Updating 1d32dea..d684304\n",
            "Fast-forward\n",
            " WordsEmbeddings.ipynb | 101 \u001b[32m++++++++++++++++++++++++++++++++\u001b[m\u001b[31m------------------\u001b[m\n",
            " 1 file changed, 64 insertions(+), 37 deletions(-)\n"
          ]
        }
      ]
    },
    {
      "cell_type": "code",
      "source": [
        "from converter import *\n",
        "model = BERTModel([\"king\", \"queen\", \"man\", \" woman\"])\n",
        "\n",
        "# model.importTagList(\"en-basic\")\n",
        "model.convert()\n",
        "model.export(\"en-basic-Embedded.csv\")\n",
        "\n",
        "# model.computeCoSim()\n",
        "# model.simBetween(\"cat\", \"dog\")\n",
        "\n",
        "man = model.getEmbeddingOf(\"man\")[1]\n",
        "woman = model.getEmbeddingOf(\"woman\")[1]\n",
        "\n",
        "king = model.getEmbeddingOf(\"king\")[1]\n",
        "\n",
        "totest = king.sub(man).add(woman)\n",
        "model.getNearestEmbeddingOf(totest, 3)"
      ],
      "metadata": {
        "colab": {
          "base_uri": "https://localhost:8080/"
        },
        "id": "WOOlgG8koVD6",
        "outputId": "80e266da-88ef-4f01-d619-942d2824937b"
      },
      "execution_count": 31,
      "outputs": [
        {
          "output_type": "stream",
          "name": "stderr",
          "text": [
            "Some weights of the model checkpoint at bert-base-uncased were not used when initializing BertModel: ['cls.predictions.transform.dense.weight', 'cls.predictions.transform.dense.bias', 'cls.predictions.transform.LayerNorm.bias', 'cls.seq_relationship.weight', 'cls.seq_relationship.bias', 'cls.predictions.transform.LayerNorm.weight', 'cls.predictions.bias', 'cls.predictions.decoder.weight']\n",
            "- This IS expected if you are initializing BertModel from the checkpoint of a model trained on another task or with another architecture (e.g. initializing a BertForSequenceClassification model from a BertForPreTraining model).\n",
            "- This IS NOT expected if you are initializing BertModel from the checkpoint of a model that you expect to be exactly identical (initializing a BertForSequenceClassification model from a BertForSequenceClassification model).\n"
          ]
        },
        {
          "output_type": "execute_result",
          "data": {
            "text/plain": [
              "[('woman', tensor(0.7539)),\n",
              " ('queen', tensor(0.7833)),\n",
              " ('king', tensor(0.8733))]"
            ]
          },
          "metadata": {},
          "execution_count": 31
        }
      ]
    },
    {
      "cell_type": "code",
      "source": [
        "# %cd dataset/\n",
        "# !wget https://www.dropbox.com/s/kguufyc2xcdi8yk/lexvec.enwiki%2Bnewscrawl.300d.W.pos.vectors.gz?dl=1\n",
        "# !mv lexvec.enwiki+newscrawl.300d.W.pos.vectors.gz\\?dl\\=1 lexvec_vectors.gz\n",
        "# !gunzip lexvec_vectors.gz\n",
        "# %cd .."
      ],
      "metadata": {
        "id": "5SjLcEdX01Qe",
        "outputId": "c67b4e62-a4d7-43b9-ce14-ae5373d7af33",
        "colab": {
          "base_uri": "https://localhost:8080/"
        }
      },
      "execution_count": 14,
      "outputs": [
        {
          "output_type": "stream",
          "name": "stdout",
          "text": [
            "/content/drive/MyDrive/Kingston/ZSL-v2\n"
          ]
        }
      ]
    },
    {
      "cell_type": "code",
      "source": [
        "from gensim.models import KeyedVectors\n",
        "import gensim.downloader\n",
        "\n",
        "# model = gensim.downloader.load('word2vec-google-news-300')\n",
        "model = KeyedVectors.load_word2vec_format('dataset/lexvec_vectors', binary=False)\n",
        "\n",
        "vocab = model.vocab.keys()"
      ],
      "metadata": {
        "id": "qhPj0R3uyDOQ",
        "outputId": "e7a2796f-ddbe-460f-ecc2-722fd46a7a4c",
        "colab": {
          "base_uri": "https://localhost:8080/"
        }
      },
      "execution_count": 26,
      "outputs": [
        {
          "output_type": "stream",
          "name": "stderr",
          "text": [
            "INFO:gensim.models.utils_any2vec:loading projection weights from dataset/lexvec_vectors\n",
            "INFO:gensim.models.utils_any2vec:loaded (368999, 300) matrix from dataset/lexvec_vectors\n"
          ]
        }
      ]
    },
    {
      "cell_type": "code",
      "source": [
        "from numpy import dot\n",
        "from numpy.linalg import norm\n",
        "\n",
        "\n",
        "sentence = [\"boy\", \"girl\", \"man\", \"woman\"]\n",
        "vectors = []\n",
        "\n",
        "for w in sentence:\n",
        "    if w in vocab:\n",
        "        vectors.append((w, model[w]))\n",
        "    else:\n",
        "        print(\"Word {} not in vocab\".format(w))\n",
        "        vectors.append([0])\n",
        "\n",
        "cosine_sim = lambda a, b : dot(a, b)/(norm(a)*norm(b))\n",
        "\n",
        "king = [i[1] for i in vectors if i[0] == \"boy\"][0]\n",
        "man = [i[1] for i in vectors if i[0] == \"man\"][0]\n",
        "woman = [i[1] for i in vectors if i[0] == \"woman\"][0]\n",
        "queen = [i[1] for i in vectors if i[0] == \"girl\"][0]\n",
        "\n",
        "\n",
        "totest = king - man + woman\n",
        "result = []\n",
        "for i in vectors:\n",
        "    sim = cosine_sim(i[1], totest)\n",
        "    result.append((i[0], sim))\n",
        "\n",
        "result.sort(key = lambda t : t[1])\n",
        "print(result)\n",
        "\n",
        "print(cosine_sim(king, man))\n",
        "print(cosine_sim(queen, woman))\n",
        "\n",
        "# [('man', 0.033279095), ('woman', 0.37786838), ('Queen', 0.55495286), ('King', 0.7780154)]\n",
        "# 0.15777647\n",
        "# 0.20171621"
      ],
      "metadata": {
        "id": "ocPWpqMI3k2j",
        "outputId": "7cf30e01-23c7-47fc-b439-7d058f0263e0",
        "colab": {
          "base_uri": "https://localhost:8080/"
        }
      },
      "execution_count": 30,
      "outputs": [
        {
          "output_type": "stream",
          "name": "stdout",
          "text": [
            "[('man', 0.43875915), ('woman', 0.71617275), ('girl', 0.85282505), ('boy', 0.8802507)]\n",
            "0.6430704\n",
            "0.76060945\n"
          ]
        }
      ]
    }
  ]
}