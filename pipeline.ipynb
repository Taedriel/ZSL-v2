{
  "nbformat": 4,
  "nbformat_minor": 0,
  "metadata": {
    "colab": {
      "name": "pipeline.ipynb",
      "provenance": [],
      "collapsed_sections": [],
      "mount_file_id": "1OR6E3sgk-F1D3bS7Da1dyPBZYeidS0Kr",
      "authorship_tag": "ABX9TyMuQvVohrTtLDug82qutdVd",
      "include_colab_link": true
    },
    "kernelspec": {
      "name": "python3",
      "display_name": "Python 3"
    },
    "language_info": {
      "name": "python"
    },
    "accelerator": "GPU",
    "widgets": {
      "application/vnd.jupyter.widget-state+json": {
        "2bc21b0b04ec49c9a7f4a6e01a057b5d": {
          "model_module": "@jupyter-widgets/controls",
          "model_name": "HBoxModel",
          "model_module_version": "1.5.0",
          "state": {
            "_dom_classes": [],
            "_model_module": "@jupyter-widgets/controls",
            "_model_module_version": "1.5.0",
            "_model_name": "HBoxModel",
            "_view_count": null,
            "_view_module": "@jupyter-widgets/controls",
            "_view_module_version": "1.5.0",
            "_view_name": "HBoxView",
            "box_style": "",
            "children": [
              "IPY_MODEL_39f91c754a214ba3bacfa0b849f2901b",
              "IPY_MODEL_96b12a7f58f34aeaa99efbbf8a25c061",
              "IPY_MODEL_983ab6a96baf405cb768c03cf5e7ab24"
            ],
            "layout": "IPY_MODEL_eac54b62ffb145478c20870a626cff82"
          }
        },
        "39f91c754a214ba3bacfa0b849f2901b": {
          "model_module": "@jupyter-widgets/controls",
          "model_name": "HTMLModel",
          "model_module_version": "1.5.0",
          "state": {
            "_dom_classes": [],
            "_model_module": "@jupyter-widgets/controls",
            "_model_module_version": "1.5.0",
            "_model_name": "HTMLModel",
            "_view_count": null,
            "_view_module": "@jupyter-widgets/controls",
            "_view_module_version": "1.5.0",
            "_view_name": "HTMLView",
            "description": "",
            "description_tooltip": null,
            "layout": "IPY_MODEL_569102c19bb34ee2ac8e4ca827691db3",
            "placeholder": "​",
            "style": "IPY_MODEL_bc80cb213c4241a5aa71af386023ad9c",
            "value": ""
          }
        },
        "96b12a7f58f34aeaa99efbbf8a25c061": {
          "model_module": "@jupyter-widgets/controls",
          "model_name": "FloatProgressModel",
          "model_module_version": "1.5.0",
          "state": {
            "_dom_classes": [],
            "_model_module": "@jupyter-widgets/controls",
            "_model_module_version": "1.5.0",
            "_model_name": "FloatProgressModel",
            "_view_count": null,
            "_view_module": "@jupyter-widgets/controls",
            "_view_module_version": "1.5.0",
            "_view_name": "ProgressView",
            "bar_style": "success",
            "description": "",
            "description_tooltip": null,
            "layout": "IPY_MODEL_a19379e97f704f5697b82413a7797ba8",
            "max": 9464212,
            "min": 0,
            "orientation": "horizontal",
            "style": "IPY_MODEL_e715db7afa1e44bcbbf65d371ea0c75e",
            "value": 9464212
          }
        },
        "983ab6a96baf405cb768c03cf5e7ab24": {
          "model_module": "@jupyter-widgets/controls",
          "model_name": "HTMLModel",
          "model_module_version": "1.5.0",
          "state": {
            "_dom_classes": [],
            "_model_module": "@jupyter-widgets/controls",
            "_model_module_version": "1.5.0",
            "_model_name": "HTMLModel",
            "_view_count": null,
            "_view_module": "@jupyter-widgets/controls",
            "_view_module_version": "1.5.0",
            "_view_name": "HTMLView",
            "description": "",
            "description_tooltip": null,
            "layout": "IPY_MODEL_d70e795798c743228f7103c367474e0c",
            "placeholder": "​",
            "style": "IPY_MODEL_2cb3023c525248b6b0888975fb7c04f7",
            "value": " 9464832/? [00:00&lt;00:00, 32298697.79it/s]"
          }
        },
        "eac54b62ffb145478c20870a626cff82": {
          "model_module": "@jupyter-widgets/base",
          "model_name": "LayoutModel",
          "model_module_version": "1.2.0",
          "state": {
            "_model_module": "@jupyter-widgets/base",
            "_model_module_version": "1.2.0",
            "_model_name": "LayoutModel",
            "_view_count": null,
            "_view_module": "@jupyter-widgets/base",
            "_view_module_version": "1.2.0",
            "_view_name": "LayoutView",
            "align_content": null,
            "align_items": null,
            "align_self": null,
            "border": null,
            "bottom": null,
            "display": null,
            "flex": null,
            "flex_flow": null,
            "grid_area": null,
            "grid_auto_columns": null,
            "grid_auto_flow": null,
            "grid_auto_rows": null,
            "grid_column": null,
            "grid_gap": null,
            "grid_row": null,
            "grid_template_areas": null,
            "grid_template_columns": null,
            "grid_template_rows": null,
            "height": null,
            "justify_content": null,
            "justify_items": null,
            "left": null,
            "margin": null,
            "max_height": null,
            "max_width": null,
            "min_height": null,
            "min_width": null,
            "object_fit": null,
            "object_position": null,
            "order": null,
            "overflow": null,
            "overflow_x": null,
            "overflow_y": null,
            "padding": null,
            "right": null,
            "top": null,
            "visibility": null,
            "width": null
          }
        },
        "569102c19bb34ee2ac8e4ca827691db3": {
          "model_module": "@jupyter-widgets/base",
          "model_name": "LayoutModel",
          "model_module_version": "1.2.0",
          "state": {
            "_model_module": "@jupyter-widgets/base",
            "_model_module_version": "1.2.0",
            "_model_name": "LayoutModel",
            "_view_count": null,
            "_view_module": "@jupyter-widgets/base",
            "_view_module_version": "1.2.0",
            "_view_name": "LayoutView",
            "align_content": null,
            "align_items": null,
            "align_self": null,
            "border": null,
            "bottom": null,
            "display": null,
            "flex": null,
            "flex_flow": null,
            "grid_area": null,
            "grid_auto_columns": null,
            "grid_auto_flow": null,
            "grid_auto_rows": null,
            "grid_column": null,
            "grid_gap": null,
            "grid_row": null,
            "grid_template_areas": null,
            "grid_template_columns": null,
            "grid_template_rows": null,
            "height": null,
            "justify_content": null,
            "justify_items": null,
            "left": null,
            "margin": null,
            "max_height": null,
            "max_width": null,
            "min_height": null,
            "min_width": null,
            "object_fit": null,
            "object_position": null,
            "order": null,
            "overflow": null,
            "overflow_x": null,
            "overflow_y": null,
            "padding": null,
            "right": null,
            "top": null,
            "visibility": null,
            "width": null
          }
        },
        "bc80cb213c4241a5aa71af386023ad9c": {
          "model_module": "@jupyter-widgets/controls",
          "model_name": "DescriptionStyleModel",
          "model_module_version": "1.5.0",
          "state": {
            "_model_module": "@jupyter-widgets/controls",
            "_model_module_version": "1.5.0",
            "_model_name": "DescriptionStyleModel",
            "_view_count": null,
            "_view_module": "@jupyter-widgets/base",
            "_view_module_version": "1.2.0",
            "_view_name": "StyleView",
            "description_width": ""
          }
        },
        "a19379e97f704f5697b82413a7797ba8": {
          "model_module": "@jupyter-widgets/base",
          "model_name": "LayoutModel",
          "model_module_version": "1.2.0",
          "state": {
            "_model_module": "@jupyter-widgets/base",
            "_model_module_version": "1.2.0",
            "_model_name": "LayoutModel",
            "_view_count": null,
            "_view_module": "@jupyter-widgets/base",
            "_view_module_version": "1.2.0",
            "_view_name": "LayoutView",
            "align_content": null,
            "align_items": null,
            "align_self": null,
            "border": null,
            "bottom": null,
            "display": null,
            "flex": null,
            "flex_flow": null,
            "grid_area": null,
            "grid_auto_columns": null,
            "grid_auto_flow": null,
            "grid_auto_rows": null,
            "grid_column": null,
            "grid_gap": null,
            "grid_row": null,
            "grid_template_areas": null,
            "grid_template_columns": null,
            "grid_template_rows": null,
            "height": null,
            "justify_content": null,
            "justify_items": null,
            "left": null,
            "margin": null,
            "max_height": null,
            "max_width": null,
            "min_height": null,
            "min_width": null,
            "object_fit": null,
            "object_position": null,
            "order": null,
            "overflow": null,
            "overflow_x": null,
            "overflow_y": null,
            "padding": null,
            "right": null,
            "top": null,
            "visibility": null,
            "width": null
          }
        },
        "e715db7afa1e44bcbbf65d371ea0c75e": {
          "model_module": "@jupyter-widgets/controls",
          "model_name": "ProgressStyleModel",
          "model_module_version": "1.5.0",
          "state": {
            "_model_module": "@jupyter-widgets/controls",
            "_model_module_version": "1.5.0",
            "_model_name": "ProgressStyleModel",
            "_view_count": null,
            "_view_module": "@jupyter-widgets/base",
            "_view_module_version": "1.2.0",
            "_view_name": "StyleView",
            "bar_color": null,
            "description_width": ""
          }
        },
        "d70e795798c743228f7103c367474e0c": {
          "model_module": "@jupyter-widgets/base",
          "model_name": "LayoutModel",
          "model_module_version": "1.2.0",
          "state": {
            "_model_module": "@jupyter-widgets/base",
            "_model_module_version": "1.2.0",
            "_model_name": "LayoutModel",
            "_view_count": null,
            "_view_module": "@jupyter-widgets/base",
            "_view_module_version": "1.2.0",
            "_view_name": "LayoutView",
            "align_content": null,
            "align_items": null,
            "align_self": null,
            "border": null,
            "bottom": null,
            "display": null,
            "flex": null,
            "flex_flow": null,
            "grid_area": null,
            "grid_auto_columns": null,
            "grid_auto_flow": null,
            "grid_auto_rows": null,
            "grid_column": null,
            "grid_gap": null,
            "grid_row": null,
            "grid_template_areas": null,
            "grid_template_columns": null,
            "grid_template_rows": null,
            "height": null,
            "justify_content": null,
            "justify_items": null,
            "left": null,
            "margin": null,
            "max_height": null,
            "max_width": null,
            "min_height": null,
            "min_width": null,
            "object_fit": null,
            "object_position": null,
            "order": null,
            "overflow": null,
            "overflow_x": null,
            "overflow_y": null,
            "padding": null,
            "right": null,
            "top": null,
            "visibility": null,
            "width": null
          }
        },
        "2cb3023c525248b6b0888975fb7c04f7": {
          "model_module": "@jupyter-widgets/controls",
          "model_name": "DescriptionStyleModel",
          "model_module_version": "1.5.0",
          "state": {
            "_model_module": "@jupyter-widgets/controls",
            "_model_module_version": "1.5.0",
            "_model_name": "DescriptionStyleModel",
            "_view_count": null,
            "_view_module": "@jupyter-widgets/base",
            "_view_module_version": "1.2.0",
            "_view_name": "StyleView",
            "description_width": ""
          }
        },
        "62e1109271a44d49ba7a261e0dcb2b36": {
          "model_module": "@jupyter-widgets/controls",
          "model_name": "HBoxModel",
          "model_module_version": "1.5.0",
          "state": {
            "_dom_classes": [],
            "_model_module": "@jupyter-widgets/controls",
            "_model_module_version": "1.5.0",
            "_model_name": "HBoxModel",
            "_view_count": null,
            "_view_module": "@jupyter-widgets/controls",
            "_view_module_version": "1.5.0",
            "_view_name": "HBoxView",
            "box_style": "",
            "children": [
              "IPY_MODEL_6754a9d04051405aa8829e8ed503620d",
              "IPY_MODEL_5cb22c18427246e088ed88ba6fafd3fb",
              "IPY_MODEL_32ab1c4f20c14d89866538362991b65e"
            ],
            "layout": "IPY_MODEL_0ab0d9b79f1240459df74cc908cbdfda"
          }
        },
        "6754a9d04051405aa8829e8ed503620d": {
          "model_module": "@jupyter-widgets/controls",
          "model_name": "HTMLModel",
          "model_module_version": "1.5.0",
          "state": {
            "_dom_classes": [],
            "_model_module": "@jupyter-widgets/controls",
            "_model_module_version": "1.5.0",
            "_model_name": "HTMLModel",
            "_view_count": null,
            "_view_module": "@jupyter-widgets/controls",
            "_view_module_version": "1.5.0",
            "_view_name": "HTMLView",
            "description": "",
            "description_tooltip": null,
            "layout": "IPY_MODEL_0820ae0b0a80426fa33770462200f722",
            "placeholder": "​",
            "style": "IPY_MODEL_c763ff8a80ca448b80f0c68f3508bc84",
            "value": ""
          }
        },
        "5cb22c18427246e088ed88ba6fafd3fb": {
          "model_module": "@jupyter-widgets/controls",
          "model_name": "FloatProgressModel",
          "model_module_version": "1.5.0",
          "state": {
            "_dom_classes": [],
            "_model_module": "@jupyter-widgets/controls",
            "_model_module_version": "1.5.0",
            "_model_name": "FloatProgressModel",
            "_view_count": null,
            "_view_module": "@jupyter-widgets/controls",
            "_view_module_version": "1.5.0",
            "_view_name": "ProgressView",
            "bar_style": "success",
            "description": "",
            "description_tooltip": null,
            "layout": "IPY_MODEL_c692ec668c7b469298be14de31f138c0",
            "max": 6462886,
            "min": 0,
            "orientation": "horizontal",
            "style": "IPY_MODEL_6f58427b0aaa4d60a47ba64db5fdf527",
            "value": 6462886
          }
        },
        "32ab1c4f20c14d89866538362991b65e": {
          "model_module": "@jupyter-widgets/controls",
          "model_name": "HTMLModel",
          "model_module_version": "1.5.0",
          "state": {
            "_dom_classes": [],
            "_model_module": "@jupyter-widgets/controls",
            "_model_module_version": "1.5.0",
            "_model_name": "HTMLModel",
            "_view_count": null,
            "_view_module": "@jupyter-widgets/controls",
            "_view_module_version": "1.5.0",
            "_view_name": "HTMLView",
            "description": "",
            "description_tooltip": null,
            "layout": "IPY_MODEL_fd2163c877b04542b9a60e23bb2795ce",
            "placeholder": "​",
            "style": "IPY_MODEL_bfcbcc538095423eb99271c7ac474b71",
            "value": " 6463488/? [00:00&lt;00:00, 17857133.60it/s]"
          }
        },
        "0ab0d9b79f1240459df74cc908cbdfda": {
          "model_module": "@jupyter-widgets/base",
          "model_name": "LayoutModel",
          "model_module_version": "1.2.0",
          "state": {
            "_model_module": "@jupyter-widgets/base",
            "_model_module_version": "1.2.0",
            "_model_name": "LayoutModel",
            "_view_count": null,
            "_view_module": "@jupyter-widgets/base",
            "_view_module_version": "1.2.0",
            "_view_name": "LayoutView",
            "align_content": null,
            "align_items": null,
            "align_self": null,
            "border": null,
            "bottom": null,
            "display": null,
            "flex": null,
            "flex_flow": null,
            "grid_area": null,
            "grid_auto_columns": null,
            "grid_auto_flow": null,
            "grid_auto_rows": null,
            "grid_column": null,
            "grid_gap": null,
            "grid_row": null,
            "grid_template_areas": null,
            "grid_template_columns": null,
            "grid_template_rows": null,
            "height": null,
            "justify_content": null,
            "justify_items": null,
            "left": null,
            "margin": null,
            "max_height": null,
            "max_width": null,
            "min_height": null,
            "min_width": null,
            "object_fit": null,
            "object_position": null,
            "order": null,
            "overflow": null,
            "overflow_x": null,
            "overflow_y": null,
            "padding": null,
            "right": null,
            "top": null,
            "visibility": null,
            "width": null
          }
        },
        "0820ae0b0a80426fa33770462200f722": {
          "model_module": "@jupyter-widgets/base",
          "model_name": "LayoutModel",
          "model_module_version": "1.2.0",
          "state": {
            "_model_module": "@jupyter-widgets/base",
            "_model_module_version": "1.2.0",
            "_model_name": "LayoutModel",
            "_view_count": null,
            "_view_module": "@jupyter-widgets/base",
            "_view_module_version": "1.2.0",
            "_view_name": "LayoutView",
            "align_content": null,
            "align_items": null,
            "align_self": null,
            "border": null,
            "bottom": null,
            "display": null,
            "flex": null,
            "flex_flow": null,
            "grid_area": null,
            "grid_auto_columns": null,
            "grid_auto_flow": null,
            "grid_auto_rows": null,
            "grid_column": null,
            "grid_gap": null,
            "grid_row": null,
            "grid_template_areas": null,
            "grid_template_columns": null,
            "grid_template_rows": null,
            "height": null,
            "justify_content": null,
            "justify_items": null,
            "left": null,
            "margin": null,
            "max_height": null,
            "max_width": null,
            "min_height": null,
            "min_width": null,
            "object_fit": null,
            "object_position": null,
            "order": null,
            "overflow": null,
            "overflow_x": null,
            "overflow_y": null,
            "padding": null,
            "right": null,
            "top": null,
            "visibility": null,
            "width": null
          }
        },
        "c763ff8a80ca448b80f0c68f3508bc84": {
          "model_module": "@jupyter-widgets/controls",
          "model_name": "DescriptionStyleModel",
          "model_module_version": "1.5.0",
          "state": {
            "_model_module": "@jupyter-widgets/controls",
            "_model_module_version": "1.5.0",
            "_model_name": "DescriptionStyleModel",
            "_view_count": null,
            "_view_module": "@jupyter-widgets/base",
            "_view_module_version": "1.2.0",
            "_view_name": "StyleView",
            "description_width": ""
          }
        },
        "c692ec668c7b469298be14de31f138c0": {
          "model_module": "@jupyter-widgets/base",
          "model_name": "LayoutModel",
          "model_module_version": "1.2.0",
          "state": {
            "_model_module": "@jupyter-widgets/base",
            "_model_module_version": "1.2.0",
            "_model_name": "LayoutModel",
            "_view_count": null,
            "_view_module": "@jupyter-widgets/base",
            "_view_module_version": "1.2.0",
            "_view_name": "LayoutView",
            "align_content": null,
            "align_items": null,
            "align_self": null,
            "border": null,
            "bottom": null,
            "display": null,
            "flex": null,
            "flex_flow": null,
            "grid_area": null,
            "grid_auto_columns": null,
            "grid_auto_flow": null,
            "grid_auto_rows": null,
            "grid_column": null,
            "grid_gap": null,
            "grid_row": null,
            "grid_template_areas": null,
            "grid_template_columns": null,
            "grid_template_rows": null,
            "height": null,
            "justify_content": null,
            "justify_items": null,
            "left": null,
            "margin": null,
            "max_height": null,
            "max_width": null,
            "min_height": null,
            "min_width": null,
            "object_fit": null,
            "object_position": null,
            "order": null,
            "overflow": null,
            "overflow_x": null,
            "overflow_y": null,
            "padding": null,
            "right": null,
            "top": null,
            "visibility": null,
            "width": null
          }
        },
        "6f58427b0aaa4d60a47ba64db5fdf527": {
          "model_module": "@jupyter-widgets/controls",
          "model_name": "ProgressStyleModel",
          "model_module_version": "1.5.0",
          "state": {
            "_model_module": "@jupyter-widgets/controls",
            "_model_module_version": "1.5.0",
            "_model_name": "ProgressStyleModel",
            "_view_count": null,
            "_view_module": "@jupyter-widgets/base",
            "_view_module_version": "1.2.0",
            "_view_name": "StyleView",
            "bar_color": null,
            "description_width": ""
          }
        },
        "fd2163c877b04542b9a60e23bb2795ce": {
          "model_module": "@jupyter-widgets/base",
          "model_name": "LayoutModel",
          "model_module_version": "1.2.0",
          "state": {
            "_model_module": "@jupyter-widgets/base",
            "_model_module_version": "1.2.0",
            "_model_name": "LayoutModel",
            "_view_count": null,
            "_view_module": "@jupyter-widgets/base",
            "_view_module_version": "1.2.0",
            "_view_name": "LayoutView",
            "align_content": null,
            "align_items": null,
            "align_self": null,
            "border": null,
            "bottom": null,
            "display": null,
            "flex": null,
            "flex_flow": null,
            "grid_area": null,
            "grid_auto_columns": null,
            "grid_auto_flow": null,
            "grid_auto_rows": null,
            "grid_column": null,
            "grid_gap": null,
            "grid_row": null,
            "grid_template_areas": null,
            "grid_template_columns": null,
            "grid_template_rows": null,
            "height": null,
            "justify_content": null,
            "justify_items": null,
            "left": null,
            "margin": null,
            "max_height": null,
            "max_width": null,
            "min_height": null,
            "min_width": null,
            "object_fit": null,
            "object_position": null,
            "order": null,
            "overflow": null,
            "overflow_x": null,
            "overflow_y": null,
            "padding": null,
            "right": null,
            "top": null,
            "visibility": null,
            "width": null
          }
        },
        "bfcbcc538095423eb99271c7ac474b71": {
          "model_module": "@jupyter-widgets/controls",
          "model_name": "DescriptionStyleModel",
          "model_module_version": "1.5.0",
          "state": {
            "_model_module": "@jupyter-widgets/controls",
            "_model_module_version": "1.5.0",
            "_model_name": "DescriptionStyleModel",
            "_view_count": null,
            "_view_module": "@jupyter-widgets/base",
            "_view_module_version": "1.2.0",
            "_view_name": "StyleView",
            "description_width": ""
          }
        },
        "9cf59ab676a249b19fcaf6cc796b457a": {
          "model_module": "@jupyter-widgets/controls",
          "model_name": "HBoxModel",
          "model_module_version": "1.5.0",
          "state": {
            "_dom_classes": [],
            "_model_module": "@jupyter-widgets/controls",
            "_model_module_version": "1.5.0",
            "_model_name": "HBoxModel",
            "_view_count": null,
            "_view_module": "@jupyter-widgets/controls",
            "_view_module_version": "1.5.0",
            "_view_name": "HBoxView",
            "box_style": "",
            "children": [
              "IPY_MODEL_9af20a02e3534abe84411702d39b52c0",
              "IPY_MODEL_83aedc69a5164b83b4b43929d577ef95",
              "IPY_MODEL_1671d7ac21774157994b5afcc0ec10a6"
            ],
            "layout": "IPY_MODEL_ad5a7c929bf945d89702466b6917a554"
          }
        },
        "9af20a02e3534abe84411702d39b52c0": {
          "model_module": "@jupyter-widgets/controls",
          "model_name": "HTMLModel",
          "model_module_version": "1.5.0",
          "state": {
            "_dom_classes": [],
            "_model_module": "@jupyter-widgets/controls",
            "_model_module_version": "1.5.0",
            "_model_name": "HTMLModel",
            "_view_count": null,
            "_view_module": "@jupyter-widgets/controls",
            "_view_module_version": "1.5.0",
            "_view_name": "HTMLView",
            "description": "",
            "description_tooltip": null,
            "layout": "IPY_MODEL_383f84fcf7894137a223d68cd524d01c",
            "placeholder": "​",
            "style": "IPY_MODEL_b64b3271d6fe4cc9998f466883b86122",
            "value": "100%"
          }
        },
        "83aedc69a5164b83b4b43929d577ef95": {
          "model_module": "@jupyter-widgets/controls",
          "model_name": "FloatProgressModel",
          "model_module_version": "1.5.0",
          "state": {
            "_dom_classes": [],
            "_model_module": "@jupyter-widgets/controls",
            "_model_module_version": "1.5.0",
            "_model_name": "FloatProgressModel",
            "_view_count": null,
            "_view_module": "@jupyter-widgets/controls",
            "_view_module_version": "1.5.0",
            "_view_name": "ProgressView",
            "bar_style": "success",
            "description": "",
            "description_tooltip": null,
            "layout": "IPY_MODEL_1cd59b2af72241538ddf339890ee4f2f",
            "max": 46830571,
            "min": 0,
            "orientation": "horizontal",
            "style": "IPY_MODEL_fd2b85962a05453bb1ef94a4af3ffd22",
            "value": 46830571
          }
        },
        "1671d7ac21774157994b5afcc0ec10a6": {
          "model_module": "@jupyter-widgets/controls",
          "model_name": "HTMLModel",
          "model_module_version": "1.5.0",
          "state": {
            "_dom_classes": [],
            "_model_module": "@jupyter-widgets/controls",
            "_model_module_version": "1.5.0",
            "_model_name": "HTMLModel",
            "_view_count": null,
            "_view_module": "@jupyter-widgets/controls",
            "_view_module_version": "1.5.0",
            "_view_name": "HTMLView",
            "description": "",
            "description_tooltip": null,
            "layout": "IPY_MODEL_2d8354d7535a46f5bf831c741f17debe",
            "placeholder": "​",
            "style": "IPY_MODEL_3ca94e4f63a94ca89af0ccdf8837a61b",
            "value": " 44.7M/44.7M [00:00&lt;00:00, 73.8MB/s]"
          }
        },
        "ad5a7c929bf945d89702466b6917a554": {
          "model_module": "@jupyter-widgets/base",
          "model_name": "LayoutModel",
          "model_module_version": "1.2.0",
          "state": {
            "_model_module": "@jupyter-widgets/base",
            "_model_module_version": "1.2.0",
            "_model_name": "LayoutModel",
            "_view_count": null,
            "_view_module": "@jupyter-widgets/base",
            "_view_module_version": "1.2.0",
            "_view_name": "LayoutView",
            "align_content": null,
            "align_items": null,
            "align_self": null,
            "border": null,
            "bottom": null,
            "display": null,
            "flex": null,
            "flex_flow": null,
            "grid_area": null,
            "grid_auto_columns": null,
            "grid_auto_flow": null,
            "grid_auto_rows": null,
            "grid_column": null,
            "grid_gap": null,
            "grid_row": null,
            "grid_template_areas": null,
            "grid_template_columns": null,
            "grid_template_rows": null,
            "height": null,
            "justify_content": null,
            "justify_items": null,
            "left": null,
            "margin": null,
            "max_height": null,
            "max_width": null,
            "min_height": null,
            "min_width": null,
            "object_fit": null,
            "object_position": null,
            "order": null,
            "overflow": null,
            "overflow_x": null,
            "overflow_y": null,
            "padding": null,
            "right": null,
            "top": null,
            "visibility": null,
            "width": null
          }
        },
        "383f84fcf7894137a223d68cd524d01c": {
          "model_module": "@jupyter-widgets/base",
          "model_name": "LayoutModel",
          "model_module_version": "1.2.0",
          "state": {
            "_model_module": "@jupyter-widgets/base",
            "_model_module_version": "1.2.0",
            "_model_name": "LayoutModel",
            "_view_count": null,
            "_view_module": "@jupyter-widgets/base",
            "_view_module_version": "1.2.0",
            "_view_name": "LayoutView",
            "align_content": null,
            "align_items": null,
            "align_self": null,
            "border": null,
            "bottom": null,
            "display": null,
            "flex": null,
            "flex_flow": null,
            "grid_area": null,
            "grid_auto_columns": null,
            "grid_auto_flow": null,
            "grid_auto_rows": null,
            "grid_column": null,
            "grid_gap": null,
            "grid_row": null,
            "grid_template_areas": null,
            "grid_template_columns": null,
            "grid_template_rows": null,
            "height": null,
            "justify_content": null,
            "justify_items": null,
            "left": null,
            "margin": null,
            "max_height": null,
            "max_width": null,
            "min_height": null,
            "min_width": null,
            "object_fit": null,
            "object_position": null,
            "order": null,
            "overflow": null,
            "overflow_x": null,
            "overflow_y": null,
            "padding": null,
            "right": null,
            "top": null,
            "visibility": null,
            "width": null
          }
        },
        "b64b3271d6fe4cc9998f466883b86122": {
          "model_module": "@jupyter-widgets/controls",
          "model_name": "DescriptionStyleModel",
          "model_module_version": "1.5.0",
          "state": {
            "_model_module": "@jupyter-widgets/controls",
            "_model_module_version": "1.5.0",
            "_model_name": "DescriptionStyleModel",
            "_view_count": null,
            "_view_module": "@jupyter-widgets/base",
            "_view_module_version": "1.2.0",
            "_view_name": "StyleView",
            "description_width": ""
          }
        },
        "1cd59b2af72241538ddf339890ee4f2f": {
          "model_module": "@jupyter-widgets/base",
          "model_name": "LayoutModel",
          "model_module_version": "1.2.0",
          "state": {
            "_model_module": "@jupyter-widgets/base",
            "_model_module_version": "1.2.0",
            "_model_name": "LayoutModel",
            "_view_count": null,
            "_view_module": "@jupyter-widgets/base",
            "_view_module_version": "1.2.0",
            "_view_name": "LayoutView",
            "align_content": null,
            "align_items": null,
            "align_self": null,
            "border": null,
            "bottom": null,
            "display": null,
            "flex": null,
            "flex_flow": null,
            "grid_area": null,
            "grid_auto_columns": null,
            "grid_auto_flow": null,
            "grid_auto_rows": null,
            "grid_column": null,
            "grid_gap": null,
            "grid_row": null,
            "grid_template_areas": null,
            "grid_template_columns": null,
            "grid_template_rows": null,
            "height": null,
            "justify_content": null,
            "justify_items": null,
            "left": null,
            "margin": null,
            "max_height": null,
            "max_width": null,
            "min_height": null,
            "min_width": null,
            "object_fit": null,
            "object_position": null,
            "order": null,
            "overflow": null,
            "overflow_x": null,
            "overflow_y": null,
            "padding": null,
            "right": null,
            "top": null,
            "visibility": null,
            "width": null
          }
        },
        "fd2b85962a05453bb1ef94a4af3ffd22": {
          "model_module": "@jupyter-widgets/controls",
          "model_name": "ProgressStyleModel",
          "model_module_version": "1.5.0",
          "state": {
            "_model_module": "@jupyter-widgets/controls",
            "_model_module_version": "1.5.0",
            "_model_name": "ProgressStyleModel",
            "_view_count": null,
            "_view_module": "@jupyter-widgets/base",
            "_view_module_version": "1.2.0",
            "_view_name": "StyleView",
            "bar_color": null,
            "description_width": ""
          }
        },
        "2d8354d7535a46f5bf831c741f17debe": {
          "model_module": "@jupyter-widgets/base",
          "model_name": "LayoutModel",
          "model_module_version": "1.2.0",
          "state": {
            "_model_module": "@jupyter-widgets/base",
            "_model_module_version": "1.2.0",
            "_model_name": "LayoutModel",
            "_view_count": null,
            "_view_module": "@jupyter-widgets/base",
            "_view_module_version": "1.2.0",
            "_view_name": "LayoutView",
            "align_content": null,
            "align_items": null,
            "align_self": null,
            "border": null,
            "bottom": null,
            "display": null,
            "flex": null,
            "flex_flow": null,
            "grid_area": null,
            "grid_auto_columns": null,
            "grid_auto_flow": null,
            "grid_auto_rows": null,
            "grid_column": null,
            "grid_gap": null,
            "grid_row": null,
            "grid_template_areas": null,
            "grid_template_columns": null,
            "grid_template_rows": null,
            "height": null,
            "justify_content": null,
            "justify_items": null,
            "left": null,
            "margin": null,
            "max_height": null,
            "max_width": null,
            "min_height": null,
            "min_width": null,
            "object_fit": null,
            "object_position": null,
            "order": null,
            "overflow": null,
            "overflow_x": null,
            "overflow_y": null,
            "padding": null,
            "right": null,
            "top": null,
            "visibility": null,
            "width": null
          }
        },
        "3ca94e4f63a94ca89af0ccdf8837a61b": {
          "model_module": "@jupyter-widgets/controls",
          "model_name": "DescriptionStyleModel",
          "model_module_version": "1.5.0",
          "state": {
            "_model_module": "@jupyter-widgets/controls",
            "_model_module_version": "1.5.0",
            "_model_name": "DescriptionStyleModel",
            "_view_count": null,
            "_view_module": "@jupyter-widgets/base",
            "_view_module_version": "1.2.0",
            "_view_name": "StyleView",
            "description_width": ""
          }
        }
      }
    }
  },
  "cells": [
    {
      "cell_type": "markdown",
      "metadata": {
        "id": "view-in-github",
        "colab_type": "text"
      },
      "source": [
        "<a href=\"https://colab.research.google.com/github/Taedriel/ZSL-v2/blob/googleImageFSL/pipeline.ipynb\" target=\"_parent\"><img src=\"https://colab.research.google.com/assets/colab-badge.svg\" alt=\"Open In Colab\"/></a>"
      ]
    },
    {
      "cell_type": "code",
      "execution_count": null,
      "metadata": {
        "id": "RxCGioBVtE6f"
      },
      "outputs": [],
      "source": [
        "!pip install selenium\n",
        "!pip install -U sklearn\n",
        "!pip install scikit-learn-intelex\n",
        "!pip install easyfsl\n",
        "!pip install Pillow\n",
        "!pip install pyod\n",
        "\n",
        "!cd \"./drive/MyDrive/Colab Notebooks/pipeline\" && pip install -r requirements.txt\n",
        "\n",
        "!apt install chromium-chromedriver\n",
        "!cp /usr/lib/chromium-browser/chromedriver /usr/bin\n",
        "import sys\n",
        "sys.path.insert(0,'/usr/lib/chromium-browser/chromedriver')"
      ]
    },
    {
      "cell_type": "code",
      "source": [
        "!sudo apt install python3-sklearn "
      ],
      "metadata": {
        "id": "-icuaXCHgdOH"
      },
      "execution_count": null,
      "outputs": []
    },
    {
      "cell_type": "code",
      "source": [
        "import pandas as pd, numpy as np\n",
        "import matplotlib.pyplot as plt\n",
        "import os, itertools, shutil, requests, webbrowser, urllib.request, time, random\n",
        "import PIL.Image\n",
        "from IPython.core.display import Image\n",
        "\n",
        "from selenium import webdriver\n",
        "from bs4 import BeautifulSoup\n",
        "\n",
        "import torch\n",
        "from torch import nn, optim\n",
        "from torch.utils.data import Dataset, DataLoader\n",
        "from torchvision import transforms\n",
        "from torchvision import utils\n",
        "from torchvision.datasets import Omniglot\n",
        "from torchvision.models import resnet18\n",
        "from torch.autograd import Variable\n",
        "import torch.nn.functional as F\n",
        "\n",
        "from tqdm import tqdm\n",
        "%matplotlib inline\n",
        "\n",
        "from easyfsl.samplers import TaskSampler\n",
        "from easyfsl.utils import plot_images, sliding_average"
      ],
      "metadata": {
        "id": "xMwX0RACteAV"
      },
      "execution_count": 4,
      "outputs": []
    },
    {
      "cell_type": "code",
      "source": [
        "if not open(\"/content/drive/MyDrive/Colab Notebooks/pipeline/model/resnet18_with_pretraining.tar\", \"r\"):\n",
        "  os.system('wget https://public-sicara.s3.eu-central-1.amazonaws.com/easy-fsl/resnet18_with_pretraining.tar')"
      ],
      "metadata": {
        "id": "b4ohN5X8QKBl"
      },
      "execution_count": null,
      "outputs": []
    },
    {
      "cell_type": "code",
      "source": [
        "PATH = \"/content/drive/MyDrive/Colab Notebooks/pipeline/\"\n",
        "PATH_IMAGES = \"/content/drive/MyDrive/Colab Notebooks/pipeline/images/\"\n",
        "PATH_MODEL = \"/content/drive/MyDrive/Colab Notebooks/pipeline/model/\"\n",
        "\n",
        "globalSize = 20\n",
        "LEN_FOR_ONE_SCROLL = 20\n",
        "retreivalNotDone = False\n",
        "trainingNeeded = False"
      ],
      "metadata": {
        "id": "lfOI7oJptom3"
      },
      "execution_count": 14,
      "outputs": []
    },
    {
      "cell_type": "code",
      "source": [
        "def createClasses(classesFile):\n",
        "\n",
        "  classes = \"\"\n",
        "  classesTr = []\n",
        "  classesTe = []\n",
        "  classeForSimilarity = []\n",
        "  index=0\n",
        "\n",
        "  for animal in classesFile.readlines():\n",
        "\n",
        "    animal = animal.strip(\"\\n\").replace(\" \", \"\")\n",
        "    if animal!=\"list\":\n",
        "      classes+=animal+\", \"\n",
        "\n",
        "      if index%2:\n",
        "        classesTe.append(animal)\n",
        "      else:\n",
        "        classesTr.append(animal)\n",
        "      index+=1\n",
        "\n",
        "  ridx = random.randint(0, len(classesTe)-1)\n",
        "  classeForSimilarity.append(classesTe[ridx])\n",
        "  classesTe.remove(classeForSimilarity[0])\n",
        "\n",
        "  print(\"training / testing :\", classesTr[0:5])\n",
        "\n",
        "  return classes, classesTr[0:5], classesTe, classeForSimilarity"
      ],
      "metadata": {
        "id": "VfqxDwYmjW-S"
      },
      "execution_count": null,
      "outputs": []
    },
    {
      "cell_type": "code",
      "source": [
        "classesFile = open(PATH_MODEL+\"animals.txt\")\n",
        "classes, classesTr, _, i = createClasses(classesFile)"
      ],
      "metadata": {
        "colab": {
          "base_uri": "https://localhost:8080/"
        },
        "id": "6PDSp38TYh4K",
        "outputId": "f8226efd-2ddc-4c2f-de6b-72657ccfc28a"
      },
      "execution_count": null,
      "outputs": [
        {
          "output_type": "stream",
          "name": "stdout",
          "text": [
            "training / testing : ['Aardvark', 'Africanbuffalo', 'Africanleopard', 'Alligator', 'Americanrobin']\n"
          ]
        }
      ]
    },
    {
      "cell_type": "markdown",
      "source": [
        "--- IMAGE RETRIEVAL ---"
      ],
      "metadata": {
        "id": "jSc4ewvWt-rx"
      }
    },
    {
      "cell_type": "code",
      "source": [
        "\"\"\"\n",
        "thumbnail / jpg (compression) may be an issue\n",
        "\"\"\"\n",
        "\n",
        "def getParser(classeName):\n",
        "\n",
        "  site = 'https://www.google.com/search?tbm=isch&q='+classeName\n",
        "\n",
        "  chrome_options = webdriver.ChromeOptions()\n",
        "  chrome_options.add_argument('--headless')\n",
        "  chrome_options.add_argument('--no-sandbox')\n",
        "  chrome_options.add_argument('--disable-dev-shm-usage')\n",
        "\n",
        "  driver = webdriver.Chrome('chromedriver', options=chrome_options)\n",
        "  driver.get(site)\n",
        "  driver.execute_script(\"window.scrollBy(0, document.body.scrollHeight)\")\n",
        "  soup = BeautifulSoup(driver.page_source, 'html.parser')\n",
        "  driver.close()\n",
        "\n",
        "  return soup\n",
        "\n",
        "\n",
        "def getClassesImagesURLLIB():\n",
        "\n",
        "  imagesNumber = 0\n",
        "\n",
        "  shutil.rmtree(PATH_IMAGES, ignore_errors=False)\n",
        "  os.makedirs(PATH_IMAGES)\n",
        "\n",
        "  for classe in classes.split(\",\"):\n",
        "\n",
        "    try:\n",
        "      classeName = classe.replace(\" \", \"\")\n",
        "      os.makedirs(PATH_IMAGES+classeName)\n",
        "\n",
        "      soup = getParser(classeName)\n",
        "      img_tags = soup.find_all(\"img\", class_=\"rg_i\")\n",
        "      for index in range(0, len(img_tags)):\n",
        "        try:\n",
        "            urllib.request.urlretrieve(img_tags[index]['src'], PATH_IMAGES+classeName+\"/\"+str(classeName+str(index))+\".jpg\")\n",
        "            imagesNumber+=1\n",
        "        except Exception as e:\n",
        "            pass\n",
        "    except:\n",
        "      pass\n",
        "\n",
        "  print(str(imagesNumber) + \" images were downloaded. \" + str(imagesNumber/len(classes.split(\",\"))) + \" per classes\")"
      ],
      "metadata": {
        "id": "62epbrFRtxhG"
      },
      "execution_count": null,
      "outputs": []
    },
    {
      "cell_type": "code",
      "source": [
        "if retreivalNotDone:\n",
        "  getClassesImagesURLLIB()\n",
        "  retreivalNotDone = False"
      ],
      "metadata": {
        "id": "I33Xnwvzt6HQ"
      },
      "execution_count": null,
      "outputs": []
    },
    {
      "cell_type": "markdown",
      "source": [
        "--- DATASETS ---"
      ],
      "metadata": {
        "id": "aHno9DDLRebw"
      }
    },
    {
      "cell_type": "code",
      "source": [
        "image_size = 28\n",
        "\n",
        "# NB: background=True selects the train set, background=False selects the test set\n",
        "# It's the nomenclature from the original paper, we just have to deal with it\n",
        "\n",
        "train_set = Omniglot(\n",
        "    root=\"/content/drive/MyDrive/Colab Notebooks/pipeline/model/dataO\",\n",
        "    background=True,\n",
        "    transform=transforms.Compose(\n",
        "        [\n",
        "            transforms.Grayscale(num_output_channels=3),\n",
        "            transforms.RandomResizedCrop(image_size),\n",
        "            transforms.RandomHorizontalFlip(),\n",
        "            transforms.ToTensor(),\n",
        "        ]\n",
        "    ),\n",
        "    download=False,\n",
        ")\n",
        "test_set = Omniglot(\n",
        "    root=\"/content/drive/MyDrive/Colab Notebooks/pipeline/model/dataO\",\n",
        "    background=False,\n",
        "    transform=transforms.Compose(\n",
        "        [\n",
        "            # Omniglot images have 1 channel, but our model will expect 3-channel images\n",
        "            transforms.Grayscale(num_output_channels=3),\n",
        "            transforms.Resize([int(image_size * 1.15), int(image_size * 1.15)]),\n",
        "            transforms.CenterCrop(image_size),\n",
        "            transforms.ToTensor(),\n",
        "        ]\n",
        "    ),\n",
        "    download=False,\n",
        ")"
      ],
      "metadata": {
        "id": "f-ovtLiUxvF1",
        "colab": {
          "base_uri": "https://localhost:8080/",
          "height": 170,
          "referenced_widgets": [
            "2bc21b0b04ec49c9a7f4a6e01a057b5d",
            "39f91c754a214ba3bacfa0b849f2901b",
            "96b12a7f58f34aeaa99efbbf8a25c061",
            "983ab6a96baf405cb768c03cf5e7ab24",
            "eac54b62ffb145478c20870a626cff82",
            "569102c19bb34ee2ac8e4ca827691db3",
            "bc80cb213c4241a5aa71af386023ad9c",
            "a19379e97f704f5697b82413a7797ba8",
            "e715db7afa1e44bcbbf65d371ea0c75e",
            "d70e795798c743228f7103c367474e0c",
            "2cb3023c525248b6b0888975fb7c04f7",
            "62e1109271a44d49ba7a261e0dcb2b36",
            "6754a9d04051405aa8829e8ed503620d",
            "5cb22c18427246e088ed88ba6fafd3fb",
            "32ab1c4f20c14d89866538362991b65e",
            "0ab0d9b79f1240459df74cc908cbdfda",
            "0820ae0b0a80426fa33770462200f722",
            "c763ff8a80ca448b80f0c68f3508bc84",
            "c692ec668c7b469298be14de31f138c0",
            "6f58427b0aaa4d60a47ba64db5fdf527",
            "fd2163c877b04542b9a60e23bb2795ce",
            "bfcbcc538095423eb99271c7ac474b71"
          ]
        },
        "outputId": "9b88e03c-cd3b-4eef-f919-13ec8665f7a6"
      },
      "execution_count": null,
      "outputs": [
        {
          "output_type": "stream",
          "name": "stdout",
          "text": [
            "Downloading https://raw.githubusercontent.com/brendenlake/omniglot/master/python/images_background.zip to /content/drive/MyDrive/Colab Notebooks/pipeline/model/dataO/omniglot-py/images_background.zip\n"
          ]
        },
        {
          "output_type": "display_data",
          "data": {
            "text/plain": [
              "  0%|          | 0/9464212 [00:00<?, ?it/s]"
            ],
            "application/vnd.jupyter.widget-view+json": {
              "version_major": 2,
              "version_minor": 0,
              "model_id": "2bc21b0b04ec49c9a7f4a6e01a057b5d"
            }
          },
          "metadata": {}
        },
        {
          "output_type": "stream",
          "name": "stdout",
          "text": [
            "Extracting /content/drive/MyDrive/Colab Notebooks/pipeline/model/dataO/omniglot-py/images_background.zip to /content/drive/MyDrive/Colab Notebooks/pipeline/model/dataO/omniglot-py\n",
            "Downloading https://raw.githubusercontent.com/brendenlake/omniglot/master/python/images_evaluation.zip to /content/drive/MyDrive/Colab Notebooks/pipeline/model/dataO/omniglot-py/images_evaluation.zip\n"
          ]
        },
        {
          "output_type": "display_data",
          "data": {
            "text/plain": [
              "  0%|          | 0/6462886 [00:00<?, ?it/s]"
            ],
            "application/vnd.jupyter.widget-view+json": {
              "version_major": 2,
              "version_minor": 0,
              "model_id": "62e1109271a44d49ba7a261e0dcb2b36"
            }
          },
          "metadata": {}
        },
        {
          "output_type": "stream",
          "name": "stdout",
          "text": [
            "Extracting /content/drive/MyDrive/Colab Notebooks/pipeline/model/dataO/omniglot-py/images_evaluation.zip to /content/drive/MyDrive/Colab Notebooks/pipeline/model/dataO/omniglot-py\n"
          ]
        }
      ]
    },
    {
      "cell_type": "code",
      "source": [
        "N_WAY = 5  # Number of classes in a task\n",
        "N_SHOT = 5  # Number of images per class in the support set\n",
        "N_QUERY = 10  # Number of images per class in the query set\n",
        "N_EVALUATION_TASKS = 100\n",
        "\n",
        "N_TRAINING_EPISODES = 40000\n",
        "N_VALIDATION_TASKS = 100\n",
        "\n",
        "train_set.get_labels = lambda: [instance[1] for instance in train_set._flat_character_images]\n",
        "train_sampler = TaskSampler(\n",
        "    train_set, n_way=N_WAY, n_shot=N_SHOT, n_query=N_QUERY, n_tasks=N_TRAINING_EPISODES\n",
        ")\n",
        "train_loader = DataLoader(\n",
        "    train_set,\n",
        "    batch_sampler=train_sampler,\n",
        "    num_workers=12,\n",
        "    pin_memory=True,\n",
        "    collate_fn=train_sampler.episodic_collate_fn,\n",
        ")\n",
        "\n",
        "# The sampler needs a dataset with a \"get_labels\" method. Check the code if you have any doubt!\n",
        "test_set.get_labels = lambda: [\n",
        "    instance[1] for instance in test_set._flat_character_images\n",
        "]\n",
        "test_sampler = TaskSampler(\n",
        "    test_set, n_way=N_WAY, n_shot=N_SHOT, n_query=N_QUERY, n_tasks=N_EVALUATION_TASKS\n",
        ")\n",
        "\n",
        "test_loader = DataLoader(\n",
        "    test_set,\n",
        "    batch_sampler=test_sampler,\n",
        "    num_workers=12,\n",
        "    pin_memory=True,\n",
        "    collate_fn=test_sampler.episodic_collate_fn,\n",
        ")"
      ],
      "metadata": {
        "id": "tku60QwLrvLe"
      },
      "execution_count": null,
      "outputs": []
    },
    {
      "cell_type": "code",
      "source": [
        "(example_support_images,\n",
        "example_support_labels,\n",
        "example_query_images,\n",
        "example_query_labels,\n",
        "example_class_ids,\n",
        ") = next(iter(test_loader))\n",
        "\n",
        "plot_images(example_support_images, \"support images training\", images_per_row=N_SHOT)\n",
        "plot_images(example_query_images, \"query images traning\", images_per_row=N_QUERY)"
      ],
      "metadata": {
        "id": "Lot6HHhAuW8r",
        "colab": {
          "base_uri": "https://localhost:8080/",
          "height": 551
        },
        "outputId": "43e50db6-f6bb-4160-dae9-abbbcbf396e3"
      },
      "execution_count": null,
      "outputs": [
        {
          "output_type": "stream",
          "name": "stderr",
          "text": [
            "/usr/local/lib/python3.7/dist-packages/torch/utils/data/dataloader.py:490: UserWarning: This DataLoader will create 12 worker processes in total. Our suggested max number of worker in current system is 2, which is smaller than what this DataLoader is going to create. Please be aware that excessive worker creation might get DataLoader running slow or even freeze, lower the worker number to avoid potential slowness/freeze if necessary.\n",
            "  cpuset_checked))\n"
          ]
        },
        {
          "output_type": "display_data",
          "data": {
            "text/plain": [
              "<Figure size 432x288 with 1 Axes>"
            ],
            "image/png": "[encoded data removed]"
          },
          "metadata": {
            "needs_background": "light"
          }
        },
        {
          "output_type": "display_data",
          "data": {
            "text/plain": [
              "<Figure size 432x288 with 1 Axes>"
            ],
            "image/png": "[encoded data removed]"
          },
          "metadata": {
            "needs_background": "light"
          }
        }
      ]
    },
    {
      "cell_type": "code",
      "source": [
        "%cd \"/content/drive/MyDrive/Colab Notebooks/pipeline/model/\""
      ],
      "metadata": {
        "colab": {
          "base_uri": "https://localhost:8080/"
        },
        "id": "rjNUSeA9Svly",
        "outputId": "0e258ada-95d0-4245-e86c-f1c91cdaf948"
      },
      "execution_count": 16,
      "outputs": [
        {
          "output_type": "stream",
          "name": "stdout",
          "text": [
            "/content/drive/MyDrive/Colab Notebooks/pipeline/model\n"
          ]
        }
      ]
    },
    {
      "cell_type": "code",
      "source": [
        "from easyfsl.datasets import CUB\n",
        "\n",
        "N_WAY = 5  # Number of classes in a task\n",
        "N_SHOT = 20  # Number of images per class in the support set\n",
        "N_QUERY = 1  # Number of images per class in the query set\n",
        "N_TRAINING_EPISODES = 40000\n",
        "N_VALIDATION_TASKS = 100\n",
        "N_EVALUATION_TASKS = 100\n",
        "\n",
        "train_set = CUB(split=\"train\", training=True)\n",
        "test_set = CUB(split=\"test\", training=False)\n",
        "\n",
        "train_sampler = TaskSampler(\n",
        "    train_set, n_way=N_WAY, n_shot=N_SHOT, n_query=N_QUERY, n_tasks=N_TRAINING_EPISODES\n",
        ")\n",
        "train_loader = DataLoader(\n",
        "    train_set,\n",
        "    batch_sampler=train_sampler,\n",
        "    num_workers=12,\n",
        "    pin_memory=True,\n",
        "    collate_fn=train_sampler.episodic_collate_fn,\n",
        ")\n",
        "\n",
        "test_sampler = TaskSampler(\n",
        "    test_set, n_way=N_WAY, n_shot=N_SHOT, n_query=N_QUERY, n_tasks=N_EVALUATION_TASKS\n",
        ")\n",
        "\n",
        "test_loader = DataLoader(\n",
        "    test_set,\n",
        "    batch_sampler=test_sampler,\n",
        "    num_workers=12,\n",
        "    pin_memory=True,\n",
        "    collate_fn=test_sampler.episodic_collate_fn,\n",
        ")"
      ],
      "metadata": {
        "colab": {
          "base_uri": "https://localhost:8080/"
        },
        "id": "EAPX7OJhRKRe",
        "outputId": "0cc312f3-5ebc-4325-9847-0e16d14d3ba8"
      },
      "execution_count": 157,
      "outputs": [
        {
          "output_type": "stream",
          "name": "stderr",
          "text": [
            "/usr/local/lib/python3.7/dist-packages/torch/utils/data/dataloader.py:490: UserWarning: This DataLoader will create 12 worker processes in total. Our suggested max number of worker in current system is 2, which is smaller than what this DataLoader is going to create. Please be aware that excessive worker creation might get DataLoader running slow or even freeze, lower the worker number to avoid potential slowness/freeze if necessary.\n",
            "  cpuset_checked))\n"
          ]
        }
      ]
    },
    {
      "cell_type": "code",
      "source": [
        "(example_support_images,\n",
        "example_support_labels,\n",
        "example_query_images,\n",
        "example_query_labels,\n",
        "example_class_ids,\n",
        ") = next(iter(test_loader))\n",
        "\n",
        "plot_images(example_support_images, \"support images test\", images_per_row=N_SHOT)\n",
        "plot_images(example_query_images, \"query images test\", images_per_row=N_QUERY)"
      ],
      "metadata": {
        "colab": {
          "base_uri": "https://localhost:8080/",
          "height": 501
        },
        "id": "_4MndYpJRU9O",
        "outputId": "f3761fac-aa68-450c-efd1-5dff1eb29b13"
      },
      "execution_count": 158,
      "outputs": [
        {
          "output_type": "stream",
          "name": "stderr",
          "text": [
            "/usr/local/lib/python3.7/dist-packages/torch/utils/data/dataloader.py:490: UserWarning: This DataLoader will create 12 worker processes in total. Our suggested max number of worker in current system is 2, which is smaller than what this DataLoader is going to create. Please be aware that excessive worker creation might get DataLoader running slow or even freeze, lower the worker number to avoid potential slowness/freeze if necessary.\n",
            "  cpuset_checked))\n",
            "Clipping input data to the valid range for imshow with RGB data ([0..1] for floats or [0..255] for integers).\n",
            "Clipping input data to the valid range for imshow with RGB data ([0..1] for floats or [0..255] for integers).\n"
          ]
        },
        {
          "output_type": "display_data",
          "data": {
            "text/plain": [
              "<Figure size 432x288 with 1 Axes>"
            ],
            "image/png": "[encoded data removed]"
          },
          "metadata": {
            "needs_background": "light"
          }
        },
        {
          "output_type": "display_data",
          "data": {
            "text/plain": [
              "<Figure size 432x288 with 1 Axes>"
            ],
            "image/png": "[encoded data removed]"
          },
          "metadata": {
            "needs_background": "light"
          }
        }
      ]
    },
    {
      "cell_type": "markdown",
      "source": [
        "--- PROTOTYPICAL NETWORK ---"
      ],
      "metadata": {
        "id": "wvnjwBYbmLsC"
      }
    },
    {
      "cell_type": "code",
      "source": [
        "class PrototypicalNetworks(nn.Module):\n",
        "    def __init__(self, backbone: nn.Module):\n",
        "        super(PrototypicalNetworks, self).__init__()\n",
        "        self.backbone = backbone\n",
        "\n",
        "    def forward(self, support_images: torch.Tensor, support_labels: torch.Tensor, query_images: torch.Tensor,) -> torch.Tensor:\n",
        "        \"\"\"\n",
        "        Predict query labels using labeled support images.\n",
        "        \"\"\"\n",
        "        z_support = self.backbone.forward(support_images)\n",
        "        z_query = self.backbone.forward(query_images)\n",
        "\n",
        "        n_way = len(torch.unique(support_labels))\n",
        "        z_proto = torch.cat(\n",
        "            [\n",
        "                z_support[torch.nonzero(support_labels == label)].mean(0)\n",
        "                for label in range(n_way)\n",
        "            ]\n",
        "        )\n",
        "\n",
        "        dists = torch.cdist(z_query, z_proto)\n",
        "        scores = -dists\n",
        "        #print(\"d(query, prototype) = \", dists)\n",
        "        return scores\n",
        "\n",
        "\n",
        "convolutional_network = resnet18(pretrained=True)\n",
        "convolutional_network.fc = nn.Flatten()\n",
        "model = PrototypicalNetworks(convolutional_network) #.cuda()"
      ],
      "metadata": {
        "id": "r3ejVC8tu5Ve",
        "colab": {
          "base_uri": "https://localhost:8080/",
          "height": 66,
          "referenced_widgets": [
            "9cf59ab676a249b19fcaf6cc796b457a",
            "9af20a02e3534abe84411702d39b52c0",
            "83aedc69a5164b83b4b43929d577ef95",
            "1671d7ac21774157994b5afcc0ec10a6",
            "ad5a7c929bf945d89702466b6917a554",
            "383f84fcf7894137a223d68cd524d01c",
            "b64b3271d6fe4cc9998f466883b86122",
            "1cd59b2af72241538ddf339890ee4f2f",
            "fd2b85962a05453bb1ef94a4af3ffd22",
            "2d8354d7535a46f5bf831c741f17debe",
            "3ca94e4f63a94ca89af0ccdf8837a61b"
          ]
        },
        "outputId": "9868876e-afe6-4674-e9d7-b20a83f5f376"
      },
      "execution_count": 19,
      "outputs": [
        {
          "output_type": "stream",
          "name": "stderr",
          "text": [
            "Downloading: \"https://download.pytorch.org/models/resnet18-f37072fd.pth\" to /root/.cache/torch/hub/checkpoints/resnet18-f37072fd.pth\n"
          ]
        },
        {
          "output_type": "display_data",
          "data": {
            "text/plain": [
              "  0%|          | 0.00/44.7M [00:00<?, ?B/s]"
            ],
            "application/vnd.jupyter.widget-view+json": {
              "version_major": 2,
              "version_minor": 0,
              "model_id": "9cf59ab676a249b19fcaf6cc796b457a"
            }
          },
          "metadata": {}
        }
      ]
    },
    {
      "cell_type": "code",
      "source": [
        "# those two followings are the meta training\n",
        "\n",
        "criterion = nn.CrossEntropyLoss()\n",
        "optimizer = optim.Adam(model.parameters(), lr=0.001)\n",
        "\n",
        "\n",
        "def fit(support_images: torch.Tensor, support_labels: torch.Tensor, query_images: torch.Tensor, query_labels: torch.Tensor,) -> float:\n",
        "    optimizer.zero_grad()\n",
        "    classification_scores = model(support_images, support_labels, query_images)\n",
        "    #support_images.cuda(), support_labels.cuda(), query_images.cuda()\n",
        "\n",
        "    loss = criterion(classification_scores, query_labels) #query_labels.cuda()\n",
        "    loss.backward()\n",
        "    optimizer.step()\n",
        "\n",
        "    return loss.item()\n",
        "\n",
        "def trainOnSet(datasetL):\n",
        "  log_update_frequency = 10\n",
        "  all_loss = []\n",
        "  model.train()\n",
        "\n",
        "  # training here, tqdm is for the progress bar\n",
        "  with tqdm(enumerate(datasetL), total=len(datasetL)) as tqdm_train:\n",
        "      for episode_index, (support_images, support_labels, query_images, query_labels, _,) in tqdm_train:\n",
        "          loss_value = fit(support_images, support_labels, query_images, query_labels)\n",
        "          all_loss.append(loss_value)\n",
        "\n",
        "          if episode_index % log_update_frequency == 0:\n",
        "              tqdm_train.set_postfix(loss=sliding_average(all_loss, log_update_frequency))\n",
        "\n",
        "  torch.save(model.state_dict(), PATH_MODEL+\"proto_model.pt\")"
      ],
      "metadata": {
        "id": "6W1LCGL6yyEd"
      },
      "execution_count": null,
      "outputs": []
    },
    {
      "cell_type": "code",
      "source": [
        "def getCUBClassesForATask(label_ids, classNames):\n",
        "  carac = [\"\"]*N_WAY\n",
        "  previousLen = 0\n",
        "\n",
        "  for i in range(0, N_WAY):\n",
        "\n",
        "    labelI = label_ids[i*N_SHOT]\n",
        "    name = classNames[labelI]\n",
        "    firstName, lastName = name.split(\".\")[1].split(\"/\")[-1].split(\"_\")[0:2]\n",
        "    carac[labelI] = firstName[0:2]+lastName[0:2]\n",
        "    \n",
        "  return carac\n",
        "\n",
        "classesList = lambda i, ids, classesNames: getCUBClassesForATask(ids, classesNames)[i]\n",
        "\n",
        "def printConfusionMatrix(confM, label_ids, classNames):\n",
        "\n",
        "  print(\"\\n\")\n",
        "  print(\"A/P \\t\", end=\"\")\n",
        "\n",
        "  for i in range(0, len(confM)):\n",
        "    print(classesList(i, label_ids, classNames) + \"\\t\", end=\"\")\n",
        "\n",
        "  print(\"\\n\")\n",
        "  for i in range(0, len(confM)):\n",
        "    print(classesList(i, label_ids, classNames) + \"\\t\", end=\"\")\n",
        "    for j in range(0, len(confM[0])):\n",
        "      print(str(confM[i][j]) + \"\\t\", end=\"\")\n",
        "    print(\"\\n\")"
      ],
      "metadata": {
        "id": "grK7Ev4BXntS"
      },
      "execution_count": 150,
      "outputs": []
    },
    {
      "cell_type": "code",
      "source": [
        "#suppr les cuda sur examples\n",
        "#prediction on one support\n",
        "\n",
        "if trainingNeeded:\n",
        "  trainOnSet(train_loader)\n",
        "\n",
        "model.eval()\n",
        "example_scores = model(\n",
        "    example_support_images,\n",
        "    example_support_labels,\n",
        "    example_query_images,\n",
        ").detach()\n",
        "\n",
        "_, example_predicted_labels = torch.max(example_scores.data, 1)\n",
        "classNames = test_set.class_names\n",
        "\n",
        "confM = [\n",
        "         [0 for i in range(0, N_WAY)] for j in range (0, N_WAY)\n",
        "        ]\n",
        "accuracy = 0\n",
        "\n",
        "print(example_support_images)\n",
        "\n",
        "for i in range(len(example_query_labels)):\n",
        "  print(f\"{classNames[example_query_labels[i]]} / {classNames[example_predicted_labels[i]]}\")\n",
        "  if classNames[example_query_labels[i]] == classNames[example_predicted_labels[i]]:\n",
        "    accuracy+=1\n",
        "  \n",
        "  k = example_query_labels[i]\n",
        "  l = example_predicted_labels[i]\n",
        "  confM[k][l]+=1\n",
        "\n",
        "printConfusionMatrix(confM, example_support_labels, classNames)\n",
        "print(\"accuracy for this task : \", accuracy/len(example_query_labels)*100, \"%\")"
      ],
      "metadata": {
        "id": "0cPmMp1-y09b",
        "colab": {
          "base_uri": "https://localhost:8080/"
        },
        "outputId": "1e620f17-9915-4d3e-b2a0-d22ee937c540"
      },
      "execution_count": 162,
      "outputs": [
        {
          "output_type": "stream",
          "name": "stdout",
          "text": [
            "tensor([[[[-0.2342, -0.1314,  0.1597,  ..., -0.1486, -0.0629,  0.1768],\n",
            "          [-0.2342, -0.0116,  0.3138,  ..., -0.1143,  0.0056,  0.2282],\n",
            "          [-0.2171, -0.0116,  0.2624,  ..., -0.0801,  0.0912,  0.2624],\n",
            "          ...,\n",
            "          [-1.5870, -1.5185, -1.4500,  ..., -0.4226, -0.2171, -0.3027],\n",
            "          [-1.6213, -1.5528, -1.5185,  ..., -0.4397, -0.3198, -0.2856],\n",
            "          [-1.6555, -1.5870, -1.5357,  ..., -0.3369, -0.3712, -0.3369]],\n",
            "\n",
            "         [[-0.5126, -0.3725, -0.0049,  ..., -0.4076, -0.3200, -0.0574],\n",
            "          [-0.5126, -0.2500,  0.1702,  ..., -0.3901, -0.2500, -0.0049],\n",
            "          [-0.4776, -0.2500,  0.1001,  ..., -0.3200, -0.1450,  0.0301],\n",
            "          ...,\n",
            "          [-1.8081, -1.7556, -1.7206,  ..., -0.7402, -0.5126, -0.5826],\n",
            "          [-1.8256, -1.7731, -1.7381,  ..., -0.7402, -0.6352, -0.5826],\n",
            "          [-1.8431, -1.8081, -1.7556,  ..., -0.5826, -0.6527, -0.6176]],\n",
            "\n",
            "         [[-0.9504, -0.7761, -0.2881,  ..., -0.7936, -0.7238, -0.4624],\n",
            "          [-0.9678, -0.6367, -0.1312,  ..., -0.8284, -0.6541, -0.3927],\n",
            "          [-0.9504, -0.6890, -0.2184,  ..., -0.7587, -0.5844, -0.3578],\n",
            "          ...,\n",
            "          [-1.6999, -1.6999, -1.6824,  ..., -0.9678, -0.7936, -0.8458],\n",
            "          [-1.7173, -1.6999, -1.6650,  ..., -1.0376, -0.8981, -0.8284],\n",
            "          [-1.7347, -1.6999, -1.6824,  ..., -0.8633, -0.9330, -0.8807]]],\n",
            "\n",
            "\n",
            "        [[[ 0.7077,  0.6734,  0.5707,  ...,  0.6049,  0.6221,  0.6392],\n",
            "          [ 0.6734,  0.5878,  0.4508,  ...,  0.5536,  0.5707,  0.5878],\n",
            "          [ 0.5193,  0.3994,  0.3138,  ...,  0.5022,  0.5193,  0.5707],\n",
            "          ...,\n",
            "          [-1.7754, -1.8268, -1.7583,  ...,  0.7591,  1.2214,  1.5297],\n",
            "          [-1.9295, -1.8953, -1.7069,  ...,  0.4679,  0.7419,  0.9817],\n",
            "          [-1.8782, -1.9980, -1.9467,  ...,  0.2282,  0.4166,  0.6906]],\n",
            "\n",
            "         [[ 1.0630,  1.0280,  0.9230,  ...,  1.1506,  1.1856,  1.2031],\n",
            "          [ 1.0455,  0.9405,  0.8004,  ...,  1.1155,  1.1331,  1.1856],\n",
            "          [ 0.9230,  0.7829,  0.6779,  ...,  1.0630,  1.1155,  1.1331],\n",
            "          ...,\n",
            "          [-1.5980, -1.6856, -1.5805,  ...,  0.7829,  1.2206,  1.5707],\n",
            "          [-1.7556, -1.7556, -1.5280,  ...,  0.4678,  0.7479,  0.9930],\n",
            "          [-1.7206, -1.8431, -1.7731,  ...,  0.2402,  0.4153,  0.7304]],\n",
            "\n",
            "         [[ 0.6182,  0.6008,  0.4265,  ..., -0.8807, -1.0201, -1.1073],\n",
            "          [ 0.5834,  0.4788,  0.2871,  ..., -0.8807, -1.0376, -1.0898],\n",
            "          [ 0.3916,  0.2696,  0.1128,  ..., -0.8981, -1.0376, -1.1073],\n",
            "          ...,\n",
            "          [-1.6127, -1.5953, -1.5779,  ...,  0.8622,  1.2282,  1.6117],\n",
            "          [-1.6476, -1.6476, -1.5081,  ...,  0.5485,  0.7576,  1.0365],\n",
            "          [-1.6650, -1.7173, -1.6824,  ...,  0.2871,  0.4962,  0.7751]]],\n",
            "\n",
            "\n",
            "        [[[-1.1247, -1.1760, -1.4329,  ...,  0.6049,  0.6734,  1.0331],\n",
            "          [-1.3815, -1.2959, -1.4158,  ...,  0.4508,  0.2796,  0.5364],\n",
            "          [-1.5357, -1.4843, -1.4672,  ...,  0.4166,  0.5364,  1.0502],\n",
            "          ...,\n",
            "          [-0.7822, -0.4397, -0.5082,  ..., -1.3987, -1.2788, -1.1932],\n",
            "          [-0.2856,  0.4679,  0.5193,  ..., -1.0904, -1.2274, -1.3302],\n",
            "          [ 0.7077,  0.9646,  0.9132,  ..., -0.5253, -0.5253, -0.5253]],\n",
            "\n",
            "         [[-1.0203, -1.1078, -1.3354,  ...,  1.4657,  1.5182,  1.8333],\n",
            "          [-1.2829, -1.1954, -1.3179,  ...,  1.3081,  1.1155,  1.3606],\n",
            "          [-1.4405, -1.3880, -1.3704,  ...,  1.1856,  1.3606,  1.9034],\n",
            "          ...,\n",
            "          [-0.6877, -0.3725, -0.4426,  ..., -1.2654, -1.1604, -1.0728],\n",
            "          [-0.1625,  0.7304,  0.8354,  ..., -0.6877, -0.9853, -1.1604],\n",
            "          [ 1.0455,  1.4307,  1.3957,  ...,  0.4853,  0.3803,  0.2927]],\n",
            "\n",
            "         [[-1.1073, -1.1073, -1.2293,  ..., -1.5430, -1.5604, -1.2816],\n",
            "          [-1.2119, -1.1421, -1.2119,  ..., -1.4907, -1.5081, -1.4036],\n",
            "          [-1.2990, -1.2641, -1.2467,  ..., -1.4559, -1.4907, -1.2641],\n",
            "          ...,\n",
            "          [-0.6018, -0.3404, -0.4275,  ..., -1.0898, -0.9678, -0.8633],\n",
            "          [-0.1312,  0.8099,  0.8797,  ..., -1.1421, -1.1596, -1.1596],\n",
            "          [ 1.1585,  1.5420,  1.4548,  ..., -1.1944, -1.1944, -1.2293]]],\n",
            "\n",
            "\n",
            "        ...,\n",
            "\n",
            "\n",
            "        [[[ 2.1119,  2.1119,  2.1290,  ...,  1.8722,  1.7523,  1.6495],\n",
            "          [ 2.1119,  2.1633,  2.1975,  ...,  1.5297,  1.4269,  1.3755],\n",
            "          [ 2.1804,  2.2147,  2.2147,  ...,  1.3070,  1.3070,  1.3242],\n",
            "          ...,\n",
            "          [-0.3027, -0.4739, -0.0629,  ..., -0.0801, -0.9192, -1.0219],\n",
            "          [ 0.0398,  0.1768,  0.4679,  ..., -0.7993, -0.7822,  0.3652],\n",
            "          [-0.3883,  0.3309,  0.6563,  ..., -1.1760, -1.1075,  0.0398]],\n",
            "\n",
            "         [[ 2.3410,  2.3235,  2.3410,  ...,  2.1134,  2.0084,  1.9034],\n",
            "          [ 2.3060,  2.3585,  2.3761,  ...,  1.8333,  1.7458,  1.6758],\n",
            "          [ 2.3585,  2.3936,  2.3936,  ...,  1.6408,  1.6232,  1.6232],\n",
            "          ...,\n",
            "          [-0.2850, -0.5301, -0.2150,  ..., -0.0224, -0.9153, -1.0378],\n",
            "          [ 0.1001,  0.2402,  0.5378,  ..., -0.7577, -0.7402,  0.3803],\n",
            "          [-0.3550,  0.4503,  0.7479,  ..., -1.1954, -1.1253,  0.0651]],\n",
            "\n",
            "         [[ 2.6051,  2.5877,  2.5877,  ...,  2.3786,  2.2914,  2.1868],\n",
            "          [ 2.5529,  2.5703,  2.6051,  ...,  2.1520,  2.1171,  2.0648],\n",
            "          [ 2.5703,  2.6051,  2.6051,  ...,  1.9951,  2.0125,  2.0125],\n",
            "          ...,\n",
            "          [-0.2358, -0.5495, -0.7587,  ...,  0.0605, -0.8284, -0.9156],\n",
            "          [ 0.1651,  0.3045,  0.5485,  ..., -0.6541, -0.6193,  0.5136],\n",
            "          [-0.2532,  0.5834,  0.8622,  ..., -1.1944, -1.0724,  0.1128]]],\n",
            "\n",
            "\n",
            "        [[[ 1.5982,  1.5982,  1.5982,  ...,  1.6495,  1.6495,  1.6495],\n",
            "          [ 1.5982,  1.5982,  1.6153,  ...,  1.6495,  1.6495,  1.6495],\n",
            "          [ 1.6153,  1.5982,  1.6153,  ...,  1.6667,  1.6495,  1.6495],\n",
            "          ...,\n",
            "          [-0.5424, -0.5082, -0.4911,  ..., -0.6281, -0.6452, -0.6623],\n",
            "          [-0.5767, -0.5767, -0.6109,  ..., -0.5253, -0.5767, -0.6623],\n",
            "          [-0.6109, -0.6109, -0.6109,  ..., -0.4397, -0.4911, -0.5596]],\n",
            "\n",
            "         [[ 1.5882,  1.5882,  1.6057,  ...,  1.6933,  1.6933,  1.6933],\n",
            "          [ 1.6057,  1.6057,  1.6232,  ...,  1.6933,  1.6933,  1.6933],\n",
            "          [ 1.6057,  1.6232,  1.6408,  ...,  1.6933,  1.6933,  1.6933],\n",
            "          ...,\n",
            "          [-0.0924, -0.0924, -0.1625,  ..., -0.2675, -0.2850, -0.2850],\n",
            "          [-0.1450, -0.1625, -0.2150,  ..., -0.2150, -0.2150, -0.2675],\n",
            "          [-0.1625, -0.1975, -0.2500,  ..., -0.1099, -0.1275, -0.1975]],\n",
            "\n",
            "         [[ 1.2457,  1.2457,  1.2805,  ...,  1.4200,  1.4200,  1.4025],\n",
            "          [ 1.2457,  1.2457,  1.2631,  ...,  1.4025,  1.4025,  1.4025],\n",
            "          [ 1.2457,  1.2457,  1.2631,  ...,  1.4025,  1.4025,  1.4200],\n",
            "          ...,\n",
            "          [ 0.2871,  0.2696,  0.1825,  ...,  0.0605,  0.0256,  0.0082],\n",
            "          [ 0.3568,  0.2522,  0.1476,  ...,  0.1302,  0.0256,  0.0431],\n",
            "          [ 0.3916,  0.2173,  0.0779,  ...,  0.1999,  0.1128,  0.1128]]],\n",
            "\n",
            "\n",
            "        [[[ 1.6324,  1.6324,  1.5639,  ...,  1.7865,  1.6495,  1.5639],\n",
            "          [ 1.7694,  1.7523,  1.7009,  ...,  1.7694,  1.6495,  1.5297],\n",
            "          [ 1.7180,  1.7180,  1.7523,  ...,  1.8208,  1.7865,  1.7523],\n",
            "          ...,\n",
            "          [ 1.4440,  0.2967, -0.6965,  ...,  0.7419,  0.5878,  0.5193],\n",
            "          [ 0.7419, -0.6794, -0.8849,  ...,  0.6392,  0.6734,  0.6906],\n",
            "          [-0.4226, -0.9020, -0.5596,  ...,  0.8789,  0.8104,  0.8104]],\n",
            "\n",
            "         [[ 2.0084,  1.9734,  1.9559,  ...,  2.0609,  1.9909,  1.9034],\n",
            "          [ 2.0609,  2.0609,  2.0434,  ...,  2.0609,  2.0084,  1.9209],\n",
            "          [ 2.0434,  2.0434,  2.0434,  ...,  2.1134,  2.0609,  2.0434],\n",
            "          ...,\n",
            "          [ 1.7633,  0.2402, -0.7052,  ...,  0.2402,  0.1702,  0.0301],\n",
            "          [ 0.8704, -0.7052, -0.8627,  ...,  0.2402,  0.2577,  0.2227],\n",
            "          [-0.4601, -0.8978, -0.5476,  ...,  0.4678,  0.3803,  0.3452]],\n",
            "\n",
            "         [[ 2.1346,  2.0823,  2.0648,  ...,  2.1868,  2.0823,  1.9951],\n",
            "          [ 2.1868,  2.1868,  2.1520,  ...,  2.1868,  2.0997,  2.0125],\n",
            "          [ 2.1520,  2.1868,  2.1694,  ...,  2.2391,  2.1868,  2.1520],\n",
            "          ...,\n",
            "          [ 1.8557,  0.5659, -0.3753,  ...,  0.3742,  0.2871,  0.1128],\n",
            "          [ 1.0191, -0.3927, -0.6018,  ...,  0.3916,  0.3916,  0.3393],\n",
            "          [-0.2010, -0.6367, -0.3230,  ...,  0.6182,  0.5136,  0.4788]]]])\n",
            "028.Brown_Creeper / 028.Brown_Creeper\n",
            "020.Yellow_breasted_Chat / 020.Yellow_breasted_Chat\n",
            "015.Lazuli_Bunting / 015.Lazuli_Bunting\n",
            "008.Rhinoceros_Auklet / 028.Brown_Creeper\n",
            "009.Brewer_Blackbird / 009.Brewer_Blackbird\n",
            "\n",
            "\n",
            "A/P \tRhAu\tBrBl\tLaBu\tYebr\tBrCr\t\n",
            "\n",
            "RhAu\t0\t0\t0\t0\t1\t\n",
            "\n",
            "BrBl\t0\t1\t0\t0\t0\t\n",
            "\n",
            "LaBu\t0\t0\t1\t0\t0\t\n",
            "\n",
            "Yebr\t0\t0\t0\t1\t0\t\n",
            "\n",
            "BrCr\t0\t0\t0\t0\t1\t\n",
            "\n",
            "accuracy for this task :  80.0 %\n"
          ]
        }
      ]
    },
    {
      "cell_type": "code",
      "source": [
        "model.load_state_dict(torch.load(\"/content/drive/MyDrive/pipeline/model/resnet18_with_pretraining.tar\", map_location=\"cpu\"))"
      ],
      "metadata": {
        "id": "YQ5M7o2ct4m4"
      },
      "execution_count": null,
      "outputs": []
    },
    {
      "cell_type": "code",
      "source": [
        "cuda = False\n",
        "\n",
        "def createConfusionMatrix(model, confusionMatrix):\n",
        "\n",
        "  example_scores = model(\n",
        "    example_support_images,\n",
        "    example_support_labels,\n",
        "    example_query_images,\n",
        "    ).detach()\n",
        "\n",
        "  _, example_predicted_labels = torch.max(example_scores.data, 1)\n",
        "\n",
        "  for i in range(len(example_query_labels)):\n",
        "    \n",
        "    k = example_query_labels[i]\n",
        "    l = example_predicted_labels[i]\n",
        "    confusionMatrix[k][l]+=1\n",
        "\n",
        "  return confusionMatrix\n",
        "\n",
        "def evaluate_on_one_task(support_images: torch.Tensor, support_labels: torch.Tensor, query_images: torch.Tensor, query_labels: torch.Tensor,confusionMatrixI_1,) -> [int, int]:\n",
        "  \n",
        "    \"\"\"\n",
        "    Returns the number of correct predictions of query labels, and the total number of predictions.\n",
        "    \"\"\"\n",
        "\n",
        "    confusionMatrixI = createConfusionMatrix(model, confusionMatrixI_1)\n",
        "    \n",
        "    if cuda:\n",
        "\n",
        "      return (\n",
        "        torch.max(\n",
        "            model(support_images.cuda(), support_labels.cuda(), query_images.cuda())\n",
        "            .detach()\n",
        "            .data,\n",
        "            1,\n",
        "        )[1] == query_labels.cuda()).sum().item(), len(query_labels), confusionMatrixI\n",
        "\n",
        "    else:\n",
        "\n",
        "      return (\n",
        "        torch.max(\n",
        "            model(support_images, support_labels, query_images)\n",
        "            .detach()\n",
        "            .data,\n",
        "            1,\n",
        "        )[1] == query_labels).sum().item(), len(query_labels), confusionMatrixI\n",
        "\n",
        "\n",
        "def evaluate(data_loader: DataLoader):\n",
        "    # We'll count everything and compute the ratio at the end\n",
        "    total_predictions = 0\n",
        "    correct_predictions = 0\n",
        "    confusionMatrix = np.array([\n",
        "            [0 for i in range(0, N_WAY)] for j in range (0, N_WAY)\n",
        "            ])\n",
        "    classNames = test_set.class_names\n",
        "\n",
        "    \n",
        "    # eval mode affects the behaviour of some layers (such as batch normalization or dropout)\n",
        "    # no_grad() tells torch not to keep in memory the whole computational graph (it's more lightweight this way)\n",
        "    model.eval()\n",
        "    with torch.no_grad():\n",
        "        for episode_index, (\n",
        "            support_images,\n",
        "            support_labels,\n",
        "            query_images,\n",
        "            query_labels,\n",
        "            class_ids,\n",
        "        ) in tqdm(enumerate(data_loader), total=len(data_loader)):\n",
        "\n",
        "            correct, total, confusionMatrix = evaluate_on_one_task(support_images, support_labels, query_images, query_labels, confusionMatrix)\n",
        "\n",
        "            total_predictions += total\n",
        "            correct_predictions += correct\n",
        "\n",
        "    printConfusionMatrix(confusionMatrix, support_labels, classNames)\n",
        "    print(\n",
        "        f\"Model tested on {len(data_loader)} tasks. Accuracy: {(100 * correct_predictions/total_predictions):.2f}%\"\n",
        "    )"
      ],
      "metadata": {
        "id": "s47Wfsxvzepw"
      },
      "execution_count": 160,
      "outputs": []
    },
    {
      "cell_type": "code",
      "source": [
        "evaluate(test_loader)"
      ],
      "metadata": {
        "id": "N1JJkQw6zmdw",
        "colab": {
          "base_uri": "https://localhost:8080/"
        },
        "outputId": "14da4cac-64f3-46f4-d4d0-ed945cd06cab"
      },
      "execution_count": 161,
      "outputs": [
        {
          "output_type": "stream",
          "name": "stderr",
          "text": [
            "/usr/local/lib/python3.7/dist-packages/torch/utils/data/dataloader.py:490: UserWarning: This DataLoader will create 12 worker processes in total. Our suggested max number of worker in current system is 2, which is smaller than what this DataLoader is going to create. Please be aware that excessive worker creation might get DataLoader running slow or even freeze, lower the worker number to avoid potential slowness/freeze if necessary.\n",
            "  cpuset_checked))\n",
            "100%|██████████| 100/100 [05:12<00:00,  3.13s/it]"
          ]
        },
        {
          "output_type": "stream",
          "name": "stdout",
          "text": [
            "\n",
            "\n",
            "A/P \tRhAu\tBrBl\tLaBu\tYebr\tBrCr\t\n",
            "\n",
            "RhAu\t0\t0\t0\t0\t100\t\n",
            "\n",
            "BrBl\t0\t100\t0\t0\t0\t\n",
            "\n",
            "LaBu\t0\t0\t100\t0\t0\t\n",
            "\n",
            "Yebr\t0\t0\t0\t100\t0\t\n",
            "\n",
            "BrCr\t0\t0\t0\t0\t100\t\n",
            "\n",
            "Model tested on 100 tasks. Accuracy: 73.00%\n"
          ]
        },
        {
          "output_type": "stream",
          "name": "stderr",
          "text": [
            "\n"
          ]
        }
      ]
    }
  ]
}