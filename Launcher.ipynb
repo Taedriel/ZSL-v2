{
  "nbformat": 4,
  "nbformat_minor": 0,
  "metadata": {
    "colab": {
      "name": "Launcher.ipynb",
      "provenance": [],
      "authorship_tag": "ABX9TyPsQABylHl4kVlyU+9zFcCY",
      "include_colab_link": true
    },
    "kernelspec": {
      "name": "python3",
      "display_name": "Python 3"
    },
    "language_info": {
      "name": "python"
    }
  },
  "cells": [
    {
      "cell_type": "markdown",
      "metadata": {
        "id": "view-in-github",
        "colab_type": "text"
      },
      "source": [
        "<a href=\"https://colab.research.google.com/github/Taedriel/ZSL-v2/blob/startArchiWordEmbedding/Launcher.ipynb\" target=\"_parent\"><img src=\"https://colab.research.google.com/assets/colab-badge.svg\" alt=\"Open In Colab\"/></a>"
      ]
    },
    {
      "cell_type": "code",
      "execution_count": null,
      "metadata": {
        "id": "8DB9CVVe2Vta"
      },
      "outputs": [],
      "source": [
        "!git clone https://github.com/Taedriel/ZSL-v2.git\n",
        "!cd ZSL-v2/\n",
        "!pip install -r requirements.txt"
      ]
    },
    {
      "cell_type": "code",
      "source": [
        "!cd ZSL-v2/ ;git checkout startArchiWordEmbedding; git pull"
      ],
      "metadata": {
        "id": "p8LnNfw63SeS"
      },
      "execution_count": null,
      "outputs": []
    },
    {
      "cell_type": "code",
      "source": [
        "import sys\n",
        "sys.path.append(\"/content/ZSL-v2/zsl\")"
      ],
      "metadata": {
        "id": "b-Np1knU7I-8"
      },
      "execution_count": 5,
      "outputs": []
    },
    {
      "cell_type": "code",
      "source": [
        "from typing import List\n",
        "from torch import Tensor\n",
        "\n",
        "import zsl\n",
        "from zsl.hierarchicalsolver.hierarchical_solver import HiCA\n",
        "from Orange.data import Table\n",
        "\n",
        "\n",
        "\n",
        "runtime = {}\n",
        "\n",
        "def check_file_presence():\n",
        "\n",
        "    file_to_check = [\n",
        "        \"/content/Aroub-average.csv\",\n",
        "        \"/content/class_map_imagenet.csv\",\n",
        "        \"/content/custom-wikipedia2vec-300_superclass.csv\"\n",
        "    ]\n",
        "\n",
        "def image_to_text_embedding(image_path : str) -> List[float] or Tensor:\n",
        "    return list(range(300))\n",
        "\n",
        "def text_embedding_to_classes(embedding : List[float or Tensor]) -> List[str]:\n",
        "\n",
        "    embedding = HiCA(embedding, runtime[\"prior_knowledge_table\"], runtime[\"superclass_embeddings\"]) \\\n",
        "        .solve(lambda x : 0.25 + 0.05 * x, lambda x : 0.1 + 0.05 * x)\n",
        "\n",
        "    return embedding\n",
        "\n",
        "def classes_to_prediction(image_path : str, plausible_classes : List[str]) -> List[str]:\n",
        "    return list((\"platypus\", 0.89), (\"beaver\", 0.23))\n",
        "\n",
        "def run_pipeline(image_path : str, intermediate_result = False):\n",
        "\n",
        "    text_embedding = image_to_text_embedding(image_path)\n",
        "\n",
        "    plausible_classes = text_embedding_to_classes(text_embedding)\n",
        "\n",
        "    return classes_to_prediction(image_path, plausible_classes)\n",
        "\n",
        "def preprocess():\n",
        "\n",
        "    generic_table = Table(\"/content/Aroub-average.csv\")\n",
        "    supp_info_table = Table(\"/content/class_map_imagenet.csv\")\n",
        "\n",
        "    runtime[\"prior_knowledge_table\"] = HiCA.left_join(generic_table, supp_info_table)\n",
        "    runtime[\"superclass_embeddings\"] = Table(\"/content/custom-wikipedia2vec-300_superclass.csv\")\n",
        "\n",
        "\n",
        "\n",
        "\n",
        "if __name__ == \"__main__\":\n",
        "    check_file_presence()\n",
        "    result, _ = run_pipeline(\"examples/001.png\", intermediate_result = False)\n",
        "\n"
      ],
      "metadata": {
        "colab": {
          "base_uri": "https://localhost:8080/",
          "height": 519
        },
        "id": "vdcKTAwQ34kT",
        "outputId": "8bda30cb-1968-479f-dcfd-486c69813fa7"
      },
      "execution_count": 9,
      "outputs": [
        {
          "output_type": "error",
          "ename": "ModuleNotFoundError",
          "evalue": "ignored",
          "traceback": [
            "\u001b[0;31m---------------------------------------------------------------------------\u001b[0m",
            "\u001b[0;31mModuleNotFoundError\u001b[0m                       Traceback (most recent call last)",
            "\u001b[0;32m<ipython-input-9-440fa79d100f>\u001b[0m in \u001b[0;36m<module>\u001b[0;34m()\u001b[0m\n\u001b[1;32m      2\u001b[0m \u001b[0;32mfrom\u001b[0m \u001b[0mtorch\u001b[0m \u001b[0;32mimport\u001b[0m \u001b[0mTensor\u001b[0m\u001b[0;34m\u001b[0m\u001b[0;34m\u001b[0m\u001b[0m\n\u001b[1;32m      3\u001b[0m \u001b[0;34m\u001b[0m\u001b[0m\n\u001b[0;32m----> 4\u001b[0;31m \u001b[0;32mimport\u001b[0m \u001b[0mzsl\u001b[0m\u001b[0;34m\u001b[0m\u001b[0;34m\u001b[0m\u001b[0m\n\u001b[0m\u001b[1;32m      5\u001b[0m \u001b[0;32mfrom\u001b[0m \u001b[0mzsl\u001b[0m\u001b[0;34m.\u001b[0m\u001b[0mhierarchicalsolver\u001b[0m\u001b[0;34m.\u001b[0m\u001b[0mhierarchical_solver\u001b[0m \u001b[0;32mimport\u001b[0m \u001b[0mHiCA\u001b[0m\u001b[0;34m\u001b[0m\u001b[0;34m\u001b[0m\u001b[0m\n\u001b[1;32m      6\u001b[0m \u001b[0;32mfrom\u001b[0m \u001b[0mOrange\u001b[0m\u001b[0;34m.\u001b[0m\u001b[0mdata\u001b[0m \u001b[0;32mimport\u001b[0m \u001b[0mTable\u001b[0m\u001b[0;34m\u001b[0m\u001b[0;34m\u001b[0m\u001b[0m\n",
            "\u001b[0;32m/content/ZSL-v2/zsl/__init__.py\u001b[0m in \u001b[0;36m<module>\u001b[0;34m()\u001b[0m\n\u001b[0;32m----> 1\u001b[0;31m \u001b[0;32mfrom\u001b[0m \u001b[0;34m.\u001b[0m\u001b[0mhierarchicalsolver\u001b[0m \u001b[0;32mimport\u001b[0m \u001b[0;34m*\u001b[0m\u001b[0;34m\u001b[0m\u001b[0;34m\u001b[0m\u001b[0m\n\u001b[0m\u001b[1;32m      2\u001b[0m \u001b[0;32mfrom\u001b[0m \u001b[0;34m.\u001b[0m\u001b[0mzsl\u001b[0m \u001b[0;32mimport\u001b[0m \u001b[0mword_embeddings\u001b[0m\u001b[0;34m\u001b[0m\u001b[0;34m\u001b[0m\u001b[0m\n\u001b[1;32m      3\u001b[0m \u001b[0;32mfrom\u001b[0m \u001b[0;34m.\u001b[0m\u001b[0mzsl\u001b[0m \u001b[0;32mimport\u001b[0m \u001b[0mmisc\u001b[0m\u001b[0;34m\u001b[0m\u001b[0;34m\u001b[0m\u001b[0m\n\u001b[1;32m      4\u001b[0m \u001b[0;34m\u001b[0m\u001b[0m\n\u001b[1;32m      5\u001b[0m \u001b[0;32mimport\u001b[0m \u001b[0mlogging\u001b[0m\u001b[0;34m\u001b[0m\u001b[0;34m\u001b[0m\u001b[0m\n",
            "\u001b[0;32m/content/ZSL-v2/zsl/hierarchicalsolver/__init__.py\u001b[0m in \u001b[0;36m<module>\u001b[0;34m()\u001b[0m\n\u001b[0;32m----> 1\u001b[0;31m \u001b[0;32mfrom\u001b[0m \u001b[0;34m.\u001b[0m\u001b[0mhierarchical_solver\u001b[0m \u001b[0;32mimport\u001b[0m \u001b[0;34m*\u001b[0m\u001b[0;34m\u001b[0m\u001b[0;34m\u001b[0m\u001b[0m\n\u001b[0m\u001b[1;32m      2\u001b[0m \u001b[0;34m\u001b[0m\u001b[0m\n\u001b[1;32m      3\u001b[0m \u001b[0m__all__\u001b[0m \u001b[0;34m=\u001b[0m \u001b[0;34m[\u001b[0m\u001b[0;34m\"HiCA\"\u001b[0m\u001b[0;34m]\u001b[0m\u001b[0;34m\u001b[0m\u001b[0;34m\u001b[0m\u001b[0m\n",
            "\u001b[0;32m/content/ZSL-v2/zsl/hierarchicalsolver/hierarchical_solver.py\u001b[0m in \u001b[0;36m<module>\u001b[0;34m()\u001b[0m\n\u001b[1;32m      4\u001b[0m \u001b[0;32mimport\u001b[0m \u001b[0mcommunity\u001b[0m\u001b[0;34m.\u001b[0m\u001b[0mcommunity_louvain\u001b[0m \u001b[0;32mas\u001b[0m \u001b[0mcommunity\u001b[0m\u001b[0;34m\u001b[0m\u001b[0;34m\u001b[0m\u001b[0m\n\u001b[1;32m      5\u001b[0m \u001b[0;34m\u001b[0m\u001b[0m\n\u001b[0;32m----> 6\u001b[0;31m \u001b[0;32mfrom\u001b[0m \u001b[0mOrange\u001b[0m\u001b[0;34m.\u001b[0m\u001b[0mclustering\u001b[0m\u001b[0;34m.\u001b[0m\u001b[0mhierarchical\u001b[0m \u001b[0;32mimport\u001b[0m \u001b[0mdata_clustering\u001b[0m\u001b[0;34m,\u001b[0m \u001b[0mWEIGHTED\u001b[0m\u001b[0;34m\u001b[0m\u001b[0;34m\u001b[0m\u001b[0m\n\u001b[0m\u001b[1;32m      7\u001b[0m \u001b[0;32mfrom\u001b[0m \u001b[0mOrange\u001b[0m\u001b[0;34m.\u001b[0m\u001b[0mdata\u001b[0m \u001b[0;32mimport\u001b[0m \u001b[0mTable\u001b[0m\u001b[0;34m,\u001b[0m \u001b[0mDomain\u001b[0m\u001b[0;34m\u001b[0m\u001b[0;34m\u001b[0m\u001b[0m\n\u001b[1;32m      8\u001b[0m \u001b[0;32mfrom\u001b[0m \u001b[0mOrange\u001b[0m\u001b[0;34m.\u001b[0m\u001b[0mdata\u001b[0m\u001b[0;34m.\u001b[0m\u001b[0mvariable\u001b[0m \u001b[0;32mimport\u001b[0m \u001b[0mStringVariable\u001b[0m\u001b[0;34m\u001b[0m\u001b[0;34m\u001b[0m\u001b[0m\n",
            "\u001b[0;31mModuleNotFoundError\u001b[0m: No module named 'Orange'",
            "",
            "\u001b[0;31m---------------------------------------------------------------------------\u001b[0;32m\nNOTE: If your import is failing due to a missing package, you can\nmanually install dependencies using either !pip or !apt.\n\nTo view examples of installing some common dependencies, click the\n\"Open Examples\" button below.\n\u001b[0;31m---------------------------------------------------------------------------\u001b[0m\n"
          ],
          "errorDetails": {
            "actions": [
              {
                "action": "open_url",
                "actionText": "Open Examples",
                "url": "/notebooks/snippets/importing_libraries.ipynb"
              }
            ]
          }
        }
      ]
    }
  ]
}