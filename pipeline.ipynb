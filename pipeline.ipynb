{
  "nbformat": 4,
  "nbformat_minor": 0,
  "metadata": {
    "colab": {
      "name": "pipeline.ipynb",
      "provenance": [],
      "collapsed_sections": [],
      "mount_file_id": "1OR6E3sgk-F1D3bS7Da1dyPBZYeidS0Kr",
      "authorship_tag": "ABX9TyOhz8dR7s9+L8+uyqneUC2k",
      "include_colab_link": true
    },
    "kernelspec": {
      "name": "python3",
      "display_name": "Python 3"
    },
    "language_info": {
      "name": "python"
    },
    "accelerator": "GPU"
  },
  "cells": [
    {
      "cell_type": "markdown",
      "metadata": {
        "id": "view-in-github",
        "colab_type": "text"
      },
      "source": [
        "<a href=\"https://colab.research.google.com/github/Taedriel/ZSL-v2/blob/googleImageFSL/pipeline.ipynb\" target=\"_parent\"><img src=\"https://colab.research.google.com/assets/colab-badge.svg\" alt=\"Open In Colab\"/></a>"
      ]
    },
    {
      "cell_type": "code",
      "execution_count": null,
      "metadata": {
        "id": "RxCGioBVtE6f"
      },
      "outputs": [],
      "source": [
        "!pip install selenium\n",
        "!pip install -U sklearn\n",
        "!pip install scikit-learn-intelex\n",
        "!pip install easyfsl\n",
        "!pip install Pillow\n",
        "!pip install pyod\n",
        "\n",
        "!cd \"./drive/MyDrive/Colab Notebooks/pipeline\" && pip install -r requirements.txt\n",
        "\n",
        "!apt install chromium-chromedriver\n",
        "!cp /usr/lib/chromium-browser/chromedriver /usr/bin\n",
        "import sys\n",
        "sys.path.insert(0,'/usr/lib/chromium-browser/chromedriver')"
      ]
    },
    {
      "cell_type": "code",
      "source": [
        "!sudo apt install python3-sklearn "
      ],
      "metadata": {
        "id": "-icuaXCHgdOH",
        "colab": {
          "base_uri": "https://localhost:8080/"
        },
        "outputId": "b97b5531-e3a4-4cc6-f4a2-50a537ca2e77"
      },
      "execution_count": 2,
      "outputs": [
        {
          "output_type": "stream",
          "name": "stdout",
          "text": [
            "Reading package lists... Done\n",
            "Building dependency tree       \n",
            "Reading state information... Done\n",
            "python3-sklearn is already the newest version (0.19.1-3).\n",
            "The following packages were automatically installed and are no longer required:\n",
            "  libnvidia-common-460 nsight-compute-2020.2.0\n",
            "Use 'sudo apt autoremove' to remove them.\n",
            "0 upgraded, 0 newly installed, 0 to remove and 67 not upgraded.\n"
          ]
        }
      ]
    },
    {
      "cell_type": "code",
      "source": [
        "import pandas as pd, numpy as np\n",
        "import matplotlib.pyplot as plt\n",
        "import os, itertools, shutil, requests, webbrowser, urllib.request, time, random\n",
        "import PIL.Image\n",
        "from IPython.core.display import Image\n",
        "\n",
        "from selenium import webdriver\n",
        "from bs4 import BeautifulSoup\n",
        "\n",
        "import torch\n",
        "from torch import nn, optim\n",
        "from torch.utils.data import Dataset, DataLoader\n",
        "from torchvision import transforms\n",
        "from torchvision import utils\n",
        "from torchvision.datasets import Omniglot\n",
        "from torchvision.models import resnet18\n",
        "from torch.autograd import Variable\n",
        "import torch.nn.functional as F\n",
        "\n",
        "from tqdm import tqdm\n",
        "%matplotlib inline\n",
        "\n",
        "from easyfsl.samplers import TaskSampler\n",
        "from easyfsl.utils import plot_images, sliding_average"
      ],
      "metadata": {
        "id": "xMwX0RACteAV"
      },
      "execution_count": 3,
      "outputs": []
    },
    {
      "cell_type": "code",
      "source": [
        "if not open(\"/content/drive/MyDrive/Colab Notebooks/pipeline/model/resnet18_with_pretraining.tar\", \"r\"):\n",
        "  os.system('wget https://public-sicara.s3.eu-central-1.amazonaws.com/easy-fsl/resnet18_with_pretraining.tar')"
      ],
      "metadata": {
        "id": "b4ohN5X8QKBl"
      },
      "execution_count": 4,
      "outputs": []
    },
    {
      "cell_type": "code",
      "source": [
        "PATH = \"/content/drive/MyDrive/Colab Notebooks/pipeline/\"\n",
        "PATH_IMAGES = \"/content/drive/MyDrive/Colab Notebooks/pipeline/images/\"\n",
        "PATH_MODEL = \"/content/drive/MyDrive/Colab Notebooks/pipeline/model/\"\n",
        "\n",
        "globalSize = 20\n",
        "LEN_FOR_ONE_SCROLL = 20\n",
        "retreivalNotDone = False\n",
        "trainingNeeded = False"
      ],
      "metadata": {
        "id": "lfOI7oJptom3"
      },
      "execution_count": 5,
      "outputs": []
    },
    {
      "cell_type": "code",
      "source": [
        "def createClasses(classesFile):\n",
        "\n",
        "  classes = \"\"\n",
        "  classesTr = []\n",
        "  classesTe = []\n",
        "  classeForSimilarity = []\n",
        "  index=0\n",
        "\n",
        "  for animal in classesFile.readlines():\n",
        "\n",
        "    animal = animal.strip(\"\\n\").replace(\" \", \"\")\n",
        "    if animal!=\"list\":\n",
        "      classes+=animal+\", \"\n",
        "\n",
        "      if index%2:\n",
        "        classesTe.append(animal)\n",
        "      else:\n",
        "        classesTr.append(animal)\n",
        "      index+=1\n",
        "\n",
        "  ridx = random.randint(0, len(classesTe)-1)\n",
        "  classeForSimilarity.append(classesTe[ridx])\n",
        "  classesTe.remove(classeForSimilarity[0])\n",
        "\n",
        "  print(\"training / testing :\", classesTr[0:5])\n",
        "\n",
        "  return classes, classesTr[0:5], classesTe, classeForSimilarity"
      ],
      "metadata": {
        "id": "VfqxDwYmjW-S"
      },
      "execution_count": 6,
      "outputs": []
    },
    {
      "cell_type": "code",
      "source": [
        "classesFile = open(PATH_MODEL+\"animals.txt\")\n",
        "classes, classesTr, _, i = createClasses(classesFile)"
      ],
      "metadata": {
        "colab": {
          "base_uri": "https://localhost:8080/"
        },
        "id": "6PDSp38TYh4K",
        "outputId": "ac965461-4db7-4653-e4aa-29c5fc6fdefe"
      },
      "execution_count": 7,
      "outputs": [
        {
          "output_type": "stream",
          "name": "stdout",
          "text": [
            "training / testing : ['Aardvark', 'Africanbuffalo', 'Africanleopard', 'Alligator', 'Americanrobin']\n"
          ]
        }
      ]
    },
    {
      "cell_type": "markdown",
      "source": [
        "--- IMAGE RETRIEVAL ---"
      ],
      "metadata": {
        "id": "jSc4ewvWt-rx"
      }
    },
    {
      "cell_type": "code",
      "source": [
        "\"\"\"\n",
        "thumbnail / jpg (compression) may be an issue\n",
        "\"\"\"\n",
        "\n",
        "def getParser(classeName):\n",
        "\n",
        "  site = 'https://www.google.com/search?tbm=isch&q='+classeName\n",
        "\n",
        "  chrome_options = webdriver.ChromeOptions()\n",
        "  chrome_options.add_argument('--headless')\n",
        "  chrome_options.add_argument('--no-sandbox')\n",
        "  chrome_options.add_argument('--disable-dev-shm-usage')\n",
        "\n",
        "  driver = webdriver.Chrome('chromedriver', options=chrome_options)\n",
        "  driver.get(site)\n",
        "  driver.execute_script(\"window.scrollBy(0, document.body.scrollHeight)\")\n",
        "  soup = BeautifulSoup(driver.page_source, 'html.parser')\n",
        "  driver.close()\n",
        "\n",
        "  return soup\n",
        "\n",
        "\n",
        "def getClassesImagesURLLIB():\n",
        "\n",
        "  imagesNumber = 0\n",
        "\n",
        "  shutil.rmtree(PATH_IMAGES, ignore_errors=False)\n",
        "  os.makedirs(PATH_IMAGES)\n",
        "\n",
        "  for classe in classes.split(\",\"):\n",
        "\n",
        "    try:\n",
        "      classeName = classe.replace(\" \", \"\")\n",
        "      os.makedirs(PATH_IMAGES+classeName)\n",
        "\n",
        "      soup = getParser(classeName)\n",
        "      img_tags = soup.find_all(\"img\", class_=\"rg_i\")\n",
        "      for index in range(0, len(img_tags)):\n",
        "        try:\n",
        "            urllib.request.urlretrieve(img_tags[index]['src'], PATH_IMAGES+classeName+\"/\"+str(classeName+str(index))+\".jpg\")\n",
        "            imagesNumber+=1\n",
        "        except Exception as e:\n",
        "            pass\n",
        "    except:\n",
        "      pass\n",
        "\n",
        "  print(str(imagesNumber) + \" images were downloaded. \" + str(imagesNumber/len(classes.split(\",\"))) + \" per classes\")"
      ],
      "metadata": {
        "id": "62epbrFRtxhG"
      },
      "execution_count": 8,
      "outputs": []
    },
    {
      "cell_type": "code",
      "source": [
        "if retreivalNotDone:\n",
        "  getClassesImagesURLLIB()\n",
        "  retreivalNotDone = False"
      ],
      "metadata": {
        "id": "I33Xnwvzt6HQ"
      },
      "execution_count": 9,
      "outputs": []
    },
    {
      "cell_type": "markdown",
      "source": [
        "--- DATASETS ---"
      ],
      "metadata": {
        "id": "aHno9DDLRebw"
      }
    },
    {
      "cell_type": "code",
      "source": [
        "image_size = 28\n",
        "\n",
        "# NB: background=True selects the train set, background=False selects the test set\n",
        "# It's the nomenclature from the original paper, we just have to deal with it\n",
        "\n",
        "train_set = Omniglot(\n",
        "    root=\"/content/drive/MyDrive/Colab Notebooks/pipeline/model/dataO\",\n",
        "    background=True,\n",
        "    transform=transforms.Compose(\n",
        "        [\n",
        "            transforms.Grayscale(num_output_channels=3),\n",
        "            transforms.RandomResizedCrop(image_size),\n",
        "            transforms.RandomHorizontalFlip(),\n",
        "            transforms.ToTensor(),\n",
        "        ]\n",
        "    ),\n",
        "    download=False,\n",
        ")\n",
        "test_set = Omniglot(\n",
        "    root=\"/content/drive/MyDrive/Colab Notebooks/pipeline/model/dataO\",\n",
        "    background=False,\n",
        "    transform=transforms.Compose(\n",
        "        [\n",
        "            # Omniglot images have 1 channel, but our model will expect 3-channel images\n",
        "            transforms.Grayscale(num_output_channels=3),\n",
        "            transforms.Resize([int(image_size * 1.15), int(image_size * 1.15)]),\n",
        "            transforms.CenterCrop(image_size),\n",
        "            transforms.ToTensor(),\n",
        "        ]\n",
        "    ),\n",
        "    download=False,\n",
        ")"
      ],
      "metadata": {
        "id": "f-ovtLiUxvF1"
      },
      "execution_count": 10,
      "outputs": []
    },
    {
      "cell_type": "code",
      "source": [
        "N_WAY = 5  # Number of classes in a task\n",
        "N_SHOT = 5  # Number of images per class in the support set\n",
        "N_QUERY = 10  # Number of images per class in the query set\n",
        "N_EVALUATION_TASKS = 100\n",
        "\n",
        "N_TRAINING_EPISODES = 40000\n",
        "N_VALIDATION_TASKS = 100\n",
        "\n",
        "train_set.get_labels = lambda: [instance[1] for instance in train_set._flat_character_images]\n",
        "train_sampler = TaskSampler(\n",
        "    train_set, n_way=N_WAY, n_shot=N_SHOT, n_query=N_QUERY, n_tasks=N_TRAINING_EPISODES\n",
        ")\n",
        "train_loader = DataLoader(\n",
        "    train_set,\n",
        "    batch_sampler=train_sampler,\n",
        "    num_workers=12,\n",
        "    pin_memory=True,\n",
        "    collate_fn=train_sampler.episodic_collate_fn,\n",
        ")\n",
        "\n",
        "# The sampler needs a dataset with a \"get_labels\" method. Check the code if you have any doubt!\n",
        "test_set.get_labels = lambda: [\n",
        "    instance[1] for instance in test_set._flat_character_images\n",
        "]\n",
        "test_sampler = TaskSampler(\n",
        "    test_set, n_way=N_WAY, n_shot=N_SHOT, n_query=N_QUERY, n_tasks=N_EVALUATION_TASKS\n",
        ")\n",
        "\n",
        "test_loader = DataLoader(\n",
        "    test_set,\n",
        "    batch_sampler=test_sampler,\n",
        "    num_workers=12,\n",
        "    pin_memory=True,\n",
        "    collate_fn=test_sampler.episodic_collate_fn,\n",
        ")"
      ],
      "metadata": {
        "id": "tku60QwLrvLe"
      },
      "execution_count": null,
      "outputs": []
    },
    {
      "cell_type": "code",
      "source": [
        "(example_support_images,\n",
        "example_support_labels,\n",
        "example_query_images,\n",
        "example_query_labels,\n",
        "example_class_ids,\n",
        ") = next(iter(test_loader))\n",
        "\n",
        "plot_images(example_support_images, \"support images training\", images_per_row=N_SHOT)\n",
        "plot_images(example_query_images, \"query images traning\", images_per_row=N_QUERY)"
      ],
      "metadata": {
        "id": "Lot6HHhAuW8r",
        "colab": {
          "base_uri": "https://localhost:8080/",
          "height": 551
        },
        "outputId": "157d9e28-72e3-4105-e490-cf1151a413c6"
      },
      "execution_count": 12,
      "outputs": [
        {
          "output_type": "stream",
          "name": "stderr",
          "text": [
            "/usr/local/lib/python3.7/dist-packages/torch/utils/data/dataloader.py:490: UserWarning: This DataLoader will create 12 worker processes in total. Our suggested max number of worker in current system is 2, which is smaller than what this DataLoader is going to create. Please be aware that excessive worker creation might get DataLoader running slow or even freeze, lower the worker number to avoid potential slowness/freeze if necessary.\n",
            "  cpuset_checked))\n"
          ]
        },
        {
          "output_type": "display_data",
          "data": {
            "text/plain": [
              "<Figure size 432x288 with 1 Axes>"
            ],
            "image/png": "[encoded data removed]"
          },
          "metadata": {
            "needs_background": "light"
          }
        },
        {
          "output_type": "display_data",
          "data": {
            "text/plain": [
              "<Figure size 432x288 with 1 Axes>"
            ],
            "image/png": "[encoded data removed]"
          },
          "metadata": {
            "needs_background": "light"
          }
        }
      ]
    },
    {
      "cell_type": "code",
      "source": [
        "%cd \"/content/drive/MyDrive/Colab Notebooks/pipeline/model/\""
      ],
      "metadata": {
        "colab": {
          "base_uri": "https://localhost:8080/"
        },
        "id": "rjNUSeA9Svly",
        "outputId": "0a90048c-ce6a-40b5-f98e-df7b0b154a44"
      },
      "execution_count": 13,
      "outputs": [
        {
          "output_type": "stream",
          "name": "stdout",
          "text": [
            "/content/drive/MyDrive/Colab Notebooks/pipeline/model\n"
          ]
        }
      ]
    },
    {
      "cell_type": "code",
      "source": [
        "from easyfsl.datasets import CUB\n",
        "\n",
        "N_WAY = 5  # Number of classes in a task\n",
        "N_SHOT = 20  # Number of images per class in the support set\n",
        "N_QUERY = 1  # Number of images per class in the query set\n",
        "N_TRAINING_EPISODES = 40000\n",
        "N_VALIDATION_TASKS = 100\n",
        "N_EVALUATION_TASKS = 100\n",
        "\n",
        "train_set = CUB(split=\"train\", training=True)\n",
        "test_set = CUB(split=\"test\", training=False)\n",
        "\n",
        "train_sampler = TaskSampler(\n",
        "    train_set, n_way=N_WAY, n_shot=N_SHOT, n_query=N_QUERY, n_tasks=N_TRAINING_EPISODES\n",
        ")\n",
        "train_loader = DataLoader(\n",
        "    train_set,\n",
        "    batch_sampler=train_sampler,\n",
        "    num_workers=12,\n",
        "    pin_memory=True,\n",
        "    collate_fn=train_sampler.episodic_collate_fn,\n",
        ")\n",
        "\n",
        "test_sampler = TaskSampler(\n",
        "    test_set, n_way=N_WAY, n_shot=N_SHOT, n_query=N_QUERY, n_tasks=N_EVALUATION_TASKS\n",
        ")\n",
        "\n",
        "test_loader = DataLoader(\n",
        "    test_set,\n",
        "    batch_sampler=test_sampler,\n",
        "    num_workers=12,\n",
        "    pin_memory=True,\n",
        "    collate_fn=test_sampler.episodic_collate_fn,\n",
        ")"
      ],
      "metadata": {
        "colab": {
          "base_uri": "https://localhost:8080/"
        },
        "id": "EAPX7OJhRKRe",
        "outputId": "6786537c-833c-4e30-e416-6d77ac740b18"
      },
      "execution_count": 39,
      "outputs": [
        {
          "output_type": "stream",
          "name": "stderr",
          "text": [
            "/usr/local/lib/python3.7/dist-packages/torch/utils/data/dataloader.py:490: UserWarning: This DataLoader will create 12 worker processes in total. Our suggested max number of worker in current system is 2, which is smaller than what this DataLoader is going to create. Please be aware that excessive worker creation might get DataLoader running slow or even freeze, lower the worker number to avoid potential slowness/freeze if necessary.\n",
            "  cpuset_checked))\n"
          ]
        }
      ]
    },
    {
      "cell_type": "code",
      "source": [
        "(example_support_images,\n",
        "example_support_labels,\n",
        "example_query_images,\n",
        "example_query_labels,\n",
        "example_class_ids,\n",
        ") = next(iter(test_loader))\n",
        "\n",
        "plot_images(example_support_images, \"support images test\", images_per_row=N_SHOT)\n",
        "plot_images(example_query_images, \"query images test\", images_per_row=N_QUERY)"
      ],
      "metadata": {
        "colab": {
          "base_uri": "https://localhost:8080/",
          "height": 501
        },
        "id": "_4MndYpJRU9O",
        "outputId": "378c1524-2d13-4a33-857b-f797deb8830f"
      },
      "execution_count": 32,
      "outputs": [
        {
          "output_type": "stream",
          "name": "stderr",
          "text": [
            "/usr/local/lib/python3.7/dist-packages/torch/utils/data/dataloader.py:490: UserWarning: This DataLoader will create 12 worker processes in total. Our suggested max number of worker in current system is 2, which is smaller than what this DataLoader is going to create. Please be aware that excessive worker creation might get DataLoader running slow or even freeze, lower the worker number to avoid potential slowness/freeze if necessary.\n",
            "  cpuset_checked))\n",
            "Clipping input data to the valid range for imshow with RGB data ([0..1] for floats or [0..255] for integers).\n",
            "Clipping input data to the valid range for imshow with RGB data ([0..1] for floats or [0..255] for integers).\n"
          ]
        },
        {
          "output_type": "display_data",
          "data": {
            "text/plain": [
              "<Figure size 432x288 with 1 Axes>"
            ],
            "image/png": "[encoded data removed]"
          },
          "metadata": {
            "needs_background": "light"
          }
        },
        {
          "output_type": "display_data",
          "data": {
            "text/plain": [
              "<Figure size 432x288 with 1 Axes>"
            ],
            "image/png": "[encoded data removed]"
          },
          "metadata": {
            "needs_background": "light"
          }
        }
      ]
    },
    {
      "cell_type": "markdown",
      "source": [
        "--- PROTOTYPICAL NETWORK ---"
      ],
      "metadata": {
        "id": "wvnjwBYbmLsC"
      }
    },
    {
      "cell_type": "code",
      "source": [
        "class PrototypicalNetworks(nn.Module):\n",
        "    def __init__(self, backbone: nn.Module):\n",
        "        super(PrototypicalNetworks, self).__init__()\n",
        "        self.backbone = backbone\n",
        "\n",
        "    def forward(self, support_images: torch.Tensor, support_labels: torch.Tensor, query_images: torch.Tensor,) -> torch.Tensor:\n",
        "        \"\"\"\n",
        "        Predict query labels using labeled support images.\n",
        "        \"\"\"\n",
        "        z_support = self.backbone.forward(support_images)\n",
        "        z_query = self.backbone.forward(query_images)\n",
        "\n",
        "        n_way = len(torch.unique(support_labels))\n",
        "        z_proto = torch.cat(\n",
        "            [\n",
        "                z_support[torch.nonzero(support_labels == label)].mean(0)\n",
        "                for label in range(n_way)\n",
        "            ]\n",
        "        )\n",
        "\n",
        "        dists = torch.cdist(z_query, z_proto)\n",
        "        scores = -dists\n",
        "        #print(\"d(query, prototype) = \", dists)\n",
        "        return scores\n",
        "\n",
        "\n",
        "convolutional_network = resnet18(pretrained=True)\n",
        "convolutional_network.fc = nn.Flatten()\n",
        "model = PrototypicalNetworks(convolutional_network) #.cuda()"
      ],
      "metadata": {
        "id": "r3ejVC8tu5Ve"
      },
      "execution_count": 16,
      "outputs": []
    },
    {
      "cell_type": "code",
      "source": [
        "# those two followings are the meta training\n",
        "\n",
        "criterion = nn.CrossEntropyLoss()\n",
        "optimizer = optim.Adam(model.parameters(), lr=0.001)\n",
        "\n",
        "\n",
        "def fit(support_images: torch.Tensor, support_labels: torch.Tensor, query_images: torch.Tensor, query_labels: torch.Tensor,) -> float:\n",
        "    optimizer.zero_grad()\n",
        "    classification_scores = model(support_images, support_labels, query_images)\n",
        "    #support_images.cuda(), support_labels.cuda(), query_images.cuda()\n",
        "\n",
        "    loss = criterion(classification_scores, query_labels) #query_labels.cuda()\n",
        "    loss.backward()\n",
        "    optimizer.step()\n",
        "\n",
        "    return loss.item()\n",
        "\n",
        "def trainOnSet(datasetL):\n",
        "  log_update_frequency = 10\n",
        "  all_loss = []\n",
        "  model.train()\n",
        "\n",
        "  # training here, tqdm is for the progress bar\n",
        "  with tqdm(enumerate(datasetL), total=len(datasetL)) as tqdm_train:\n",
        "      for episode_index, (support_images, support_labels, query_images, query_labels, _,) in tqdm_train:\n",
        "          loss_value = fit(support_images, support_labels, query_images, query_labels)\n",
        "          all_loss.append(loss_value)\n",
        "\n",
        "          if episode_index % log_update_frequency == 0:\n",
        "              tqdm_train.set_postfix(loss=sliding_average(all_loss, log_update_frequency))\n",
        "\n",
        "  torch.save(model.state_dict(), PATH_MODEL+\"proto_model.pt\")"
      ],
      "metadata": {
        "id": "6W1LCGL6yyEd"
      },
      "execution_count": 17,
      "outputs": []
    },
    {
      "cell_type": "code",
      "source": [
        "def getCUBClassesForATask(label_ids, class_ids, classNames):\n",
        "  carac = [\"\"]*N_WAY\n",
        "  previousLen = 0\n",
        "\n",
        "  for i in range(0, N_WAY):\n",
        "\n",
        "    labelI = label_ids[i*N_SHOT]\n",
        "    name = classNames[class_ids[labelI]]\n",
        "    try:\n",
        "      firstName, lastName = name.split(\".\")[1].split(\"/\")[-1].split(\"_\")[0:2]\n",
        "      carac[labelI] = firstName[0:2]+lastName[0:2]\n",
        "    except:\n",
        "      abreviation = name.split(\".\")[1][0:2]\n",
        "      carac[labelI] = abreviation\n",
        "\n",
        "    \n",
        "  return carac\n",
        "\n",
        "classesList = lambda i, label_ids, class_ids, classesNames: getCUBClassesForATask(label_ids, class_ids, classesNames)[i]\n",
        "\n",
        "def printConfusionMatrix(confM, label_ids, class_ids, classNames):\n",
        "\n",
        "  print(\"\\n\")\n",
        "  print(\"A/P \\t\", end=\"\")\n",
        "\n",
        "  for i in range(0, len(confM)):\n",
        "    print(classesList(i, label_ids, class_ids, classNames) + \"\\t\", end=\"\")\n",
        "\n",
        "  print(\"\\n\")\n",
        "  for i in range(0, len(confM)):\n",
        "    c_name = classesList(i, label_ids, class_ids, classNames)\n",
        "    print(f\"{c_name:8}\", end=\"\")\n",
        "    for j in range(0, len(confM[0])):\n",
        "      print(str(confM[i][j]) + \"\\t\", end=\"\")\n",
        "    print(\"\\n\")"
      ],
      "metadata": {
        "id": "grK7Ev4BXntS"
      },
      "execution_count": 18,
      "outputs": []
    },
    {
      "cell_type": "code",
      "source": [
        "#suppr les cuda sur examples\n",
        "#prediction on one support\n",
        "\n",
        "if trainingNeeded:\n",
        "  trainOnSet(train_loader)\n",
        "\n",
        "model.eval()\n",
        "example_scores = model(\n",
        "    example_support_images,\n",
        "    example_support_labels,\n",
        "    example_query_images,\n",
        ").detach()\n",
        "\n",
        "_, example_predicted_labels = torch.max(example_scores.data, 1)\n",
        "classNames = test_set.class_names\n",
        "\n",
        "confM = [\n",
        "         [0 for i in range(0, N_WAY)] for j in range (0, N_WAY)\n",
        "        ]\n",
        "accuracy = 0\n",
        "\n",
        "for i in range(len(example_query_labels)):\n",
        "  print(f\"{classNames[example_class_ids[example_query_labels[i]]]} / {classNames[example_class_ids[example_predicted_labels[i]]]}\")\n",
        "  \n",
        "  if classNames[example_class_ids[example_query_labels[i]]] == classNames[example_class_ids[example_predicted_labels[i]]]:\n",
        "    accuracy+=1\n",
        "  \n",
        "  k = example_query_labels[i]\n",
        "  l = example_predicted_labels[i]\n",
        "  confM[k][l]+=1\n",
        "\n",
        "printConfusionMatrix(confM, example_support_labels, example_class_ids, classNames)\n",
        "print(\"accuracy for this task : \", accuracy/len(example_query_labels)*100, \"%\")"
      ],
      "metadata": {
        "id": "0cPmMp1-y09b",
        "colab": {
          "base_uri": "https://localhost:8080/"
        },
        "outputId": "df267f6c-301a-4dd0-9f72-4c37260391f5"
      },
      "execution_count": 19,
      "outputs": [
        {
          "output_type": "stream",
          "name": "stdout",
          "text": [
            "085.Horned_Lark / 163.Cape_May_Warbler\n",
            "085.Horned_Lark / 085.Horned_Lark\n",
            "085.Horned_Lark / 169.Magnolia_Warbler\n",
            "085.Horned_Lark / 085.Horned_Lark\n",
            "085.Horned_Lark / 085.Horned_Lark\n",
            "085.Horned_Lark / 085.Horned_Lark\n",
            "085.Horned_Lark / 085.Horned_Lark\n",
            "085.Horned_Lark / 169.Magnolia_Warbler\n",
            "085.Horned_Lark / 169.Magnolia_Warbler\n",
            "085.Horned_Lark / 085.Horned_Lark\n",
            "163.Cape_May_Warbler / 122.Harris_Sparrow\n",
            "163.Cape_May_Warbler / 169.Magnolia_Warbler\n",
            "163.Cape_May_Warbler / 163.Cape_May_Warbler\n",
            "163.Cape_May_Warbler / 169.Magnolia_Warbler\n",
            "163.Cape_May_Warbler / 169.Magnolia_Warbler\n",
            "163.Cape_May_Warbler / 169.Magnolia_Warbler\n",
            "163.Cape_May_Warbler / 085.Horned_Lark\n",
            "163.Cape_May_Warbler / 169.Magnolia_Warbler\n",
            "163.Cape_May_Warbler / 163.Cape_May_Warbler\n",
            "163.Cape_May_Warbler / 085.Horned_Lark\n",
            "030.Fish_Crow / 030.Fish_Crow\n",
            "030.Fish_Crow / 085.Horned_Lark\n",
            "030.Fish_Crow / 030.Fish_Crow\n",
            "030.Fish_Crow / 030.Fish_Crow\n",
            "030.Fish_Crow / 030.Fish_Crow\n",
            "030.Fish_Crow / 030.Fish_Crow\n",
            "030.Fish_Crow / 030.Fish_Crow\n",
            "030.Fish_Crow / 030.Fish_Crow\n",
            "030.Fish_Crow / 030.Fish_Crow\n",
            "030.Fish_Crow / 163.Cape_May_Warbler\n",
            "122.Harris_Sparrow / 169.Magnolia_Warbler\n",
            "122.Harris_Sparrow / 085.Horned_Lark\n",
            "122.Harris_Sparrow / 122.Harris_Sparrow\n",
            "122.Harris_Sparrow / 122.Harris_Sparrow\n",
            "122.Harris_Sparrow / 085.Horned_Lark\n",
            "122.Harris_Sparrow / 163.Cape_May_Warbler\n",
            "122.Harris_Sparrow / 163.Cape_May_Warbler\n",
            "122.Harris_Sparrow / 169.Magnolia_Warbler\n",
            "122.Harris_Sparrow / 163.Cape_May_Warbler\n",
            "122.Harris_Sparrow / 122.Harris_Sparrow\n",
            "169.Magnolia_Warbler / 085.Horned_Lark\n",
            "169.Magnolia_Warbler / 169.Magnolia_Warbler\n",
            "169.Magnolia_Warbler / 169.Magnolia_Warbler\n",
            "169.Magnolia_Warbler / 163.Cape_May_Warbler\n",
            "169.Magnolia_Warbler / 169.Magnolia_Warbler\n",
            "169.Magnolia_Warbler / 085.Horned_Lark\n",
            "169.Magnolia_Warbler / 169.Magnolia_Warbler\n",
            "169.Magnolia_Warbler / 163.Cape_May_Warbler\n",
            "169.Magnolia_Warbler / 163.Cape_May_Warbler\n",
            "169.Magnolia_Warbler / 169.Magnolia_Warbler\n",
            "\n",
            "\n",
            "A/P \tFiCr\tHoLa\tHaSp\tCaMa\tMaWa\t\n",
            "\n",
            "FiCr    8\t1\t0\t1\t0\t\n",
            "\n",
            "HoLa    0\t6\t0\t1\t3\t\n",
            "\n",
            "HaSp    0\t2\t3\t3\t2\t\n",
            "\n",
            "CaMa    0\t2\t1\t2\t5\t\n",
            "\n",
            "MaWa    0\t2\t0\t3\t5\t\n",
            "\n",
            "accuracy for this task :  48.0 %\n"
          ]
        }
      ]
    },
    {
      "cell_type": "code",
      "source": [
        "model.load_state_dict(torch.load(\"/content/drive/MyDrive/pipeline/model/resnet18_with_pretraining.tar\", map_location=\"cpu\"))"
      ],
      "metadata": {
        "id": "YQ5M7o2ct4m4"
      },
      "execution_count": null,
      "outputs": []
    },
    {
      "cell_type": "code",
      "source": [
        "cuda = False\n",
        "\n",
        "def createConfusionMatrix(model, support_images, support_labels, query_images):\n",
        "\n",
        "  confusionMatrix =[\n",
        "         [0 for i in range(0, N_WAY)] for j in range (0, N_WAY)\n",
        "        ]\n",
        "\n",
        "  example_scores = model(\n",
        "    support_images,\n",
        "    support_labels,\n",
        "    query_images,\n",
        "    ).detach()\n",
        "\n",
        "  _, example_predicted_labels = torch.max(example_scores.data, 1)\n",
        "\n",
        "  for i in range(len(example_query_labels)):\n",
        "    \n",
        "    k = example_query_labels[i]\n",
        "    l = example_predicted_labels[i]\n",
        "    confusionMatrix[k][l]+=1\n",
        "\n",
        "  return confusionMatrix\n",
        "\n",
        "def evaluate_on_one_task(support_images: torch.Tensor, support_labels: torch.Tensor, query_images: torch.Tensor, query_labels: torch.Tensor,) -> [int, int]:\n",
        "  \n",
        "    \"\"\"\n",
        "    Returns the number of correct predictions of query labels, and the total number of predictions.\n",
        "    \"\"\"\n",
        "\n",
        "    confusionMatrixI = createConfusionMatrix(model, support_images, support_labels, query_images)\n",
        "\n",
        "    if cuda:\n",
        "\n",
        "      return (\n",
        "        torch.max(\n",
        "            model(\n",
        "            support_images.cuda(),\n",
        "            support_labels.cuda(),\n",
        "            query_images.cuda(),\n",
        "            ).detach().data,\n",
        "            1,\n",
        "        )[1] == query_labels.cuda()).sum().item(), len(query_labels), confusionMatrixI\n",
        "\n",
        "    else:\n",
        "\n",
        "      return (\n",
        "        torch.max(\n",
        "            model(\n",
        "            support_images,\n",
        "            support_labels,\n",
        "            query_images,\n",
        "            ).detach().data,\n",
        "            1,\n",
        "        )[1] == query_labels).sum().item(), len(query_labels), confusionMatrixI\n",
        "\n",
        "def evaluate(data_loader: DataLoader):\n",
        "    # We'll count everything and compute the ratio at the end\n",
        "    total_predictions = 0\n",
        "    correct_predictions = 0\n",
        "    confusionMatrix = np.array([\n",
        "            [0 for i in range(0, N_WAY)] for j in range (0, N_WAY)\n",
        "            ])\n",
        "    classNames = test_set.class_names\n",
        "    confMAccuracy = []\n",
        "\n",
        "    \n",
        "    # eval mode affects the behaviour of some layers (such as batch normalization or dropout)\n",
        "    # no_grad() tells torch not to keep in memory the whole computational graph (it's more lightweight this way)\n",
        "    model.eval()\n",
        "    with torch.no_grad():\n",
        "        for episode_index, (support_images, support_labels, query_images, query_labels, class_ids,) in tqdm(enumerate(data_loader), total=len(data_loader)):\n",
        "\n",
        "            correct, total, confusionMatrixI = evaluate_on_one_task(support_images, support_labels, query_images, query_labels)\n",
        "            total_predictions += total\n",
        "            correct_predictions += correct\n",
        "            confMAccuracy.append(np.trace(confusionMatrixI)/(np.sum(confusionMatrixI)-np.trace(confusionMatrixI)))\n",
        "\n",
        "            printConfusionMatrix(confusionMatrixI, support_labels, class_ids, classNames)\n",
        "\n",
        "    print(f\"Model tested on {len(data_loader)} tasks. Accuracy: {(100 * correct_predictions/total_predictions):.2f}%\")\n",
        "    print(f\"Model tested on {len(data_loader)} tasks. Accuracy for confusion matrix: {(100 * sum(confMAccuracy)/len(confMAccuracy)):.2f}%\")"
      ],
      "metadata": {
        "id": "s47Wfsxvzepw"
      },
      "execution_count": 34,
      "outputs": []
    },
    {
      "cell_type": "code",
      "source": [
        "evaluate(test_loader)"
      ],
      "metadata": {
        "id": "N1JJkQw6zmdw",
        "colab": {
          "base_uri": "https://localhost:8080/"
        },
        "outputId": "afce44e7-d9d3-4dce-86bf-b9020ca26c7b"
      },
      "execution_count": 40,
      "outputs": [
        {
          "output_type": "stream",
          "name": "stderr",
          "text": [
            "/usr/local/lib/python3.7/dist-packages/torch/utils/data/dataloader.py:490: UserWarning: This DataLoader will create 12 worker processes in total. Our suggested max number of worker in current system is 2, which is smaller than what this DataLoader is going to create. Please be aware that excessive worker creation might get DataLoader running slow or even freeze, lower the worker number to avoid potential slowness/freeze if necessary.\n",
            "  cpuset_checked))\n",
            "  1%|          | 1/100 [00:18<30:57, 18.77s/it]"
          ]
        },
        {
          "output_type": "stream",
          "name": "stdout",
          "text": [
            "\n",
            "\n",
            "A/P \tBrCr\tRiKi\tHaSp\tLeTe\tCaWr\t\n",
            "\n",
            "BrCr    0\t1\t0\t0\t0\t\n",
            "\n",
            "RiKi    0\t0\t0\t0\t1\t\n",
            "\n",
            "HaSp    0\t0\t0\t1\t0\t\n",
            "\n",
            "LeTe    0\t1\t0\t0\t0\t\n",
            "\n",
            "CaWr    0\t0\t0\t0\t1\t\n",
            "\n"
          ]
        },
        {
          "output_type": "stream",
          "name": "stderr",
          "text": [
            "\r  2%|▏         | 2/100 [00:21<15:37,  9.56s/it]"
          ]
        },
        {
          "output_type": "stream",
          "name": "stdout",
          "text": [
            "\n",
            "\n",
            "A/P \tLeFl\tHaSp\tWhth\tKeWa\tMaWa\t\n",
            "\n",
            "LeFl    0\t0\t1\t0\t0\t\n",
            "\n",
            "HaSp    0\t0\t0\t1\t0\t\n",
            "\n",
            "Whth    0\t0\t0\t0\t1\t\n",
            "\n",
            "KeWa    0\t0\t0\t0\t1\t\n",
            "\n",
            "MaWa    0\t1\t0\t0\t0\t\n",
            "\n"
          ]
        },
        {
          "output_type": "stream",
          "name": "stderr",
          "text": [
            "\r  3%|▎         | 3/100 [00:24<10:40,  6.60s/it]"
          ]
        },
        {
          "output_type": "stream",
          "name": "stdout",
          "text": [
            "\n",
            "\n",
            "A/P \tRhAu\tLeFl\tGa\tWhbr\tMaWa\t\n",
            "\n",
            "RhAu    0\t1\t0\t0\t0\t\n",
            "\n",
            "LeFl    0\t0\t1\t0\t0\t\n",
            "\n",
            "Ga      0\t0\t0\t1\t0\t\n",
            "\n",
            "Whbr    1\t0\t0\t0\t0\t\n",
            "\n",
            "MaWa    0\t0\t0\t0\t1\t\n",
            "\n"
          ]
        },
        {
          "output_type": "stream",
          "name": "stderr",
          "text": [
            "\r  4%|▍         | 4/100 [00:28<08:20,  5.22s/it]"
          ]
        },
        {
          "output_type": "stream",
          "name": "stdout",
          "text": [
            "\n",
            "\n",
            "A/P \tHoLa\tWhbr\tWhPe\tCaGl\tClSw\t\n",
            "\n",
            "HoLa    0\t1\t0\t0\t0\t\n",
            "\n",
            "Whbr    0\t0\t1\t0\t0\t\n",
            "\n",
            "WhPe    0\t0\t0\t1\t0\t\n",
            "\n",
            "CaGl    1\t0\t0\t0\t0\t\n",
            "\n",
            "ClSw    1\t0\t0\t0\t0\t\n",
            "\n"
          ]
        },
        {
          "output_type": "stream",
          "name": "stderr",
          "text": [
            "\r  5%|▌         | 5/100 [00:31<07:02,  4.45s/it]"
          ]
        },
        {
          "output_type": "stream",
          "name": "stdout",
          "text": [
            "\n",
            "\n",
            "A/P \tYebr\tFiCr\tHaSp\tKeWa\tMoWa\t\n",
            "\n",
            "Yebr    0\t0\t0\t0\t1\t\n",
            "\n",
            "FiCr    0\t0\t1\t0\t0\t\n",
            "\n",
            "HaSp    0\t0\t0\t1\t0\t\n",
            "\n",
            "KeWa    1\t0\t0\t0\t0\t\n",
            "\n",
            "MoWa    0\t1\t0\t0\t0\t\n",
            "\n"
          ]
        },
        {
          "output_type": "stream",
          "name": "stderr",
          "text": [
            "\r  6%|▌         | 6/100 [00:34<06:15,  3.99s/it]"
          ]
        },
        {
          "output_type": "stream",
          "name": "stdout",
          "text": [
            "\n",
            "\n",
            "A/P \tRiKi\tHoLa\tHaSp\tWhth\tBeWr\t\n",
            "\n",
            "RiKi    0\t0\t0\t0\t1\t\n",
            "\n",
            "HoLa    0\t0\t1\t0\t0\t\n",
            "\n",
            "HaSp    1\t0\t0\t0\t0\t\n",
            "\n",
            "Whth    0\t1\t0\t0\t0\t\n",
            "\n",
            "BeWr    0\t1\t0\t0\t0\t\n",
            "\n"
          ]
        },
        {
          "output_type": "stream",
          "name": "stderr",
          "text": [
            "\r  7%|▋         | 7/100 [00:37<05:43,  3.70s/it]"
          ]
        },
        {
          "output_type": "stream",
          "name": "stdout",
          "text": [
            "\n",
            "\n",
            "A/P \tBrCr\tFiCr\tPuFi\tKeWa\tMaWa\t\n",
            "\n",
            "BrCr    0\t0\t0\t1\t0\t\n",
            "\n",
            "FiCr    1\t0\t0\t0\t0\t\n",
            "\n",
            "PuFi    0\t0\t0\t0\t1\t\n",
            "\n",
            "KeWa    0\t0\t0\t0\t1\t\n",
            "\n",
            "MaWa    0\t1\t0\t0\t0\t\n",
            "\n"
          ]
        },
        {
          "output_type": "stream",
          "name": "stderr",
          "text": [
            "\r  8%|▊         | 8/100 [00:40<05:22,  3.50s/it]"
          ]
        },
        {
          "output_type": "stream",
          "name": "stdout",
          "text": [
            "\n",
            "\n",
            "A/P \tNoFu\tGa\tRiKi\tHoLa\tClSw\t\n",
            "\n",
            "NoFu    0\t0\t0\t1\t0\t\n",
            "\n",
            "Ga      1\t0\t0\t0\t0\t\n",
            "\n",
            "RiKi    1\t0\t0\t0\t0\t\n",
            "\n",
            "HoLa    0\t0\t1\t0\t0\t\n",
            "\n",
            "ClSw    0\t1\t0\t0\t0\t\n",
            "\n"
          ]
        },
        {
          "output_type": "stream",
          "name": "stderr",
          "text": [
            "\r  9%|▉         | 9/100 [00:43<05:07,  3.37s/it]"
          ]
        },
        {
          "output_type": "stream",
          "name": "stdout",
          "text": [
            "\n",
            "\n",
            "A/P \tRhAu\tPuFi\tGa\tSa\tCaMa\t\n",
            "\n",
            "RhAu    0\t0\t1\t0\t0\t\n",
            "\n",
            "PuFi    0\t0\t0\t1\t0\t\n",
            "\n",
            "Ga      0\t0\t0\t0\t1\t\n",
            "\n",
            "Sa      0\t1\t0\t0\t0\t\n",
            "\n",
            "CaMa    0\t0\t0\t0\t1\t\n",
            "\n"
          ]
        },
        {
          "output_type": "stream",
          "name": "stderr",
          "text": [
            "\r 10%|█         | 10/100 [00:46<04:56,  3.30s/it]"
          ]
        },
        {
          "output_type": "stream",
          "name": "stdout",
          "text": [
            "\n",
            "\n",
            "A/P \tGa\tRiKi\tHoSp\tSeSp\tKeWa\t\n",
            "\n",
            "Ga      0\t0\t0\t0\t1\t\n",
            "\n",
            "RiKi    0\t1\t0\t0\t0\t\n",
            "\n",
            "HoSp    0\t0\t0\t1\t0\t\n",
            "\n",
            "SeSp    0\t0\t0\t1\t0\t\n",
            "\n",
            "KeWa    0\t1\t0\t0\t0\t\n",
            "\n"
          ]
        },
        {
          "output_type": "stream",
          "name": "stderr",
          "text": [
            "\r 11%|█         | 11/100 [00:49<04:47,  3.23s/it]"
          ]
        },
        {
          "output_type": "stream",
          "name": "stdout",
          "text": [
            "\n",
            "\n",
            "A/P \tYebr\tLeTe\tKeWa\tBeWr\tCaWr\t\n",
            "\n",
            "Yebr    1\t0\t0\t0\t0\t\n",
            "\n",
            "LeTe    0\t0\t0\t0\t1\t\n",
            "\n",
            "KeWa    0\t0\t0\t1\t0\t\n",
            "\n",
            "BeWr    0\t0\t0\t1\t0\t\n",
            "\n",
            "CaWr    0\t0\t0\t1\t0\t\n",
            "\n"
          ]
        },
        {
          "output_type": "stream",
          "name": "stderr",
          "text": [
            "\r 12%|█▏        | 12/100 [00:52<04:40,  3.19s/it]"
          ]
        },
        {
          "output_type": "stream",
          "name": "stdout",
          "text": [
            "\n",
            "\n",
            "A/P \tFiCr\tRiKi\tGrGr\tSeSp\tKeWa\t\n",
            "\n",
            "FiCr    0\t0\t0\t0\t1\t\n",
            "\n",
            "RiKi    0\t0\t0\t1\t0\t\n",
            "\n",
            "GrGr    0\t0\t0\t1\t0\t\n",
            "\n",
            "SeSp    1\t0\t0\t0\t0\t\n",
            "\n",
            "KeWa    0\t0\t0\t1\t0\t\n",
            "\n"
          ]
        },
        {
          "output_type": "stream",
          "name": "stderr",
          "text": [
            "\r 13%|█▎        | 13/100 [00:55<04:35,  3.17s/it]"
          ]
        },
        {
          "output_type": "stream",
          "name": "stdout",
          "text": [
            "\n",
            "\n",
            "A/P \tRhAu\tGrGr\tHaSp\tClSw\tBeWr\t\n",
            "\n",
            "RhAu    0\t0\t1\t0\t0\t\n",
            "\n",
            "GrGr    1\t0\t0\t0\t0\t\n",
            "\n",
            "HaSp    0\t0\t1\t0\t0\t\n",
            "\n",
            "ClSw    0\t0\t0\t0\t1\t\n",
            "\n",
            "BeWr    0\t1\t0\t0\t0\t\n",
            "\n"
          ]
        },
        {
          "output_type": "stream",
          "name": "stderr",
          "text": [
            "\r 14%|█▍        | 14/100 [00:59<04:30,  3.14s/it]"
          ]
        },
        {
          "output_type": "stream",
          "name": "stdout",
          "text": [
            "\n",
            "\n",
            "A/P \tBrCr\tRiKi\tHaSp\tWhth\tBeWr\t\n",
            "\n",
            "BrCr    0\t0\t0\t1\t0\t\n",
            "\n",
            "RiKi    1\t0\t0\t0\t0\t\n",
            "\n",
            "HaSp    0\t1\t0\t0\t0\t\n",
            "\n",
            "Whth    1\t0\t0\t0\t0\t\n",
            "\n",
            "BeWr    0\t0\t0\t0\t1\t\n",
            "\n"
          ]
        },
        {
          "output_type": "stream",
          "name": "stderr",
          "text": [
            "\r 15%|█▌        | 15/100 [01:02<04:25,  3.12s/it]"
          ]
        },
        {
          "output_type": "stream",
          "name": "stdout",
          "text": [
            "\n",
            "\n",
            "A/P \tBrBl\tHoSp\tClSw\tLeTe\tCaMa\t\n",
            "\n",
            "BrBl    0\t0\t0\t0\t1\t\n",
            "\n",
            "HoSp    0\t1\t0\t0\t0\t\n",
            "\n",
            "ClSw    0\t0\t0\t0\t1\t\n",
            "\n",
            "LeTe    0\t0\t0\t0\t1\t\n",
            "\n",
            "CaMa    0\t0\t1\t0\t0\t\n",
            "\n"
          ]
        },
        {
          "output_type": "stream",
          "name": "stderr",
          "text": [
            "\r 16%|█▌        | 16/100 [01:05<04:21,  3.11s/it]"
          ]
        },
        {
          "output_type": "stream",
          "name": "stdout",
          "text": [
            "\n",
            "\n",
            "A/P \tBrCr\tLeFl\tNoFu\tGa\tMaWa\t\n",
            "\n",
            "BrCr    0\t0\t0\t1\t0\t\n",
            "\n",
            "LeFl    1\t0\t0\t0\t0\t\n",
            "\n",
            "NoFu    0\t0\t0\t0\t1\t\n",
            "\n",
            "Ga      0\t0\t1\t0\t0\t\n",
            "\n",
            "MaWa    0\t1\t0\t0\t0\t\n",
            "\n"
          ]
        },
        {
          "output_type": "stream",
          "name": "stderr",
          "text": [
            "\r 17%|█▋        | 17/100 [01:08<04:18,  3.12s/it]"
          ]
        },
        {
          "output_type": "stream",
          "name": "stdout",
          "text": [
            "\n",
            "\n",
            "A/P \tFiCr\tWhbr\tWhPe\tHoSp\tWhth\t\n",
            "\n",
            "FiCr    0\t0\t0\t0\t1\t\n",
            "\n",
            "Whbr    0\t1\t0\t0\t0\t\n",
            "\n",
            "WhPe    0\t0\t1\t0\t0\t\n",
            "\n",
            "HoSp    1\t0\t0\t0\t0\t\n",
            "\n",
            "Whth    0\t0\t0\t0\t1\t\n",
            "\n"
          ]
        },
        {
          "output_type": "stream",
          "name": "stderr",
          "text": [
            "\r 18%|█▊        | 18/100 [01:11<04:15,  3.11s/it]"
          ]
        },
        {
          "output_type": "stream",
          "name": "stdout",
          "text": [
            "\n",
            "\n",
            "A/P \tLaBu\tNoFu\tHoLa\tHoSp\tWhth\t\n",
            "\n",
            "LaBu    0\t0\t0\t1\t0\t\n",
            "\n",
            "NoFu    0\t1\t0\t0\t0\t\n",
            "\n",
            "HoLa    0\t0\t1\t0\t0\t\n",
            "\n",
            "HoSp    0\t0\t0\t0\t1\t\n",
            "\n",
            "Whth    1\t0\t0\t0\t0\t\n",
            "\n"
          ]
        },
        {
          "output_type": "stream",
          "name": "stderr",
          "text": [
            "\r 19%|█▉        | 19/100 [01:14<04:11,  3.10s/it]"
          ]
        },
        {
          "output_type": "stream",
          "name": "stdout",
          "text": [
            "\n",
            "\n",
            "A/P \tGa\tGrGr\tHoSp\tCaMa\tCaWr\t\n",
            "\n",
            "Ga      0\t0\t0\t1\t0\t\n",
            "\n",
            "GrGr    0\t0\t0\t1\t0\t\n",
            "\n",
            "HoSp    1\t0\t0\t0\t0\t\n",
            "\n",
            "CaMa    0\t0\t1\t0\t0\t\n",
            "\n",
            "CaWr    0\t0\t0\t1\t0\t\n",
            "\n"
          ]
        },
        {
          "output_type": "stream",
          "name": "stderr",
          "text": [
            "\r 20%|██        | 20/100 [01:17<04:08,  3.11s/it]"
          ]
        },
        {
          "output_type": "stream",
          "name": "stdout",
          "text": [
            "\n",
            "\n",
            "A/P \tRhAu\tBrBl\tBrCr\tGa\tLeTe\t\n",
            "\n",
            "RhAu    0\t0\t0\t1\t0\t\n",
            "\n",
            "BrBl    0\t0\t1\t0\t0\t\n",
            "\n",
            "BrCr    1\t0\t0\t0\t0\t\n",
            "\n",
            "Ga      0\t0\t1\t0\t0\t\n",
            "\n",
            "LeTe    0\t0\t1\t0\t0\t\n",
            "\n"
          ]
        },
        {
          "output_type": "stream",
          "name": "stderr",
          "text": [
            "\r 21%|██        | 21/100 [01:20<04:05,  3.11s/it]"
          ]
        },
        {
          "output_type": "stream",
          "name": "stdout",
          "text": [
            "\n",
            "\n",
            "A/P \tHoSp\tLeTe\tGrta\tMaWa\tMoWa\t\n",
            "\n",
            "HoSp    0\t0\t0\t0\t1\t\n",
            "\n",
            "LeTe    1\t0\t0\t0\t0\t\n",
            "\n",
            "Grta    0\t0\t0\t0\t1\t\n",
            "\n",
            "MaWa    0\t1\t0\t0\t0\t\n",
            "\n",
            "MoWa    0\t0\t1\t0\t0\t\n",
            "\n"
          ]
        },
        {
          "output_type": "stream",
          "name": "stderr",
          "text": [
            "\r 22%|██▏       | 22/100 [01:23<04:03,  3.12s/it]"
          ]
        },
        {
          "output_type": "stream",
          "name": "stdout",
          "text": [
            "\n",
            "\n",
            "A/P \tHoSp\tHaSp\tGrta\tMaWa\tMoWa\t\n",
            "\n",
            "HoSp    1\t0\t0\t0\t0\t\n",
            "\n",
            "HaSp    0\t0\t0\t0\t1\t\n",
            "\n",
            "Grta    0\t1\t0\t0\t0\t\n",
            "\n",
            "MaWa    0\t0\t0\t0\t1\t\n",
            "\n",
            "MoWa    0\t0\t0\t1\t0\t\n",
            "\n"
          ]
        },
        {
          "output_type": "stream",
          "name": "stderr",
          "text": [
            "\r 23%|██▎       | 23/100 [01:26<04:00,  3.12s/it]"
          ]
        },
        {
          "output_type": "stream",
          "name": "stdout",
          "text": [
            "\n",
            "\n",
            "A/P \tRiKi\tGrGr\tSeSp\tWhth\tKeWa\t\n",
            "\n",
            "RiKi    0\t0\t0\t1\t0\t\n",
            "\n",
            "GrGr    1\t0\t0\t0\t0\t\n",
            "\n",
            "SeSp    0\t0\t1\t0\t0\t\n",
            "\n",
            "Whth    0\t0\t1\t0\t0\t\n",
            "\n",
            "KeWa    0\t0\t0\t0\t1\t\n",
            "\n"
          ]
        },
        {
          "output_type": "stream",
          "name": "stderr",
          "text": [
            "\r 24%|██▍       | 24/100 [01:30<03:57,  3.12s/it]"
          ]
        },
        {
          "output_type": "stream",
          "name": "stdout",
          "text": [
            "\n",
            "\n",
            "A/P \tLaBu\tBrCr\tHoLa\tHaSp\tCaGl\t\n",
            "\n",
            "LaBu    0\t0\t0\t0\t1\t\n",
            "\n",
            "BrCr    1\t0\t0\t0\t0\t\n",
            "\n",
            "HoLa    0\t0\t0\t1\t0\t\n",
            "\n",
            "HaSp    0\t0\t1\t0\t0\t\n",
            "\n",
            "CaGl    0\t1\t0\t0\t0\t\n",
            "\n"
          ]
        },
        {
          "output_type": "stream",
          "name": "stderr",
          "text": [
            "\r 25%|██▌       | 25/100 [01:33<03:53,  3.11s/it]"
          ]
        },
        {
          "output_type": "stream",
          "name": "stdout",
          "text": [
            "\n",
            "\n",
            "A/P \tBrCr\tGrGr\tSeSp\tLeTe\tKeWa\t\n",
            "\n",
            "BrCr    0\t0\t0\t1\t0\t\n",
            "\n",
            "GrGr    0\t0\t0\t0\t1\t\n",
            "\n",
            "SeSp    0\t0\t0\t1\t0\t\n",
            "\n",
            "LeTe    1\t0\t0\t0\t0\t\n",
            "\n",
            "KeWa    1\t0\t0\t0\t0\t\n",
            "\n"
          ]
        },
        {
          "output_type": "stream",
          "name": "stderr",
          "text": [
            "\r 26%|██▌       | 26/100 [01:36<03:49,  3.11s/it]"
          ]
        },
        {
          "output_type": "stream",
          "name": "stdout",
          "text": [
            "\n",
            "\n",
            "A/P \tFiCr\tSeSp\tWhth\tMaWa\tMoWa\t\n",
            "\n",
            "FiCr    0\t0\t0\t1\t0\t\n",
            "\n",
            "SeSp    0\t0\t0\t0\t1\t\n",
            "\n",
            "Whth    1\t0\t0\t0\t0\t\n",
            "\n",
            "MaWa    0\t0\t0\t1\t0\t\n",
            "\n",
            "MoWa    0\t0\t1\t0\t0\t\n",
            "\n"
          ]
        },
        {
          "output_type": "stream",
          "name": "stderr",
          "text": [
            "\r 27%|██▋       | 27/100 [01:39<03:46,  3.10s/it]"
          ]
        },
        {
          "output_type": "stream",
          "name": "stdout",
          "text": [
            "\n",
            "\n",
            "A/P \tPuFi\tHoSp\tHaSp\tSeSp\tGrta\t\n",
            "\n",
            "PuFi    0\t0\t0\t0\t1\t\n",
            "\n",
            "HoSp    0\t0\t0\t1\t0\t\n",
            "\n",
            "HaSp    0\t0\t1\t0\t0\t\n",
            "\n",
            "SeSp    1\t0\t0\t0\t0\t\n",
            "\n",
            "Grta    0\t1\t0\t0\t0\t\n",
            "\n"
          ]
        },
        {
          "output_type": "stream",
          "name": "stderr",
          "text": [
            "\r 28%|██▊       | 28/100 [01:42<03:43,  3.11s/it]"
          ]
        },
        {
          "output_type": "stream",
          "name": "stdout",
          "text": [
            "\n",
            "\n",
            "A/P \tRhAu\tGrGr\tCaGl\tClSw\tCaWr\t\n",
            "\n",
            "RhAu    1\t0\t0\t0\t0\t\n",
            "\n",
            "GrGr    0\t0\t0\t0\t1\t\n",
            "\n",
            "CaGl    0\t0\t0\t0\t1\t\n",
            "\n",
            "ClSw    0\t0\t0\t0\t1\t\n",
            "\n",
            "CaWr    0\t0\t1\t0\t0\t\n",
            "\n"
          ]
        },
        {
          "output_type": "stream",
          "name": "stderr",
          "text": [
            "\r 29%|██▉       | 29/100 [01:45<03:40,  3.10s/it]"
          ]
        },
        {
          "output_type": "stream",
          "name": "stdout",
          "text": [
            "\n",
            "\n",
            "A/P \tNoFu\tHoLa\tWhPe\tSeSp\tWhth\t\n",
            "\n",
            "NoFu    0\t1\t0\t0\t0\t\n",
            "\n",
            "HoLa    0\t0\t0\t1\t0\t\n",
            "\n",
            "WhPe    0\t0\t0\t0\t1\t\n",
            "\n",
            "SeSp    0\t0\t1\t0\t0\t\n",
            "\n",
            "Whth    1\t0\t0\t0\t0\t\n",
            "\n"
          ]
        },
        {
          "output_type": "stream",
          "name": "stderr",
          "text": [
            "\r 30%|███       | 30/100 [01:48<03:37,  3.11s/it]"
          ]
        },
        {
          "output_type": "stream",
          "name": "stdout",
          "text": [
            "\n",
            "\n",
            "A/P \tBrBl\tRiKi\tSa\tSeSp\tLeTe\t\n",
            "\n",
            "BrBl    0\t0\t0\t1\t0\t\n",
            "\n",
            "RiKi    1\t0\t0\t0\t0\t\n",
            "\n",
            "Sa      0\t1\t0\t0\t0\t\n",
            "\n",
            "SeSp    0\t0\t1\t0\t0\t\n",
            "\n",
            "LeTe    0\t0\t0\t0\t1\t\n",
            "\n"
          ]
        },
        {
          "output_type": "stream",
          "name": "stderr",
          "text": [
            "\r 31%|███       | 31/100 [01:51<03:35,  3.12s/it]"
          ]
        },
        {
          "output_type": "stream",
          "name": "stdout",
          "text": [
            "\n",
            "\n",
            "A/P \tRhAu\tLaBu\tFiCr\tClSw\tKeWa\t\n",
            "\n",
            "RhAu    1\t0\t0\t0\t0\t\n",
            "\n",
            "LaBu    0\t1\t0\t0\t0\t\n",
            "\n",
            "FiCr    0\t0\t1\t0\t0\t\n",
            "\n",
            "ClSw    0\t0\t0\t0\t1\t\n",
            "\n",
            "KeWa    0\t0\t0\t1\t0\t\n",
            "\n"
          ]
        },
        {
          "output_type": "stream",
          "name": "stderr",
          "text": [
            "\r 32%|███▏      | 32/100 [01:55<03:33,  3.14s/it]"
          ]
        },
        {
          "output_type": "stream",
          "name": "stdout",
          "text": [
            "\n",
            "\n",
            "A/P \tYebr\tBrCr\tFiCr\tGa\tSeSp\t\n",
            "\n",
            "Yebr    1\t0\t0\t0\t0\t\n",
            "\n",
            "BrCr    0\t0\t0\t1\t0\t\n",
            "\n",
            "FiCr    0\t0\t0\t1\t0\t\n",
            "\n",
            "Ga      0\t1\t0\t0\t0\t\n",
            "\n",
            "SeSp    0\t0\t1\t0\t0\t\n",
            "\n"
          ]
        },
        {
          "output_type": "stream",
          "name": "stderr",
          "text": [
            "\r 33%|███▎      | 33/100 [01:58<03:29,  3.13s/it]"
          ]
        },
        {
          "output_type": "stream",
          "name": "stdout",
          "text": [
            "\n",
            "\n",
            "A/P \tGa\tRiKi\tHoLa\tSa\tGrta\t\n",
            "\n",
            "Ga      0\t0\t0\t0\t1\t\n",
            "\n",
            "RiKi    0\t0\t0\t1\t0\t\n",
            "\n",
            "HoLa    0\t0\t0\t0\t1\t\n",
            "\n",
            "Sa      0\t1\t0\t0\t0\t\n",
            "\n",
            "Grta    1\t0\t0\t0\t0\t\n",
            "\n"
          ]
        },
        {
          "output_type": "stream",
          "name": "stderr",
          "text": [
            "\r 34%|███▍      | 34/100 [02:01<03:26,  3.13s/it]"
          ]
        },
        {
          "output_type": "stream",
          "name": "stdout",
          "text": [
            "\n",
            "\n",
            "A/P \tPuFi\tWhbr\tHoSp\tWhth\tMoWa\t\n",
            "\n",
            "PuFi    0\t0\t0\t1\t0\t\n",
            "\n",
            "Whbr    0\t1\t0\t0\t0\t\n",
            "\n",
            "HoSp    0\t0\t0\t1\t0\t\n",
            "\n",
            "Whth    0\t0\t0\t1\t0\t\n",
            "\n",
            "MoWa    0\t0\t0\t1\t0\t\n",
            "\n"
          ]
        },
        {
          "output_type": "stream",
          "name": "stderr",
          "text": [
            "\r 35%|███▌      | 35/100 [02:04<03:21,  3.11s/it]"
          ]
        },
        {
          "output_type": "stream",
          "name": "stdout",
          "text": [
            "\n",
            "\n",
            "A/P \tBrBl\tPuFi\tMaWa\tMoWa\tCaWr\t\n",
            "\n",
            "BrBl    1\t0\t0\t0\t0\t\n",
            "\n",
            "PuFi    0\t1\t0\t0\t0\t\n",
            "\n",
            "MaWa    0\t0\t1\t0\t0\t\n",
            "\n",
            "MoWa    0\t0\t0\t0\t1\t\n",
            "\n",
            "CaWr    0\t0\t0\t1\t0\t\n",
            "\n"
          ]
        },
        {
          "output_type": "stream",
          "name": "stderr",
          "text": [
            "\r 36%|███▌      | 36/100 [02:07<03:19,  3.11s/it]"
          ]
        },
        {
          "output_type": "stream",
          "name": "stdout",
          "text": [
            "\n",
            "\n",
            "A/P \tGa\tRiKi\tHoLa\tGrGr\tBeWr\t\n",
            "\n",
            "Ga      0\t0\t1\t0\t0\t\n",
            "\n",
            "RiKi    0\t1\t0\t0\t0\t\n",
            "\n",
            "HoLa    0\t0\t0\t1\t0\t\n",
            "\n",
            "GrGr    0\t0\t1\t0\t0\t\n",
            "\n",
            "BeWr    0\t0\t1\t0\t0\t\n",
            "\n"
          ]
        },
        {
          "output_type": "stream",
          "name": "stderr",
          "text": [
            "\r 37%|███▋      | 37/100 [02:10<03:16,  3.13s/it]"
          ]
        },
        {
          "output_type": "stream",
          "name": "stdout",
          "text": [
            "\n",
            "\n",
            "A/P \tNoFu\tWhbr\tGrta\tKeWa\tMaWa\t\n",
            "\n",
            "NoFu    0\t0\t0\t0\t1\t\n",
            "\n",
            "Whbr    0\t1\t0\t0\t0\t\n",
            "\n",
            "Grta    0\t0\t0\t0\t1\t\n",
            "\n",
            "KeWa    0\t0\t0\t1\t0\t\n",
            "\n",
            "MaWa    1\t0\t0\t0\t0\t\n",
            "\n"
          ]
        },
        {
          "output_type": "stream",
          "name": "stderr",
          "text": [
            "\r 38%|███▊      | 38/100 [02:13<03:14,  3.14s/it]"
          ]
        },
        {
          "output_type": "stream",
          "name": "stdout",
          "text": [
            "\n",
            "\n",
            "A/P \tBrBl\tPuFi\tNoFu\tLeTe\tCaWr\t\n",
            "\n",
            "BrBl    0\t1\t0\t0\t0\t\n",
            "\n",
            "PuFi    1\t0\t0\t0\t0\t\n",
            "\n",
            "NoFu    0\t0\t0\t0\t1\t\n",
            "\n",
            "LeTe    0\t0\t0\t1\t0\t\n",
            "\n",
            "CaWr    0\t0\t1\t0\t0\t\n",
            "\n"
          ]
        },
        {
          "output_type": "stream",
          "name": "stderr",
          "text": [
            "\r 39%|███▉      | 39/100 [02:16<03:11,  3.13s/it]"
          ]
        },
        {
          "output_type": "stream",
          "name": "stdout",
          "text": [
            "\n",
            "\n",
            "A/P \tGa\tSa\tGrGr\tSeSp\tMoWa\t\n",
            "\n",
            "Ga      0\t0\t0\t1\t0\t\n",
            "\n",
            "Sa      0\t1\t0\t0\t0\t\n",
            "\n",
            "GrGr    1\t0\t0\t0\t0\t\n",
            "\n",
            "SeSp    0\t0\t1\t0\t0\t\n",
            "\n",
            "MoWa    0\t0\t0\t0\t1\t\n",
            "\n"
          ]
        },
        {
          "output_type": "stream",
          "name": "stderr",
          "text": [
            "\r 40%|████      | 40/100 [02:20<03:07,  3.13s/it]"
          ]
        },
        {
          "output_type": "stream",
          "name": "stdout",
          "text": [
            "\n",
            "\n",
            "A/P \tRiKi\tWhbr\tSa\tHoSp\tLeTe\t\n",
            "\n",
            "RiKi    0\t0\t0\t0\t1\t\n",
            "\n",
            "Whbr    0\t0\t0\t1\t0\t\n",
            "\n",
            "Sa      0\t0\t1\t0\t0\t\n",
            "\n",
            "HoSp    1\t0\t0\t0\t0\t\n",
            "\n",
            "LeTe    0\t0\t1\t0\t0\t\n",
            "\n"
          ]
        },
        {
          "output_type": "stream",
          "name": "stderr",
          "text": [
            "\r 41%|████      | 41/100 [02:23<03:04,  3.12s/it]"
          ]
        },
        {
          "output_type": "stream",
          "name": "stdout",
          "text": [
            "\n",
            "\n",
            "A/P \tRhAu\tNoFu\tSa\tSeSp\tCaMa\t\n",
            "\n",
            "RhAu    1\t0\t0\t0\t0\t\n",
            "\n",
            "NoFu    0\t0\t0\t0\t1\t\n",
            "\n",
            "Sa      0\t0\t1\t0\t0\t\n",
            "\n",
            "SeSp    0\t0\t0\t1\t0\t\n",
            "\n",
            "CaMa    0\t1\t0\t0\t0\t\n",
            "\n"
          ]
        },
        {
          "output_type": "stream",
          "name": "stderr",
          "text": [
            "\r 42%|████▏     | 42/100 [02:26<03:00,  3.11s/it]"
          ]
        },
        {
          "output_type": "stream",
          "name": "stdout",
          "text": [
            "\n",
            "\n",
            "A/P \tRhAu\tLaBu\tYebr\tGrGr\tCaMa\t\n",
            "\n",
            "RhAu    0\t1\t0\t0\t0\t\n",
            "\n",
            "LaBu    0\t0\t1\t0\t0\t\n",
            "\n",
            "Yebr    1\t0\t0\t0\t0\t\n",
            "\n",
            "GrGr    0\t0\t0\t1\t0\t\n",
            "\n",
            "CaMa    0\t0\t0\t0\t1\t\n",
            "\n"
          ]
        },
        {
          "output_type": "stream",
          "name": "stderr",
          "text": [
            "\r 43%|████▎     | 43/100 [02:29<02:57,  3.11s/it]"
          ]
        },
        {
          "output_type": "stream",
          "name": "stdout",
          "text": [
            "\n",
            "\n",
            "A/P \tPuFi\tNoFu\tCaMa\tKeWa\tMaWa\t\n",
            "\n",
            "PuFi    0\t0\t0\t1\t0\t\n",
            "\n",
            "NoFu    0\t0\t0\t1\t0\t\n",
            "\n",
            "CaMa    0\t0\t1\t0\t0\t\n",
            "\n",
            "KeWa    1\t0\t0\t0\t0\t\n",
            "\n",
            "MaWa    0\t0\t0\t0\t1\t\n",
            "\n"
          ]
        },
        {
          "output_type": "stream",
          "name": "stderr",
          "text": [
            "\r 44%|████▍     | 44/100 [02:32<02:53,  3.10s/it]"
          ]
        },
        {
          "output_type": "stream",
          "name": "stdout",
          "text": [
            "\n",
            "\n",
            "A/P \tBrBl\tFiCr\tRiKi\tHoLa\tHaSp\t\n",
            "\n",
            "BrBl    0\t0\t0\t1\t0\t\n",
            "\n",
            "FiCr    1\t0\t0\t0\t0\t\n",
            "\n",
            "RiKi    1\t0\t0\t0\t0\t\n",
            "\n",
            "HoLa    0\t0\t1\t0\t0\t\n",
            "\n",
            "HaSp    0\t0\t1\t0\t0\t\n",
            "\n"
          ]
        },
        {
          "output_type": "stream",
          "name": "stderr",
          "text": [
            "\r 45%|████▌     | 45/100 [02:35<02:50,  3.10s/it]"
          ]
        },
        {
          "output_type": "stream",
          "name": "stdout",
          "text": [
            "\n",
            "\n",
            "A/P \tBrBl\tGa\tWhth\tLeTe\tCaMa\t\n",
            "\n",
            "BrBl    0\t0\t1\t0\t0\t\n",
            "\n",
            "Ga      0\t0\t1\t0\t0\t\n",
            "\n",
            "Whth    1\t0\t0\t0\t0\t\n",
            "\n",
            "LeTe    0\t1\t0\t0\t0\t\n",
            "\n",
            "CaMa    0\t1\t0\t0\t0\t\n",
            "\n"
          ]
        },
        {
          "output_type": "stream",
          "name": "stderr",
          "text": [
            "\r 46%|████▌     | 46/100 [02:38<02:47,  3.11s/it]"
          ]
        },
        {
          "output_type": "stream",
          "name": "stdout",
          "text": [
            "\n",
            "\n",
            "A/P \tFiCr\tLeFl\tRiKi\tWhbr\tCaGl\t\n",
            "\n",
            "FiCr    0\t1\t0\t0\t0\t\n",
            "\n",
            "LeFl    0\t0\t1\t0\t0\t\n",
            "\n",
            "RiKi    0\t0\t0\t0\t1\t\n",
            "\n",
            "Whbr    0\t0\t0\t1\t0\t\n",
            "\n",
            "CaGl    0\t0\t0\t1\t0\t\n",
            "\n"
          ]
        },
        {
          "output_type": "stream",
          "name": "stderr",
          "text": [
            "\r 47%|████▋     | 47/100 [02:41<02:44,  3.10s/it]"
          ]
        },
        {
          "output_type": "stream",
          "name": "stdout",
          "text": [
            "\n",
            "\n",
            "A/P \tRhAu\tLeFl\tHaSp\tSeSp\tCaGl\t\n",
            "\n",
            "RhAu    0\t0\t1\t0\t0\t\n",
            "\n",
            "LeFl    1\t0\t0\t0\t0\t\n",
            "\n",
            "HaSp    0\t1\t0\t0\t0\t\n",
            "\n",
            "SeSp    0\t0\t0\t0\t1\t\n",
            "\n",
            "CaGl    0\t0\t1\t0\t0\t\n",
            "\n"
          ]
        },
        {
          "output_type": "stream",
          "name": "stderr",
          "text": [
            "\r 48%|████▊     | 48/100 [02:44<02:41,  3.10s/it]"
          ]
        },
        {
          "output_type": "stream",
          "name": "stdout",
          "text": [
            "\n",
            "\n",
            "A/P \tPuFi\tLeFl\tWhbr\tHoSp\tBeWr\t\n",
            "\n",
            "PuFi    1\t0\t0\t0\t0\t\n",
            "\n",
            "LeFl    0\t1\t0\t0\t0\t\n",
            "\n",
            "Whbr    0\t0\t0\t0\t1\t\n",
            "\n",
            "HoSp    0\t0\t0\t0\t1\t\n",
            "\n",
            "BeWr    0\t0\t0\t1\t0\t\n",
            "\n"
          ]
        },
        {
          "output_type": "stream",
          "name": "stderr",
          "text": [
            "\r 49%|████▉     | 49/100 [02:47<02:38,  3.11s/it]"
          ]
        },
        {
          "output_type": "stream",
          "name": "stdout",
          "text": [
            "\n",
            "\n",
            "A/P \tYebr\tHoLa\tGrGr\tMaWa\tMoWa\t\n",
            "\n",
            "Yebr    1\t0\t0\t0\t0\t\n",
            "\n",
            "HoLa    0\t0\t0\t1\t0\t\n",
            "\n",
            "GrGr    0\t1\t0\t0\t0\t\n",
            "\n",
            "MaWa    0\t0\t0\t0\t1\t\n",
            "\n",
            "MoWa    0\t0\t0\t1\t0\t\n",
            "\n"
          ]
        },
        {
          "output_type": "stream",
          "name": "stderr",
          "text": [
            "\r 50%|█████     | 50/100 [02:51<02:35,  3.11s/it]"
          ]
        },
        {
          "output_type": "stream",
          "name": "stdout",
          "text": [
            "\n",
            "\n",
            "A/P \tLaBu\tNoFu\tSa\tCaMa\tMaWa\t\n",
            "\n",
            "LaBu    0\t1\t0\t0\t0\t\n",
            "\n",
            "NoFu    0\t0\t1\t0\t0\t\n",
            "\n",
            "Sa      0\t0\t0\t0\t1\t\n",
            "\n",
            "CaMa    0\t0\t0\t0\t1\t\n",
            "\n",
            "MaWa    1\t0\t0\t0\t0\t\n",
            "\n"
          ]
        },
        {
          "output_type": "stream",
          "name": "stderr",
          "text": [
            "\r 51%|█████     | 51/100 [02:54<02:31,  3.10s/it]"
          ]
        },
        {
          "output_type": "stream",
          "name": "stdout",
          "text": [
            "\n",
            "\n",
            "A/P \tBrCr\tNoFu\tHoLa\tCaGl\tMoWa\t\n",
            "\n",
            "BrCr    0\t0\t1\t0\t0\t\n",
            "\n",
            "NoFu    1\t0\t0\t0\t0\t\n",
            "\n",
            "HoLa    0\t0\t0\t1\t0\t\n",
            "\n",
            "CaGl    1\t0\t0\t0\t0\t\n",
            "\n",
            "MoWa    1\t0\t0\t0\t0\t\n",
            "\n"
          ]
        },
        {
          "output_type": "stream",
          "name": "stderr",
          "text": [
            "\r 52%|█████▏    | 52/100 [02:57<02:28,  3.10s/it]"
          ]
        },
        {
          "output_type": "stream",
          "name": "stdout",
          "text": [
            "\n",
            "\n",
            "A/P \tRhAu\tGa\tHoLa\tHoSp\tHaSp\t\n",
            "\n",
            "RhAu    0\t0\t1\t0\t0\t\n",
            "\n",
            "Ga      0\t0\t0\t1\t0\t\n",
            "\n",
            "HoLa    0\t0\t1\t0\t0\t\n",
            "\n",
            "HoSp    1\t0\t0\t0\t0\t\n",
            "\n",
            "HaSp    0\t1\t0\t0\t0\t\n",
            "\n"
          ]
        },
        {
          "output_type": "stream",
          "name": "stderr",
          "text": [
            "\r 53%|█████▎    | 53/100 [03:00<02:25,  3.10s/it]"
          ]
        },
        {
          "output_type": "stream",
          "name": "stdout",
          "text": [
            "\n",
            "\n",
            "A/P \tRhAu\tGa\tHoSp\tWhth\tCaWr\t\n",
            "\n",
            "RhAu    0\t1\t0\t0\t0\t\n",
            "\n",
            "Ga      0\t0\t0\t0\t1\t\n",
            "\n",
            "HoSp    1\t0\t0\t0\t0\t\n",
            "\n",
            "Whth    0\t0\t1\t0\t0\t\n",
            "\n",
            "CaWr    0\t0\t1\t0\t0\t\n",
            "\n"
          ]
        },
        {
          "output_type": "stream",
          "name": "stderr",
          "text": [
            "\r 54%|█████▍    | 54/100 [03:03<02:21,  3.08s/it]"
          ]
        },
        {
          "output_type": "stream",
          "name": "stdout",
          "text": [
            "\n",
            "\n",
            "A/P \tHoLa\tHaSp\tCaGl\tGrta\tMoWa\t\n",
            "\n",
            "HoLa    1\t0\t0\t0\t0\t\n",
            "\n",
            "HaSp    0\t1\t0\t0\t0\t\n",
            "\n",
            "CaGl    0\t0\t1\t0\t0\t\n",
            "\n",
            "Grta    0\t0\t0\t1\t0\t\n",
            "\n",
            "MoWa    0\t1\t0\t0\t0\t\n",
            "\n"
          ]
        },
        {
          "output_type": "stream",
          "name": "stderr",
          "text": [
            "\r 55%|█████▌    | 55/100 [03:06<02:18,  3.08s/it]"
          ]
        },
        {
          "output_type": "stream",
          "name": "stdout",
          "text": [
            "\n",
            "\n",
            "A/P \tLaBu\tGa\tSa\tGrGr\tCaGl\t\n",
            "\n",
            "LaBu    0\t0\t1\t0\t0\t\n",
            "\n",
            "Ga      1\t0\t0\t0\t0\t\n",
            "\n",
            "Sa      0\t1\t0\t0\t0\t\n",
            "\n",
            "GrGr    0\t0\t0\t0\t1\t\n",
            "\n",
            "CaGl    0\t0\t1\t0\t0\t\n",
            "\n"
          ]
        },
        {
          "output_type": "stream",
          "name": "stderr",
          "text": [
            "\r 56%|█████▌    | 56/100 [03:09<02:16,  3.10s/it]"
          ]
        },
        {
          "output_type": "stream",
          "name": "stdout",
          "text": [
            "\n",
            "\n",
            "A/P \tBrBl\tHoSp\tCaMa\tMoWa\tCaWr\t\n",
            "\n",
            "BrBl    0\t0\t0\t0\t1\t\n",
            "\n",
            "HoSp    0\t0\t0\t0\t1\t\n",
            "\n",
            "CaMa    0\t0\t0\t0\t1\t\n",
            "\n",
            "MoWa    0\t0\t0\t1\t0\t\n",
            "\n",
            "CaWr    0\t0\t1\t0\t0\t\n",
            "\n"
          ]
        },
        {
          "output_type": "stream",
          "name": "stderr",
          "text": [
            "\r 57%|█████▋    | 57/100 [03:12<02:13,  3.10s/it]"
          ]
        },
        {
          "output_type": "stream",
          "name": "stdout",
          "text": [
            "\n",
            "\n",
            "A/P \tLaBu\tLeFl\tSa\tClSw\tCaMa\t\n",
            "\n",
            "LaBu    0\t0\t0\t0\t1\t\n",
            "\n",
            "LeFl    0\t0\t1\t0\t0\t\n",
            "\n",
            "Sa      0\t0\t0\t1\t0\t\n",
            "\n",
            "ClSw    0\t0\t0\t0\t1\t\n",
            "\n",
            "CaMa    1\t0\t0\t0\t0\t\n",
            "\n"
          ]
        },
        {
          "output_type": "stream",
          "name": "stderr",
          "text": [
            "\r 58%|█████▊    | 58/100 [03:15<02:09,  3.09s/it]"
          ]
        },
        {
          "output_type": "stream",
          "name": "stdout",
          "text": [
            "\n",
            "\n",
            "A/P \tRhAu\tLaBu\tBrCr\tPuFi\tLeFl\t\n",
            "\n",
            "RhAu    0\t0\t1\t0\t0\t\n",
            "\n",
            "LaBu    0\t0\t0\t0\t1\t\n",
            "\n",
            "BrCr    0\t0\t0\t1\t0\t\n",
            "\n",
            "PuFi    0\t0\t1\t0\t0\t\n",
            "\n",
            "LeFl    1\t0\t0\t0\t0\t\n",
            "\n"
          ]
        },
        {
          "output_type": "stream",
          "name": "stderr",
          "text": [
            "\r 59%|█████▉    | 59/100 [03:18<02:07,  3.11s/it]"
          ]
        },
        {
          "output_type": "stream",
          "name": "stdout",
          "text": [
            "\n",
            "\n",
            "A/P \tRhAu\tYebr\tGa\tWhPe\tHoSp\t\n",
            "\n",
            "RhAu    0\t1\t0\t0\t0\t\n",
            "\n",
            "Yebr    1\t0\t0\t0\t0\t\n",
            "\n",
            "Ga      0\t0\t1\t0\t0\t\n",
            "\n",
            "WhPe    0\t0\t0\t0\t1\t\n",
            "\n",
            "HoSp    0\t0\t0\t1\t0\t\n",
            "\n"
          ]
        },
        {
          "output_type": "stream",
          "name": "stderr",
          "text": [
            "\r 60%|██████    | 60/100 [03:22<02:04,  3.12s/it]"
          ]
        },
        {
          "output_type": "stream",
          "name": "stdout",
          "text": [
            "\n",
            "\n",
            "A/P \tRhAu\tPuFi\tHoSp\tSeSp\tClSw\t\n",
            "\n",
            "RhAu    0\t0\t0\t1\t0\t\n",
            "\n",
            "PuFi    1\t0\t0\t0\t0\t\n",
            "\n",
            "HoSp    0\t0\t0\t1\t0\t\n",
            "\n",
            "SeSp    0\t0\t1\t0\t0\t\n",
            "\n",
            "ClSw    0\t0\t0\t1\t0\t\n",
            "\n"
          ]
        },
        {
          "output_type": "stream",
          "name": "stderr",
          "text": [
            "\r 61%|██████    | 61/100 [03:25<02:01,  3.10s/it]"
          ]
        },
        {
          "output_type": "stream",
          "name": "stdout",
          "text": [
            "\n",
            "\n",
            "A/P \tRhAu\tFiCr\tRiKi\tGrGr\tCaWr\t\n",
            "\n",
            "RhAu    0\t1\t0\t0\t0\t\n",
            "\n",
            "FiCr    1\t0\t0\t0\t0\t\n",
            "\n",
            "RiKi    0\t0\t0\t1\t0\t\n",
            "\n",
            "GrGr    0\t0\t1\t0\t0\t\n",
            "\n",
            "CaWr    0\t0\t0\t0\t1\t\n",
            "\n"
          ]
        },
        {
          "output_type": "stream",
          "name": "stderr",
          "text": [
            "\r 62%|██████▏   | 62/100 [03:28<01:58,  3.11s/it]"
          ]
        },
        {
          "output_type": "stream",
          "name": "stdout",
          "text": [
            "\n",
            "\n",
            "A/P \tBrCr\tLeFl\tGa\tSa\tKeWa\t\n",
            "\n",
            "BrCr    0\t0\t0\t1\t0\t\n",
            "\n",
            "LeFl    0\t1\t0\t0\t0\t\n",
            "\n",
            "Ga      0\t0\t0\t0\t1\t\n",
            "\n",
            "Sa      0\t1\t0\t0\t0\t\n",
            "\n",
            "KeWa    1\t0\t0\t0\t0\t\n",
            "\n"
          ]
        },
        {
          "output_type": "stream",
          "name": "stderr",
          "text": [
            "\r 63%|██████▎   | 63/100 [03:31<01:54,  3.11s/it]"
          ]
        },
        {
          "output_type": "stream",
          "name": "stdout",
          "text": [
            "\n",
            "\n",
            "A/P \tNoFu\tGa\tWhbr\tGrGr\tGrta\t\n",
            "\n",
            "NoFu    0\t0\t0\t1\t0\t\n",
            "\n",
            "Ga      1\t0\t0\t0\t0\t\n",
            "\n",
            "Whbr    1\t0\t0\t0\t0\t\n",
            "\n",
            "GrGr    0\t0\t1\t0\t0\t\n",
            "\n",
            "Grta    1\t0\t0\t0\t0\t\n",
            "\n"
          ]
        },
        {
          "output_type": "stream",
          "name": "stderr",
          "text": [
            "\r 64%|██████▍   | 64/100 [03:34<01:52,  3.11s/it]"
          ]
        },
        {
          "output_type": "stream",
          "name": "stdout",
          "text": [
            "\n",
            "\n",
            "A/P \tLaBu\tWhbr\tGrGr\tGrta\tBeWr\t\n",
            "\n",
            "LaBu    0\t0\t0\t0\t1\t\n",
            "\n",
            "Whbr    0\t0\t1\t0\t0\t\n",
            "\n",
            "GrGr    0\t1\t0\t0\t0\t\n",
            "\n",
            "Grta    0\t1\t0\t0\t0\t\n",
            "\n",
            "BeWr    0\t0\t1\t0\t0\t\n",
            "\n"
          ]
        },
        {
          "output_type": "stream",
          "name": "stderr",
          "text": [
            "\r 65%|██████▌   | 65/100 [03:37<01:49,  3.12s/it]"
          ]
        },
        {
          "output_type": "stream",
          "name": "stdout",
          "text": [
            "\n",
            "\n",
            "A/P \tGa\tGrGr\tSeSp\tGrta\tBeWr\t\n",
            "\n",
            "Ga      0\t0\t0\t1\t0\t\n",
            "\n",
            "GrGr    0\t0\t0\t0\t1\t\n",
            "\n",
            "SeSp    0\t1\t0\t0\t0\t\n",
            "\n",
            "Grta    0\t1\t0\t0\t0\t\n",
            "\n",
            "BeWr    0\t0\t1\t0\t0\t\n",
            "\n"
          ]
        },
        {
          "output_type": "stream",
          "name": "stderr",
          "text": [
            "\r 66%|██████▌   | 66/100 [03:40<01:46,  3.12s/it]"
          ]
        },
        {
          "output_type": "stream",
          "name": "stdout",
          "text": [
            "\n",
            "\n",
            "A/P \tHoLa\tSa\tCaGl\tGrta\tKeWa\t\n",
            "\n",
            "HoLa    0\t1\t0\t0\t0\t\n",
            "\n",
            "Sa      0\t0\t0\t1\t0\t\n",
            "\n",
            "CaGl    0\t1\t0\t0\t0\t\n",
            "\n",
            "Grta    0\t0\t0\t0\t1\t\n",
            "\n",
            "KeWa    0\t0\t0\t1\t0\t\n",
            "\n"
          ]
        },
        {
          "output_type": "stream",
          "name": "stderr",
          "text": [
            "\r 67%|██████▋   | 67/100 [03:43<01:42,  3.12s/it]"
          ]
        },
        {
          "output_type": "stream",
          "name": "stdout",
          "text": [
            "\n",
            "\n",
            "A/P \tLaBu\tLeFl\tSa\tCaGl\tMoWa\t\n",
            "\n",
            "LaBu    0\t0\t1\t0\t0\t\n",
            "\n",
            "LeFl    0\t0\t1\t0\t0\t\n",
            "\n",
            "Sa      0\t0\t0\t1\t0\t\n",
            "\n",
            "CaGl    1\t0\t0\t0\t0\t\n",
            "\n",
            "MoWa    0\t0\t0\t0\t1\t\n",
            "\n"
          ]
        },
        {
          "output_type": "stream",
          "name": "stderr",
          "text": [
            "\r 68%|██████▊   | 68/100 [03:46<01:39,  3.11s/it]"
          ]
        },
        {
          "output_type": "stream",
          "name": "stdout",
          "text": [
            "\n",
            "\n",
            "A/P \tRhAu\tLeFl\tSa\tHoSp\tHaSp\t\n",
            "\n",
            "RhAu    0\t0\t1\t0\t0\t\n",
            "\n",
            "LeFl    1\t0\t0\t0\t0\t\n",
            "\n",
            "Sa      0\t0\t0\t1\t0\t\n",
            "\n",
            "HoSp    0\t1\t0\t0\t0\t\n",
            "\n",
            "HaSp    0\t1\t0\t0\t0\t\n",
            "\n"
          ]
        },
        {
          "output_type": "stream",
          "name": "stderr",
          "text": [
            "\r 69%|██████▉   | 69/100 [03:50<01:36,  3.10s/it]"
          ]
        },
        {
          "output_type": "stream",
          "name": "stdout",
          "text": [
            "\n",
            "\n",
            "A/P \tBrBl\tLeFl\tGrta\tCaMa\tMaWa\t\n",
            "\n",
            "BrBl    0\t0\t0\t0\t1\t\n",
            "\n",
            "LeFl    0\t0\t1\t0\t0\t\n",
            "\n",
            "Grta    0\t0\t0\t0\t1\t\n",
            "\n",
            "CaMa    0\t0\t0\t1\t0\t\n",
            "\n",
            "MaWa    0\t0\t0\t0\t1\t\n",
            "\n"
          ]
        },
        {
          "output_type": "stream",
          "name": "stderr",
          "text": [
            "\r 70%|███████   | 70/100 [03:53<01:33,  3.11s/it]"
          ]
        },
        {
          "output_type": "stream",
          "name": "stdout",
          "text": [
            "\n",
            "\n",
            "A/P \tFiCr\tRiKi\tLeTe\tKeWa\tCaWr\t\n",
            "\n",
            "FiCr    0\t0\t1\t0\t0\t\n",
            "\n",
            "RiKi    0\t0\t0\t0\t1\t\n",
            "\n",
            "LeTe    0\t0\t0\t0\t1\t\n",
            "\n",
            "KeWa    0\t0\t1\t0\t0\t\n",
            "\n",
            "CaWr    0\t0\t0\t1\t0\t\n",
            "\n"
          ]
        },
        {
          "output_type": "stream",
          "name": "stderr",
          "text": [
            "\r 71%|███████   | 71/100 [03:56<01:30,  3.13s/it]"
          ]
        },
        {
          "output_type": "stream",
          "name": "stdout",
          "text": [
            "\n",
            "\n",
            "A/P \tRhAu\tFiCr\tHoLa\tWhPe\tKeWa\t\n",
            "\n",
            "RhAu    1\t0\t0\t0\t0\t\n",
            "\n",
            "FiCr    0\t0\t0\t1\t0\t\n",
            "\n",
            "HoLa    0\t0\t1\t0\t0\t\n",
            "\n",
            "WhPe    0\t1\t0\t0\t0\t\n",
            "\n",
            "KeWa    0\t0\t0\t0\t1\t\n",
            "\n"
          ]
        },
        {
          "output_type": "stream",
          "name": "stderr",
          "text": [
            "\r 72%|███████▏  | 72/100 [03:59<01:27,  3.13s/it]"
          ]
        },
        {
          "output_type": "stream",
          "name": "stdout",
          "text": [
            "\n",
            "\n",
            "A/P \tBrCr\tLeFl\tNoFu\tRiKi\tSeSp\t\n",
            "\n",
            "BrCr    0\t0\t0\t0\t1\t\n",
            "\n",
            "LeFl    1\t0\t0\t0\t0\t\n",
            "\n",
            "NoFu    1\t0\t0\t0\t0\t\n",
            "\n",
            "RiKi    0\t1\t0\t0\t0\t\n",
            "\n",
            "SeSp    0\t0\t1\t0\t0\t\n",
            "\n"
          ]
        },
        {
          "output_type": "stream",
          "name": "stderr",
          "text": [
            "\r 73%|███████▎  | 73/100 [04:02<01:24,  3.12s/it]"
          ]
        },
        {
          "output_type": "stream",
          "name": "stdout",
          "text": [
            "\n",
            "\n",
            "A/P \tLaBu\tPuFi\tLeFl\tRiKi\tCaMa\t\n",
            "\n",
            "LaBu    0\t0\t0\t1\t0\t\n",
            "\n",
            "PuFi    0\t1\t0\t0\t0\t\n",
            "\n",
            "LeFl    0\t0\t1\t0\t0\t\n",
            "\n",
            "RiKi    0\t0\t0\t0\t1\t\n",
            "\n",
            "CaMa    1\t0\t0\t0\t0\t\n",
            "\n"
          ]
        },
        {
          "output_type": "stream",
          "name": "stderr",
          "text": [
            "\r 74%|███████▍  | 74/100 [04:05<01:21,  3.12s/it]"
          ]
        },
        {
          "output_type": "stream",
          "name": "stdout",
          "text": [
            "\n",
            "\n",
            "A/P \tRhAu\tRiKi\tCaMa\tMaWa\tBeWr\t\n",
            "\n",
            "RhAu    0\t0\t0\t0\t1\t\n",
            "\n",
            "RiKi    1\t0\t0\t0\t0\t\n",
            "\n",
            "CaMa    0\t0\t0\t0\t1\t\n",
            "\n",
            "MaWa    0\t0\t0\t0\t1\t\n",
            "\n",
            "BeWr    0\t1\t0\t0\t0\t\n",
            "\n"
          ]
        },
        {
          "output_type": "stream",
          "name": "stderr",
          "text": [
            "\r 75%|███████▌  | 75/100 [04:08<01:18,  3.12s/it]"
          ]
        },
        {
          "output_type": "stream",
          "name": "stdout",
          "text": [
            "\n",
            "\n",
            "A/P \tRiKi\tHoSp\tLeTe\tMaWa\tBeWr\t\n",
            "\n",
            "RiKi    0\t0\t1\t0\t0\t\n",
            "\n",
            "HoSp    0\t0\t1\t0\t0\t\n",
            "\n",
            "LeTe    0\t0\t0\t1\t0\t\n",
            "\n",
            "MaWa    0\t0\t0\t1\t0\t\n",
            "\n",
            "BeWr    0\t0\t0\t1\t0\t\n",
            "\n"
          ]
        },
        {
          "output_type": "stream",
          "name": "stderr",
          "text": [
            "\r 76%|███████▌  | 76/100 [04:11<01:14,  3.12s/it]"
          ]
        },
        {
          "output_type": "stream",
          "name": "stdout",
          "text": [
            "\n",
            "\n",
            "A/P \tBrBl\tYebr\tCaMa\tMaWa\tCaWr\t\n",
            "\n",
            "BrBl    1\t0\t0\t0\t0\t\n",
            "\n",
            "Yebr    0\t1\t0\t0\t0\t\n",
            "\n",
            "CaMa    0\t1\t0\t0\t0\t\n",
            "\n",
            "MaWa    0\t0\t0\t0\t1\t\n",
            "\n",
            "CaWr    0\t0\t0\t1\t0\t\n",
            "\n"
          ]
        },
        {
          "output_type": "stream",
          "name": "stderr",
          "text": [
            "\r 77%|███████▋  | 77/100 [04:14<01:08,  2.98s/it]"
          ]
        },
        {
          "output_type": "stream",
          "name": "stdout",
          "text": [
            "\n",
            "\n",
            "A/P \tLaBu\tNoFu\tGa\tClSw\tCaMa\t\n",
            "\n",
            "LaBu    1\t0\t0\t0\t0\t\n",
            "\n",
            "NoFu    0\t1\t0\t0\t0\t\n",
            "\n",
            "Ga      0\t0\t0\t1\t0\t\n",
            "\n",
            "ClSw    0\t0\t0\t1\t0\t\n",
            "\n",
            "CaMa    0\t0\t0\t1\t0\t\n",
            "\n"
          ]
        },
        {
          "output_type": "stream",
          "name": "stderr",
          "text": [
            "\r 78%|███████▊  | 78/100 [04:17<01:03,  2.89s/it]"
          ]
        },
        {
          "output_type": "stream",
          "name": "stdout",
          "text": [
            "\n",
            "\n",
            "A/P \tBrBl\tFiCr\tGa\tLeTe\tCaMa\t\n",
            "\n",
            "BrBl    0\t0\t0\t0\t1\t\n",
            "\n",
            "FiCr    0\t0\t1\t0\t0\t\n",
            "\n",
            "Ga      0\t0\t0\t1\t0\t\n",
            "\n",
            "LeTe    1\t0\t0\t0\t0\t\n",
            "\n",
            "CaMa    1\t0\t0\t0\t0\t\n",
            "\n"
          ]
        },
        {
          "output_type": "stream",
          "name": "stderr",
          "text": [
            "\r 79%|███████▉  | 79/100 [04:19<00:59,  2.83s/it]"
          ]
        },
        {
          "output_type": "stream",
          "name": "stdout",
          "text": [
            "\n",
            "\n",
            "A/P \tPuFi\tClSw\tKeWa\tMaWa\tCaWr\t\n",
            "\n",
            "PuFi    0\t0\t1\t0\t0\t\n",
            "\n",
            "ClSw    0\t0\t0\t1\t0\t\n",
            "\n",
            "KeWa    0\t0\t1\t0\t0\t\n",
            "\n",
            "MaWa    0\t1\t0\t0\t0\t\n",
            "\n",
            "CaWr    1\t0\t0\t0\t0\t\n",
            "\n"
          ]
        },
        {
          "output_type": "stream",
          "name": "stderr",
          "text": [
            "\r 80%|████████  | 80/100 [04:22<00:55,  2.79s/it]"
          ]
        },
        {
          "output_type": "stream",
          "name": "stdout",
          "text": [
            "\n",
            "\n",
            "A/P \tRhAu\tHoLa\tHoSp\tClSw\tGrta\t\n",
            "\n",
            "RhAu    1\t0\t0\t0\t0\t\n",
            "\n",
            "HoLa    0\t1\t0\t0\t0\t\n",
            "\n",
            "HoSp    0\t1\t0\t0\t0\t\n",
            "\n",
            "ClSw    0\t0\t1\t0\t0\t\n",
            "\n",
            "Grta    0\t1\t0\t0\t0\t\n",
            "\n"
          ]
        },
        {
          "output_type": "stream",
          "name": "stderr",
          "text": [
            "\r 81%|████████  | 81/100 [04:25<00:52,  2.75s/it]"
          ]
        },
        {
          "output_type": "stream",
          "name": "stdout",
          "text": [
            "\n",
            "\n",
            "A/P \tRhAu\tBrCr\tFiCr\tNoFu\tHoLa\t\n",
            "\n",
            "RhAu    0\t0\t0\t0\t1\t\n",
            "\n",
            "BrCr    0\t0\t1\t0\t0\t\n",
            "\n",
            "FiCr    0\t1\t0\t0\t0\t\n",
            "\n",
            "NoFu    0\t0\t1\t0\t0\t\n",
            "\n",
            "HoLa    0\t0\t0\t1\t0\t\n",
            "\n"
          ]
        },
        {
          "output_type": "stream",
          "name": "stderr",
          "text": [
            "\r 82%|████████▏ | 82/100 [04:27<00:49,  2.73s/it]"
          ]
        },
        {
          "output_type": "stream",
          "name": "stdout",
          "text": [
            "\n",
            "\n",
            "A/P \tRhAu\tFiCr\tNoFu\tHaSp\tMoWa\t\n",
            "\n",
            "RhAu    0\t1\t0\t0\t0\t\n",
            "\n",
            "FiCr    0\t0\t1\t0\t0\t\n",
            "\n",
            "NoFu    0\t1\t0\t0\t0\t\n",
            "\n",
            "HaSp    1\t0\t0\t0\t0\t\n",
            "\n",
            "MoWa    0\t0\t0\t0\t1\t\n",
            "\n"
          ]
        },
        {
          "output_type": "stream",
          "name": "stderr",
          "text": [
            "\r 83%|████████▎ | 83/100 [04:30<00:46,  2.72s/it]"
          ]
        },
        {
          "output_type": "stream",
          "name": "stdout",
          "text": [
            "\n",
            "\n",
            "A/P \tWhbr\tSa\tMaWa\tMoWa\tBeWr\t\n",
            "\n",
            "Whbr    0\t0\t0\t0\t1\t\n",
            "\n",
            "Sa      0\t0\t1\t0\t0\t\n",
            "\n",
            "MaWa    1\t0\t0\t0\t0\t\n",
            "\n",
            "MoWa    0\t0\t1\t0\t0\t\n",
            "\n",
            "BeWr    0\t0\t0\t0\t1\t\n",
            "\n"
          ]
        },
        {
          "output_type": "stream",
          "name": "stderr",
          "text": [
            "\r 84%|████████▍ | 84/100 [04:33<00:43,  2.71s/it]"
          ]
        },
        {
          "output_type": "stream",
          "name": "stdout",
          "text": [
            "\n",
            "\n",
            "A/P \tLeFl\tHoSp\tLeTe\tKeWa\tCaWr\t\n",
            "\n",
            "LeFl    0\t0\t1\t0\t0\t\n",
            "\n",
            "HoSp    0\t0\t0\t0\t1\t\n",
            "\n",
            "LeTe    1\t0\t0\t0\t0\t\n",
            "\n",
            "KeWa    0\t0\t1\t0\t0\t\n",
            "\n",
            "CaWr    0\t1\t0\t0\t0\t\n",
            "\n"
          ]
        },
        {
          "output_type": "stream",
          "name": "stderr",
          "text": [
            "\r 85%|████████▌ | 85/100 [04:36<00:40,  2.70s/it]"
          ]
        },
        {
          "output_type": "stream",
          "name": "stdout",
          "text": [
            "\n",
            "\n",
            "A/P \tLeFl\tNoFu\tGa\tLeTe\tKeWa\t\n",
            "\n",
            "LeFl    1\t0\t0\t0\t0\t\n",
            "\n",
            "NoFu    1\t0\t0\t0\t0\t\n",
            "\n",
            "Ga      0\t0\t0\t1\t0\t\n",
            "\n",
            "LeTe    0\t1\t0\t0\t0\t\n",
            "\n",
            "KeWa    0\t0\t1\t0\t0\t\n",
            "\n"
          ]
        },
        {
          "output_type": "stream",
          "name": "stderr",
          "text": [
            "\r 86%|████████▌ | 86/100 [04:38<00:37,  2.69s/it]"
          ]
        },
        {
          "output_type": "stream",
          "name": "stdout",
          "text": [
            "\n",
            "\n",
            "A/P \tRhAu\tRiKi\tWhbr\tGrGr\tLeTe\t\n",
            "\n",
            "RhAu    0\t0\t0\t0\t1\t\n",
            "\n",
            "RiKi    0\t1\t0\t0\t0\t\n",
            "\n",
            "Whbr    0\t0\t0\t1\t0\t\n",
            "\n",
            "GrGr    0\t0\t1\t0\t0\t\n",
            "\n",
            "LeTe    1\t0\t0\t0\t0\t\n",
            "\n"
          ]
        },
        {
          "output_type": "stream",
          "name": "stderr",
          "text": [
            "\r 87%|████████▋ | 87/100 [04:41<00:34,  2.68s/it]"
          ]
        },
        {
          "output_type": "stream",
          "name": "stdout",
          "text": [
            "\n",
            "\n",
            "A/P \tRhAu\tBrBl\tLaBu\tWhth\tBeWr\t\n",
            "\n",
            "RhAu    0\t0\t0\t0\t1\t\n",
            "\n",
            "BrBl    0\t0\t1\t0\t0\t\n",
            "\n",
            "LaBu    0\t0\t0\t0\t1\t\n",
            "\n",
            "Whth    0\t1\t0\t0\t0\t\n",
            "\n",
            "BeWr    1\t0\t0\t0\t0\t\n",
            "\n"
          ]
        },
        {
          "output_type": "stream",
          "name": "stderr",
          "text": [
            "\r 88%|████████▊ | 88/100 [04:43<00:32,  2.67s/it]"
          ]
        },
        {
          "output_type": "stream",
          "name": "stdout",
          "text": [
            "\n",
            "\n",
            "A/P \tYebr\tLeFl\tGrta\tCaMa\tMaWa\t\n",
            "\n",
            "Yebr    0\t0\t0\t0\t1\t\n",
            "\n",
            "LeFl    0\t1\t0\t0\t0\t\n",
            "\n",
            "Grta    0\t0\t0\t1\t0\t\n",
            "\n",
            "CaMa    0\t0\t0\t1\t0\t\n",
            "\n",
            "MaWa    0\t0\t0\t1\t0\t\n",
            "\n"
          ]
        },
        {
          "output_type": "stream",
          "name": "stderr",
          "text": [
            "\r 89%|████████▉ | 89/100 [04:46<00:29,  2.67s/it]"
          ]
        },
        {
          "output_type": "stream",
          "name": "stdout",
          "text": [
            "\n",
            "\n",
            "A/P \tHoLa\tWhbr\tWhPe\tWhth\tBeWr\t\n",
            "\n",
            "HoLa    0\t0\t0\t1\t0\t\n",
            "\n",
            "Whbr    0\t1\t0\t0\t0\t\n",
            "\n",
            "WhPe    0\t0\t1\t0\t0\t\n",
            "\n",
            "Whth    1\t0\t0\t0\t0\t\n",
            "\n",
            "BeWr    0\t0\t0\t0\t1\t\n",
            "\n"
          ]
        },
        {
          "output_type": "stream",
          "name": "stderr",
          "text": [
            "\r 90%|█████████ | 90/100 [04:49<00:26,  2.66s/it]"
          ]
        },
        {
          "output_type": "stream",
          "name": "stdout",
          "text": [
            "\n",
            "\n",
            "A/P \tRiKi\tSa\tHoSp\tHaSp\tBeWr\t\n",
            "\n",
            "RiKi    0\t1\t0\t0\t0\t\n",
            "\n",
            "Sa      1\t0\t0\t0\t0\t\n",
            "\n",
            "HoSp    0\t0\t0\t1\t0\t\n",
            "\n",
            "HaSp    0\t0\t0\t1\t0\t\n",
            "\n",
            "BeWr    0\t0\t0\t1\t0\t\n",
            "\n"
          ]
        },
        {
          "output_type": "stream",
          "name": "stderr",
          "text": [
            "\r 91%|█████████ | 91/100 [04:52<00:24,  2.67s/it]"
          ]
        },
        {
          "output_type": "stream",
          "name": "stdout",
          "text": [
            "\n",
            "\n",
            "A/P \tFiCr\tPuFi\tNoFu\tSeSp\tClSw\t\n",
            "\n",
            "FiCr    1\t0\t0\t0\t0\t\n",
            "\n",
            "PuFi    0\t0\t1\t0\t0\t\n",
            "\n",
            "NoFu    0\t0\t0\t1\t0\t\n",
            "\n",
            "SeSp    1\t0\t0\t0\t0\t\n",
            "\n",
            "ClSw    0\t1\t0\t0\t0\t\n",
            "\n"
          ]
        },
        {
          "output_type": "stream",
          "name": "stderr",
          "text": [
            "\r 92%|█████████▏| 92/100 [04:54<00:21,  2.67s/it]"
          ]
        },
        {
          "output_type": "stream",
          "name": "stdout",
          "text": [
            "\n",
            "\n",
            "A/P \tBrBl\tYebr\tBrCr\tGrGr\tHaSp\t\n",
            "\n",
            "BrBl    0\t0\t0\t1\t0\t\n",
            "\n",
            "Yebr    0\t1\t0\t0\t0\t\n",
            "\n",
            "BrCr    0\t0\t1\t0\t0\t\n",
            "\n",
            "GrGr    0\t1\t0\t0\t0\t\n",
            "\n",
            "HaSp    0\t0\t0\t0\t1\t\n",
            "\n"
          ]
        },
        {
          "output_type": "stream",
          "name": "stderr",
          "text": [
            "\r 93%|█████████▎| 93/100 [04:57<00:18,  2.69s/it]"
          ]
        },
        {
          "output_type": "stream",
          "name": "stdout",
          "text": [
            "\n",
            "\n",
            "A/P \tFiCr\tSa\tHaSp\tCaGl\tGrta\t\n",
            "\n",
            "FiCr    0\t1\t0\t0\t0\t\n",
            "\n",
            "Sa      0\t0\t1\t0\t0\t\n",
            "\n",
            "HaSp    0\t0\t0\t1\t0\t\n",
            "\n",
            "CaGl    1\t0\t0\t0\t0\t\n",
            "\n",
            "Grta    0\t0\t1\t0\t0\t\n",
            "\n"
          ]
        },
        {
          "output_type": "stream",
          "name": "stderr",
          "text": [
            "\r 94%|█████████▍| 94/100 [05:00<00:16,  2.68s/it]"
          ]
        },
        {
          "output_type": "stream",
          "name": "stdout",
          "text": [
            "\n",
            "\n",
            "A/P \tCaGl\tLeTe\tGrta\tMaWa\tBeWr\t\n",
            "\n",
            "CaGl    1\t0\t0\t0\t0\t\n",
            "\n",
            "LeTe    0\t0\t1\t0\t0\t\n",
            "\n",
            "Grta    0\t0\t0\t0\t1\t\n",
            "\n",
            "MaWa    0\t1\t0\t0\t0\t\n",
            "\n",
            "BeWr    0\t0\t0\t0\t1\t\n",
            "\n"
          ]
        },
        {
          "output_type": "stream",
          "name": "stderr",
          "text": [
            "\r 95%|█████████▌| 95/100 [05:02<00:13,  2.69s/it]"
          ]
        },
        {
          "output_type": "stream",
          "name": "stdout",
          "text": [
            "\n",
            "\n",
            "A/P \tPuFi\tWhbr\tHoSp\tBeWr\tCaWr\t\n",
            "\n",
            "PuFi    0\t0\t0\t0\t1\t\n",
            "\n",
            "Whbr    0\t1\t0\t0\t0\t\n",
            "\n",
            "HoSp    0\t0\t0\t1\t0\t\n",
            "\n",
            "BeWr    0\t0\t0\t1\t0\t\n",
            "\n",
            "CaWr    1\t0\t0\t0\t0\t\n",
            "\n"
          ]
        },
        {
          "output_type": "stream",
          "name": "stderr",
          "text": [
            "\r 96%|█████████▌| 96/100 [05:05<00:10,  2.68s/it]"
          ]
        },
        {
          "output_type": "stream",
          "name": "stdout",
          "text": [
            "\n",
            "\n",
            "A/P \tHoLa\tWhPe\tSa\tHoSp\tGrta\t\n",
            "\n",
            "HoLa    0\t0\t1\t0\t0\t\n",
            "\n",
            "WhPe    0\t0\t0\t0\t1\t\n",
            "\n",
            "Sa      0\t0\t0\t1\t0\t\n",
            "\n",
            "HoSp    0\t0\t1\t0\t0\t\n",
            "\n",
            "Grta    0\t1\t0\t0\t0\t\n",
            "\n"
          ]
        },
        {
          "output_type": "stream",
          "name": "stderr",
          "text": [
            "\r 97%|█████████▋| 97/100 [05:08<00:08,  2.68s/it]"
          ]
        },
        {
          "output_type": "stream",
          "name": "stdout",
          "text": [
            "\n",
            "\n",
            "A/P \tRhAu\tSeSp\tWhth\tCaGl\tGrta\t\n",
            "\n",
            "RhAu    0\t1\t0\t0\t0\t\n",
            "\n",
            "SeSp    0\t0\t0\t1\t0\t\n",
            "\n",
            "Whth    1\t0\t0\t0\t0\t\n",
            "\n",
            "CaGl    0\t0\t1\t0\t0\t\n",
            "\n",
            "Grta    0\t0\t0\t0\t1\t\n",
            "\n"
          ]
        },
        {
          "output_type": "stream",
          "name": "stderr",
          "text": [
            "\r 98%|█████████▊| 98/100 [05:10<00:05,  2.68s/it]"
          ]
        },
        {
          "output_type": "stream",
          "name": "stdout",
          "text": [
            "\n",
            "\n",
            "A/P \tBrBl\tBrCr\tFiCr\tLeFl\tWhbr\t\n",
            "\n",
            "BrBl    0\t0\t0\t0\t1\t\n",
            "\n",
            "BrCr    1\t0\t0\t0\t0\t\n",
            "\n",
            "FiCr    1\t0\t0\t0\t0\t\n",
            "\n",
            "LeFl    0\t1\t0\t0\t0\t\n",
            "\n",
            "Whbr    0\t1\t0\t0\t0\t\n",
            "\n"
          ]
        },
        {
          "output_type": "stream",
          "name": "stderr",
          "text": [
            "\r 99%|█████████▉| 99/100 [05:13<00:02,  2.69s/it]"
          ]
        },
        {
          "output_type": "stream",
          "name": "stdout",
          "text": [
            "\n",
            "\n",
            "A/P \tLeFl\tSa\tWhth\tGrta\tCaMa\t\n",
            "\n",
            "LeFl    1\t0\t0\t0\t0\t\n",
            "\n",
            "Sa      0\t0\t0\t1\t0\t\n",
            "\n",
            "Whth    0\t0\t0\t1\t0\t\n",
            "\n",
            "Grta    0\t0\t0\t0\t1\t\n",
            "\n",
            "CaMa    0\t0\t0\t0\t1\t\n",
            "\n"
          ]
        },
        {
          "output_type": "stream",
          "name": "stderr",
          "text": [
            "100%|██████████| 100/100 [05:16<00:00,  3.16s/it]"
          ]
        },
        {
          "output_type": "stream",
          "name": "stdout",
          "text": [
            "\n",
            "\n",
            "A/P \tWhPe\tGrta\tCaMa\tMoWa\tBeWr\t\n",
            "\n",
            "WhPe    0\t0\t1\t0\t0\t\n",
            "\n",
            "Grta    1\t0\t0\t0\t0\t\n",
            "\n",
            "CaMa    0\t0\t1\t0\t0\t\n",
            "\n",
            "MoWa    0\t0\t1\t0\t0\t\n",
            "\n",
            "BeWr    0\t1\t0\t0\t0\t\n",
            "\n",
            "Model tested on 100 tasks. Accuracy: 67.40%\n",
            "Model tested on 100 tasks. Accuracy for confusion matrix: 36.25%\n"
          ]
        },
        {
          "output_type": "stream",
          "name": "stderr",
          "text": [
            "\n"
          ]
        }
      ]
    }
  ]
}