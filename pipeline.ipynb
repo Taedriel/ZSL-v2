{
  "nbformat": 4,
  "nbformat_minor": 0,
  "metadata": {
    "colab": {
      "name": "pipeline.ipynb",
      "provenance": [],
      "collapsed_sections": [],
      "mount_file_id": "1OR6E3sgk-F1D3bS7Da1dyPBZYeidS0Kr",
      "authorship_tag": "ABX9TyNpib2XM1/s4MuX7GiGHKV2",
      "include_colab_link": true
    },
    "kernelspec": {
      "name": "python3",
      "display_name": "Python 3"
    },
    "language_info": {
      "name": "python"
    },
    "accelerator": "GPU",
    "widgets": {
      "application/vnd.jupyter.widget-state+json": {
        "0a07fa1ba227482085804cf7f4936f0c": {
          "model_module": "@jupyter-widgets/controls",
          "model_name": "HBoxModel",
          "model_module_version": "1.5.0",
          "state": {
            "_dom_classes": [],
            "_model_module": "@jupyter-widgets/controls",
            "_model_module_version": "1.5.0",
            "_model_name": "HBoxModel",
            "_view_count": null,
            "_view_module": "@jupyter-widgets/controls",
            "_view_module_version": "1.5.0",
            "_view_name": "HBoxView",
            "box_style": "",
            "children": [
              "IPY_MODEL_c85a9a72c3c248a39363f2b1f2981e2f",
              "IPY_MODEL_4ae5d2709b184728b4c9510b4847e3b1",
              "IPY_MODEL_4396f03c5feb40e19a5c53caed58c39f"
            ],
            "layout": "IPY_MODEL_7c506da3f1654404b33794a960e1d317"
          }
        },
        "c85a9a72c3c248a39363f2b1f2981e2f": {
          "model_module": "@jupyter-widgets/controls",
          "model_name": "HTMLModel",
          "model_module_version": "1.5.0",
          "state": {
            "_dom_classes": [],
            "_model_module": "@jupyter-widgets/controls",
            "_model_module_version": "1.5.0",
            "_model_name": "HTMLModel",
            "_view_count": null,
            "_view_module": "@jupyter-widgets/controls",
            "_view_module_version": "1.5.0",
            "_view_name": "HTMLView",
            "description": "",
            "description_tooltip": null,
            "layout": "IPY_MODEL_6fd185c94d9747ec9b4726f6fa0ba764",
            "placeholder": "​",
            "style": "IPY_MODEL_8d4cd6efffd5477b90a3b3f5e3faf165",
            "value": "100%"
          }
        },
        "4ae5d2709b184728b4c9510b4847e3b1": {
          "model_module": "@jupyter-widgets/controls",
          "model_name": "FloatProgressModel",
          "model_module_version": "1.5.0",
          "state": {
            "_dom_classes": [],
            "_model_module": "@jupyter-widgets/controls",
            "_model_module_version": "1.5.0",
            "_model_name": "FloatProgressModel",
            "_view_count": null,
            "_view_module": "@jupyter-widgets/controls",
            "_view_module_version": "1.5.0",
            "_view_name": "ProgressView",
            "bar_style": "success",
            "description": "",
            "description_tooltip": null,
            "layout": "IPY_MODEL_9c0fce3b5c474cfda293f867c80b383d",
            "max": 46830571,
            "min": 0,
            "orientation": "horizontal",
            "style": "IPY_MODEL_d287673144984cd5aec310fb2fe21711",
            "value": 46830571
          }
        },
        "4396f03c5feb40e19a5c53caed58c39f": {
          "model_module": "@jupyter-widgets/controls",
          "model_name": "HTMLModel",
          "model_module_version": "1.5.0",
          "state": {
            "_dom_classes": [],
            "_model_module": "@jupyter-widgets/controls",
            "_model_module_version": "1.5.0",
            "_model_name": "HTMLModel",
            "_view_count": null,
            "_view_module": "@jupyter-widgets/controls",
            "_view_module_version": "1.5.0",
            "_view_name": "HTMLView",
            "description": "",
            "description_tooltip": null,
            "layout": "IPY_MODEL_29e08b60139b4a7d87768db23c922358",
            "placeholder": "​",
            "style": "IPY_MODEL_dc66d66e4bf946999d82ef1b3da4db2d",
            "value": " 44.7M/44.7M [00:00&lt;00:00, 82.9MB/s]"
          }
        },
        "7c506da3f1654404b33794a960e1d317": {
          "model_module": "@jupyter-widgets/base",
          "model_name": "LayoutModel",
          "model_module_version": "1.2.0",
          "state": {
            "_model_module": "@jupyter-widgets/base",
            "_model_module_version": "1.2.0",
            "_model_name": "LayoutModel",
            "_view_count": null,
            "_view_module": "@jupyter-widgets/base",
            "_view_module_version": "1.2.0",
            "_view_name": "LayoutView",
            "align_content": null,
            "align_items": null,
            "align_self": null,
            "border": null,
            "bottom": null,
            "display": null,
            "flex": null,
            "flex_flow": null,
            "grid_area": null,
            "grid_auto_columns": null,
            "grid_auto_flow": null,
            "grid_auto_rows": null,
            "grid_column": null,
            "grid_gap": null,
            "grid_row": null,
            "grid_template_areas": null,
            "grid_template_columns": null,
            "grid_template_rows": null,
            "height": null,
            "justify_content": null,
            "justify_items": null,
            "left": null,
            "margin": null,
            "max_height": null,
            "max_width": null,
            "min_height": null,
            "min_width": null,
            "object_fit": null,
            "object_position": null,
            "order": null,
            "overflow": null,
            "overflow_x": null,
            "overflow_y": null,
            "padding": null,
            "right": null,
            "top": null,
            "visibility": null,
            "width": null
          }
        },
        "6fd185c94d9747ec9b4726f6fa0ba764": {
          "model_module": "@jupyter-widgets/base",
          "model_name": "LayoutModel",
          "model_module_version": "1.2.0",
          "state": {
            "_model_module": "@jupyter-widgets/base",
            "_model_module_version": "1.2.0",
            "_model_name": "LayoutModel",
            "_view_count": null,
            "_view_module": "@jupyter-widgets/base",
            "_view_module_version": "1.2.0",
            "_view_name": "LayoutView",
            "align_content": null,
            "align_items": null,
            "align_self": null,
            "border": null,
            "bottom": null,
            "display": null,
            "flex": null,
            "flex_flow": null,
            "grid_area": null,
            "grid_auto_columns": null,
            "grid_auto_flow": null,
            "grid_auto_rows": null,
            "grid_column": null,
            "grid_gap": null,
            "grid_row": null,
            "grid_template_areas": null,
            "grid_template_columns": null,
            "grid_template_rows": null,
            "height": null,
            "justify_content": null,
            "justify_items": null,
            "left": null,
            "margin": null,
            "max_height": null,
            "max_width": null,
            "min_height": null,
            "min_width": null,
            "object_fit": null,
            "object_position": null,
            "order": null,
            "overflow": null,
            "overflow_x": null,
            "overflow_y": null,
            "padding": null,
            "right": null,
            "top": null,
            "visibility": null,
            "width": null
          }
        },
        "8d4cd6efffd5477b90a3b3f5e3faf165": {
          "model_module": "@jupyter-widgets/controls",
          "model_name": "DescriptionStyleModel",
          "model_module_version": "1.5.0",
          "state": {
            "_model_module": "@jupyter-widgets/controls",
            "_model_module_version": "1.5.0",
            "_model_name": "DescriptionStyleModel",
            "_view_count": null,
            "_view_module": "@jupyter-widgets/base",
            "_view_module_version": "1.2.0",
            "_view_name": "StyleView",
            "description_width": ""
          }
        },
        "9c0fce3b5c474cfda293f867c80b383d": {
          "model_module": "@jupyter-widgets/base",
          "model_name": "LayoutModel",
          "model_module_version": "1.2.0",
          "state": {
            "_model_module": "@jupyter-widgets/base",
            "_model_module_version": "1.2.0",
            "_model_name": "LayoutModel",
            "_view_count": null,
            "_view_module": "@jupyter-widgets/base",
            "_view_module_version": "1.2.0",
            "_view_name": "LayoutView",
            "align_content": null,
            "align_items": null,
            "align_self": null,
            "border": null,
            "bottom": null,
            "display": null,
            "flex": null,
            "flex_flow": null,
            "grid_area": null,
            "grid_auto_columns": null,
            "grid_auto_flow": null,
            "grid_auto_rows": null,
            "grid_column": null,
            "grid_gap": null,
            "grid_row": null,
            "grid_template_areas": null,
            "grid_template_columns": null,
            "grid_template_rows": null,
            "height": null,
            "justify_content": null,
            "justify_items": null,
            "left": null,
            "margin": null,
            "max_height": null,
            "max_width": null,
            "min_height": null,
            "min_width": null,
            "object_fit": null,
            "object_position": null,
            "order": null,
            "overflow": null,
            "overflow_x": null,
            "overflow_y": null,
            "padding": null,
            "right": null,
            "top": null,
            "visibility": null,
            "width": null
          }
        },
        "d287673144984cd5aec310fb2fe21711": {
          "model_module": "@jupyter-widgets/controls",
          "model_name": "ProgressStyleModel",
          "model_module_version": "1.5.0",
          "state": {
            "_model_module": "@jupyter-widgets/controls",
            "_model_module_version": "1.5.0",
            "_model_name": "ProgressStyleModel",
            "_view_count": null,
            "_view_module": "@jupyter-widgets/base",
            "_view_module_version": "1.2.0",
            "_view_name": "StyleView",
            "bar_color": null,
            "description_width": ""
          }
        },
        "29e08b60139b4a7d87768db23c922358": {
          "model_module": "@jupyter-widgets/base",
          "model_name": "LayoutModel",
          "model_module_version": "1.2.0",
          "state": {
            "_model_module": "@jupyter-widgets/base",
            "_model_module_version": "1.2.0",
            "_model_name": "LayoutModel",
            "_view_count": null,
            "_view_module": "@jupyter-widgets/base",
            "_view_module_version": "1.2.0",
            "_view_name": "LayoutView",
            "align_content": null,
            "align_items": null,
            "align_self": null,
            "border": null,
            "bottom": null,
            "display": null,
            "flex": null,
            "flex_flow": null,
            "grid_area": null,
            "grid_auto_columns": null,
            "grid_auto_flow": null,
            "grid_auto_rows": null,
            "grid_column": null,
            "grid_gap": null,
            "grid_row": null,
            "grid_template_areas": null,
            "grid_template_columns": null,
            "grid_template_rows": null,
            "height": null,
            "justify_content": null,
            "justify_items": null,
            "left": null,
            "margin": null,
            "max_height": null,
            "max_width": null,
            "min_height": null,
            "min_width": null,
            "object_fit": null,
            "object_position": null,
            "order": null,
            "overflow": null,
            "overflow_x": null,
            "overflow_y": null,
            "padding": null,
            "right": null,
            "top": null,
            "visibility": null,
            "width": null
          }
        },
        "dc66d66e4bf946999d82ef1b3da4db2d": {
          "model_module": "@jupyter-widgets/controls",
          "model_name": "DescriptionStyleModel",
          "model_module_version": "1.5.0",
          "state": {
            "_model_module": "@jupyter-widgets/controls",
            "_model_module_version": "1.5.0",
            "_model_name": "DescriptionStyleModel",
            "_view_count": null,
            "_view_module": "@jupyter-widgets/base",
            "_view_module_version": "1.2.0",
            "_view_name": "StyleView",
            "description_width": ""
          }
        }
      }
    }
  },
  "cells": [
    {
      "cell_type": "markdown",
      "metadata": {
        "id": "view-in-github",
        "colab_type": "text"
      },
      "source": [
        "<a href=\"https://colab.research.google.com/github/Taedriel/ZSL-v2/blob/googleImageFSL/pipeline.ipynb\" target=\"_parent\"><img src=\"https://colab.research.google.com/assets/colab-badge.svg\" alt=\"Open In Colab\"/></a>"
      ]
    },
    {
      "cell_type": "code",
      "execution_count": null,
      "metadata": {
        "id": "RxCGioBVtE6f"
      },
      "outputs": [],
      "source": [
        "!yes | pip install -U --quiet selenium scikit-learn-intelex Pillow sklearn\n",
        "!cd \"./drive/MyDrive/Colab Notebooks/pipeline\" && pip install -r --quiet requirements.txt\n",
        "\n",
        "!apt install chromium-chromedriver\n",
        "!cp /usr/lib/chromium-browser/chromedriver /usr/bin\n",
        "import sys\n",
        "sys.path.insert(0,'/usr/lib/chromium-browser/chromedriver')"
      ]
    },
    {
      "cell_type": "code",
      "source": [
        "import numpy as np\n",
        "import matplotlib.pyplot as plt\n",
        "import os, itertools, shutil, requests, webbrowser, urllib.request, time, random\n",
        "import PIL.Image\n",
        "\n",
        "from IPython.core.display import Image\n",
        "from statistics import mean, pstdev\n",
        "from selenium import webdriver\n",
        "from bs4 import BeautifulSoup\n",
        "\n",
        "import torch\n",
        "from torch import nn, optim\n",
        "from torchvision import transforms\n",
        "from torchvision.models import resnet18\n",
        "from sklearn.metrics import classification_report, confusion_matrix\n",
        "\n",
        "from tqdm import tqdm"
      ],
      "metadata": {
        "id": "xMwX0RACteAV",
        "colab": {
          "base_uri": "https://localhost:8080/"
        },
        "outputId": "b70b3451-14c1-423f-98f1-8c46388bbb34"
      },
      "execution_count": 1,
      "outputs": [
        {
          "output_type": "stream",
          "name": "stderr",
          "text": [
            "/usr/local/lib/python3.7/dist-packages/requests/__init__.py:91: RequestsDependencyWarning: urllib3 (1.26.9) or chardet (3.0.4) doesn't match a supported version!\n",
            "  RequestsDependencyWarning)\n"
          ]
        }
      ]
    },
    {
      "cell_type": "code",
      "source": [
        "PATH = \"/content/drive/MyDrive/Colab Notebooks/pipeline/\"\n",
        "PATH_IMAGES = \"/content/drive/MyDrive/Colab Notebooks/pipeline/images/\"\n",
        "PATH_CUB = \"/content/drive/MyDrive/Colab Notebooks/pipeline/model/data/CUB/images/\"\n",
        "PATH_MODEL = \"/content/drive/MyDrive/Colab Notebooks/pipeline/model/\"\n",
        "\n",
        "globalSize = 20\n",
        "LEN_FOR_ONE_SCROLL = 20\n",
        "\n",
        "N_WAY = 5\n",
        "N_SHOT = 5\n",
        "N_QUERY = 15\n",
        "\n",
        "batchSize = 125 # size of the set of pairs"
      ],
      "metadata": {
        "id": "lfOI7oJptom3"
      },
      "execution_count": 2,
      "outputs": []
    },
    {
      "cell_type": "markdown",
      "source": [
        "--- UTILS ---"
      ],
      "metadata": {
        "id": "pxqyDjnLvkDe"
      }
    },
    {
      "cell_type": "code",
      "source": [
        "def createListOfClasses(classesFile):\n",
        "\n",
        "  \"\"\"\n",
        "  get set of all classes to be used in the support set from Ismael's text file\n",
        "  \"\"\"\n",
        "\n",
        "  classes = []\n",
        "  index=0\n",
        "\n",
        "  for animal in classesFile.readlines():\n",
        "    animal = animal.strip(\"\\n\").replace(\" \", \"\")\n",
        "    classes.append(animal)\n",
        "\n",
        "  return classes"
      ],
      "metadata": {
        "id": "VfqxDwYmjW-S"
      },
      "execution_count": 3,
      "outputs": []
    },
    {
      "cell_type": "code",
      "source": [
        "def getUa(mesurements, k=1):\n",
        "\n",
        "  \"\"\"\n",
        "  get mean and incertitude from a list of mesurements, the first element in the list\n",
        "  must be the title of the experiement.\n",
        "  \"\"\"\n",
        "\n",
        "  title = mesurements[0]\n",
        "  l = mesurements[1:]\n",
        "  inv_n = 1.0/(len(l)-1)\n",
        "  inv_ns = 1.0/pow(len(l), 0.5)\n",
        "  m_ = round(mean(l), 2)\n",
        "  dm2 = [pow(mi - m_, 2) for mi in l]\n",
        "  pstd = pow(inv_n*sum(dm2), 0.5)\n",
        "  u = round(k*pstd*inv_ns, 2)\n",
        "  \n",
        "  return title+str(m_) + \"% +- \" + str(u) + \" (with 95% confidence)\" if k!=1 else \"\", m_, u\n",
        "\n",
        "def getUaList(listOfExperiences, k=1):\n",
        "\n",
        "  for mesurements in listOfExperiences:\n",
        "    string, m_, u = getUa(mesurements, k)\n",
        "    print(string)"
      ],
      "metadata": {
        "id": "sE1BsKKFvl0G"
      },
      "execution_count": 4,
      "outputs": []
    },
    {
      "cell_type": "code",
      "source": [
        "def saveFile(filename, data):\n",
        "  file = open(PATH_MODEL+filename, \"w+\")\n",
        "  for d in data:\n",
        "    file.write(str(d)+\"\\n\")\n",
        "  file.close()\n",
        "\n",
        "def showRegression(rangeOfData, data, degree):\n",
        "  coef = np.polyfit(rangeOfData, data, degree)\n",
        "  poly1d_fn = np.poly1d(coef) \n",
        "  plt.plot(rangeOfData, data, '-yo', rangeOfData, poly1d_fn(rangeOfData), '--k')\n",
        "  plt.show()\n",
        "  print(\"regression polynome :\\n\")\n",
        "  print(np.poly1d(poly1d_fn))\n",
        "  print(\"started at\", data[0], \"and ended at\", data[-1])\n",
        "  print(\"\\n\")\n",
        "\n",
        "def showData(data, title, degree, saveInfo=[False, \"\"]):\n",
        "\n",
        "  path = saveInfo[1]\n",
        "  if saveInfo[0]:\n",
        "    saveFile(path, data)\n",
        "\n",
        "  numberOfIteration = range(0, len(data))\n",
        "\n",
        "  plt.plot(numberOfIteration, data)\n",
        "  plt.title(title)\n",
        "  plt.show()\n",
        "  showRegression(numberOfIteration, data, degree)"
      ],
      "metadata": {
        "id": "Lg76q2xjLZmu"
      },
      "execution_count": 5,
      "outputs": []
    },
    {
      "cell_type": "code",
      "source": [
        "def getMatrixReport(labels, predicted_labels):\n",
        "    print(\"\\n\")\n",
        "    res = classification_report(labels, predicted_labels, target_names=[\"c\"+str(i) for i in range(0, len(labels))],  output_dict=True)\n",
        "    print(confusion_matrix(labels, predicted_labels))\n",
        "    return res, res['accuracy']"
      ],
      "metadata": {
        "id": "DPZbdieI2dCB"
      },
      "execution_count": 6,
      "outputs": []
    },
    {
      "cell_type": "markdown",
      "source": [
        "--- IMAGE RETRIEVAL ---"
      ],
      "metadata": {
        "id": "jSc4ewvWt-rx"
      }
    },
    {
      "cell_type": "code",
      "source": [
        "\"\"\"\n",
        "thumbnail / jpg (compression) may be an issue\n",
        "\"\"\"\n",
        "\n",
        "def getParser(classeName):\n",
        "\n",
        "  site = 'https://www.google.com/search?tbm=isch&q='+classeName\n",
        "\n",
        "  chrome_options = webdriver.ChromeOptions()\n",
        "  chrome_options.add_argument('--headless')\n",
        "  chrome_options.add_argument('--no-sandbox')\n",
        "  chrome_options.add_argument('--disable-dev-shm-usage')\n",
        "\n",
        "  driver = webdriver.Chrome('chromedriver', options=chrome_options)\n",
        "  driver.get(site)\n",
        "  driver.execute_script(\"window.scrollBy(0, document.body.scrollHeight)\")\n",
        "  soup = BeautifulSoup(driver.page_source, 'html.parser')\n",
        "  driver.close()\n",
        "\n",
        "  return soup\n",
        "\n",
        "\n",
        "def getImages(classes):\n",
        "\n",
        "  imagesNumber = 0\n",
        "\n",
        "  shutil.rmtree(PATH_IMAGES, ignore_errors=False)\n",
        "  os.makedirs(PATH_IMAGES)\n",
        "\n",
        "  print(\"downloading images...\")\n",
        "\n",
        "  for classe in tqdm(classes.split(\",\")):\n",
        "\n",
        "    try:\n",
        "      classeName = classe.replace(\" \", \"\")\n",
        "      os.makedirs(PATH_IMAGES+classeName)\n",
        "\n",
        "      soup = getParser(classeName)\n",
        "      img_tags = soup.find_all(\"img\", class_=\"rg_i\")\n",
        "\n",
        "      for index in range(0, len(img_tags)):\n",
        "        try:\n",
        "            urllib.request.urlretrieve(img_tags[index]['src'], PATH_IMAGES+classeName+\"/\"+str(classeName+str(index))+\".jpg\")\n",
        "            imagesNumber+=1\n",
        "        except Exception as e:\n",
        "            pass\n",
        "    except:\n",
        "      pass\n",
        "\n",
        "  return imagesNumber\n",
        "\n",
        "#don't work very well it seems\n",
        "def resizeImages(classes):\n",
        "\n",
        "  size = (300, 300)\n",
        "  errorResize = 0\n",
        "  for classe in tqdm(classes.split(\",\")):\n",
        "\n",
        "    classeName = classe.replace(\" \", \"\")\n",
        "    for index in range(0, len(os.listdir(PATH_IMAGES+classeName))):\n",
        "\n",
        "      infile = PATH_IMAGES+classeName+\"/\"+str(classeName+str(index))+\".jpg\"\n",
        "      outfile = PATH_IMAGES+classeName+\"/\"+str(classeName+str(index))+\".jpg\"\n",
        "\n",
        "      try:\n",
        "        im = PIL.Image.open(infile)\n",
        "        im.thumbnail(size, PIL.Image.ANTIALIAS)\n",
        "        im.save(outfile)\n",
        "      except IOError:\n",
        "        errorResize+=1\n",
        "\n",
        "  return errorResize\n",
        "\n",
        "def getClassesImagesURLLIB(classes, download=True):\n",
        "\n",
        "  imagesNumber = 0\n",
        "\n",
        "  if download:\n",
        "    imagesNumber = getImages(classes)\n",
        "\n",
        "  print(\"transitionning to the resizing process...\")\n",
        "  errorResize = resizeImages(classes)\n",
        "  \n",
        "  print(\"\\n\"+str(imagesNumber) + \" images were downloaded. \" + str(imagesNumber/len(classes.split(\",\"))) + \" per classes\")\n",
        "  print(str(errorResize), \" images couldn't be resized\")"
      ],
      "metadata": {
        "id": "62epbrFRtxhG"
      },
      "execution_count": 7,
      "outputs": []
    },
    {
      "cell_type": "code",
      "source": [
        "retreivalNotDone = False\n",
        "\n",
        "classesFile = open(PATH_MODEL+\"animals.txt\")\n",
        "classes = createListOfClasses(classesFile)\n",
        "print(\"classes :\", classes)\n",
        "\n",
        "if retreivalNotDone:\n",
        "  getClassesImagesURLLIB(classes, retreivalNotDone)\n",
        "  retreivalNotDone = False"
      ],
      "metadata": {
        "id": "I33Xnwvzt6HQ",
        "colab": {
          "base_uri": "https://localhost:8080/"
        },
        "outputId": "4e37d695-f468-44fd-9314-b2024d390269"
      },
      "execution_count": 8,
      "outputs": [
        {
          "output_type": "stream",
          "name": "stdout",
          "text": [
            "classes : ['Aardvark', 'Aardwolf', 'Africanbuffalo', 'Africanelephant', 'Africanleopard', 'Albatross', 'Alligator', 'Alpaca', 'Americanrobin', 'Amphibian', 'Anaconda', 'Angelfish', 'Anglerfish', 'Ant', 'Anteater', 'Antelope', 'Antlion', 'Ape', 'Aphid']\n"
          ]
        }
      ]
    },
    {
      "cell_type": "markdown",
      "source": [
        "--- DATASET ---"
      ],
      "metadata": {
        "id": "euAvQ-YK9UA_"
      }
    },
    {
      "cell_type": "code",
      "source": [
        "def getNrandomClassesPaths(listClasses, n_way):\n",
        "\n",
        "  paths = []\n",
        "  for i in range(0, n_way):\n",
        "    ridx = random.randint(0, len(listClasses)-1)\n",
        "    paths.append(PATH_CUB+listClasses[ridx]+\"/\")\n",
        "    listClasses.remove(listClasses[ridx])\n",
        "\n",
        "  return paths"
      ],
      "metadata": {
        "id": "Roxh7OEF-m2k"
      },
      "execution_count": 9,
      "outputs": []
    },
    {
      "cell_type": "code",
      "source": [
        "imageResize = (350, 350)\n",
        "\n",
        "# each set is as follows : \n",
        "\"\"\"\n",
        "[\n",
        "  [(I, c), (I, c), ..., (I, c), (I, c)],\n",
        "  [(I, c), (I, c), ..., (I, c), (I, c)],\n",
        "   .          .                    .\n",
        "   .            .                  .\n",
        "   .              .                .\n",
        "   .                .              .\n",
        "                      .            .\n",
        "  [(I, c), (I, c), ..., (I, c), (I, c)]\n",
        "]\n",
        "\"\"\"\n",
        "\n",
        "def getImageTensor(path):\n",
        "  convert = transforms.ToTensor()\n",
        "  return convert(PIL.Image.open(path).resize(imageResize))\n",
        "\n",
        "def getFolderTensors(path, supportNumber, queryNumber, label):\n",
        "\n",
        "  images = os.listdir(path)\n",
        "  support_i, query_i = [], []\n",
        "\n",
        "  for i in range(0, supportNumber):\n",
        "    ridx = random.randint(0, len(images)-1)\n",
        "    support_i.append( (getImageTensor(path+images[ridx]), label) )\n",
        "    images.remove(images[ridx])\n",
        "  \n",
        "  for i in range(0, queryNumber):\n",
        "    ridx = random.randint(0, len(images)-1)\n",
        "    query_i.append( (getImageTensor(path+images[ridx]), label) )\n",
        "    images.remove(images[ridx])\n",
        "\n",
        "  return support_i, query_i\n",
        "\n",
        "def getSets(paths, supportNumber, queryNumber):\n",
        "\n",
        "  supportSet, querySet = [], []\n",
        "  for label, path in enumerate(paths):\n",
        "    Si, Qi = getFolderTensors(path, supportNumber, queryNumber, label)\n",
        "    supportSet.append(Si)\n",
        "    querySet.append(Qi)\n",
        "\n",
        "  return supportSet, querySet"
      ],
      "metadata": {
        "id": "a1L4ibBT9Sgf"
      },
      "execution_count": 10,
      "outputs": []
    },
    {
      "cell_type": "code",
      "source": [
        "def getPair(c1, i, c2, j, setOfImages):\n",
        "\n",
        "  I1 = [setOfImages[c1][i][0]]\n",
        "  I2 = [setOfImages[c2][j][0]]\n",
        "  s = 1.0 if c1 == c2 else 0.0\n",
        "\n",
        "  return I1, I2, s\n",
        "\n",
        "\"\"\"\n",
        "For both PP and NP\n",
        "compute cartesian product of set (without doublons).\n",
        "For PP the sets are horizontal (images of same class)\n",
        "For NP the sets are vertical (iamges of different class)\n",
        "\n",
        "possible bias because PP = NP ?\n",
        "\"\"\"\n",
        "\n",
        "\"\"\"\n",
        "[\n",
        "  [(I, c), (I, c), ..., (I, c), (I, c)],\n",
        "  [(I, c), (I, c), ..., (I, c), (I, c)],\n",
        "   .          .                    .\n",
        "   .            .                  .\n",
        "   .              .                .\n",
        "   .                .              .\n",
        "                      .            .\n",
        "  [(I, c), (I, c), ..., (I, c), (I, c)]\n",
        "]\n",
        "\"\"\"\n",
        "\n",
        "def getPP(setOfImages):\n",
        "\n",
        "  PP = []\n",
        "  for set_ in range(0, N_WAY):\n",
        "    for offset in range(0, N_SHOT):\n",
        "      for other in range(offset, N_SHOT):\n",
        "        PP.append(getPair(set_, offset, set_, other, setOfImages))\n",
        "\n",
        "  return PP\n",
        "\n",
        "def getNP(setOfImages):\n",
        "\n",
        "  NP = []\n",
        "  for set_ in range(0, N_SHOT):\n",
        "    for offset in range(0, N_WAY):\n",
        "      for other in range(offset+1, N_WAY):\n",
        "        NP.append(getPair(offset, set_, other, set_, setOfImages))\n",
        "\n",
        "  return NP\n",
        "\n",
        "\n",
        "def generatePNPairs(setOfImages):\n",
        "\n",
        "  PP, NP = [], []\n",
        "  PP = getPP(setOfImages)\n",
        "  NP = getNP(setOfImages)\n",
        "\n",
        "  print(len(PP), len(NP))\n",
        "  return random.shuffle(PP + NP)\n",
        "\n",
        "  # ------------------------\n",
        "\n",
        "def getRandomPair(setOfImages):\n",
        "  nbClasses = len(setOfImages)\n",
        "  nbEx = len(setOfImages[0])\n",
        "  ci1, e1 = random.randint(0, nbClasses-1), random.randint(0, nbEx-1) \n",
        "  ci2, e2 = random.randint(0, nbClasses-1), random.randint(0, nbEx-1)\n",
        "\n",
        "  I1 = torch.stack([setOfImages[ci1][e1][0]])\n",
        "  I2 = torch.stack([setOfImages[ci2][e2][0]])\n",
        "\n",
        "  return I1, I2, 1.0 if ci1 == ci2 else 0.0"
      ],
      "metadata": {
        "id": "3AyEelw5FMDk"
      },
      "execution_count": 11,
      "outputs": []
    },
    {
      "cell_type": "markdown",
      "source": [
        "--- NETWORK ---"
      ],
      "metadata": {
        "id": "wvnjwBYbmLsC"
      }
    },
    {
      "cell_type": "code",
      "source": [
        "# taken from https://github.com/fangpin/siamese-pytorch/blob/master/model.py\n",
        "\n",
        "# open question : does the backpropagation happen, and if yes, until where ?\n",
        "# in order to avoid backprop on other component, we can just extrenalize the creation of the w vector ?\n",
        "# EDIT : which is what I just did\n",
        "\n",
        "\"\"\"\n",
        "I1 --> CNN --> u\n",
        "                \\\n",
        "                  |u-v| --> NN --> x --> s(x) --> L(.,.)\n",
        "                /\n",
        "I2 --> CNN --> v\n",
        "\"\"\"\n",
        "\n",
        "cuda_ = True\n",
        "\n",
        "backbone = resnet18(pretrained=True)\n",
        "combination = lambda u, v: torch.abs(u-v)               \n",
        "\n",
        "modules=list(backbone.children())[:-1]\n",
        "\n",
        "if cuda_:\n",
        "  backbone=nn.Sequential(*modules).cuda() \n",
        "else:\n",
        "  backbone=nn.Sequential(*modules)\n",
        "\n",
        "def get_vector(image):\n",
        "\n",
        "  image = image.cuda() if cuda_ else image\n",
        "  return backbone(image).reshape(1, 512).squeeze(0)\n",
        "\n",
        "def createCombinedVector(I1, I2):\n",
        "\n",
        "  u = get_vector(I1)\n",
        "  v = get_vector(I2)\n",
        "  return combination(u, v)\n",
        "\n",
        "class Siamese(nn.Module):\n",
        "\n",
        "    def __init__(self):\n",
        "      super(Siamese, self).__init__()\n",
        "      self.metric = nn.Linear(512, 1)\n",
        "\n",
        "    def forward(self, w):\n",
        "      out = self.metric(w)\n",
        "      out_normalized = torch.sigmoid(out)\n",
        "\n",
        "      return out_normalized\n",
        "\n",
        "if cuda_:\n",
        "  model = Siamese().cuda()\n",
        "else:\n",
        "  model = Siamese()\n",
        "  \n",
        "optimizer = torch.optim.Adam(model.parameters(), lr=0.05) #torch.optim.SGD(model.parameters(), lr=1E-3, momentum=0.9, weight_decay=0.5) "
      ],
      "metadata": {
        "id": "tuRuYT_5pz5d",
        "colab": {
          "base_uri": "https://localhost:8080/",
          "height": 66,
          "referenced_widgets": [
            "0a07fa1ba227482085804cf7f4936f0c",
            "c85a9a72c3c248a39363f2b1f2981e2f",
            "4ae5d2709b184728b4c9510b4847e3b1",
            "4396f03c5feb40e19a5c53caed58c39f",
            "7c506da3f1654404b33794a960e1d317",
            "6fd185c94d9747ec9b4726f6fa0ba764",
            "8d4cd6efffd5477b90a3b3f5e3faf165",
            "9c0fce3b5c474cfda293f867c80b383d",
            "d287673144984cd5aec310fb2fe21711",
            "29e08b60139b4a7d87768db23c922358",
            "dc66d66e4bf946999d82ef1b3da4db2d"
          ]
        },
        "outputId": "2c4d393c-67b2-4ea8-cd8b-dee29ff5b022"
      },
      "execution_count": 12,
      "outputs": [
        {
          "output_type": "stream",
          "name": "stderr",
          "text": [
            "Downloading: \"https://download.pytorch.org/models/resnet18-f37072fd.pth\" to /root/.cache/torch/hub/checkpoints/resnet18-f37072fd.pth\n"
          ]
        },
        {
          "output_type": "display_data",
          "data": {
            "text/plain": [
              "  0%|          | 0.00/44.7M [00:00<?, ?B/s]"
            ],
            "application/vnd.jupyter.widget-view+json": {
              "version_major": 2,
              "version_minor": 0,
              "model_id": "0a07fa1ba227482085804cf7f4936f0c"
            }
          },
          "metadata": {}
        }
      ]
    },
    {
      "cell_type": "code",
      "source": [
        "def getImages(query, image):\n",
        "\n",
        "  if cuda_:\n",
        "    query, image = query.cuda(), image.cuda()\n",
        "\n",
        "  if query.dim() < 4:\n",
        "    query = query.unsqueeze(0)\n",
        "  \n",
        "  if image.dim() < 4:\n",
        "    image = image.unsqueeze(0)\n",
        "\n",
        "  return query, image\n",
        "\n",
        "def isCorrect(predictions, queryClass):\n",
        "  pred_sorted = sorted(predictions, key=lambda tup: tup[-1], reverse=True)\n",
        "  print(\"query is \", queryClass, \" and prediction are :\", list(map(lambda t: (t[0], t[1].cpu().numpy()[0]), pred_sorted[0:5])))\n",
        "  return queryClass == pred_sorted[0][1]\n",
        "\n",
        "def evaluate(supportSet, querySet):\n",
        "\n",
        "  triplets = []\n",
        "  correct = 0\n",
        "  \n",
        "  model.eval()\n",
        "  with torch.no_grad():\n",
        "    for queryInfo in list(itertools.chain(*querySet)):\n",
        "      torch.cuda.empty_cache()\n",
        "      query, queryClass = queryInfo\n",
        "      for imageInfo in list(itertools.chain(*supportSet)):\n",
        "        image, imageClass = imageInfo\n",
        "\n",
        "        query, image = getImages(query, image)\n",
        "        w = createCombinedVector(query, image)\n",
        "        p = model(w)\n",
        "        triplets.append((imageClass, p))\n",
        "      \n",
        "      predBoolean = isCorrect(triplets, queryClass)\n",
        "      if predBoolean: correct+=1\n",
        "\n",
        "  \n",
        "  print(\"\\n accuracy :\", 100.0*correct/len(querySet))\n",
        "\n",
        "  return 100.0*correct/len(querySet)"
      ],
      "metadata": {
        "id": "tzQbisEVMXtV"
      },
      "execution_count": 13,
      "outputs": []
    },
    {
      "cell_type": "code",
      "source": [
        "def saveModel(epoch, loss_value):\n",
        "\n",
        "  torch.save({\n",
        "  'epoch': epoch,\n",
        "  'model_state_dict': model.state_dict(),\n",
        "  'optimizer_state_dict': optimizer.state_dict(),\n",
        "  'loss': loss_value\n",
        "  }, \"/content/drive/MyDrive/Colab Notebooks/pipeline/model/model_check.pt\")\n",
        "\n",
        "def epoch(suppSet):\n",
        "\n",
        "  lossForBatch = []\n",
        "  for i in range(0, batchSize):\n",
        "\n",
        "    #I1, I2, s = pairSet[i][0], pairSet[i][1], pairSet[i][2]\n",
        "    #print(pairSet[i])\n",
        "    I1, I2, s = getRandomPair(suppSet)\n",
        "    w = createCombinedVector(I1, I2)\n",
        "    out = model(w)\n",
        "    s = torch.tensor([s]).cuda() if cuda_ else torch.tensor([s])\n",
        "\n",
        "    optimizer.zero_grad()\n",
        "    loss = nn.BCELoss()(out, s)\n",
        "    loss.backward()\n",
        "    optimizer.step()\n",
        "    lossForBatch.append(loss.detach().cpu())\n",
        "\n",
        "  return lossForBatch\n",
        "\n",
        "\n",
        "validation = False\n",
        "def training(supportSet, querySet):\n",
        "\n",
        "  numberOfEpochs = 200\n",
        "  #setOfPairs = generatePNPairs(supportSet)\n",
        "\n",
        "  valFreq = 10\n",
        "  bestAcc = 0.0\n",
        "  bestModel = model.state_dict()\n",
        "\n",
        "  losses = []\n",
        "  val = []\n",
        "\n",
        "  model.train()\n",
        "  for epoch_i in tqdm(range(0, numberOfEpochs)):\n",
        "    batchLoss = epoch(supportSet)\n",
        "    losses.append(batchLoss)\n",
        "\n",
        "    if epoch_i % valFreq == 0 and epoch_i != 0:\n",
        "\n",
        "      saveModel(model, batchLoss[-1])\n",
        "      \n",
        "      if validation:\n",
        "        validationAccuracy = evaluate(supportSet, querySet) # mettre un validation set\n",
        "        val.append(validationAccuracy)\n",
        "\n",
        "        if validationAccuracy > bestAcc:\n",
        "          bestModel = model.state_dict()\n",
        "\n",
        "  torch.save(bestModel, PATH_MODEL+\"SN.pt\") if validation else torch.save(model.state_dict(), PATH_MODEL+\"SN.pt\")\n",
        "\n",
        "  return losses, val"
      ],
      "metadata": {
        "id": "vZZfT6rGFCTF"
      },
      "execution_count": 14,
      "outputs": []
    },
    {
      "cell_type": "code",
      "source": [
        "listClassCUB = os.listdir(PATH_CUB)\n",
        "supportClasses = getNrandomClassesPaths(listClassCUB, N_WAY)\n",
        "\n",
        "supportSet, querySet = getSets(supportClasses, N_SHOT, N_QUERY)"
      ],
      "metadata": {
        "id": "cY52Www1o2fA"
      },
      "execution_count": 15,
      "outputs": []
    },
    {
      "cell_type": "code",
      "source": [
        "trainingNeeded = True\n",
        "\n",
        "if trainingNeeded:\n",
        "  losses = training(supportSet, querySet)\n",
        "else:\n",
        "  model.load_state_dict(torch.load(PATH_MODEL+\"SN.pt\"))\n",
        "  print(\"model loaded\")"
      ],
      "metadata": {
        "id": "rzXzsKyIM_sQ",
        "colab": {
          "base_uri": "https://localhost:8080/"
        },
        "outputId": "56867ae9-18b5-43cb-ce44-5c04aeaf2552"
      },
      "execution_count": null,
      "outputs": [
        {
          "output_type": "stream",
          "name": "stderr",
          "text": [
            "  8%|▊         | 16/200 [00:58<11:10,  3.64s/it]"
          ]
        }
      ]
    },
    {
      "cell_type": "code",
      "source": [
        "y = [yi[0].tolist() for yi in list(itertools.chain(*losses))]\n",
        "print(y)\n",
        "showData(y, \"loss during training\", 3)"
      ],
      "metadata": {
        "id": "ihmw9QdRTeaX",
        "colab": {
          "base_uri": "https://localhost:8080/",
          "height": 688
        },
        "outputId": "176090ad-9b3f-475e-c3ba-2ac0bdd81d9b"
      },
      "execution_count": 47,
      "outputs": [
        {
          "output_type": "stream",
          "name": "stdout",
          "text": [
            "[4.475001335144043, 0.27084749937057495, 0.008845292963087559, 1.5800435543060303, 0.46194303035736084, 0.3616095185279846, 0.43393173813819885, 0.39841407537460327, 0.3791450262069702, 0.37770622968673706, 0.44643354415893555, 1.0272977352142334, 0.43992024660110474, 0.43169063329696655, 0.41205188632011414, 0.3740598261356354, 0.42329564690589905, 0.4143621027469635, 0.4339853525161743, 1.0241169929504395, 0.4068238437175751, 0.42443937063217163, 0.42517587542533875, 0.4191299080848694, 0.4623650312423706, 0.4519243538379669, 0.42256277799606323, 0.4350794851779938, 0.4229224622249603, 1.0712090730667114, 0.42907440662384033, 0.42006880044937134, 0.4269925057888031, 0.4268307387828827, 0.8302754759788513, 0.4745485782623291, 0.4279763996601105, 0.4224056303501129, 0.40039899945259094, 0.4214155673980713, 0.4036886394023895, 0.4191972613334656, 0.4213992953300476, 0.4293602406978607, 0.4361031651496887, 0.45340076088905334, 0.4274185597896576, 0.42896875739097595, 0.4121459424495697, 0.4087516963481903, 0.3956775665283203, 0.8605367541313171, 0.42830556631088257, 1.0625663995742798, 0.42473772168159485, 0.4254961907863617, 1.011381983757019, 0.407627671957016, 0.4351787567138672, 0.4505515992641449, 0.44593319296836853, 0.43559369444847107, 0.42664724588394165, 0.8528891205787659, 0.47944825887680054, 0.4576488137245178, 0.41943594813346863, 0.4058813750743866, 0.4112257659435272, 0.40421923995018005, 0.4012945592403412, 0.4348292946815491, 0.43479183316230774, 0.4055461883544922, 0.39806219935417175, 0.41708922386169434, 0.41791465878486633, 0.43517887592315674, 0.4484490156173706, 1.0246633291244507, 0.42636218667030334, 1.014190912246704, 0.42088162899017334, 0.42031487822532654, 0.4328334331512451, 0.466930091381073, 0.4273616373538971, 0.3924214541912079, 1.0793719291687012, 0.8547970652580261, 1.127651572227478, 0.4411892294883728, 0.43560144305229187, 0.43027442693710327, 0.4082283675670624, 0.4259760081768036, 1.0266125202178955, 0.41645869612693787, 1.0783052444458008, 0.38996103405952454, 0.43588435649871826, 0.4234854280948639, 1.0658752918243408, 0.4257660210132599, 1.005653977394104, 0.8354991674423218, 0.43296098709106445, 0.4062909185886383, 0.4113621115684509, 0.38270092010498047, 1.0269687175750732, 0.4516531527042389, 0.46131327748298645, 0.47119662165641785, 0.4515877068042755, 1.025804042816162, 0.40554359555244446, 0.42151597142219543, 1.0267637968063354, 0.41643184423446655, 0.44281402230262756, 0.46866366267204285, 1.0598292350769043, 0.43713411688804626, 0.8580343723297119, 1.1004877090454102, 0.8679274320602417, 0.42686134576797485, 0.4300428330898285, 1.085927963256836, 0.9866453409194946, 1.012858510017395, 0.4253748655319214, 0.38475504517555237, 0.40332669019699097, 0.40019407868385315, 0.8587952256202698, 0.9804409742355347, 1.058354139328003, 0.42538490891456604, 1.0542237758636475, 0.4285905361175537, 0.40271371603012085, 0.423464298248291, 0.38761091232299805, 1.058713436126709, 0.43719711899757385, 0.4252326786518097, 1.0522116422653198, 0.4056912064552307, 0.40523576736450195, 0.8278248310089111, 0.43126678466796875, 0.4552761912345886, 0.44543832540512085, 0.4338267743587494, 1.0691795349121094, 0.41303613781929016, 1.0416967868804932, 0.416543573141098, 0.4483170509338379, 0.9874739646911621, 0.44728219509124756, 1.0695853233337402, 0.4476686716079712, 0.43140286207199097, 0.4053117632865906, 0.3984479606151581, 1.0869238376617432, 0.43289050459861755, 0.43902289867401123, 0.4171077609062195, 0.42656779289245605, 0.43896159529685974, 0.44881969690322876, 1.1136462688446045, 0.411932110786438, 0.3957735598087311, 0.4270353615283966, 0.4545418918132782, 0.4172504246234894, 0.4092370271682739, 0.4249247908592224, 0.43079817295074463, 0.4068019688129425, 0.41687342524528503, 0.4423503577709198, 0.45894062519073486, 0.47649917006492615, 0.9887638092041016, 0.42713192105293274, 1.005342960357666, 0.40974438190460205, 0.43389418721199036, 0.417895644903183, 0.42465177178382874, 0.4136301577091217, 1.0486639738082886, 0.41585221886634827, 0.42215532064437866]\n"
          ]
        },
        {
          "output_type": "display_data",
          "data": {
            "text/plain": [
              "<Figure size 432x288 with 1 Axes>"
            ],
            "image/png": "[encoded data removed]"
          },
          "metadata": {
            "needs_background": "light"
          }
        },
        {
          "output_type": "display_data",
          "data": {
            "text/plain": [
              "<Figure size 432x288 with 1 Axes>"
            ],
            "image/png": "[encoded data removed]"
          },
          "metadata": {
            "needs_background": "light"
          }
        },
        {
          "output_type": "stream",
          "name": "stdout",
          "text": [
            "regression polynome :\n",
            "\n",
            "            3             2\n",
            "-5.547e-07 x + 0.0001681 x - 0.01371 x + 0.8133\n",
            "started at 4.475001335144043 and ended at 0.42215532064437866\n",
            "\n",
            "\n"
          ]
        }
      ]
    },
    {
      "cell_type": "code",
      "source": [
        "accuracy = evaluate(supportSet, querySet)"
      ],
      "metadata": {
        "id": "SWoqWprmGG_5",
        "colab": {
          "base_uri": "https://localhost:8080/"
        },
        "outputId": "6e92d014-677a-489b-908e-920085c4a6cd"
      },
      "execution_count": 48,
      "outputs": [
        {
          "output_type": "stream",
          "name": "stdout",
          "text": [
            "query is  0  and prediction are : [(2, 0.37289965), (0, 0.37129846), (3, 0.3701201), (2, 0.36978206), (0, 0.3694774)]\n",
            "query is  0  and prediction are : [(2, 0.37289965), (0, 0.37129846), (3, 0.37070873), (0, 0.3702268), (3, 0.3701201)]\n",
            "query is  0  and prediction are : [(2, 0.3732593), (2, 0.37289965), (3, 0.37270132), (2, 0.37178764), (3, 0.3715691)]\n",
            "query is  0  and prediction are : [(2, 0.3732593), (2, 0.37289965), (3, 0.37270132), (3, 0.37220204), (2, 0.37178764)]\n",
            "query is  0  and prediction are : [(2, 0.3732593), (2, 0.37289965), (3, 0.37270132), (3, 0.37220204), (2, 0.37178764)]\n",
            "query is  0  and prediction are : [(2, 0.3732593), (0, 0.37324944), (2, 0.37289965), (3, 0.37270132), (3, 0.37220204)]\n",
            "query is  0  and prediction are : [(2, 0.3732593), (0, 0.37324944), (2, 0.3732309), (2, 0.37289965), (3, 0.37270132)]\n",
            "query is  0  and prediction are : [(2, 0.3739445), (3, 0.37333375), (2, 0.3732593), (0, 0.37324944), (2, 0.3732309)]\n",
            "query is  0  and prediction are : [(2, 0.3739445), (3, 0.37333375), (2, 0.3732593), (0, 0.37324944), (2, 0.3732309)]\n",
            "query is  0  and prediction are : [(2, 0.3739445), (3, 0.37333375), (2, 0.3732593), (0, 0.37324944), (2, 0.3732309)]\n",
            "query is  0  and prediction are : [(2, 0.3739445), (3, 0.37333375), (2, 0.3732593), (0, 0.37324944), (2, 0.3732309)]\n",
            "query is  0  and prediction are : [(2, 0.3739445), (3, 0.37333375), (2, 0.3732593), (0, 0.37324944), (2, 0.3732309)]\n",
            "query is  0  and prediction are : [(2, 0.3739445), (3, 0.37333375), (2, 0.3732593), (0, 0.37324944), (2, 0.3732309)]\n",
            "query is  0  and prediction are : [(2, 0.3739445), (2, 0.37350205), (3, 0.37333375), (2, 0.3732593), (0, 0.37324944)]\n",
            "query is  0  and prediction are : [(2, 0.3739445), (2, 0.37350205), (3, 0.37333375), (2, 0.3732593), (0, 0.37324944)]\n",
            "query is  1  and prediction are : [(2, 0.3739445), (2, 0.37350205), (3, 0.37333375), (2, 0.3732593), (0, 0.37324944)]\n",
            "query is  1  and prediction are : [(2, 0.3739445), (2, 0.37350205), (3, 0.37333375), (2, 0.3732593), (0, 0.37324944)]\n",
            "query is  1  and prediction are : [(2, 0.3739445), (2, 0.37350205), (3, 0.37333375), (2, 0.3732593), (0, 0.37324944)]\n",
            "query is  1  and prediction are : [(2, 0.3739445), (2, 0.37350205), (3, 0.37333375), (2, 0.3732593), (0, 0.37324944)]\n",
            "query is  1  and prediction are : [(2, 0.3739445), (2, 0.37350205), (3, 0.37333375), (2, 0.3732593), (0, 0.37324944)]\n",
            "query is  1  and prediction are : [(2, 0.3739445), (2, 0.37350205), (3, 0.37333375), (2, 0.3732593), (0, 0.37324944)]\n",
            "query is  1  and prediction are : [(2, 0.3739445), (2, 0.37350205), (3, 0.37333375), (2, 0.3732593), (0, 0.37324944)]\n",
            "query is  1  and prediction are : [(2, 0.3739445), (2, 0.37350205), (3, 0.37333375), (2, 0.3732593), (0, 0.37324944)]\n",
            "query is  1  and prediction are : [(2, 0.3739445), (2, 0.37350205), (3, 0.37333375), (2, 0.3732593), (0, 0.37324944)]\n",
            "query is  1  and prediction are : [(2, 0.3739445), (2, 0.37350205), (3, 0.37333375), (2, 0.3732593), (0, 0.37324944)]\n",
            "query is  1  and prediction are : [(2, 0.3739445), (2, 0.37350205), (3, 0.37333375), (2, 0.3732593), (0, 0.37324944)]\n",
            "query is  1  and prediction are : [(2, 0.3739445), (2, 0.37350205), (3, 0.37333375), (2, 0.3732593), (0, 0.37324944)]\n",
            "query is  1  and prediction are : [(2, 0.3739445), (2, 0.37350205), (3, 0.37333375), (2, 0.3732593), (0, 0.37324944)]\n",
            "query is  1  and prediction are : [(2, 0.3739445), (2, 0.37350205), (2, 0.37339425), (3, 0.37333375), (2, 0.3732593)]\n",
            "query is  1  and prediction are : [(2, 0.3739445), (2, 0.37350205), (2, 0.37339425), (3, 0.37333375), (2, 0.3732593)]\n",
            "query is  2  and prediction are : [(2, 0.3739445), (2, 0.37350205), (2, 0.37339425), (3, 0.37333375), (0, 0.3732604)]\n",
            "query is  2  and prediction are : [(2, 0.37546703), (3, 0.37430754), (2, 0.3739445), (2, 0.37367305), (2, 0.37350205)]\n",
            "query is  2  and prediction are : [(2, 0.37546703), (2, 0.37463453), (3, 0.37430754), (2, 0.3739445), (2, 0.37367305)]\n",
            "query is  2  and prediction are : [(2, 0.37546703), (0, 0.37540555), (2, 0.37463453), (3, 0.37430754), (2, 0.3739445)]\n",
            "query is  2  and prediction are : [(2, 0.37546703), (0, 0.37540555), (2, 0.37463453), (3, 0.37430754), (2, 0.3739445)]\n",
            "query is  2  and prediction are : [(2, 0.37546703), (0, 0.37540555), (2, 0.37463453), (3, 0.37430754), (2, 0.3739445)]\n",
            "query is  2  and prediction are : [(2, 0.37546703), (0, 0.37540555), (2, 0.37463453), (3, 0.37430754), (2, 0.3739445)]\n",
            "query is  2  and prediction are : [(2, 0.37546703), (0, 0.37540555), (2, 0.37463453), (3, 0.37430754), (2, 0.3739445)]\n",
            "query is  2  and prediction are : [(2, 0.37546703), (0, 0.37540555), (2, 0.37463453), (3, 0.37430754), (2, 0.3739445)]\n",
            "query is  2  and prediction are : [(2, 0.37546703), (0, 0.37540555), (2, 0.37463453), (3, 0.37430754), (2, 0.3739445)]\n",
            "query is  2  and prediction are : [(2, 0.37546703), (0, 0.37540555), (2, 0.37501314), (2, 0.37463453), (3, 0.37430754)]\n",
            "query is  2  and prediction are : [(2, 0.37546703), (0, 0.37540555), (2, 0.37501314), (2, 0.37463453), (3, 0.37430754)]\n",
            "query is  2  and prediction are : [(2, 0.37546703), (0, 0.37540555), (2, 0.37501314), (2, 0.37463453), (3, 0.37430754)]\n",
            "query is  2  and prediction are : [(2, 0.37546703), (0, 0.37540555), (2, 0.37501314), (2, 0.37463453), (3, 0.37430754)]\n",
            "query is  2  and prediction are : [(2, 0.37546703), (0, 0.37540555), (2, 0.37501314), (2, 0.37463453), (3, 0.37430754)]\n",
            "query is  3  and prediction are : [(2, 0.37546703), (0, 0.37540555), (2, 0.37501314), (2, 0.37463453), (3, 0.37430754)]\n",
            "query is  3  and prediction are : [(2, 0.37546703), (0, 0.37540555), (2, 0.37501314), (2, 0.37463453), (3, 0.37430754)]\n",
            "query is  3  and prediction are : [(2, 0.37546703), (0, 0.37540555), (2, 0.37501314), (2, 0.37463453), (3, 0.37430754)]\n",
            "query is  3  and prediction are : [(2, 0.37546703), (0, 0.37540555), (2, 0.37501314), (2, 0.37463453), (3, 0.37430754)]\n",
            "query is  3  and prediction are : [(2, 0.37546703), (0, 0.37540555), (2, 0.37501314), (2, 0.37463453), (3, 0.37430754)]\n",
            "query is  3  and prediction are : [(2, 0.37546703), (0, 0.37540555), (2, 0.37501314), (2, 0.37463453), (3, 0.37430754)]\n",
            "query is  3  and prediction are : [(2, 0.37546703), (0, 0.37540555), (2, 0.37501314), (2, 0.37463453), (3, 0.37430754)]\n",
            "query is  3  and prediction are : [(2, 0.37546703), (0, 0.37540555), (2, 0.37501314), (2, 0.37463453), (3, 0.37430754)]\n",
            "query is  3  and prediction are : [(2, 0.37546703), (0, 0.37540555), (2, 0.37501314), (2, 0.37463453), (3, 0.37430754)]\n",
            "query is  3  and prediction are : [(2, 0.37546703), (0, 0.37540555), (2, 0.37501314), (2, 0.37463453), (3, 0.37430754)]\n",
            "query is  3  and prediction are : [(2, 0.37546703), (0, 0.37540555), (2, 0.37501314), (2, 0.37463453), (3, 0.37430754)]\n",
            "query is  3  and prediction are : [(2, 0.37748384), (2, 0.37546703), (0, 0.37540555), (2, 0.37501314), (2, 0.37463453)]\n",
            "query is  3  and prediction are : [(2, 0.37748384), (2, 0.37546703), (0, 0.37540555), (2, 0.37501314), (2, 0.37463453)]\n",
            "query is  3  and prediction are : [(2, 0.37748384), (2, 0.37546703), (0, 0.37540555), (2, 0.37501314), (2, 0.37463453)]\n",
            "query is  3  and prediction are : [(2, 0.37748384), (2, 0.37546703), (0, 0.37540555), (2, 0.37501314), (2, 0.37463453)]\n",
            "query is  4  and prediction are : [(2, 0.37748384), (2, 0.37546703), (0, 0.37540555), (2, 0.37501314), (2, 0.37463453)]\n",
            "query is  4  and prediction are : [(2, 0.37748384), (2, 0.37546703), (0, 0.37540555), (2, 0.37501314), (2, 0.37463453)]\n",
            "query is  4  and prediction are : [(2, 0.37748384), (2, 0.37546703), (0, 0.37540555), (2, 0.37501314), (2, 0.37463453)]\n",
            "query is  4  and prediction are : [(2, 0.37748384), (2, 0.37546703), (0, 0.37540555), (2, 0.37501314), (2, 0.37463453)]\n",
            "query is  4  and prediction are : [(2, 0.37748384), (2, 0.37546703), (0, 0.37540555), (2, 0.37501314), (2, 0.37463453)]\n",
            "query is  4  and prediction are : [(2, 0.37748384), (2, 0.37546703), (0, 0.37540555), (2, 0.37501314), (2, 0.37463453)]\n",
            "query is  4  and prediction are : [(2, 0.37748384), (2, 0.37546703), (0, 0.37540555), (2, 0.37501314), (2, 0.37463453)]\n",
            "query is  4  and prediction are : [(2, 0.37748384), (2, 0.37546703), (0, 0.37540555), (2, 0.37501314), (2, 0.37463453)]\n",
            "query is  4  and prediction are : [(2, 0.37748384), (2, 0.37546703), (0, 0.37540555), (2, 0.37501314), (2, 0.37463453)]\n",
            "query is  4  and prediction are : [(2, 0.37748384), (2, 0.37546703), (0, 0.37540555), (2, 0.37501314), (2, 0.37496397)]\n",
            "query is  4  and prediction are : [(2, 0.37748384), (2, 0.37546703), (0, 0.37540555), (2, 0.37501314), (2, 0.37496397)]\n",
            "query is  4  and prediction are : [(2, 0.37748384), (2, 0.37546703), (0, 0.37540555), (2, 0.37501314), (2, 0.37496397)]\n",
            "query is  4  and prediction are : [(2, 0.37748384), (2, 0.37546703), (0, 0.37540555), (2, 0.37501314), (2, 0.37496397)]\n",
            "query is  4  and prediction are : [(2, 0.37748384), (2, 0.37546703), (0, 0.37540555), (2, 0.37501314), (2, 0.37496397)]\n",
            "query is  4  and prediction are : [(2, 0.37748384), (2, 0.37546703), (0, 0.37540555), (2, 0.37501314), (2, 0.37496397)]\n",
            "\n",
            " accuracy : 0.0\n"
          ]
        }
      ]
    },
    {
      "cell_type": "code",
      "source": [
        "listOfExperiences = [\n",
        "                     [\"exp 1: \", 65, 65, 874, 241, -10, 3]\n",
        "                    ]\n",
        "getUaList(listOfExperiences, 2.776)"
      ],
      "metadata": {
        "id": "bSPXS5VJ6w1z"
      },
      "execution_count": null,
      "outputs": []
    }
  ]
}