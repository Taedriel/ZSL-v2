{
  "cells": [
    {
      "cell_type": "markdown",
      "metadata": {
        "id": "view-in-github",
        "colab_type": "text"
      },
      "source": [
        "<a href=\"https://colab.research.google.com/github/Taedriel/ZSL-v2/blob/googleImageFSL/pipeline.ipynb\" target=\"_parent\"><img src=\"https://colab.research.google.com/assets/colab-badge.svg\" alt=\"Open In Colab\"/></a>"
      ]
    },
    {
      "cell_type": "markdown",
      "source": [
        "#---INSTALL---"
      ],
      "metadata": {
        "id": "wKoOjdQKLoD5"
      }
    },
    {
      "cell_type": "code",
      "execution_count": null,
      "metadata": {
        "id": "RxCGioBVtE6f"
      },
      "outputs": [],
      "source": [
        "!yes | pip install -U --quiet selenium scikit-learn-intelex Pillow sklearn\n",
        "!cd \"./drive/MyDrive/Colab Notebooks/pipeline\" && pip install -r --quiet requirements.txt\n",
        "\n",
        "!apt install chromium-chromedriver\n",
        "!cp /usr/lib/chromium-browser/chromedriver /usr/bin\n",
        "import sys\n",
        "sys.path.insert(0,'/usr/lib/chromium-browser/chromedriver')"
      ]
    },
    {
      "cell_type": "markdown",
      "source": [
        "#--- CONSTANT DEFINITION AND IMPORT ---"
      ],
      "metadata": {
        "id": "qS4G80Rn2sMW"
      }
    },
    {
      "cell_type": "code",
      "execution_count": 14,
      "metadata": {
        "id": "xMwX0RACteAV"
      },
      "outputs": [],
      "source": [
        "import numpy as np\n",
        "import matplotlib.pyplot as plt\n",
        "import os, itertools, shutil, requests, webbrowser, urllib.request, time, random\n",
        "import PIL.Image\n",
        "from matplotlib.patches import Rectangle\n",
        "\n",
        "from math import trunc\n",
        "\n",
        "from IPython.core.display import Image\n",
        "from statistics import mean, pstdev\n",
        "from selenium import webdriver\n",
        "from bs4 import BeautifulSoup \n",
        "\n",
        "import torch\n",
        "from torch import nn, optim\n",
        "import torch.nn.functional as F\n",
        "from torchvision import transforms, utils\n",
        "from torchvision.models import resnet18, resnet50\n",
        "from sklearn.metrics import classification_report, confusion_matrix\n",
        "\n",
        "from tqdm import tqdm"
      ]
    },
    {
      "cell_type": "code",
      "execution_count": 15,
      "metadata": {
        "id": "lfOI7oJptom3"
      },
      "outputs": [],
      "source": [
        "PATH = \"/content/drive/MyDrive/Colab Notebooks/pipeline/\"\n",
        "PATH_IMAGES = \"/content/drive/MyDrive/Colab Notebooks/pipeline/images/\"\n",
        "PATH_MODEL = \"/content/drive/MyDrive/Colab Notebooks/pipeline/model/\"\n",
        "\n",
        "globalSize = 20\n",
        "LEN_FOR_ONE_SCROLL = 20\n",
        "\n",
        "N_WAY = 5\n",
        "N_SHOT = 5\n",
        "N_QUERY = 15\n",
        "\n",
        "batchSize = 125"
      ]
    },
    {
      "cell_type": "markdown",
      "metadata": {
        "id": "pxqyDjnLvkDe"
      },
      "source": [
        "#--- UTILS ---"
      ]
    },
    {
      "cell_type": "code",
      "execution_count": 19,
      "metadata": {
        "id": "VfqxDwYmjW-S"
      },
      "outputs": [],
      "source": [
        "def createListOfClasses(classesFile):\n",
        "\n",
        "  \"\"\"\n",
        "  get set of all classes to be used in the support set from Ismael's text file\n",
        "  \"\"\"\n",
        "\n",
        "  classes = []\n",
        "  index=0\n",
        "\n",
        "  for animal in classesFile.readlines():\n",
        "    animal = animal.strip(\"\\n\").replace(\" \", \"\")\n",
        "    classes.append(animal)\n",
        "\n",
        "  return classes"
      ]
    },
    {
      "cell_type": "code",
      "execution_count": 20,
      "metadata": {
        "id": "sE1BsKKFvl0G"
      },
      "outputs": [],
      "source": [
        "def getUa(mesurements, k=1):\n",
        "\n",
        "  \"\"\"\n",
        "  get mean and incertitude from a list of mesurements, the first element in the list\n",
        "  must be the title of the experiement.\n",
        "  \"\"\"\n",
        "\n",
        "  title = mesurements[0]\n",
        "  l = mesurements[1:]\n",
        "  inv_n = 1.0/(len(l)-1)\n",
        "  inv_ns = 1.0/pow(len(l), 0.5)\n",
        "  m_ = round(mean(l), 2)\n",
        "  dm2 = [pow(mi - m_, 2) for mi in l]\n",
        "  pstd = pow(inv_n*sum(dm2), 0.5)\n",
        "  u = round(k*pstd*inv_ns, 2)\n",
        "  \n",
        "  return title+str(m_) + \"% +- \" + str(u) + \" (with 95% confidence)\" if k!=1 else \"\", m_, u\n",
        "\n",
        "def getUaList(listOfExperiences, k=1):\n",
        "\n",
        "  for mesurements in listOfExperiences:\n",
        "    string, m_, u = getUa(mesurements, k)\n",
        "    print(string)"
      ]
    },
    {
      "cell_type": "code",
      "execution_count": 21,
      "metadata": {
        "id": "8WyF1u7Hr4rS"
      },
      "outputs": [],
      "source": [
        "def getOnlyImages(set_):\n",
        "  justSet = []\n",
        "  for class_ in set_:\n",
        "    for image in class_:\n",
        "      justSet.append(image[0])\n",
        "\n",
        "  return torch.stack(justSet)\n",
        "\n",
        "def plot_images(images, title, images_per_row):\n",
        "  plt.figure()\n",
        "  plt.title(title)\n",
        "  plt.imshow(utils.make_grid(images, nrow=images_per_row).permute(1, 2, 0))"
      ]
    },
    {
      "cell_type": "code",
      "execution_count": 22,
      "metadata": {
        "id": "Lg76q2xjLZmu"
      },
      "outputs": [],
      "source": [
        "def saveFile(filename, data):\n",
        "  file = open(PATH_MODEL+filename, \"w+\")\n",
        "  for d in data:\n",
        "    file.write(str(d)+\"\\n\")\n",
        "  file.close()\n",
        "\n",
        "def showRegression(rangeOfData, data, degree):\n",
        "  coef = np.polyfit(rangeOfData, data, degree)\n",
        "  poly1d_fn = np.poly1d(coef) \n",
        "  plt.plot(rangeOfData, data, '-yo', rangeOfData, poly1d_fn(rangeOfData), '--k')\n",
        "  plt.show()\n",
        "  print(\"regression polynome :\\n\")\n",
        "  print(np.poly1d(poly1d_fn))\n",
        "  print(\"started at\", data[0], \"and ended at\", data[-1])\n",
        "  print(\"\\n\")\n",
        "\n",
        "def showData(data, title, degree, saveInfo=[False, \"\"]):\n",
        "\n",
        "  path = saveInfo[1]\n",
        "  if saveInfo[0]:\n",
        "    saveFile(path, data)\n",
        "\n",
        "  numberOfIteration = range(0, len(data))\n",
        "\n",
        "  plt.plot(numberOfIteration, data)\n",
        "  plt.title(title)\n",
        "  plt.show()\n",
        "  showRegression(numberOfIteration, data, degree)"
      ]
    },
    {
      "cell_type": "code",
      "execution_count": 23,
      "metadata": {
        "id": "DPZbdieI2dCB"
      },
      "outputs": [],
      "source": [
        "def getMatrixReport(labels, predicted_labels):\n",
        "    print(\"\\n\")\n",
        "    listOfClasses = list(dict.fromkeys(labels))\n",
        "    res = classification_report(labels, predicted_labels, target_names=[\"c\"+str(i) for i in range(1, len(listOfClasses)+1)],  output_dict=True)\n",
        "    return res, res['accuracy'], confusion_matrix(labels, predicted_labels)"
      ]
    },
    {
      "cell_type": "code",
      "source": [
        "def numberInInterval(interval, range_):\n",
        "  in_ = 0\n",
        "  minX = range_[0]\n",
        "  maxX = range_[1]\n",
        "  for x in interval:\n",
        "    if x >= minX and x < maxX:\n",
        "      in_+=1\n",
        "    \n",
        "    if x == 1 and maxX == 1:\n",
        "      in_+=1\n",
        "\n",
        "  return in_\n",
        "\n",
        "def getDistributionOnPred(correctPredictions, bins):\n",
        "  NumberDist = []\n",
        "  for elem in bins:\n",
        "    NumberDist.append(100*numberInInterval(correctPredictions, elem)/len(correctPredictions))\n",
        "\n",
        "  return NumberDist\n",
        "\n",
        "def createHistogramPreds(correctPredictions, title):\n",
        "\n",
        "  bins = [(i*0.1, (i+1)*0.1) for i in range(0, 10)]\n",
        "  NumberDist = getDistributionOnPred(correctPredictions, bins)\n",
        "\n",
        "  fig, ax = plt.subplots()\n",
        "  for i, percentage in enumerate(NumberDist):\n",
        "    ax.add_patch(Rectangle((0.1*i, 0), 0.1, percentage, edgecolor='black'))\n",
        "  plt.ylim(int(max(NumberDist))+2)\n",
        "  plt.gca().invert_yaxis()\n",
        "  plt.xlabel(title)\n",
        "  plt.ylabel(\"number of predictions in %\")\n",
        "  plt.show()\n",
        "\n",
        "  return NumberDist"
      ],
      "metadata": {
        "id": "cxsiR_0hunPt"
      },
      "execution_count": 24,
      "outputs": []
    },
    {
      "cell_type": "markdown",
      "metadata": {
        "id": "jSc4ewvWt-rx"
      },
      "source": [
        "#--- IMAGE RETRIEVAL FUNCTIONS ---"
      ]
    },
    {
      "cell_type": "code",
      "execution_count": 43,
      "metadata": {
        "id": "62epbrFRtxhG"
      },
      "outputs": [],
      "source": [
        "\"\"\"\n",
        "thumbnail / jpg (compression) may be an issue\n",
        "\"\"\"\n",
        "\n",
        "def getParser(classeName):\n",
        "\n",
        "  site = 'https://www.google.com/search?tbm=isch&q='+classeName\n",
        "\n",
        "  chrome_options = webdriver.ChromeOptions()\n",
        "  chrome_options.add_argument('--headless')\n",
        "  chrome_options.add_argument('--no-sandbox')\n",
        "  chrome_options.add_argument('--disable-dev-shm-usage')\n",
        "\n",
        "  driver = webdriver.Chrome('chromedriver', options=chrome_options)\n",
        "  driver.get(site)\n",
        "  driver.execute_script(\"window.scrollBy(0, document.body.scrollHeight)\")\n",
        "  soup = BeautifulSoup(driver.page_source, 'html.parser')\n",
        "  driver.close()\n",
        "\n",
        "  return soup\n",
        "\n",
        "\n",
        "def getImages(classes):\n",
        "\n",
        "  imagesNumber = 0\n",
        "\n",
        "  shutil.rmtree(PATH_IMAGES, ignore_errors=False)\n",
        "  os.makedirs(PATH_IMAGES)\n",
        "\n",
        "  print(\"downloading images...\")\n",
        "\n",
        "  for classe in tqdm(classes):\n",
        "\n",
        "    try:\n",
        "      classeName = classe.replace(\" \", \"\")\n",
        "      os.makedirs(PATH_IMAGES+classeName)\n",
        "\n",
        "      soup = getParser(classeName)\n",
        "      img_tags = soup.find_all(\"img\", class_=\"rg_i\")\n",
        "\n",
        "      for index in range(0, len(img_tags)):\n",
        "        try:\n",
        "            urllib.request.urlretrieve(img_tags[index]['src'], PATH_IMAGES+classeName+\"/\"+str(classeName+str(index))+\".jpg\")\n",
        "            imagesNumber+=1\n",
        "        except Exception as e:\n",
        "            pass\n",
        "    except:\n",
        "      pass\n",
        "\n",
        "  return imagesNumber\n",
        "\n",
        "def getClassesImagesURLLIB(classes, download=True):\n",
        "\n",
        "  imagesNumber = 0\n",
        "\n",
        "  if download:\n",
        "    imagesNumber = getImages(classes)\n",
        "  \n",
        "  print(\"\\n\"+str(imagesNumber) + \" images were downloaded. \" + str(imagesNumber/len(classes)) + \" per classes\")"
      ]
    },
    {
      "cell_type": "code",
      "execution_count": 26,
      "metadata": {
        "colab": {
          "base_uri": "https://localhost:8080/"
        },
        "id": "I33Xnwvzt6HQ",
        "outputId": "a23273a9-37e5-4444-a600-79a9b5f3742f"
      },
      "outputs": [
        {
          "output_type": "stream",
          "name": "stdout",
          "text": [
            "classes : ['Aardvark', 'Aardwolf', 'Africanbuffalo', 'Africanelephant', 'Africanleopard', 'Albatross', 'Alligator', 'Alpaca', 'Americanrobin', 'Amphibian', 'Anaconda', 'Angelfish', 'Anglerfish', 'Ant', 'Anteater', 'Antelope', 'Antlion', 'Ape', 'Aphid']\n"
          ]
        }
      ],
      "source": [
        "classesFile = open(PATH_MODEL+\"animals.txt\")\n",
        "classes = createListOfClasses(classesFile)\n",
        "print(\"classes :\", classes)"
      ]
    },
    {
      "cell_type": "markdown",
      "metadata": {
        "id": "euAvQ-YK9UA_"
      },
      "source": [
        "#--- DATASET ---"
      ]
    },
    {
      "cell_type": "code",
      "execution_count": 3,
      "metadata": {
        "id": "Roxh7OEF-m2k"
      },
      "outputs": [],
      "source": [
        "def getNrandomClassesPaths(path, listClasses, n_way):\n",
        "\n",
        "  if n_way == len(listClasses):\n",
        "    return listClasses\n",
        "\n",
        "  paths = []\n",
        "  for i in range(0, n_way):\n",
        "    ridx = random.randint(0, len(listClasses)-1)\n",
        "    paths.append(path+listClasses[ridx]+\"/\")\n",
        "    listClasses.remove(listClasses[ridx])\n",
        "\n",
        "  return paths"
      ]
    },
    {
      "cell_type": "code",
      "source": [
        "imageResize = (224, 224)\n",
        "\n",
        "def getImageTensor(path):\n",
        "  convertCUBLike = transforms.Compose([\n",
        "                                transforms.ToTensor(),\n",
        "                                transforms.Normalize((0, 0, 0), (1, 1, 1))\n",
        "                              ])\n",
        "  convertOmni = transforms.Compose([\n",
        "                                transforms.Grayscale(num_output_channels=3),\n",
        "                                transforms.ToTensor(),\n",
        "                                transforms.Normalize((0, 0, 0), (1, 1, 1))\n",
        "                              ])\n",
        "  \n",
        "  return convertCUBLike(PIL.Image.open(path).resize(imageResize))"
      ],
      "metadata": {
        "id": "fjSOt1OWhEEb"
      },
      "execution_count": 4,
      "outputs": []
    },
    {
      "cell_type": "markdown",
      "source": [
        "##--- For cleaning ---"
      ],
      "metadata": {
        "id": "7MIjx0Vme0Vw"
      }
    },
    {
      "cell_type": "code",
      "source": [
        "# set is as follows : \n",
        "\"\"\"\n",
        "[\n",
        "  [(S1,1; Q1,1), (S1,2; Q1,2), ..., (S1,n; Q1,n)],\n",
        "  [(S2,1; Q2,1), (S2,2; Q2,2), ..., (S2,n; Q2,n)]\n",
        "   .                  .                    .\n",
        "   .                   .                   .\n",
        "   .                    .                  .\n",
        "   .                     .                 .\n",
        "   .                      .                .\n",
        "  [(Sm,1; Qm,1), (Sm,2; Qm,2), ..., (Sm,n; Qm,n)]\n",
        "]\n",
        "\n",
        "where, \n",
        "\n",
        "(Si,j; Qi,j) = ( [(I, c), (I, c), ..., (I, c), (I, c)], [(I, c)] )\n",
        "\"\"\"\n",
        "\n",
        "def getFolderTensorsForCleaning(path, label, q_index):\n",
        "\n",
        "  images = os.listdir(path)\n",
        "\n",
        "  query = (getImageTensor(path+images[q_index]), label)\n",
        "  images.remove(images[q_index])\n",
        "\n",
        "  support = []\n",
        "  for image in images:\n",
        "    support.append((getImageTensor(path+image), label))\n",
        "\n",
        "  return support, query\n",
        "\n",
        "def getSetOfCleaningSets(path, listClass):\n",
        "\n",
        "  MetaSet = []\n",
        "  ImageNameSet = []\n",
        "  for class_ in listClass:\n",
        "\n",
        "    Set_i = []\n",
        "    for q_index in range(0, len(os.listdir(path+class_+\"/\"))):\n",
        "      supportSet, querySet = getFolderTensorsForCleaning(path+class_+\"/\", 0, q_index)\n",
        "      Set_i.append((supportSet, querySet))\n",
        "    ImageNameSet.append([path+class_+\"/\"+image for image in os.listdir(path+class_+\"/\")])\n",
        "\n",
        "    MetaSet.append(Set_i)\n",
        "\n",
        "  return MetaSet, ImageNameSet"
      ],
      "metadata": {
        "id": "3t4fHP5Nezqo"
      },
      "execution_count": 5,
      "outputs": []
    },
    {
      "cell_type": "markdown",
      "source": [
        "##--- For training in FSL ---"
      ],
      "metadata": {
        "id": "XDqYfwehevli"
      }
    },
    {
      "cell_type": "code",
      "execution_count": 6,
      "metadata": {
        "id": "a1L4ibBT9Sgf"
      },
      "outputs": [],
      "source": [
        "# each set is as follows : \n",
        "\"\"\"\n",
        "[\n",
        "  [(I, c), (I, c), ..., (I, c), (I, c)],\n",
        "  [(I, c), (I, c), ..., (I, c), (I, c)],\n",
        "   .          .                    .\n",
        "   .            .                  .\n",
        "   .              .                .\n",
        "   .                .              .\n",
        "                      .            .\n",
        "  [(I, c), (I, c), ..., (I, c), (I, c)]\n",
        "]\n",
        "\"\"\"\n",
        "\n",
        "def getFolderTensorsForTraining(path, supportNumber, queryNumber, label):\n",
        "\n",
        "  images = os.listdir(path)\n",
        "  support_i, query_i = [], []\n",
        "\n",
        "  for i in range(0, supportNumber):\n",
        "    ridx = random.randint(0, len(images)-1)\n",
        "    support_i.append( (getImageTensor(path+images[ridx]), label) )\n",
        "    images.remove(images[ridx])\n",
        "  \n",
        "  for i in range(0, queryNumber):\n",
        "    ridx = random.randint(0, len(images)-1)\n",
        "    query_i.append( (getImageTensor(path+images[ridx]), label) )\n",
        "    images.remove(images[ridx])\n",
        "\n",
        "  return support_i, query_i\n",
        "\n",
        "def getSets(paths, supportNumber, queryNumber):\n",
        "\n",
        "  supportSet, querySet = [], []\n",
        "  for label, path in enumerate(paths):\n",
        "    Si, Qi = getFolderTensorsForTraining(path, supportNumber, queryNumber, label)\n",
        "    supportSet.append(Si)\n",
        "    querySet.append(Qi)\n",
        "\n",
        "  return supportSet, querySet"
      ]
    },
    {
      "cell_type": "markdown",
      "source": [
        "##--- PAIR GENERATION ---"
      ],
      "metadata": {
        "id": "MGxpPiOqhosk"
      }
    },
    {
      "cell_type": "code",
      "execution_count": 7,
      "metadata": {
        "id": "3AyEelw5FMDk"
      },
      "outputs": [],
      "source": [
        "def getPair(c1, i, c2, j, setOfImages):\n",
        "\n",
        "  I1 = setOfImages[c1][i][0]\n",
        "  I2 = setOfImages[c2][j][0]\n",
        "  s = 1.0 if c1 == c2 else 0.0\n",
        "\n",
        "  return I1, I2, s\n",
        "\n",
        "\"\"\"\n",
        "For both PP and NP\n",
        "compute cartesian product of set (without doublons).\n",
        "For PP the sets are horizontal (images of same class)\n",
        "For NP the sets are vertical (iamges of different class)\n",
        "\n",
        "possible bias because (theorically) PP = NP ?\n",
        "\"\"\"\n",
        "\n",
        "\"\"\"\n",
        "[\n",
        "  [(I, c), (I, c), ..., (I, c), (I, c)],\n",
        "  [(I, c), (I, c), ..., (I, c), (I, c)],\n",
        "   .          .                    .\n",
        "   .            .                  .\n",
        "   .              .                .\n",
        "   .                .              .\n",
        "                      .            .\n",
        "  [(I, c), (I, c), ..., (I, c), (I, c)]\n",
        "]\n",
        "\"\"\"\n",
        "\n",
        "def getPP(setOfImages):\n",
        "\n",
        "  PP = []\n",
        "  for set_ in range(0, N_WAY):\n",
        "    for offset in range(0, N_SHOT):\n",
        "      for other in range(offset, N_SHOT):\n",
        "        PP.append(getPair(set_, offset, set_, other, setOfImages))\n",
        "\n",
        "  return PP\n",
        "\n",
        "def getNP(setOfImages):\n",
        "\n",
        "  NP = []\n",
        "  for set_ in range(0, N_SHOT):\n",
        "    for offset in range(0, N_WAY):\n",
        "      for other in range(offset+1, N_WAY):\n",
        "        NP.append(getPair(offset, set_, other, set_, setOfImages))\n",
        "\n",
        "  return NP\n",
        "\n",
        "\n",
        "def generatePNPairs(setOfImages):\n",
        "\n",
        "  PP, NP = [], []\n",
        "  PP = getPP(setOfImages)\n",
        "  NP = getNP(setOfImages)\n",
        "\n",
        "  SET = PP + NP\n",
        "  random.shuffle(SET)\n",
        "  return SET"
      ]
    },
    {
      "cell_type": "code",
      "source": [
        "def getIndexes(setOfImages, nbClasses):\n",
        "\n",
        "  nbEx = len(setOfImages[0])\n",
        "  ci1, e1 = random.randint(0, nbClasses-1), random.randint(0, nbEx-1) \n",
        "  ci2, e2 = random.randint(0, nbClasses-1), random.randint(0, nbEx-1)\n",
        "\n",
        "  return ci1, ci2, e1, e2\n",
        "\n",
        "def getRandomPair(setOfImages, cleaning=False):\n",
        "\n",
        "  nbClasses = len(setOfImages)\n",
        "  ci1, ci2, e1, e2 = getIndexes(setOfImages, nbClasses)\n",
        "  I1, I2, s = 0, 0, 0\n",
        "\n",
        "  if cleaning:\n",
        "      I1, I2 = torch.stack([setOfImages[e1][0]]), torch.stack([setOfImages[e2][0]])\n",
        "      s = 1.0\n",
        "  else:\n",
        "    I1, I2 = torch.stack([setOfImages[ci1][e1][0]]), torch.stack([setOfImages[ci2][e2][0]])\n",
        "    s = 1.0 if ci1 == ci2 else 0.0\n",
        "\n",
        "  return I1, I2, s"
      ],
      "metadata": {
        "id": "OAOW4KG5hygt"
      },
      "execution_count": 8,
      "outputs": []
    },
    {
      "cell_type": "markdown",
      "metadata": {
        "id": "wvnjwBYbmLsC"
      },
      "source": [
        "#--- NETWORK ---"
      ]
    },
    {
      "cell_type": "code",
      "execution_count": null,
      "metadata": {
        "id": "tuRuYT_5pz5d"
      },
      "outputs": [],
      "source": [
        "# taken from https://github.com/fangpin/siamese-pytorch/blob/master/model.py and modified\n",
        "\n",
        "\"\"\"\n",
        "I1 --> CNN --> u\n",
        "                \\\n",
        "                  |u-v| --> NN --> x --> s(x) --> L(.,.)\n",
        "                /\n",
        "I2 --> CNN --> v\n",
        "\"\"\"\n",
        "\n",
        "cuda_ = True\n",
        "\n",
        "backbone = resnet50(pretrained=True)\n",
        "modules=list(backbone.children())[:-1]\n",
        "combination = lambda u, v: torch.abs(u-v)      \n",
        "\n",
        "def get_vector(image):\n",
        "\n",
        "  image = image.cuda() if cuda_ else image\n",
        "  return torch.flatten(backbone(image))\n",
        "\n",
        "def createCombinedVector(I1, I2):\n",
        "\n",
        "  u = get_vector(I1)\n",
        "  v = get_vector(I2)\n",
        "  return combination(u, v)\n",
        "\n",
        "class Siamese(nn.Module):\n",
        "\n",
        "  def __init__(self):\n",
        "    super(Siamese, self).__init__()\n",
        "    self.enter = 2048\n",
        "    self.hidden = 1024\n",
        "    \n",
        "    self.metric = nn.Sequential(nn.Linear(self.enter, self.hidden), nn.ReLU(),\n",
        "                                \n",
        "                                nn.Linear(self.hidden, self.hidden), nn.ReLU(),\n",
        "                                nn.Linear(self.hidden, self.hidden), nn.ReLU(),\n",
        "\n",
        "                                nn.Linear(self.hidden, 1)) \n",
        "\n",
        "  def forward(self, w):\n",
        "    out = self.metric(w)\n",
        "    out_normalized = torch.sigmoid(out)\n",
        "\n",
        "    return out_normalized\n",
        "\n",
        "\n",
        "if cuda_:\n",
        "  backbone=nn.Sequential(*modules).cuda() \n",
        "  model = Siamese().cuda()\n",
        "else:\n",
        "  backbone=nn.Sequential(*modules)\n",
        "  model = Siamese()"
      ]
    },
    {
      "cell_type": "code",
      "execution_count": null,
      "metadata": {
        "id": "DaTG-oO-2E9A"
      },
      "outputs": [],
      "source": [
        "reset = False\n",
        "\n",
        "if reset:\n",
        "  for layer in model.children():\n",
        "    if hasattr(layer, 'reset_parameters'):\n",
        "      layer.reset_parameters()"
      ]
    },
    {
      "cell_type": "code",
      "execution_count": null,
      "metadata": {
        "id": "9Z-IZaUj2F1O"
      },
      "outputs": [],
      "source": [
        "ADAM = True\n",
        "\n",
        "if ADAM:\n",
        "  optimizer = torch.optim.Adam(model.parameters(), lr=0.001)\n",
        "else:\n",
        "  torch.optim.SGD(model.parameters(), lr=0.001, momentum=0.9, weight_decay=0.5)"
      ]
    },
    {
      "cell_type": "code",
      "execution_count": 89,
      "metadata": {
        "id": "NXdE-wge27ri"
      },
      "outputs": [],
      "source": [
        "def saveModel(epoch, loss_value):\n",
        "\n",
        "  torch.save({\n",
        "  'epoch': epoch,\n",
        "  'model_state_dict': model.state_dict(),\n",
        "  'optimizer_state_dict': optimizer.state_dict(),\n",
        "  'loss': loss_value\n",
        "  }, \"/content/drive/MyDrive/Colab Notebooks/pipeline/model/SNForCleaning.pt\")"
      ]
    },
    {
      "cell_type": "code",
      "source": [
        "def loadModel(model_name):\n",
        "  checkpoint = torch.load(PATH_MODEL+model_name)\n",
        "  model.load_state_dict(checkpoint['model_state_dict'])\n",
        "  optimizer.load_state_dict(checkpoint['optimizer_state_dict'])\n",
        "  epoch_ = checkpoint['epoch']\n",
        "  loss_ = checkpoint['loss']\n",
        "\n",
        "  return epoch_, loss_"
      ],
      "metadata": {
        "id": "UWwr1r7nrsUb"
      },
      "execution_count": 88,
      "outputs": []
    },
    {
      "cell_type": "markdown",
      "metadata": {
        "id": "8L_6Ob4a24JT"
      },
      "source": [
        "#--- TRAINING FUNCTIONS ---"
      ]
    },
    {
      "cell_type": "code",
      "execution_count": 63,
      "metadata": {
        "id": "olKyBFkt3gRY"
      },
      "outputs": [],
      "source": [
        "LOSS = nn.BCELoss() # nn.MSELoss() #"
      ]
    },
    {
      "cell_type": "code",
      "execution_count": 64,
      "metadata": {
        "id": "vZZfT6rGFCTF"
      },
      "outputs": [],
      "source": [
        "def epoch(suppSet, cleaning):\n",
        "\n",
        "  lossForBatch = []\n",
        "  for i in range(0, batchSize):\n",
        "\n",
        "    I1, I2, s = getRandomPair(suppSet, cleaning)\n",
        "\n",
        "    # talk to feeham :\n",
        "    \"\"\"\n",
        "    where does your training start ? => NN.\n",
        "    but start with w creation. Does it influence ?\n",
        "    \"\"\"\n",
        "\n",
        "    I1, I2 = getImages(I1, I2)\n",
        "    w = createCombinedVector(I1, I2)\n",
        "    out = model(w)\n",
        "    s = torch.tensor([s]).cuda() if cuda_ else torch.tensor([s])\n",
        "\n",
        "    optimizer.zero_grad()\n",
        "    loss = LOSS(out, s)\n",
        "    loss.backward()\n",
        "    optimizer.step()\n",
        "    lossForBatch.append(loss.item())\n",
        "\n",
        "  return lossForBatch\n",
        "\n",
        "\n",
        "def training(supportSet, cleaning, epoch_res=0, loss_res=0, set_i=0):\n",
        "\n",
        "  numberOfEpochs = 70-epoch_res\n",
        "  valFreq = 10\n",
        "\n",
        "  losses = [loss_res] if loss_res != 0 else []\n",
        "  \n",
        "  model.train()\n",
        "  for epoch_i in tqdm(range(0, numberOfEpochs), desc=\"Traning on Set \"+str(set_i)):\n",
        "\n",
        "    batchLoss = epoch(supportSet, cleaning)\n",
        "    mean_loss = sum(batchLoss)*1.0/len(batchLoss)\n",
        "    losses.append(mean_loss)\n",
        "\n",
        "    if epoch_i % valFreq == 0 and epoch_i != 0:\n",
        "      saveModel(model, mean_loss)\n",
        "\n",
        "  torch.save(model.state_dict(), PATH_MODEL+\"SN.pt\")\n",
        "\n",
        "  return losses"
      ]
    },
    {
      "cell_type": "markdown",
      "metadata": {
        "id": "VJfJ57AP20Yy"
      },
      "source": [
        "#--- TESTING FUNCTIONS ---"
      ]
    },
    {
      "cell_type": "code",
      "execution_count": 80,
      "metadata": {
        "id": "LIqscPg-2vOT"
      },
      "outputs": [],
      "source": [
        "def getImages(image1, image2):\n",
        "\n",
        "  if image1.dim() < 4:\n",
        "    image1 = image1.unsqueeze(0)\n",
        "  \n",
        "  if image2.dim() < 4:\n",
        "    image2 = image2.unsqueeze(0)\n",
        "\n",
        "  return image1, image2"
      ]
    },
    {
      "cell_type": "code",
      "execution_count": 81,
      "metadata": {
        "id": "tzQbisEVMXtV"
      },
      "outputs": [],
      "source": [
        "def getFirstClassBasedOnRepresentation(predictions):\n",
        "\n",
        "  representation = [0]*N_WAY\n",
        "  for pred in predictions:\n",
        "    representation[pred[0]] += 1\n",
        "\n",
        "  return representation.index(max(representation))\n",
        "\n",
        "def isCorrect(predictions, queryClass):\n",
        "\n",
        "  pred_sorted = sorted(predictions, key=lambda tup: tup[-1], reverse=True)\n",
        "  first_five = pred_sorted[0:5]\n",
        "\n",
        "  predictedClassLabel = getFirstClassBasedOnRepresentation(first_five)\n",
        "  similarity = int(queryClass == predictedClassLabel)\n",
        "  predictionScore = first_five[0][1]\n",
        "\n",
        "  return similarity, predictedClassLabel, predictionScore\n",
        "\n",
        "  # first_five[0][0] # \n",
        "  #print(\"query is\", queryClass, \"and prediction is\", predictedClassLabel, \"similarity : \", similarity)\n",
        "  #print(\"query is \", queryClass, \" and prediction are :\", list(map(lambda t: (t[0], t[1].cpu().numpy()[0]), first_five)), \" similarity : \", int(queryClass == predictedClassLabel))\n",
        "\n",
        "def evaluate(supportSet, querySet):\n",
        "\n",
        "  triplets = []\n",
        "  pred_labels = []\n",
        "  query_labels = []\n",
        "  correctPreds, incorrectPreds = [], []\n",
        "  correctClass, correct = 0, 0\n",
        "  \n",
        "  model.eval()\n",
        "  with torch.no_grad():\n",
        "\n",
        "    for indexQuery, queryInfo in enumerate(list(itertools.chain(*querySet))):\n",
        "\n",
        "      torch.cuda.empty_cache()\n",
        "      query, queryClass = queryInfo\n",
        "\n",
        "      for imageInfo in list(itertools.chain(*supportSet)):\n",
        "\n",
        "        image, imageClass = imageInfo\n",
        "        query, image = getImages(query, image)\n",
        "        w = createCombinedVector(query, image)\n",
        "        p = model(w)\n",
        "        triplets.append((imageClass, p))\n",
        "      \n",
        "      areReallySimilar, imageClass, prediction = isCorrect(triplets, queryClass)\n",
        "      if areReallySimilar == 1: \n",
        "        correct+=1\n",
        "        correctPreds.append(prediction)\n",
        "      else:\n",
        "        incorrectPreds.append(prediction)\n",
        "\n",
        "      triplets = []\n",
        "      pred_labels.append(imageClass)\n",
        "      query_labels.append(queryClass)\n",
        "\n",
        "  return \"\\n accuracy :\"+str(100.0*correct/(N_WAY*N_QUERY)), pred_labels, query_labels, correctPreds, incorrectPreds"
      ]
    },
    {
      "cell_type": "code",
      "source": [
        "def queryEvaluation(supportSet, querySet):\n",
        "\n",
        "  triplets = []\n",
        "  model.eval()\n",
        "  with torch.no_grad():\n",
        "\n",
        "    query, queryClass = querySet\n",
        "    for imageInfo in list(itertools.chain(*supportSet)):\n",
        "\n",
        "      image, imageClass = imageInfo\n",
        "      query, image = getImages(query, image)\n",
        "      w = createCombinedVector(query, image)\n",
        "      p = model(w)\n",
        "      triplets.append((imageClass, p))\n",
        "    \n",
        "  pred_sorted = sorted(triplets, key=lambda tup: tup[-1], reverse=True)\n",
        "  first_five = pred_sorted[0:5]\n",
        "  predictedClassLabel = getFirstClassBasedOnRepresentation(first_five)\n",
        "\n",
        "  return predictedClassLabel"
      ],
      "metadata": {
        "id": "Wna1It9W1D7K"
      },
      "execution_count": 1,
      "outputs": []
    },
    {
      "cell_type": "markdown",
      "source": [
        "#--- CLEANING FUNCTIONS --- "
      ],
      "metadata": {
        "id": "nTYWzTFQbffv"
      }
    },
    {
      "cell_type": "code",
      "source": [
        "def isQueryOutsider(supportSet, querySet):\n",
        "  \n",
        "  preds = []\n",
        "  model.eval()\n",
        "  with torch.no_grad():\n",
        "\n",
        "    query_raw = querySet[0]\n",
        "    for image_raw, imageClass in supportSet:\n",
        "\n",
        "      query, image = getImages(query_raw, image_raw)\n",
        "      w = createCombinedVector(query, image)\n",
        "      p = model(w)\n",
        "      preds.append(p)\n",
        "\n",
        "  return 1.0*sum(preds)/len(preds)"
      ],
      "metadata": {
        "id": "hB44hZDCn5_6"
      },
      "execution_count": 49,
      "outputs": []
    },
    {
      "cell_type": "code",
      "source": [
        "def getPredictionForOneQuery(Sij, Qij, indexSet):\n",
        "\n",
        "  loadModel(\"SNForCleaning.pt\")\n",
        "  training(Sij, cleaning=True, set_i=indexSet) \n",
        "  p = isQueryOutsider(Sij, Qij)\n",
        "\n",
        "  return p\n",
        "\n",
        "def getPredictionForAllQueries(MetaSet):\n",
        "\n",
        "  listOfClassPredictions = []\n",
        "  for i, Set_i in enumerate(MetaSet):\n",
        "\n",
        "    SetPredictions = []\n",
        "    for Sij, Qij in Set_i:\n",
        "      SetPredictions.append(getPredictionForOneQuery(Sij, Qij, i))\n",
        "    \n",
        "    listOfClassPredictions.append(SetPredictions)\n",
        "    print(\"similarities for set \", i, SetPredictions)\n",
        "\n",
        "  return listOfClassPredictions"
      ],
      "metadata": {
        "id": "Oe90snbvbdkU"
      },
      "execution_count": 50,
      "outputs": []
    },
    {
      "cell_type": "code",
      "source": [
        "def mult(A, P, e):\n",
        "\n",
        "  A = list(itertools.chain(*A))\n",
        "  P = list(itertools.chain(*P))\n",
        "\n",
        "  res = []\n",
        "  for ai, pi in zip(A, P):\n",
        "    if pi < e: \n",
        "      res.append(ai)\n",
        "  \n",
        "  return res"
      ],
      "metadata": {
        "id": "pIvv8abPj6L-"
      },
      "execution_count": 51,
      "outputs": []
    },
    {
      "cell_type": "code",
      "source": [
        "def clean(ImageSet):\n",
        "  for image in ImageSet:\n",
        "    os.remove(image)"
      ],
      "metadata": {
        "id": "wGoisJXkl6iA"
      },
      "execution_count": 52,
      "outputs": []
    },
    {
      "cell_type": "markdown",
      "source": [
        "#--- PATH DEFINITION ---"
      ],
      "metadata": {
        "id": "MUKycrCJzstO"
      }
    },
    {
      "cell_type": "code",
      "source": [
        "CUB, IMAGES, OMNIGLOT = False, True, False\n",
        "PATH_DATA = \"\"\n",
        "listClass = []\n",
        "\n",
        "# a simplifier + tard quand j'aurais + qu'un path\n",
        "if CUB or IMAGES:\n",
        "  PATH_DATA = \"/content/drive/MyDrive/Colab Notebooks/pipeline/model/data/CUB/images/\" if CUB else \"/content/drive/MyDrive/Colab Notebooks/pipeline/images/\"\n",
        "  listClass = os.listdir(PATH_DATA)\n",
        "elif OMNIGLOT:\n",
        "  PATH_DATA = \"/content/drive/MyDrive/Colab Notebooks/pipeline/model/dataO/omniglot-py/images_background/\" \n",
        "  listAlphabet = os.listdir(PATH_DATA)\n",
        "  choosenAlphabet = listAlphabet[random.randint(0, len(listAlphabet)-1)]\n",
        "  listClass = [choosenAlphabet+\"/\"+char for char in os.listdir(PATH_DATA+choosenAlphabet)]"
      ],
      "metadata": {
        "id": "AhASp8KhzrZ_"
      },
      "execution_count": 33,
      "outputs": []
    },
    {
      "cell_type": "markdown",
      "source": [
        "#--- TRAIN AND TEST ---"
      ],
      "metadata": {
        "id": "cRMdBw6LhZmz"
      }
    },
    {
      "cell_type": "code",
      "execution_count": null,
      "metadata": {
        "id": "XSdaM9T2nnLF"
      },
      "outputs": [],
      "source": [
        "supportClasses = getNrandomClassesPaths(PATH_DATA, listClass, N_WAY)\n",
        "print(supportClasses)\n",
        "supportSet, querySet = getSets(supportClasses, N_SHOT, N_QUERY)"
      ]
    },
    {
      "cell_type": "code",
      "execution_count": null,
      "metadata": {
        "id": "O09nfF7nu6s7"
      },
      "outputs": [],
      "source": [
        "justSupport = getOnlyImages(supportSet)\n",
        "justQuery = getOnlyImages(querySet)\n",
        "plot_images(justSupport, title=\"support set\", images_per_row=N_SHOT)\n",
        "plot_images(justQuery, title=\"query set\", images_per_row=N_QUERY)"
      ]
    },
    {
      "cell_type": "code",
      "execution_count": null,
      "metadata": {
        "id": "hjPl1xnJdhJB"
      },
      "outputs": [],
      "source": [
        "resume = False\n",
        "epoch_, loss_ = 0, 0\n",
        "\n",
        "if resume: \n",
        "  epoch_, loss_ = loadModel(\"model_check.pt\")"
      ]
    },
    {
      "cell_type": "code",
      "execution_count": null,
      "metadata": {
        "id": "rzXzsKyIM_sQ"
      },
      "outputs": [],
      "source": [
        "trainingNeeded = True\n",
        "if trainingNeeded:\n",
        "  losses = training(supportSet, epoch_, loss_, cleaning=False)\n",
        "else:\n",
        "  model.load_state_dict(torch.load(PATH_MODEL+\"SN.pt\"))\n",
        "  print(\"model loaded\")"
      ]
    },
    {
      "cell_type": "code",
      "execution_count": null,
      "metadata": {
        "id": "ihmw9QdRTeaX"
      },
      "outputs": [],
      "source": [
        "showData(losses, \"loss during training\", 3)"
      ]
    },
    {
      "cell_type": "code",
      "execution_count": null,
      "metadata": {
        "id": "SWoqWprmGG_5"
      },
      "outputs": [],
      "source": [
        "accuracyResults, y_pred, y, correctPreds, incorrectPreds = evaluate(supportSet, querySet)\n",
        "\n",
        "_, _, confM = getMatrixReport(y, y_pred)\n",
        "print(accuracyResults)\n",
        "print(confM)"
      ]
    },
    {
      "cell_type": "markdown",
      "source": [
        "# --- STATS ---"
      ],
      "metadata": {
        "id": "Iksx_iTyMAS-"
      }
    },
    {
      "cell_type": "code",
      "execution_count": null,
      "metadata": {
        "id": "bSPXS5VJ6w1z"
      },
      "outputs": [],
      "source": [
        "listOfExperiences5 = [\n",
        "                     [\"(Adam, 1E-3), 3h1o (512, 240)..(240, 1)), Pre-done, 350x350, BCELoss, 70 epochs: \", 41, 40, 30.66, 34.66, 26.66],\n",
        "                     [\"(Adam, 1E-3), 3h1o (512, 240)..(240, 1)), Random  , 350x350, BCELoss, 70 epochs: \", 38.67, 26.67, 34.67, 38.67, 45],\n",
        "                     [\"(Adam, 1E-3), 3h1o (2048, 1024)..(1024, 1)), Random, 224x224, BCELoss, 70 epochs, normalized: \", 62.67, 50.67, 45.33, 54.67, 52],\n",
        "                     [\"(Adam, 1E-3), 3h1o (2048, 1024)..(1024, 1)), Random, 224x224, MSELoss, 70 epochs, normalized, representation, Omni \", 77.33, 77.33, 78.67, 77.33],\n",
        "                     [\"(Adam, 1E-3), 3h1o (2048, 1024)..(1024, 1)), Random, 224x224, MSELoss, 70 epochs, normalized, representation, Omni with reset \", 94.67, 86.67, 72],\n",
        "                     [\"(Adam, 1E-3), 3h1o (4096, 2048)..(2048, 1)) [use cat], Random, 224x224, BCELoss, 70 epochs, normalized, representation\", 0, 0, 0, 0, 0]\n",
        "\n",
        "                    ]\n",
        "listOfExperiences6 = [\n",
        "                      [\"(Adam, 1E-3), 3h1o (2048, 1024)..(1024, 1)), Random, 224x224, BCELoss, 70 epochs, normalized, representation: \", 60, 53.33, 72, 46.67, 53.33, 42.67],\n",
        "                      [\"(Adam, 1E-3), 3h1o (2048, 1024)..(1024, 1)), Random, 224x224, BCELoss, 70 epochs, normalized, representation, Omni: \", 84, 74.67, 92, 77.33, 76, 68]\n",
        "                      ]\n",
        "\n",
        "listOfExperiences7 = [\n",
        "                      [\"(Adam, 1E-3), 3h1o (2048, 1024)..(1024, 1)), Random, 350x350, BCELoss, 70 epochs: \", 48, 46.67, 48, 41.33, 49, 42, 40]\n",
        "                      ]\n",
        "\n",
        "TotalList = [listOfExperiences5,\n",
        "             listOfExperiences6, \n",
        "             listOfExperiences7\n",
        "            ]"
      ]
    },
    {
      "cell_type": "code",
      "source": [
        "createHistogramPreds(correctPreds, \"prediction's score (correct)\")\n",
        "createHistogramPreds(incorrectPreds, \"prediction's score (incorrect)\")\n",
        "createHistogramPreds(correctPreds+incorrectPreds, \"total perdictions\")"
      ],
      "metadata": {
        "id": "SjHxmiZ-MFON"
      },
      "execution_count": null,
      "outputs": []
    },
    {
      "cell_type": "code",
      "execution_count": null,
      "metadata": {
        "id": "3KRmXET5eMbz"
      },
      "outputs": [],
      "source": [
        "getUaList(listOfExperiences5, 2.776)\n",
        "getUaList(listOfExperiences6, 1.945)\n",
        "getUaList(listOfExperiences7, 1.895)"
      ]
    },
    {
      "cell_type": "code",
      "execution_count": null,
      "metadata": {
        "id": "dKwiVNJYePf2"
      },
      "outputs": [],
      "source": [
        "for listExp in TotalList:\n",
        "  for x in listExp:\n",
        "    plt.hist(x[1:])\n",
        "    plt.title(x[0])\n",
        "    plt.show()"
      ]
    },
    {
      "cell_type": "markdown",
      "metadata": {
        "id": "mkTapSlw3fBO"
      },
      "source": [
        "#--- ACTUAL PIPELINE ---"
      ]
    },
    {
      "cell_type": "markdown",
      "source": [
        "##--- IMAGE RETRIEVAL ---"
      ],
      "metadata": {
        "id": "3aBMGkiXxyG9"
      }
    },
    {
      "cell_type": "code",
      "source": [
        "classesFile = open(PATH_MODEL+\"animals.txt\")\n",
        "classes = createListOfClasses(classesFile)\n",
        "print(\"classes :\", classes)\n",
        "\n",
        "retreivalNotDone = True\n",
        "if retreivalNotDone:\n",
        "  getClassesImagesURLLIB(classes, retreivalNotDone)"
      ],
      "metadata": {
        "colab": {
          "base_uri": "https://localhost:8080/"
        },
        "id": "yMpsq_kJx1Tk",
        "outputId": "524ec10d-304f-4d92-c243-020ec4650fa9"
      },
      "execution_count": 44,
      "outputs": [
        {
          "output_type": "stream",
          "name": "stdout",
          "text": [
            "classes : ['Aardvark', 'Aardwolf', 'Africanbuffalo', 'Africanelephant', 'Africanleopard', 'Albatross', 'Alligator', 'Alpaca', 'Americanrobin', 'Amphibian', 'Anaconda', 'Angelfish', 'Anglerfish', 'Ant', 'Anteater', 'Antelope', 'Antlion', 'Ape', 'Aphid']\n",
            "downloading images...\n"
          ]
        },
        {
          "output_type": "stream",
          "name": "stderr",
          "text": [
            "100%|██████████| 19/19 [00:57<00:00,  3.02s/it]"
          ]
        },
        {
          "output_type": "stream",
          "name": "stdout",
          "text": [
            "\n",
            "378 images were downloaded. 19.894736842105264 per classes\n"
          ]
        },
        {
          "output_type": "stream",
          "name": "stderr",
          "text": [
            "\n"
          ]
        }
      ]
    },
    {
      "cell_type": "markdown",
      "source": [
        "##--- CLEANING ---"
      ],
      "metadata": {
        "id": "J1WaWYWzhVaF"
      }
    },
    {
      "cell_type": "code",
      "source": [
        "MetaSet, ImageNameSet = getSetOfCleaningSets(PATH_DATA, classes)"
      ],
      "metadata": {
        "id": "5RzjxlO0hZTG"
      },
      "execution_count": 45,
      "outputs": []
    },
    {
      "cell_type": "code",
      "source": [
        "listOfPreds = getPredictionForAllQueries(MetaSet)\n",
        "#listOfPreds = [[random.random() for i in range(0, 20)] for j in range(0, len(classes))]"
      ],
      "metadata": {
        "id": "WBdRNviY0e2i"
      },
      "execution_count": 47,
      "outputs": []
    },
    {
      "cell_type": "code",
      "source": [
        "ImageToRemove = mult(ImageNameSet, listOfPreds, 0.6)\n",
        "print(ImageToRemove)"
      ],
      "metadata": {
        "colab": {
          "base_uri": "https://localhost:8080/"
        },
        "id": "tdnlQ0tH_W3x",
        "outputId": "cb91bcd6-47f7-47d6-ccce-4450894eda6a"
      },
      "execution_count": 53,
      "outputs": [
        {
          "output_type": "stream",
          "name": "stdout",
          "text": [
            "['/content/drive/MyDrive/Colab Notebooks/pipeline/images/Aardvark/Aardvark1.jpg', '/content/drive/MyDrive/Colab Notebooks/pipeline/images/Aardvark/Aardvark4.jpg', '/content/drive/MyDrive/Colab Notebooks/pipeline/images/Aardvark/Aardvark5.jpg', '/content/drive/MyDrive/Colab Notebooks/pipeline/images/Aardvark/Aardvark6.jpg', '/content/drive/MyDrive/Colab Notebooks/pipeline/images/Aardvark/Aardvark7.jpg', '/content/drive/MyDrive/Colab Notebooks/pipeline/images/Aardvark/Aardvark9.jpg', '/content/drive/MyDrive/Colab Notebooks/pipeline/images/Aardvark/Aardvark11.jpg', '/content/drive/MyDrive/Colab Notebooks/pipeline/images/Aardvark/Aardvark12.jpg', '/content/drive/MyDrive/Colab Notebooks/pipeline/images/Aardvark/Aardvark14.jpg', '/content/drive/MyDrive/Colab Notebooks/pipeline/images/Aardvark/Aardvark15.jpg', '/content/drive/MyDrive/Colab Notebooks/pipeline/images/Aardvark/Aardvark16.jpg', '/content/drive/MyDrive/Colab Notebooks/pipeline/images/Aardvark/Aardvark19.jpg', '/content/drive/MyDrive/Colab Notebooks/pipeline/images/Aardwolf/Aardwolf0.jpg', '/content/drive/MyDrive/Colab Notebooks/pipeline/images/Aardwolf/Aardwolf1.jpg', '/content/drive/MyDrive/Colab Notebooks/pipeline/images/Aardwolf/Aardwolf2.jpg', '/content/drive/MyDrive/Colab Notebooks/pipeline/images/Aardwolf/Aardwolf3.jpg', '/content/drive/MyDrive/Colab Notebooks/pipeline/images/Aardwolf/Aardwolf6.jpg', '/content/drive/MyDrive/Colab Notebooks/pipeline/images/Aardwolf/Aardwolf8.jpg', '/content/drive/MyDrive/Colab Notebooks/pipeline/images/Aardwolf/Aardwolf9.jpg', '/content/drive/MyDrive/Colab Notebooks/pipeline/images/Aardwolf/Aardwolf10.jpg', '/content/drive/MyDrive/Colab Notebooks/pipeline/images/Aardwolf/Aardwolf11.jpg', '/content/drive/MyDrive/Colab Notebooks/pipeline/images/Aardwolf/Aardwolf13.jpg', '/content/drive/MyDrive/Colab Notebooks/pipeline/images/Aardwolf/Aardwolf19.jpg', '/content/drive/MyDrive/Colab Notebooks/pipeline/images/Africanbuffalo/Africanbuffalo0.jpg', '/content/drive/MyDrive/Colab Notebooks/pipeline/images/Africanbuffalo/Africanbuffalo1.jpg', '/content/drive/MyDrive/Colab Notebooks/pipeline/images/Africanbuffalo/Africanbuffalo2.jpg', '/content/drive/MyDrive/Colab Notebooks/pipeline/images/Africanbuffalo/Africanbuffalo3.jpg', '/content/drive/MyDrive/Colab Notebooks/pipeline/images/Africanbuffalo/Africanbuffalo4.jpg', '/content/drive/MyDrive/Colab Notebooks/pipeline/images/Africanbuffalo/Africanbuffalo6.jpg', '/content/drive/MyDrive/Colab Notebooks/pipeline/images/Africanbuffalo/Africanbuffalo7.jpg', '/content/drive/MyDrive/Colab Notebooks/pipeline/images/Africanbuffalo/Africanbuffalo8.jpg', '/content/drive/MyDrive/Colab Notebooks/pipeline/images/Africanbuffalo/Africanbuffalo10.jpg', '/content/drive/MyDrive/Colab Notebooks/pipeline/images/Africanbuffalo/Africanbuffalo11.jpg', '/content/drive/MyDrive/Colab Notebooks/pipeline/images/Africanbuffalo/Africanbuffalo13.jpg', '/content/drive/MyDrive/Colab Notebooks/pipeline/images/Africanbuffalo/Africanbuffalo14.jpg', '/content/drive/MyDrive/Colab Notebooks/pipeline/images/Africanbuffalo/Africanbuffalo16.jpg', '/content/drive/MyDrive/Colab Notebooks/pipeline/images/Africanbuffalo/Africanbuffalo19.jpg', '/content/drive/MyDrive/Colab Notebooks/pipeline/images/Africanelephant/Africanelephant0.jpg', '/content/drive/MyDrive/Colab Notebooks/pipeline/images/Africanelephant/Africanelephant1.jpg', '/content/drive/MyDrive/Colab Notebooks/pipeline/images/Africanelephant/Africanelephant5.jpg', '/content/drive/MyDrive/Colab Notebooks/pipeline/images/Africanelephant/Africanelephant6.jpg', '/content/drive/MyDrive/Colab Notebooks/pipeline/images/Africanelephant/Africanelephant10.jpg', '/content/drive/MyDrive/Colab Notebooks/pipeline/images/Africanelephant/Africanelephant11.jpg', '/content/drive/MyDrive/Colab Notebooks/pipeline/images/Africanelephant/Africanelephant13.jpg', '/content/drive/MyDrive/Colab Notebooks/pipeline/images/Africanelephant/Africanelephant15.jpg', '/content/drive/MyDrive/Colab Notebooks/pipeline/images/Africanelephant/Africanelephant16.jpg', '/content/drive/MyDrive/Colab Notebooks/pipeline/images/Africanelephant/Africanelephant17.jpg', '/content/drive/MyDrive/Colab Notebooks/pipeline/images/Africanelephant/Africanelephant18.jpg', '/content/drive/MyDrive/Colab Notebooks/pipeline/images/Africanleopard/Africanleopard1.jpg', '/content/drive/MyDrive/Colab Notebooks/pipeline/images/Africanleopard/Africanleopard2.jpg', '/content/drive/MyDrive/Colab Notebooks/pipeline/images/Africanleopard/Africanleopard3.jpg', '/content/drive/MyDrive/Colab Notebooks/pipeline/images/Africanleopard/Africanleopard5.jpg', '/content/drive/MyDrive/Colab Notebooks/pipeline/images/Africanleopard/Africanleopard9.jpg', '/content/drive/MyDrive/Colab Notebooks/pipeline/images/Africanleopard/Africanleopard10.jpg', '/content/drive/MyDrive/Colab Notebooks/pipeline/images/Africanleopard/Africanleopard11.jpg', '/content/drive/MyDrive/Colab Notebooks/pipeline/images/Africanleopard/Africanleopard13.jpg', '/content/drive/MyDrive/Colab Notebooks/pipeline/images/Africanleopard/Africanleopard14.jpg', '/content/drive/MyDrive/Colab Notebooks/pipeline/images/Africanleopard/Africanleopard16.jpg', '/content/drive/MyDrive/Colab Notebooks/pipeline/images/Africanleopard/Africanleopard18.jpg', '/content/drive/MyDrive/Colab Notebooks/pipeline/images/Albatross/Albatross0.jpg', '/content/drive/MyDrive/Colab Notebooks/pipeline/images/Albatross/Albatross1.jpg', '/content/drive/MyDrive/Colab Notebooks/pipeline/images/Albatross/Albatross2.jpg', '/content/drive/MyDrive/Colab Notebooks/pipeline/images/Albatross/Albatross3.jpg', '/content/drive/MyDrive/Colab Notebooks/pipeline/images/Albatross/Albatross4.jpg', '/content/drive/MyDrive/Colab Notebooks/pipeline/images/Albatross/Albatross8.jpg', '/content/drive/MyDrive/Colab Notebooks/pipeline/images/Albatross/Albatross10.jpg', '/content/drive/MyDrive/Colab Notebooks/pipeline/images/Albatross/Albatross11.jpg', '/content/drive/MyDrive/Colab Notebooks/pipeline/images/Albatross/Albatross13.jpg', '/content/drive/MyDrive/Colab Notebooks/pipeline/images/Albatross/Albatross16.jpg', '/content/drive/MyDrive/Colab Notebooks/pipeline/images/Albatross/Albatross17.jpg', '/content/drive/MyDrive/Colab Notebooks/pipeline/images/Albatross/Albatross18.jpg', '/content/drive/MyDrive/Colab Notebooks/pipeline/images/Alligator/Alligator0.jpg', '/content/drive/MyDrive/Colab Notebooks/pipeline/images/Alligator/Alligator1.jpg', '/content/drive/MyDrive/Colab Notebooks/pipeline/images/Alligator/Alligator2.jpg', '/content/drive/MyDrive/Colab Notebooks/pipeline/images/Alligator/Alligator3.jpg', '/content/drive/MyDrive/Colab Notebooks/pipeline/images/Alligator/Alligator5.jpg', '/content/drive/MyDrive/Colab Notebooks/pipeline/images/Alligator/Alligator6.jpg', '/content/drive/MyDrive/Colab Notebooks/pipeline/images/Alligator/Alligator7.jpg', '/content/drive/MyDrive/Colab Notebooks/pipeline/images/Alligator/Alligator12.jpg', '/content/drive/MyDrive/Colab Notebooks/pipeline/images/Alligator/Alligator13.jpg', '/content/drive/MyDrive/Colab Notebooks/pipeline/images/Alligator/Alligator19.jpg', '/content/drive/MyDrive/Colab Notebooks/pipeline/images/Alpaca/Alpaca0.jpg', '/content/drive/MyDrive/Colab Notebooks/pipeline/images/Alpaca/Alpaca1.jpg', '/content/drive/MyDrive/Colab Notebooks/pipeline/images/Alpaca/Alpaca2.jpg', '/content/drive/MyDrive/Colab Notebooks/pipeline/images/Alpaca/Alpaca4.jpg', '/content/drive/MyDrive/Colab Notebooks/pipeline/images/Alpaca/Alpaca5.jpg', '/content/drive/MyDrive/Colab Notebooks/pipeline/images/Alpaca/Alpaca6.jpg', '/content/drive/MyDrive/Colab Notebooks/pipeline/images/Alpaca/Alpaca8.jpg', '/content/drive/MyDrive/Colab Notebooks/pipeline/images/Alpaca/Alpaca9.jpg', '/content/drive/MyDrive/Colab Notebooks/pipeline/images/Alpaca/Alpaca12.jpg', '/content/drive/MyDrive/Colab Notebooks/pipeline/images/Alpaca/Alpaca14.jpg', '/content/drive/MyDrive/Colab Notebooks/pipeline/images/Alpaca/Alpaca15.jpg', '/content/drive/MyDrive/Colab Notebooks/pipeline/images/Alpaca/Alpaca16.jpg', '/content/drive/MyDrive/Colab Notebooks/pipeline/images/Alpaca/Alpaca17.jpg', '/content/drive/MyDrive/Colab Notebooks/pipeline/images/Alpaca/Alpaca18.jpg', '/content/drive/MyDrive/Colab Notebooks/pipeline/images/Americanrobin/Americanrobin2.jpg', '/content/drive/MyDrive/Colab Notebooks/pipeline/images/Americanrobin/Americanrobin3.jpg', '/content/drive/MyDrive/Colab Notebooks/pipeline/images/Americanrobin/Americanrobin5.jpg', '/content/drive/MyDrive/Colab Notebooks/pipeline/images/Americanrobin/Americanrobin6.jpg', '/content/drive/MyDrive/Colab Notebooks/pipeline/images/Americanrobin/Americanrobin9.jpg', '/content/drive/MyDrive/Colab Notebooks/pipeline/images/Americanrobin/Americanrobin10.jpg', '/content/drive/MyDrive/Colab Notebooks/pipeline/images/Americanrobin/Americanrobin11.jpg', '/content/drive/MyDrive/Colab Notebooks/pipeline/images/Americanrobin/Americanrobin12.jpg', '/content/drive/MyDrive/Colab Notebooks/pipeline/images/Americanrobin/Americanrobin15.jpg', '/content/drive/MyDrive/Colab Notebooks/pipeline/images/Americanrobin/Americanrobin16.jpg', '/content/drive/MyDrive/Colab Notebooks/pipeline/images/Americanrobin/Americanrobin17.jpg', '/content/drive/MyDrive/Colab Notebooks/pipeline/images/Americanrobin/Americanrobin18.jpg', '/content/drive/MyDrive/Colab Notebooks/pipeline/images/Amphibian/Amphibian0.jpg', '/content/drive/MyDrive/Colab Notebooks/pipeline/images/Amphibian/Amphibian1.jpg', '/content/drive/MyDrive/Colab Notebooks/pipeline/images/Amphibian/Amphibian2.jpg', '/content/drive/MyDrive/Colab Notebooks/pipeline/images/Amphibian/Amphibian3.jpg', '/content/drive/MyDrive/Colab Notebooks/pipeline/images/Amphibian/Amphibian7.jpg', '/content/drive/MyDrive/Colab Notebooks/pipeline/images/Amphibian/Amphibian9.jpg', '/content/drive/MyDrive/Colab Notebooks/pipeline/images/Amphibian/Amphibian11.jpg', '/content/drive/MyDrive/Colab Notebooks/pipeline/images/Amphibian/Amphibian13.jpg', '/content/drive/MyDrive/Colab Notebooks/pipeline/images/Amphibian/Amphibian14.jpg', '/content/drive/MyDrive/Colab Notebooks/pipeline/images/Amphibian/Amphibian15.jpg', '/content/drive/MyDrive/Colab Notebooks/pipeline/images/Amphibian/Amphibian17.jpg', '/content/drive/MyDrive/Colab Notebooks/pipeline/images/Amphibian/Amphibian18.jpg', '/content/drive/MyDrive/Colab Notebooks/pipeline/images/Anaconda/Anaconda0.jpg', '/content/drive/MyDrive/Colab Notebooks/pipeline/images/Anaconda/Anaconda1.jpg', '/content/drive/MyDrive/Colab Notebooks/pipeline/images/Anaconda/Anaconda3.jpg', '/content/drive/MyDrive/Colab Notebooks/pipeline/images/Anaconda/Anaconda4.jpg', '/content/drive/MyDrive/Colab Notebooks/pipeline/images/Anaconda/Anaconda5.jpg', '/content/drive/MyDrive/Colab Notebooks/pipeline/images/Anaconda/Anaconda6.jpg', '/content/drive/MyDrive/Colab Notebooks/pipeline/images/Anaconda/Anaconda7.jpg', '/content/drive/MyDrive/Colab Notebooks/pipeline/images/Anaconda/Anaconda8.jpg', '/content/drive/MyDrive/Colab Notebooks/pipeline/images/Anaconda/Anaconda9.jpg', '/content/drive/MyDrive/Colab Notebooks/pipeline/images/Anaconda/Anaconda10.jpg', '/content/drive/MyDrive/Colab Notebooks/pipeline/images/Anaconda/Anaconda11.jpg', '/content/drive/MyDrive/Colab Notebooks/pipeline/images/Anaconda/Anaconda14.jpg', '/content/drive/MyDrive/Colab Notebooks/pipeline/images/Anaconda/Anaconda17.jpg', '/content/drive/MyDrive/Colab Notebooks/pipeline/images/Anaconda/Anaconda18.jpg', '/content/drive/MyDrive/Colab Notebooks/pipeline/images/Anaconda/Anaconda19.jpg', '/content/drive/MyDrive/Colab Notebooks/pipeline/images/Angelfish/Angelfish3.jpg', '/content/drive/MyDrive/Colab Notebooks/pipeline/images/Angelfish/Angelfish6.jpg', '/content/drive/MyDrive/Colab Notebooks/pipeline/images/Angelfish/Angelfish7.jpg', '/content/drive/MyDrive/Colab Notebooks/pipeline/images/Angelfish/Angelfish9.jpg', '/content/drive/MyDrive/Colab Notebooks/pipeline/images/Angelfish/Angelfish11.jpg', '/content/drive/MyDrive/Colab Notebooks/pipeline/images/Angelfish/Angelfish12.jpg', '/content/drive/MyDrive/Colab Notebooks/pipeline/images/Angelfish/Angelfish15.jpg', '/content/drive/MyDrive/Colab Notebooks/pipeline/images/Angelfish/Angelfish17.jpg', '/content/drive/MyDrive/Colab Notebooks/pipeline/images/Anglerfish/Anglerfish1.jpg', '/content/drive/MyDrive/Colab Notebooks/pipeline/images/Anglerfish/Anglerfish2.jpg', '/content/drive/MyDrive/Colab Notebooks/pipeline/images/Anglerfish/Anglerfish3.jpg', '/content/drive/MyDrive/Colab Notebooks/pipeline/images/Anglerfish/Anglerfish4.jpg', '/content/drive/MyDrive/Colab Notebooks/pipeline/images/Anglerfish/Anglerfish5.jpg', '/content/drive/MyDrive/Colab Notebooks/pipeline/images/Anglerfish/Anglerfish10.jpg', '/content/drive/MyDrive/Colab Notebooks/pipeline/images/Anglerfish/Anglerfish11.jpg', '/content/drive/MyDrive/Colab Notebooks/pipeline/images/Anglerfish/Anglerfish18.jpg', '/content/drive/MyDrive/Colab Notebooks/pipeline/images/Anglerfish/Anglerfish19.jpg', '/content/drive/MyDrive/Colab Notebooks/pipeline/images/Ant/Ant2.jpg', '/content/drive/MyDrive/Colab Notebooks/pipeline/images/Ant/Ant3.jpg', '/content/drive/MyDrive/Colab Notebooks/pipeline/images/Ant/Ant4.jpg', '/content/drive/MyDrive/Colab Notebooks/pipeline/images/Ant/Ant5.jpg', '/content/drive/MyDrive/Colab Notebooks/pipeline/images/Ant/Ant7.jpg', '/content/drive/MyDrive/Colab Notebooks/pipeline/images/Ant/Ant10.jpg', '/content/drive/MyDrive/Colab Notebooks/pipeline/images/Ant/Ant12.jpg', '/content/drive/MyDrive/Colab Notebooks/pipeline/images/Ant/Ant13.jpg', '/content/drive/MyDrive/Colab Notebooks/pipeline/images/Ant/Ant14.jpg', '/content/drive/MyDrive/Colab Notebooks/pipeline/images/Ant/Ant16.jpg', '/content/drive/MyDrive/Colab Notebooks/pipeline/images/Ant/Ant17.jpg', '/content/drive/MyDrive/Colab Notebooks/pipeline/images/Anteater/Anteater0.jpg', '/content/drive/MyDrive/Colab Notebooks/pipeline/images/Anteater/Anteater2.jpg', '/content/drive/MyDrive/Colab Notebooks/pipeline/images/Anteater/Anteater3.jpg', '/content/drive/MyDrive/Colab Notebooks/pipeline/images/Anteater/Anteater4.jpg', '/content/drive/MyDrive/Colab Notebooks/pipeline/images/Anteater/Anteater5.jpg', '/content/drive/MyDrive/Colab Notebooks/pipeline/images/Anteater/Anteater7.jpg', '/content/drive/MyDrive/Colab Notebooks/pipeline/images/Anteater/Anteater9.jpg', '/content/drive/MyDrive/Colab Notebooks/pipeline/images/Anteater/Anteater10.jpg', '/content/drive/MyDrive/Colab Notebooks/pipeline/images/Anteater/Anteater11.jpg', '/content/drive/MyDrive/Colab Notebooks/pipeline/images/Anteater/Anteater12.jpg', '/content/drive/MyDrive/Colab Notebooks/pipeline/images/Anteater/Anteater16.jpg', '/content/drive/MyDrive/Colab Notebooks/pipeline/images/Anteater/Anteater17.jpg', '/content/drive/MyDrive/Colab Notebooks/pipeline/images/Anteater/Anteater19.jpg', '/content/drive/MyDrive/Colab Notebooks/pipeline/images/Antelope/Antelope2.jpg', '/content/drive/MyDrive/Colab Notebooks/pipeline/images/Antelope/Antelope3.jpg', '/content/drive/MyDrive/Colab Notebooks/pipeline/images/Antelope/Antelope5.jpg', '/content/drive/MyDrive/Colab Notebooks/pipeline/images/Antelope/Antelope8.jpg', '/content/drive/MyDrive/Colab Notebooks/pipeline/images/Antelope/Antelope9.jpg', '/content/drive/MyDrive/Colab Notebooks/pipeline/images/Antelope/Antelope10.jpg', '/content/drive/MyDrive/Colab Notebooks/pipeline/images/Antelope/Antelope12.jpg', '/content/drive/MyDrive/Colab Notebooks/pipeline/images/Antelope/Antelope13.jpg', '/content/drive/MyDrive/Colab Notebooks/pipeline/images/Antelope/Antelope15.jpg', '/content/drive/MyDrive/Colab Notebooks/pipeline/images/Antelope/Antelope17.jpg', '/content/drive/MyDrive/Colab Notebooks/pipeline/images/Antelope/Antelope19.jpg', '/content/drive/MyDrive/Colab Notebooks/pipeline/images/Antlion/Antlion0.jpg', '/content/drive/MyDrive/Colab Notebooks/pipeline/images/Antlion/Antlion1.jpg', '/content/drive/MyDrive/Colab Notebooks/pipeline/images/Antlion/Antlion3.jpg', '/content/drive/MyDrive/Colab Notebooks/pipeline/images/Antlion/Antlion4.jpg', '/content/drive/MyDrive/Colab Notebooks/pipeline/images/Antlion/Antlion6.jpg', '/content/drive/MyDrive/Colab Notebooks/pipeline/images/Antlion/Antlion8.jpg', '/content/drive/MyDrive/Colab Notebooks/pipeline/images/Antlion/Antlion9.jpg', '/content/drive/MyDrive/Colab Notebooks/pipeline/images/Antlion/Antlion10.jpg', '/content/drive/MyDrive/Colab Notebooks/pipeline/images/Antlion/Antlion12.jpg', '/content/drive/MyDrive/Colab Notebooks/pipeline/images/Antlion/Antlion14.jpg', '/content/drive/MyDrive/Colab Notebooks/pipeline/images/Antlion/Antlion16.jpg', '/content/drive/MyDrive/Colab Notebooks/pipeline/images/Antlion/Antlion19.jpg', '/content/drive/MyDrive/Colab Notebooks/pipeline/images/Ape/Ape0.jpg', '/content/drive/MyDrive/Colab Notebooks/pipeline/images/Ape/Ape1.jpg', '/content/drive/MyDrive/Colab Notebooks/pipeline/images/Ape/Ape2.jpg', '/content/drive/MyDrive/Colab Notebooks/pipeline/images/Ape/Ape5.jpg', '/content/drive/MyDrive/Colab Notebooks/pipeline/images/Ape/Ape6.jpg', '/content/drive/MyDrive/Colab Notebooks/pipeline/images/Ape/Ape9.jpg', '/content/drive/MyDrive/Colab Notebooks/pipeline/images/Ape/Ape10.jpg', '/content/drive/MyDrive/Colab Notebooks/pipeline/images/Ape/Ape12.jpg', '/content/drive/MyDrive/Colab Notebooks/pipeline/images/Ape/Ape14.jpg', '/content/drive/MyDrive/Colab Notebooks/pipeline/images/Ape/Ape15.jpg', '/content/drive/MyDrive/Colab Notebooks/pipeline/images/Ape/Ape16.jpg', '/content/drive/MyDrive/Colab Notebooks/pipeline/images/Ape/Ape17.jpg', '/content/drive/MyDrive/Colab Notebooks/pipeline/images/Ape/Ape18.jpg', '/content/drive/MyDrive/Colab Notebooks/pipeline/images/Aphid/Aphid1.jpg', '/content/drive/MyDrive/Colab Notebooks/pipeline/images/Aphid/Aphid2.jpg', '/content/drive/MyDrive/Colab Notebooks/pipeline/images/Aphid/Aphid3.jpg', '/content/drive/MyDrive/Colab Notebooks/pipeline/images/Aphid/Aphid5.jpg', '/content/drive/MyDrive/Colab Notebooks/pipeline/images/Aphid/Aphid6.jpg', '/content/drive/MyDrive/Colab Notebooks/pipeline/images/Aphid/Aphid7.jpg', '/content/drive/MyDrive/Colab Notebooks/pipeline/images/Aphid/Aphid9.jpg', '/content/drive/MyDrive/Colab Notebooks/pipeline/images/Aphid/Aphid10.jpg', '/content/drive/MyDrive/Colab Notebooks/pipeline/images/Aphid/Aphid15.jpg', '/content/drive/MyDrive/Colab Notebooks/pipeline/images/Aphid/Aphid16.jpg', '/content/drive/MyDrive/Colab Notebooks/pipeline/images/Aphid/Aphid17.jpg', '/content/drive/MyDrive/Colab Notebooks/pipeline/images/Aphid/Aphid18.jpg', '/content/drive/MyDrive/Colab Notebooks/pipeline/images/Aphid/Aphid19.jpg']\n"
          ]
        }
      ]
    },
    {
      "cell_type": "code",
      "source": [
        "clean(ImageToRemove)"
      ],
      "metadata": {
        "id": "a7WEkCiBxLvs"
      },
      "execution_count": 54,
      "outputs": []
    },
    {
      "cell_type": "markdown",
      "source": [
        "##--- TRAINING ---"
      ],
      "metadata": {
        "id": "tuLtcZan3iP4"
      }
    },
    {
      "cell_type": "code",
      "source": [
        "supportClasses = [PATH_DATA+class_+\"/\" for class_ in classes]\n",
        "supportSet, _ = getSets(supportClasses, 5, 0) # to modifiy to min(len), the crucial problem is here"
      ],
      "metadata": {
        "id": "CbkgApgP3hra"
      },
      "execution_count": 60,
      "outputs": []
    },
    {
      "cell_type": "code",
      "source": [
        "justSupport = getOnlyImages(supportSet)\n",
        "plot_images(justSupport, title=\"support set\", images_per_row=N_SHOT)"
      ],
      "metadata": {
        "colab": {
          "base_uri": "https://localhost:8080/",
          "height": 281
        },
        "id": "Ai2uzGoV3cki",
        "outputId": "07ad0502-2115-494a-d8c7-deffd5865e15"
      },
      "execution_count": 61,
      "outputs": [
        {
          "output_type": "display_data",
          "data": {
            "text/plain": [
              "<Figure size 432x288 with 1 Axes>"
            ],
            "image/png": "[encoded data removed]"
          },
          "metadata": {
            "needs_background": "light"
          }
        }
      ]
    },
    {
      "cell_type": "code",
      "source": [
        "training(supportSet, epoch_, loss_, cleaning=False)"
      ],
      "metadata": {
        "id": "3pDOrADQ7V6a"
      },
      "execution_count": null,
      "outputs": []
    },
    {
      "cell_type": "markdown",
      "source": [
        "## --- EVALUATION ---"
      ],
      "metadata": {
        "id": "RNERw810zKgp"
      }
    },
    {
      "cell_type": "code",
      "source": [
        "querySet = []\n",
        "predictedLabel = queryEvaluation(supportSet, querySet)"
      ],
      "metadata": {
        "id": "AZ0_-FstzJhr"
      },
      "execution_count": null,
      "outputs": []
    },
    {
      "cell_type": "code",
      "source": [
        "plot_images(querySet, title=\"Image of \"+classes[predictedLabel], images_per_row=1) # possible error with classes[predictedLabel] to check thourougly"
      ],
      "metadata": {
        "id": "Ho2spaz06vCg"
      },
      "execution_count": null,
      "outputs": []
    }
  ],
  "metadata": {
    "colab": {
      "collapsed_sections": [
        "wKoOjdQKLoD5",
        "qS4G80Rn2sMW",
        "pxqyDjnLvkDe",
        "jSc4ewvWt-rx",
        "7MIjx0Vme0Vw",
        "MGxpPiOqhosk",
        "wvnjwBYbmLsC",
        "8L_6Ob4a24JT",
        "VJfJ57AP20Yy",
        "nTYWzTFQbffv",
        "MUKycrCJzstO",
        "cRMdBw6LhZmz",
        "Iksx_iTyMAS-",
        "3aBMGkiXxyG9",
        "J1WaWYWzhVaF",
        "tuLtcZan3iP4"
      ],
      "name": "pipeline.ipynb",
      "provenance": [],
      "mount_file_id": "1OR6E3sgk-F1D3bS7Da1dyPBZYeidS0Kr",
      "authorship_tag": "ABX9TyN5ehoqEkySPALBaHyZogQp",
      "include_colab_link": true
    },
    "gpuClass": "standard",
    "kernelspec": {
      "display_name": "Python 3",
      "name": "python3"
    },
    "language_info": {
      "name": "python"
    },
    "accelerator": "GPU"
  },
  "nbformat": 4,
  "nbformat_minor": 0
}