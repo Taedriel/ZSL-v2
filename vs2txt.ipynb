{
  "nbformat": 4,
  "nbformat_minor": 0,
  "metadata": {
    "colab": {
      "name": "vs2txt.ipynb",
      "provenance": [],
      "collapsed_sections": [],
      "mount_file_id": "1vykwUE-MQzWVJfohvUYMk5MsC1HrrGPB",
      "authorship_tag": "ABX9TyOr3Tf7mWz2ayjO713+Jb6e",
      "include_colab_link": true
    },
    "kernelspec": {
      "name": "python3",
      "display_name": "Python 3"
    },
    "language_info": {
      "name": "python"
    }
  },
  "cells": [
    {
      "cell_type": "markdown",
      "metadata": {
        "id": "view-in-github",
        "colab_type": "text"
      },
      "source": [
        "<a href=\"https://colab.research.google.com/github/Taedriel/ZSL-v2/blob/visual2textual/vs2txt.ipynb\" target=\"_parent\"><img src=\"https://colab.research.google.com/assets/colab-badge.svg\" alt=\"Open In Colab\"/></a>"
      ]
    },
    {
      "cell_type": "code",
      "execution_count": 1,
      "metadata": {
        "id": "XyVopqPOzW5g"
      },
      "outputs": [],
      "source": [
        "import numpy as np\n",
        "import tensorflow as tf\n",
        "import matplotlib as plt\n",
        "import pandas as pd\n",
        "import sklearn.metrics.pairwise as skpairwise\n",
        "from matplotlib import pyplot as plt\n",
        "from typing import List, Tuple, Dict"
      ]
    },
    {
      "cell_type": "markdown",
      "source": [
        "## Loading the dataset :"
      ],
      "metadata": {
        "id": "pMNZzE2ozk5A"
      }
    },
    {
      "cell_type": "code",
      "source": [
        "x_train: np.ndarray = None\n",
        "x_test: np.ndarray = None\n",
        "y_train: np.ndarray = None\n",
        "y_test: np.ndarray = None\n",
        "(x_train, y_train), (x_test, y_test) = (tf.keras.datasets.cifar100.load_data(label_mode=\"fine\"))"
      ],
      "metadata": {
        "colab": {
          "base_uri": "https://localhost:8080/"
        },
        "id": "4NSOvcB9zcrQ",
        "outputId": "586888f8-69b2-447c-d2d5-0990fd2b4d31"
      },
      "execution_count": 2,
      "outputs": [
        {
          "output_type": "stream",
          "name": "stdout",
          "text": [
            "Downloading data from https://www.cs.toronto.edu/~kriz/cifar-100-python.tar.gz\n",
            "169009152/169001437 [==============================] - 6s 0us/step\n",
            "169017344/169001437 [==============================] - 6s 0us/step\n"
          ]
        }
      ]
    },
    {
      "cell_type": "code",
      "source": [
        "print(f\"Train images shape:\\t {x_train.shape}\")\n",
        "print(f\"Train fine labels shape: {y_train.shape}\")\n",
        "print(f\"Test images shape:\\t {x_test.shape}\")\n",
        "print(f\"Test fine labels shape:\\t {y_test.shape}\")"
      ],
      "metadata": {
        "colab": {
          "base_uri": "https://localhost:8080/"
        },
        "id": "HTgjx-FVznfu",
        "outputId": "18b2f777-1d42-4037-81c6-8091d7e49125"
      },
      "execution_count": 3,
      "outputs": [
        {
          "output_type": "stream",
          "name": "stdout",
          "text": [
            "Train images shape:\t (50000, 32, 32, 3)\n",
            "Train fine labels shape: (50000, 1)\n",
            "Test images shape:\t (10000, 32, 32, 3)\n",
            "Test fine labels shape:\t (10000, 1)\n"
          ]
        }
      ]
    },
    {
      "cell_type": "code",
      "source": [
        "print(np.unique(y_train))"
      ],
      "metadata": {
        "colab": {
          "base_uri": "https://localhost:8080/"
        },
        "id": "FkX-7YTtqneZ",
        "outputId": "90de6305-8a86-4abf-9685-ec0800873bcd"
      },
      "execution_count": 4,
      "outputs": [
        {
          "output_type": "stream",
          "name": "stdout",
          "text": [
            "[ 0  1  2  3  4  5  6  7  8  9 10 11 12 13 14 15 16 17 18 19 20 21 22 23\n",
            " 24 25 26 27 28 29 30 31 32 33 34 35 36 37 38 39 40 41 42 43 44 45 46 47\n",
            " 48 49 50 51 52 53 54 55 56 57 58 59 60 61 62 63 64 65 66 67 68 69 70 71\n",
            " 72 73 74 75 76 77 78 79 80 81 82 83 84 85 86 87 88 89 90 91 92 93 94 95\n",
            " 96 97 98 99]\n"
          ]
        }
      ]
    },
    {
      "cell_type": "code",
      "source": [
        "print(np.unique(y_test))"
      ],
      "metadata": {
        "colab": {
          "base_uri": "https://localhost:8080/"
        },
        "id": "GvD0uqhFqsLg",
        "outputId": "3cd7c8dc-dc4d-4b56-8d30-7c1965a1086e"
      },
      "execution_count": 5,
      "outputs": [
        {
          "output_type": "stream",
          "name": "stdout",
          "text": [
            "[ 0  1  2  3  4  5  6  7  8  9 10 11 12 13 14 15 16 17 18 19 20 21 22 23\n",
            " 24 25 26 27 28 29 30 31 32 33 34 35 36 37 38 39 40 41 42 43 44 45 46 47\n",
            " 48 49 50 51 52 53 54 55 56 57 58 59 60 61 62 63 64 65 66 67 68 69 70 71\n",
            " 72 73 74 75 76 77 78 79 80 81 82 83 84 85 86 87 88 89 90 91 92 93 94 95\n",
            " 96 97 98 99]\n"
          ]
        }
      ]
    },
    {
      "cell_type": "markdown",
      "source": [
        "## The model "
      ],
      "metadata": {
        "id": "8lBvMLj10Bwe"
      }
    },
    {
      "cell_type": "code",
      "source": [
        "class Mapping:\n",
        "    def __init__(self, cnn, img_shape):\n",
        "       self.cnn = cnn\n",
        "       self.img_shape = img_shape\n",
        "    \n",
        "    def train(self, X_train, y_train, optimizer, loss, epochs=20, batch_size=32, last_layer_shape=300):\n",
        "        #X_train = self.cnn.preprocess_input(X_train)\n",
        "        base_model: tf.keras.Model = self.cnn\n",
        "        base_model.trainable = False\n",
        "        self.model = tf.keras.models.Sequential()\n",
        "        self.model.add(tf.keras.Input(shape=(self.img_shape[0], self.img_shape[1], self.img_shape[2])))\n",
        "        self.model.add(tf.keras.layers.experimental.preprocessing.RandomFlip(\"horizontal\"))\n",
        "        self.model.add(tf.keras.layers.experimental.preprocessing.RandomRotation(0.1))\n",
        "        self.model.add(base_model)\n",
        "        self.model.add(tf.keras.layers.Dense(512, activation='relu'))\n",
        "        self.model.add(tf.keras.layers.Dropout(0.25))\n",
        "        self.model.add(tf.keras.layers.Dense(512, activation='relu'))\n",
        "        self.model.add(tf.keras.layers.Dropout(0.25))\n",
        "        self.model.add(tf.keras.layers.Dense(last_layer_shape))\n",
        "        self.model.summary()\n",
        "        self.model.compile(optimizer=optimizer, loss=loss)\n",
        "        early_stopping = tf.keras.callbacks.EarlyStopping(monitor=\"val_loss\", min_delta=0.01, patience=3, mode=\"min\",\n",
        "                                                            restore_best_weights=True)\n",
        "        self.history = self.model.fit(X_train, y_train, epochs=epochs, shuffle=True, \n",
        "                            batch_size=batch_size, validation_split=0.2, callbacks=[early_stopping])\n",
        "    \n",
        "    def plot_training_results(self):\n",
        "        plt.plot(self.history.history['loss'])\n",
        "        plt.plot(self.history.history['val_loss'])\n",
        "        plt.title('Model Loss')\n",
        "        plt.ylabel('Loss')\n",
        "        plt.xlabel('Epoch')\n",
        "        plt.legend(['Train', 'Validation'], loc='upper right')\n",
        "        plt.show()\n",
        "\n",
        "    def test(self, X_test, y_test):\n",
        "        model_eval: float = self.model.evaluate(X_test, y_test) \n",
        "        print(f\"Model loss {model_eval}\")\n",
        "    \n",
        "    def save_model(self, model_name):\n",
        "        self.model.save(model_name+\".model\", save_format=\"h5\")\n"
      ],
      "metadata": {
        "id": "Buko44dDzu9D"
      },
      "execution_count": null,
      "outputs": []
    },
    {
      "cell_type": "markdown",
      "source": [
        "## testing on cifar100 :\n",
        "### Testing on different embedding :"
      ],
      "metadata": {
        "id": "482muIhw3P5Y"
      }
    },
    {
      "cell_type": "code",
      "source": [
        "import os\n",
        "embs = sorted(os.listdir('/content/drive/MyDrive/data/embs'))\n",
        "embs"
      ],
      "metadata": {
        "colab": {
          "base_uri": "https://localhost:8080/"
        },
        "id": "yfryTXtV0Dvt",
        "outputId": "f851e557-d456-4dd4-d6ff-ab50e759d2c7"
      },
      "execution_count": null,
      "outputs": [
        {
          "output_type": "execute_result",
          "data": {
            "text/plain": [
              "['cifar100-roberta-base-0.csv',\n",
              " 'cifar100-roberta-base-100.csv',\n",
              " 'cifar100-roberta-base-200.csv',\n",
              " 'cifar100-roberta-base-300.csv',\n",
              " 'cifar100-roberta-base-400.csv',\n",
              " 'cifar100-roberta-large-0.csv',\n",
              " 'cifar100-roberta-large-100.csv',\n",
              " 'cifar100-roberta-large-200.csv',\n",
              " 'cifar100-roberta-large-300.csv',\n",
              " 'cifar100-roberta-large-400.csv']"
            ]
          },
          "metadata": {},
          "execution_count": 7
        }
      ]
    },
    {
      "cell_type": "markdown",
      "source": [
        "## Image embbedings :   \n",
        "### Models :     \n",
        "    1. VGG16\n",
        "    2. VGG19\n",
        "    3. ResNet\n",
        "    4. MobileNet\n"
      ],
      "metadata": {
        "id": "Yon1esSO68fC"
      }
    },
    {
      "cell_type": "code",
      "source": [
        "from tensorflow.keras.applications import MobileNetV2, VGG16, VGG19, ResNet50V2\n",
        "\n",
        "cnn1 = VGG19(weights='imagenet', include_top=False, input_shape=(32, 32, 3), pooling='max')\n",
        "cnn2 = VGG16(weights='imagenet', include_top=False, input_shape=(32, 32, 3), pooling='max')\n",
        "cnn3 = ResNet50V2(weights='imagenet', include_top=False, input_shape=(32, 32, 3), pooling='max')\n",
        "cnn4 = MobileNetV2(weights='imagenet', include_top=False, input_shape=(32, 32, 3), pooling='max')"
      ],
      "metadata": {
        "colab": {
          "base_uri": "https://localhost:8080/"
        },
        "id": "bF98kTT33TcU",
        "outputId": "c7def617-673c-4422-dc2f-e7423ab6dbea"
      },
      "execution_count": null,
      "outputs": [
        {
          "output_type": "stream",
          "name": "stdout",
          "text": [
            "Downloading data from https://storage.googleapis.com/tensorflow/keras-applications/vgg19/vgg19_weights_tf_dim_ordering_tf_kernels_notop.h5\n",
            "80142336/80134624 [==============================] - 1s 0us/step\n",
            "80150528/80134624 [==============================] - 1s 0us/step\n",
            "Downloading data from https://storage.googleapis.com/tensorflow/keras-applications/vgg16/vgg16_weights_tf_dim_ordering_tf_kernels_notop.h5\n",
            "58892288/58889256 [==============================] - 0s 0us/step\n",
            "58900480/58889256 [==============================] - 0s 0us/step\n",
            "Downloading data from https://storage.googleapis.com/tensorflow/keras-applications/resnet/resnet50v2_weights_tf_dim_ordering_tf_kernels_notop.h5\n",
            "94674944/94668760 [==============================] - 1s 0us/step\n",
            "94683136/94668760 [==============================] - 1s 0us/step\n",
            "WARNING:tensorflow:`input_shape` is undefined or non-square, or `rows` is not in [96, 128, 160, 192, 224]. Weights for input shape (224, 224) will be loaded as the default.\n",
            "Downloading data from https://storage.googleapis.com/tensorflow/keras-applications/mobilenet_v2/mobilenet_v2_weights_tf_dim_ordering_tf_kernels_1.0_224_no_top.h5\n",
            "9412608/9406464 [==============================] - 0s 0us/step\n",
            "9420800/9406464 [==============================] - 0s 0us/step\n"
          ]
        }
      ]
    },
    {
      "cell_type": "markdown",
      "source": [
        "## Preprocessing the text embeddings :"
      ],
      "metadata": {
        "id": "8dIgNj5U8iy8"
      }
    },
    {
      "cell_type": "code",
      "source": [
        "labels: List[str] = [\n",
        "    'apple', 'aquarium_fish', 'baby', 'bear', 'beaver',\n",
        "    'bed', 'bee', 'beetle', 'bicycle', 'bottle', 'bowl',\n",
        "    'boy', 'bridge', 'bus', 'butterfly', 'camel', 'can',\n",
        "    'castle', 'caterpillar', 'cattle', 'chair',\n",
        "    'chimpanzee', 'clock', 'cloud', 'cockroach',\n",
        "    'couch', 'crab', 'crocodile', 'cup', 'dinosaur',\n",
        "    'dolphin', 'elephant', 'flatfish', 'forest', 'fox',\n",
        "    'girl', 'hamster', 'house', 'kangaroo',\n",
        "    'computer_keyboard', 'lamp', 'lawn_mower',\n",
        "    'leopard', 'lion', 'lizard', 'lobster', 'man',\n",
        "    'maple_tree', 'motorcycle', 'mountain', 'mouse', 'mushroom',\n",
        "    'oak_tree', 'orange', 'orchid', 'otter', 'palm_tree', 'pear',\n",
        "    'pickup_truck', 'pine_tree', 'plain', 'plate', 'poppy',\n",
        "    'porcupine', 'possum', 'rabbit', 'raccoon', 'ray', 'road',\n",
        "    'rocket', 'rose', 'sea', 'seal', 'shark', 'shrew', 'skunk',\n",
        "    'skyscraper', 'snail', 'snake', 'spider', 'squirrel',\n",
        "    'streetcar', 'sunflower', 'sweet_pepper', 'table', 'tank',\n",
        "    'telephone', 'television', 'tiger', 'tractor', 'train',\n",
        "    'trout', 'tulip', 'turtle', 'wardrobe', 'whale',\n",
        "    'willow_tree', 'wolf', 'woman', 'worm'\n",
        "]"
      ],
      "metadata": {
        "id": "aypVQC1-8Yhh"
      },
      "execution_count": 13,
      "outputs": []
    },
    {
      "cell_type": "code",
      "source": [
        "def txt_vec(emb_path):\n",
        "    df = pd.read_csv(emb_path)\n",
        "    df = df.drop(['embeddings'], axis = 1)\n",
        "    label_vec = df.to_numpy()\n",
        "\n",
        "    return label_vec"
      ],
      "metadata": {
        "id": "j7-T6yon8mUY"
      },
      "execution_count": null,
      "outputs": []
    },
    {
      "cell_type": "code",
      "source": [
        "def compute_similarity(txt_vector):\n",
        "    # calculate cosine similarity between each two labels\n",
        "    similarity_matrix: np.ndarray = skpairwise.cosine_similarity(\n",
        "        txt_vector, txt_vector)\n",
        "    \n",
        "    # get only lower triangle\n",
        "    similarity_matrix: np.ndarray = np.tril(similarity_matrix, -1)\n",
        "\n",
        "    # get indexes with cosine similarity greater than 0.65\n",
        "    indexes: np.ndarray = np.argwhere(similarity_matrix > 0.6)\n",
        "\n",
        "    # create dataframe for better printing\n",
        "    labels_high_similarity: pd.DataFrame = pd.DataFrame(\n",
        "        {'Label 1': [labels[i[0]] for i in indexes],\n",
        "        'Label 2':  [labels[i[1]] for i in indexes],\n",
        "        'cosine similarity': [similarity_matrix[i[0], i[1]] for i in indexes]\n",
        "        }\n",
        "    )\n",
        "    print(\"\\nFine labels with high cosine\"\n",
        "        \"similarity and the cosine similarity value:\\n\"\n",
        "        f\"{labels_high_similarity}\")"
      ],
      "metadata": {
        "id": "YCYXM5owQbWb"
      },
      "execution_count": null,
      "outputs": []
    },
    {
      "cell_type": "code",
      "source": [
        "def compute_euclidean(txt_vector):\n",
        "    # calculate cosine similarity between each two labels\n",
        "    similarity_matrix: np.ndarray = skpairwise.euclidean_distances(\n",
        "        txt_vector, txt_vector)\n",
        "    \n",
        "    # get only lower triangle\n",
        "    similarity_matrix: np.ndarray = np.tril(similarity_matrix, -1)\n",
        "\n",
        "    # get indexes with cosine similarity greater than 0.65\n",
        "    indexes: np.ndarray = np.argwhere(similarity_matrix < 0.5)\n",
        "\n",
        "    # create dataframe for better printing\n",
        "    labels_high_similarity: pd.DataFrame = pd.DataFrame(\n",
        "        {'Label 1': [labels[i[0]] for i in indexes],\n",
        "        'Label 2':  [labels[i[1]] for i in indexes],\n",
        "        'euclidean distance': [similarity_matrix[i[0], i[1]] for i in indexes]\n",
        "        }\n",
        "    )\n",
        "    print(\"\\nFine labels with high cosine\"\n",
        "        \"similarity and the cosine similarity value:\\n\"\n",
        "        f\"{labels_high_similarity}\")"
      ],
      "metadata": {
        "id": "sAjKAm0q2n9y"
      },
      "execution_count": null,
      "outputs": []
    },
    {
      "cell_type": "markdown",
      "source": [
        "##\n"
      ],
      "metadata": {
        "id": "f2KJHgzyPMbV"
      }
    },
    {
      "cell_type": "code",
      "source": [
        "path = '/content/drive/MyDrive/data/embs'\n",
        "\n",
        "txt_vectors = dict()\n",
        "for pth in embs:\n",
        "    name = pth.split('.')[0]\n",
        "    emb_path = os.path.join(path, pth)\n",
        "    vecs = txt_vec(emb_path)\n",
        "    txt_vectors[name] = vecs"
      ],
      "metadata": {
        "id": "uaCWXC_fPI0_"
      },
      "execution_count": null,
      "outputs": []
    },
    {
      "cell_type": "code",
      "source": [
        "embs"
      ],
      "metadata": {
        "colab": {
          "base_uri": "https://localhost:8080/"
        },
        "id": "Z25YtMvf0zD_",
        "outputId": "aee9a72b-ecca-4e1b-fe0c-86fcd9c47959"
      },
      "execution_count": null,
      "outputs": [
        {
          "output_type": "execute_result",
          "data": {
            "text/plain": [
              "['cifar100-roberta-base-0.csv',\n",
              " 'cifar100-roberta-base-100.csv',\n",
              " 'cifar100-roberta-base-200.csv',\n",
              " 'cifar100-roberta-base-300.csv',\n",
              " 'cifar100-roberta-base-400.csv',\n",
              " 'cifar100-roberta-large-0.csv',\n",
              " 'cifar100-roberta-large-100.csv',\n",
              " 'cifar100-roberta-large-200.csv',\n",
              " 'cifar100-roberta-large-300.csv',\n",
              " 'cifar100-roberta-large-400.csv']"
            ]
          },
          "metadata": {},
          "execution_count": 12
        }
      ]
    },
    {
      "cell_type": "code",
      "source": [
        "print(txt_vectors['cifar100-roberta-base-0'].shape)\n",
        "print(txt_vectors['cifar100-roberta-large-0'].shape)"
      ],
      "metadata": {
        "colab": {
          "base_uri": "https://localhost:8080/"
        },
        "id": "VgNGdTmC01Yd",
        "outputId": "4c4dabb0-6df1-4c1e-9d23-c81d7e4bfd63"
      },
      "execution_count": null,
      "outputs": [
        {
          "output_type": "stream",
          "name": "stdout",
          "text": [
            "(100, 768)\n",
            "(100, 1024)\n"
          ]
        }
      ]
    },
    {
      "cell_type": "code",
      "source": [
        "word2vec_emb = txt_vec('/content/drive/MyDrive/data/cifar100-wiki2vec-300.csv')"
      ],
      "metadata": {
        "id": "JrySYHFW53ct"
      },
      "execution_count": null,
      "outputs": []
    },
    {
      "cell_type": "code",
      "source": [
        "word2vec_emb.shape"
      ],
      "metadata": {
        "colab": {
          "base_uri": "https://localhost:8080/"
        },
        "id": "D-wpuk0bMAl2",
        "outputId": "3f6bd810-36e7-4401-88a1-65f04a7dc13a"
      },
      "execution_count": null,
      "outputs": [
        {
          "output_type": "execute_result",
          "data": {
            "text/plain": [
              "(100, 300)"
            ]
          },
          "metadata": {},
          "execution_count": 13
        }
      ]
    },
    {
      "cell_type": "code",
      "source": [
        "compute_similarity(word2vec_emb)"
      ],
      "metadata": {
        "colab": {
          "base_uri": "https://localhost:8080/"
        },
        "id": "NpN7wWPUMEnl",
        "outputId": "f4dfe1db-4fae-408c-d041-c799f7c7238b"
      },
      "execution_count": null,
      "outputs": [
        {
          "output_type": "stream",
          "name": "stdout",
          "text": [
            "\n",
            "Fine labels with high cosinesimilarity and the cosine similarity value:\n",
            "       Label 1        Label 2  cosine similarity\n",
            "0      hamster            boy           0.773344\n",
            "1         lion       flatfish           0.626982\n",
            "2      lobster      crocodile           0.723904\n",
            "3   motorcycle        bicycle           0.696072\n",
            "4        skunk        raccoon           0.613739\n",
            "5     squirrel        raccoon           0.618531\n",
            "6        tiger        leopard           0.601433\n",
            "7        trout  aquarium_fish           0.619525\n",
            "8        whale       elephant           0.652803\n",
            "9        whale          shark           0.621905\n",
            "10       woman        hamster           0.700592\n",
            "11       woman            man           0.685186\n"
          ]
        }
      ]
    },
    {
      "cell_type": "markdown",
      "source": [
        "### Visualizing similarities between labels :    "
      ],
      "metadata": {
        "id": "M2ctElsu1BN5"
      }
    },
    {
      "cell_type": "code",
      "source": [
        "for key, value in txt_vectors.items():\n",
        "    print(key)\n",
        "    compute_similarity(value)"
      ],
      "metadata": {
        "colab": {
          "base_uri": "https://localhost:8080/"
        },
        "id": "nxMy6RQC05uT",
        "outputId": "5378b6b2-1c3b-440c-df55-f28c6fab19a6"
      },
      "execution_count": null,
      "outputs": [
        {
          "output_type": "stream",
          "name": "stdout",
          "text": [
            "cifar100-roberta-base-0\n",
            "\n",
            "Fine labels with high cosinesimilarity and the cosine similarity value:\n",
            "            Label 1        Label 2  cosine similarity\n",
            "0     aquarium_fish          apple           0.999923\n",
            "1              baby          apple           0.999975\n",
            "2              baby  aquarium_fish           0.999922\n",
            "3              bear          apple           0.999988\n",
            "4              bear  aquarium_fish           0.999920\n",
            "...             ...            ...                ...\n",
            "4945           worm       wardrobe           0.999965\n",
            "4946           worm          whale           0.999968\n",
            "4947           worm    willow_tree           0.999926\n",
            "4948           worm           wolf           0.999990\n",
            "4949           worm          woman           0.999991\n",
            "\n",
            "[4950 rows x 3 columns]\n",
            "cifar100-roberta-base-100\n",
            "\n",
            "Fine labels with high cosinesimilarity and the cosine similarity value:\n",
            "            Label 1        Label 2  cosine similarity\n",
            "0     aquarium_fish          apple           0.998810\n",
            "1              baby          apple           0.999832\n",
            "2              baby  aquarium_fish           0.998685\n",
            "3              bear          apple           0.999874\n",
            "4              bear  aquarium_fish           0.998613\n",
            "...             ...            ...                ...\n",
            "4945           worm       wardrobe           0.999796\n",
            "4946           worm          whale           0.999845\n",
            "4947           worm    willow_tree           0.999905\n",
            "4948           worm           wolf           0.998527\n",
            "4949           worm          woman           0.999786\n",
            "\n",
            "[4950 rows x 3 columns]\n",
            "cifar100-roberta-base-200\n",
            "\n",
            "Fine labels with high cosinesimilarity and the cosine similarity value:\n",
            "            Label 1        Label 2  cosine similarity\n",
            "0     aquarium_fish          apple           0.999872\n",
            "1              baby          apple           0.999879\n",
            "2              baby  aquarium_fish           0.999856\n",
            "3              bear          apple           0.998755\n",
            "4              bear  aquarium_fish           0.998683\n",
            "...             ...            ...                ...\n",
            "4945           worm       wardrobe           0.999839\n",
            "4946           worm          whale           0.998821\n",
            "4947           worm    willow_tree           0.999881\n",
            "4948           worm           wolf           0.999842\n",
            "4949           worm          woman           0.999817\n",
            "\n",
            "[4950 rows x 3 columns]\n",
            "cifar100-roberta-base-300\n",
            "\n",
            "Fine labels with high cosinesimilarity and the cosine similarity value:\n",
            "            Label 1        Label 2  cosine similarity\n",
            "0     aquarium_fish          apple           0.999870\n",
            "1              baby          apple           0.999878\n",
            "2              baby  aquarium_fish           0.999854\n",
            "3              bear          apple           0.999250\n",
            "4              bear  aquarium_fish           0.999130\n",
            "...             ...            ...                ...\n",
            "4945           worm       wardrobe           0.999812\n",
            "4946           worm          whale           0.999873\n",
            "4947           worm    willow_tree           0.999113\n",
            "4948           worm           wolf           0.999843\n",
            "4949           worm          woman           0.999851\n",
            "\n",
            "[4950 rows x 3 columns]\n",
            "cifar100-roberta-base-400\n",
            "\n",
            "Fine labels with high cosinesimilarity and the cosine similarity value:\n",
            "            Label 1        Label 2  cosine similarity\n",
            "0     aquarium_fish          apple           0.999775\n",
            "1              baby          apple           0.999480\n",
            "2              baby  aquarium_fish           0.999079\n",
            "3              bear          apple           0.999591\n",
            "4              bear  aquarium_fish           0.999159\n",
            "...             ...            ...                ...\n",
            "4945           worm       wardrobe           0.999753\n",
            "4946           worm          whale           0.998682\n",
            "4947           worm    willow_tree           0.999112\n",
            "4948           worm           wolf           0.998861\n",
            "4949           worm          woman           0.998711\n",
            "\n",
            "[4950 rows x 3 columns]\n",
            "cifar100-roberta-large-0\n",
            "\n",
            "Fine labels with high cosinesimilarity and the cosine similarity value:\n",
            "            Label 1        Label 2  cosine similarity\n",
            "0     aquarium_fish          apple           0.998807\n",
            "1              baby          apple           0.999359\n",
            "2              baby  aquarium_fish           0.998881\n",
            "3              bear          apple           0.999364\n",
            "4              bear  aquarium_fish           0.998882\n",
            "...             ...            ...                ...\n",
            "4945           worm       wardrobe           0.999031\n",
            "4946           worm          whale           0.999366\n",
            "4947           worm    willow_tree           0.998954\n",
            "4948           worm           wolf           0.999600\n",
            "4949           worm          woman           0.999626\n",
            "\n",
            "[4950 rows x 3 columns]\n",
            "cifar100-roberta-large-100\n",
            "\n",
            "Fine labels with high cosinesimilarity and the cosine similarity value:\n",
            "            Label 1        Label 2  cosine similarity\n",
            "0     aquarium_fish          apple           0.995970\n",
            "1              baby          apple           0.994545\n",
            "2              baby  aquarium_fish           0.995372\n",
            "3              bear          apple           0.996154\n",
            "4              bear  aquarium_fish           0.996248\n",
            "...             ...            ...                ...\n",
            "4945           worm       wardrobe           0.997155\n",
            "4946           worm          whale           0.993307\n",
            "4947           worm    willow_tree           0.989225\n",
            "4948           worm           wolf           0.992411\n",
            "4949           worm          woman           0.993299\n",
            "\n",
            "[4950 rows x 3 columns]\n",
            "cifar100-roberta-large-200\n",
            "\n",
            "Fine labels with high cosinesimilarity and the cosine similarity value:\n",
            "            Label 1        Label 2  cosine similarity\n",
            "0     aquarium_fish          apple           0.995828\n",
            "1              baby          apple           0.997978\n",
            "2              baby  aquarium_fish           0.995453\n",
            "3              bear          apple           0.996779\n",
            "4              bear  aquarium_fish           0.995523\n",
            "...             ...            ...                ...\n",
            "4945           worm       wardrobe           0.989278\n",
            "4946           worm          whale           0.992819\n",
            "4947           worm    willow_tree           0.996537\n",
            "4948           worm           wolf           0.992915\n",
            "4949           worm          woman           0.992373\n",
            "\n",
            "[4950 rows x 3 columns]\n",
            "cifar100-roberta-large-300\n",
            "\n",
            "Fine labels with high cosinesimilarity and the cosine similarity value:\n",
            "            Label 1        Label 2  cosine similarity\n",
            "0     aquarium_fish          apple           0.994024\n",
            "1              baby          apple           0.997494\n",
            "2              baby  aquarium_fish           0.994322\n",
            "3              bear          apple           0.996255\n",
            "4              bear  aquarium_fish           0.996567\n",
            "...             ...            ...                ...\n",
            "4945           worm       wardrobe           0.993690\n",
            "4946           worm          whale           0.997216\n",
            "4947           worm    willow_tree           0.997706\n",
            "4948           worm           wolf           0.996087\n",
            "4949           worm          woman           0.994394\n",
            "\n",
            "[4950 rows x 3 columns]\n",
            "cifar100-roberta-large-400\n",
            "\n",
            "Fine labels with high cosinesimilarity and the cosine similarity value:\n",
            "            Label 1        Label 2  cosine similarity\n",
            "0     aquarium_fish          apple           0.993463\n",
            "1              baby          apple           0.996819\n",
            "2              baby  aquarium_fish           0.992251\n",
            "3              bear          apple           0.996621\n",
            "4              bear  aquarium_fish           0.990333\n",
            "...             ...            ...                ...\n",
            "4945           worm       wardrobe           0.993641\n",
            "4946           worm          whale           0.996988\n",
            "4947           worm    willow_tree           0.997033\n",
            "4948           worm           wolf           0.994707\n",
            "4949           worm          woman           0.993666\n",
            "\n",
            "[4950 rows x 3 columns]\n"
          ]
        }
      ]
    },
    {
      "cell_type": "markdown",
      "source": [
        "## Preparing for training the neural network :"
      ],
      "metadata": {
        "id": "SVEObg4AM8LC"
      }
    },
    {
      "cell_type": "code",
      "source": [
        "y_train_vecs: np.ndarray = np.asarray(\n",
        "    [word2vec_emb[label] for label in y_train])\n",
        "y_train_vecs: np.ndarray = y_train_vecs.reshape((50000, 300))\n",
        "y_test_vecs: np.ndarray = np.asarray(\n",
        "    [word2vec_emb[label] for label in y_test])\n",
        "y_test_vecs: np.ndarray = y_test_vecs.reshape((10000, 300))\n",
        "\n",
        "print(f\"Train fine labels vectors shape: {y_train_vecs.shape}\")\n",
        "print(f\"Test fine labels vectors shape: {y_test_vecs.shape}\")"
      ],
      "metadata": {
        "colab": {
          "base_uri": "https://localhost:8080/"
        },
        "id": "elrOgz4X1O2t",
        "outputId": "59bea799-cdf8-4711-baa9-a6d027194efe"
      },
      "execution_count": null,
      "outputs": [
        {
          "output_type": "stream",
          "name": "stdout",
          "text": [
            "Train fine labels vectors shape: (50000, 300)\n",
            "Test fine labels vectors shape: (10000, 300)\n"
          ]
        }
      ]
    },
    {
      "cell_type": "code",
      "source": [
        "X_train: np.ndarray = tf.keras.applications.vgg19.preprocess_input(x_train)\n",
        "X_test: np.ndarray = tf.keras.applications.vgg19.preprocess_input(x_test)"
      ],
      "metadata": {
        "id": "NLK9mvshN6pG"
      },
      "execution_count": null,
      "outputs": []
    },
    {
      "cell_type": "code",
      "source": [
        "X_train.shape"
      ],
      "metadata": {
        "colab": {
          "base_uri": "https://localhost:8080/"
        },
        "id": "Qok-E8G9P6MT",
        "outputId": "e82bbc7f-c608-4647-ca4b-90de05929e7a"
      },
      "execution_count": null,
      "outputs": [
        {
          "output_type": "execute_result",
          "data": {
            "text/plain": [
              "(50000, 32, 32, 3)"
            ]
          },
          "metadata": {},
          "execution_count": 5
        }
      ]
    },
    {
      "cell_type": "code",
      "source": [
        "model = Mapping(cnn1, [32, 32, 3])"
      ],
      "metadata": {
        "id": "yfZ9icn3NK-s"
      },
      "execution_count": null,
      "outputs": []
    },
    {
      "cell_type": "code",
      "source": [
        ""
      ],
      "metadata": {
        "id": "wET0HgDFPwdM"
      },
      "execution_count": null,
      "outputs": []
    },
    {
      "cell_type": "code",
      "source": [
        "optimizer = tf.keras.optimizers.Adam(learning_rate=0.001)\n",
        "loss = tf.keras.losses.CosineSimilarity(axis=1)\n",
        "model.train(X_train, y_train_vecs, optimizer=optimizer, loss=loss)"
      ],
      "metadata": {
        "colab": {
          "base_uri": "https://localhost:8080/"
        },
        "id": "fIeJiTDQN1ng",
        "outputId": "41ceb46d-3356-425d-9dc5-f017a7250631"
      },
      "execution_count": null,
      "outputs": [
        {
          "output_type": "stream",
          "name": "stdout",
          "text": [
            "Model: \"sequential\"\n",
            "_________________________________________________________________\n",
            " Layer (type)                Output Shape              Param #   \n",
            "=================================================================\n",
            " random_flip (RandomFlip)    (None, 32, 32, 3)         0         \n",
            "                                                                 \n",
            " random_rotation (RandomRota  (None, 32, 32, 3)        0         \n",
            " tion)                                                           \n",
            "                                                                 \n",
            " vgg19 (Functional)          (None, 512)               20024384  \n",
            "                                                                 \n",
            " dense (Dense)               (None, 512)               262656    \n",
            "                                                                 \n",
            " dropout (Dropout)           (None, 512)               0         \n",
            "                                                                 \n",
            " dense_1 (Dense)             (None, 512)               262656    \n",
            "                                                                 \n",
            " dropout_1 (Dropout)         (None, 512)               0         \n",
            "                                                                 \n",
            " dense_2 (Dense)             (None, 300)               153900    \n",
            "                                                                 \n",
            "=================================================================\n",
            "Total params: 20,703,596\n",
            "Trainable params: 679,212\n",
            "Non-trainable params: 20,024,384\n",
            "_________________________________________________________________\n",
            "Epoch 1/20\n",
            "1250/1250 [==============================] - 704s 563ms/step - loss: -0.5667 - val_loss: -0.6178\n",
            "Epoch 2/20\n",
            "1250/1250 [==============================] - 707s 566ms/step - loss: -0.6139 - val_loss: -0.6356\n",
            "Epoch 3/20\n",
            "1250/1250 [==============================] - 713s 570ms/step - loss: -0.6311 - val_loss: -0.6479\n",
            "Epoch 4/20\n",
            "1250/1250 [==============================] - 713s 570ms/step - loss: -0.6441 - val_loss: -0.6545\n",
            "Epoch 5/20\n",
            "1250/1250 [==============================] - 702s 562ms/step - loss: -0.6528 - val_loss: -0.6577\n",
            "Epoch 6/20\n",
            "1250/1250 [==============================] - 693s 555ms/step - loss: -0.6604 - val_loss: -0.6623\n",
            "Epoch 7/20\n",
            "1250/1250 [==============================] - 693s 554ms/step - loss: -0.6661 - val_loss: -0.6640\n",
            "Epoch 8/20\n",
            "1250/1250 [==============================] - 691s 553ms/step - loss: -0.6721 - val_loss: -0.6648\n",
            "Epoch 9/20\n",
            "1250/1250 [==============================] - 692s 553ms/step - loss: -0.6762 - val_loss: -0.6680\n"
          ]
        }
      ]
    },
    {
      "cell_type": "code",
      "source": [
        "model.test(X_test, y_test_vecs)"
      ],
      "metadata": {
        "colab": {
          "base_uri": "https://localhost:8080/"
        },
        "id": "Lwz1AN0YOhcS",
        "outputId": "3b167762-4853-4765-d218-723d2ed3aa2c"
      },
      "execution_count": null,
      "outputs": [
        {
          "output_type": "stream",
          "name": "stdout",
          "text": [
            "313/313 [==============================] - 137s 436ms/step - loss: -0.6636\n",
            "Model loss -0.6635785698890686\n"
          ]
        }
      ]
    },
    {
      "cell_type": "code",
      "source": [
        "model.plot_training_results()"
      ],
      "metadata": {
        "colab": {
          "base_uri": "https://localhost:8080/",
          "height": 295
        },
        "id": "IQ0l-BAVR00s",
        "outputId": "9fdf7797-9ee0-4a02-827f-780e000b9d98"
      },
      "execution_count": null,
      "outputs": [
        {
          "output_type": "display_data",
          "data": {
            "text/plain": [
              "<Figure size 432x288 with 1 Axes>"
            ],
            "image/png": "[encoded data removed]"
          },
          "metadata": {
            "needs_background": "light"
          }
        }
      ]
    },
    {
      "cell_type": "code",
      "source": [
        "model.save_model(\"vgg19\")"
      ],
      "metadata": {
        "id": "mS7qqXf3RHeb"
      },
      "execution_count": null,
      "outputs": []
    },
    {
      "cell_type": "code",
      "source": [
        "from tensorflow.keras.models import load_model\n",
        "\n",
        "mob = load_model(\"/content/vgg19.model\")"
      ],
      "metadata": {
        "id": "3nV7zxTHRYdF",
        "colab": {
          "base_uri": "https://localhost:8080/",
          "height": 363
        },
        "outputId": "65255057-087e-4469-ecac-48365c3a43d4"
      },
      "execution_count": null,
      "outputs": [
        {
          "output_type": "error",
          "ename": "OSError",
          "evalue": "ignored",
          "traceback": [
            "\u001b[0;31m---------------------------------------------------------------------------\u001b[0m",
            "\u001b[0;31mOSError\u001b[0m                                   Traceback (most recent call last)",
            "\u001b[0;32m<ipython-input-13-5c1aad38ae08>\u001b[0m in \u001b[0;36m<module>\u001b[0;34m()\u001b[0m\n\u001b[1;32m      1\u001b[0m \u001b[0;32mfrom\u001b[0m \u001b[0mtensorflow\u001b[0m\u001b[0;34m.\u001b[0m\u001b[0mkeras\u001b[0m\u001b[0;34m.\u001b[0m\u001b[0mmodels\u001b[0m \u001b[0;32mimport\u001b[0m \u001b[0mload_model\u001b[0m\u001b[0;34m\u001b[0m\u001b[0;34m\u001b[0m\u001b[0m\n\u001b[1;32m      2\u001b[0m \u001b[0;34m\u001b[0m\u001b[0m\n\u001b[0;32m----> 3\u001b[0;31m \u001b[0mmob\u001b[0m \u001b[0;34m=\u001b[0m \u001b[0mload_model\u001b[0m\u001b[0;34m(\u001b[0m\u001b[0;34m\"/content/vgg19.model\"\u001b[0m\u001b[0;34m)\u001b[0m\u001b[0;34m\u001b[0m\u001b[0;34m\u001b[0m\u001b[0m\n\u001b[0m",
            "\u001b[0;32m/usr/local/lib/python3.7/dist-packages/keras/utils/traceback_utils.py\u001b[0m in \u001b[0;36merror_handler\u001b[0;34m(*args, **kwargs)\u001b[0m\n\u001b[1;32m     65\u001b[0m     \u001b[0;32mexcept\u001b[0m \u001b[0mException\u001b[0m \u001b[0;32mas\u001b[0m \u001b[0me\u001b[0m\u001b[0;34m:\u001b[0m  \u001b[0;31m# pylint: disable=broad-except\u001b[0m\u001b[0;34m\u001b[0m\u001b[0;34m\u001b[0m\u001b[0m\n\u001b[1;32m     66\u001b[0m       \u001b[0mfiltered_tb\u001b[0m \u001b[0;34m=\u001b[0m \u001b[0m_process_traceback_frames\u001b[0m\u001b[0;34m(\u001b[0m\u001b[0me\u001b[0m\u001b[0;34m.\u001b[0m\u001b[0m__traceback__\u001b[0m\u001b[0;34m)\u001b[0m\u001b[0;34m\u001b[0m\u001b[0;34m\u001b[0m\u001b[0m\n\u001b[0;32m---> 67\u001b[0;31m       \u001b[0;32mraise\u001b[0m \u001b[0me\u001b[0m\u001b[0;34m.\u001b[0m\u001b[0mwith_traceback\u001b[0m\u001b[0;34m(\u001b[0m\u001b[0mfiltered_tb\u001b[0m\u001b[0;34m)\u001b[0m \u001b[0;32mfrom\u001b[0m \u001b[0;32mNone\u001b[0m\u001b[0;34m\u001b[0m\u001b[0;34m\u001b[0m\u001b[0m\n\u001b[0m\u001b[1;32m     68\u001b[0m     \u001b[0;32mfinally\u001b[0m\u001b[0;34m:\u001b[0m\u001b[0;34m\u001b[0m\u001b[0;34m\u001b[0m\u001b[0m\n\u001b[1;32m     69\u001b[0m       \u001b[0;32mdel\u001b[0m \u001b[0mfiltered_tb\u001b[0m\u001b[0;34m\u001b[0m\u001b[0;34m\u001b[0m\u001b[0m\n",
            "\u001b[0;32m/usr/local/lib/python3.7/dist-packages/keras/saving/save.py\u001b[0m in \u001b[0;36mload_model\u001b[0;34m(filepath, custom_objects, compile, options)\u001b[0m\n\u001b[1;32m    202\u001b[0m         \u001b[0;32mif\u001b[0m \u001b[0misinstance\u001b[0m\u001b[0;34m(\u001b[0m\u001b[0mfilepath_str\u001b[0m\u001b[0;34m,\u001b[0m \u001b[0mstr\u001b[0m\u001b[0;34m)\u001b[0m\u001b[0;34m:\u001b[0m\u001b[0;34m\u001b[0m\u001b[0;34m\u001b[0m\u001b[0m\n\u001b[1;32m    203\u001b[0m           \u001b[0;32mif\u001b[0m \u001b[0;32mnot\u001b[0m \u001b[0mtf\u001b[0m\u001b[0;34m.\u001b[0m\u001b[0mio\u001b[0m\u001b[0;34m.\u001b[0m\u001b[0mgfile\u001b[0m\u001b[0;34m.\u001b[0m\u001b[0mexists\u001b[0m\u001b[0;34m(\u001b[0m\u001b[0mfilepath_str\u001b[0m\u001b[0;34m)\u001b[0m\u001b[0;34m:\u001b[0m\u001b[0;34m\u001b[0m\u001b[0;34m\u001b[0m\u001b[0m\n\u001b[0;32m--> 204\u001b[0;31m             \u001b[0;32mraise\u001b[0m \u001b[0mIOError\u001b[0m\u001b[0;34m(\u001b[0m\u001b[0;34mf'No file or directory found at {filepath_str}'\u001b[0m\u001b[0;34m)\u001b[0m\u001b[0;34m\u001b[0m\u001b[0;34m\u001b[0m\u001b[0m\n\u001b[0m\u001b[1;32m    205\u001b[0m \u001b[0;34m\u001b[0m\u001b[0m\n\u001b[1;32m    206\u001b[0m           \u001b[0;32mif\u001b[0m \u001b[0mtf\u001b[0m\u001b[0;34m.\u001b[0m\u001b[0mio\u001b[0m\u001b[0;34m.\u001b[0m\u001b[0mgfile\u001b[0m\u001b[0;34m.\u001b[0m\u001b[0misdir\u001b[0m\u001b[0;34m(\u001b[0m\u001b[0mfilepath_str\u001b[0m\u001b[0;34m)\u001b[0m\u001b[0;34m:\u001b[0m\u001b[0;34m\u001b[0m\u001b[0;34m\u001b[0m\u001b[0m\n",
            "\u001b[0;31mOSError\u001b[0m: No file or directory found at /content/vgg19.model"
          ]
        }
      ]
    },
    {
      "cell_type": "code",
      "source": [
        "img: np.ndarray = x_test[15].copy()\n",
        "plt.imshow(img)"
      ],
      "metadata": {
        "colab": {
          "base_uri": "https://localhost:8080/",
          "height": 283
        },
        "id": "njswwN0GRtvO",
        "outputId": "2f4fd4cc-4833-4d71-8fec-df61766f5c76"
      },
      "execution_count": null,
      "outputs": [
        {
          "output_type": "execute_result",
          "data": {
            "text/plain": [
              "<matplotlib.image.AxesImage at 0x7fb3ca6a5a10>"
            ]
          },
          "metadata": {},
          "execution_count": 20
        },
        {
          "output_type": "display_data",
          "data": {
            "text/plain": [
              "<Figure size 432x288 with 1 Axes>"
            ],
            "image/png": "[encoded data removed]"
          },
          "metadata": {
            "needs_background": "light"
          }
        }
      ]
    },
    {
      "cell_type": "code",
      "source": [
        "prediction: np.ndarray = mob.predict(np.expand_dims(tf.keras.applications.vgg19.preprocess_input(img), axis=0))\n",
        "prediction.shape"
      ],
      "metadata": {
        "colab": {
          "base_uri": "https://localhost:8080/"
        },
        "id": "7KQNopscR_YZ",
        "outputId": "fe712cb8-d6a6-48fc-f57f-d2c82ea8c517"
      },
      "execution_count": null,
      "outputs": [
        {
          "output_type": "execute_result",
          "data": {
            "text/plain": [
              "(1, 300)"
            ]
          },
          "metadata": {},
          "execution_count": 21
        }
      ]
    },
    {
      "cell_type": "code",
      "source": [
        "import torch\n",
        "import logging\n",
        "from tqdm import tqdm\n",
        "\n",
        "class EmbeddingsLoader:\n",
        "\n",
        "    def __init__(self, filename : str):\n",
        "\n",
        "        self.file = filename\n",
        "        self.embeddings = {}\n",
        "\n",
        "        self._load_file()\n",
        "\n",
        "    def _load_file(self):\n",
        "        try:\n",
        "            with open(self.file, \"r\") as f:\n",
        "                lines = f.readlines()\n",
        "                \n",
        "            for line in lines:\n",
        "                data = line.split(\",\")\n",
        "                self.embeddings[data[0]] = torch.FloatTensor(list(map(float, data[1:])))\n",
        "\n",
        "        except IOError as e:\n",
        "            raise IOError(f\"No file {self.file}\")\n",
        "\n",
        "class SimilarityCompute(EmbeddingsLoader):\n",
        "\n",
        "    def __init__(self, embeddings):\n",
        "        super(SimilarityCompute, self).__init__(embeddings)\n",
        "\n",
        "\n",
        "    def compute_sim(self):\n",
        "        \"\"\" compute cosine similarity between all vectors \"\"\"\n",
        "        if len(self.embeddings) == 0:\n",
        "            raise Exception(\"Tags not converted yet !\")\n",
        "\n",
        "        logging.info(\"Computing cosine similarity, this could take some time...\")\n",
        "\n",
        "        if self.cosine_sim_matrix is None:\n",
        "            n_tokens = len(self.embeddings)\n",
        "            self.cosine_sim_matrix = [[1 for j in range(n_tokens)] for i in range(n_tokens)]\n",
        "\n",
        "        for j, vector in tqdm(enumerate(self.embeddings), total = len(self.embeddings)):\n",
        "\n",
        "            for i, other_vector in enumerate(self.embeddings):\n",
        "\n",
        "                if i == j:\n",
        "                    continue\n",
        "\n",
        "                cos = torch.nn.CosineSimilarity(dim=0)\n",
        "                similarity = cos(vector[1], other_vector[1])\n",
        "\n",
        "                self.cosine_sim_matrix[i][j] = similarity\n",
        "                self.cosine_sim_matrix[j][i] = similarity\n",
        "\n",
        "    def export_sim_matrix(self, filename):\n",
        "        if self.cosine_sim_matrix == None:\n",
        "            self.compute_sim()\n",
        "        \n",
        "        try:\n",
        "            f = open(filename, \"w\")\n",
        "        except OSError:\n",
        "            raise OSError(\"Could not open file\")\n",
        "\n",
        "        with f:\n",
        "            print(\"/\", \",\".join([tag[0] for tag in self.embeddings]), sep = \",\", file = f)\n",
        "\n",
        "            for j, tag_y in enumerate(self.embeddings):\n",
        "                print(tag_y[0], \",\".join( [str(round(float(self.cosine_sim_matrix[j][i]), 3)) for i in range(len(self.embeddings))]), sep = \",\", file = f)\n",
        "\n",
        "    def sim_between(self, token1, token2):\n",
        "        index1, v1 = [(i, v[1]) for i, v in enumerate(self.embeddings) if v[0] == token1][0]\n",
        "        index2, v2 = [(i, v[1]) for i, v in enumerate(self.embeddings) if v[0] == token2][0]\n",
        "\n",
        "        if self.cosine_sim_matrix is None:\n",
        "            n_tokens = len(self.embeddings)\n",
        "            self.cosine_sim_matrix = [[1 for j in range(n_tokens)] for i in range(n_tokens)]\n",
        "\n",
        "        if self.cosine_sim_matrix[index1][index2] == 0 or self.cosine_sim_matrix[index2][index1]:\n",
        "            cos = torch.nn.CosineSimilarity(dim=0)\n",
        "            similarity = cos(v1, v2)\n",
        "\n",
        "            self.cosine_sim_matrix[index1][index2] = similarity\n",
        "            self.cosine_sim_matrix[index2][index1] = similarity\n",
        "\n",
        "        return self.cosine_sim_matrix[index1][index2]\n",
        "\n",
        "class Solver(EmbeddingsLoader):\n",
        "\n",
        "    def __init__(self, embeddings):\n",
        "        super(Solver, self).__init__(embeddings)\n",
        "\n",
        "    def get_nearest_embedding_of(self, embedding, nb = 10):\n",
        "\n",
        "        if nb > len(self.embeddings):\n",
        "            raise Exception(\"nb too high, not enough token\")\n",
        "\n",
        "        nearest = []\n",
        "        for tag, e in self.embeddings.items():\n",
        "\n",
        "            cos = torch.nn.CosineSimilarity(dim=0)\n",
        "            similarity = cos(embedding, e)\n",
        "\n",
        "            nearest.append((tag, similarity))\n",
        "        \n",
        "        nearest.sort(key = lambda tup : tup[1])\n",
        "        return nearest[-1:-nb-1:-1]"
      ],
      "metadata": {
        "id": "msvijZKTSGau"
      },
      "execution_count": 64,
      "outputs": []
    },
    {
      "cell_type": "code",
      "source": [
        "solver = Solver(\"/content/drive/MyDrive/data/cifar100-wiki2vec-300.csv\")\n",
        "totest = torch.FloatTensor(prediction.reshape(-1))\n",
        "print(solver.get_nearest_embedding_of(totest))"
      ],
      "metadata": {
        "colab": {
          "base_uri": "https://localhost:8080/"
        },
        "id": "3na4iWTlSLkP",
        "outputId": "d1fd6e10-f304-40f0-c461-67b2deba72c3"
      },
      "execution_count": null,
      "outputs": [
        {
          "output_type": "stream",
          "name": "stdout",
          "text": [
            "[('lion', tensor(0.9427)), ('elephant', tensor(0.7125)), ('leopard', tensor(0.7107)), ('tiger', tensor(0.6290)), ('bear', tensor(0.6209)), ('wolf', tensor(0.5919)), ('crocodile', tensor(0.5554)), ('dolphin', tensor(0.5439)), ('camel', tensor(0.5329)), ('porcupine', tensor(0.5229)), ('squirrel', tensor(0.5126)), ('beaver', tensor(0.5099)), ('raccoon', tensor(0.5051)), ('rabbit', tensor(0.5032)), ('seal', tensor(0.5006)), ('otter', tensor(0.5001)), ('chimpanzee', tensor(0.4894)), ('shark', tensor(0.4879)), ('snake', tensor(0.4796)), ('turtle', tensor(0.4712)), ('skunk', tensor(0.4594)), ('man', tensor(0.4506)), ('shrew', tensor(0.4439)), ('whale', tensor(0.4437)), ('crab', tensor(0.4397)), ('kangaroo', tensor(0.4352)), ('hamster', tensor(0.4283)), ('baby', tensor(0.4224)), ('lizard', tensor(0.4183)), ('fox', tensor(0.4125)), ('aquarium_fish', tensor(0.4063)), ('mouse', tensor(0.4062)), ('mountain', tensor(0.3990)), ('boy', tensor(0.3945)), ('possum', tensor(0.3944)), ('lobster', tensor(0.3938)), ('cockroach', tensor(0.3929)), ('trout', tensor(0.3908)), ('sweet_pepper', tensor(0.3891)), ('sea', tensor(0.3837)), ('bottle', tensor(0.3828)), ('bee', tensor(0.3818)), ('worm', tensor(0.3805)), ('apple', tensor(0.3768)), ('palm_tree', tensor(0.3740)), ('spider', tensor(0.3740)), ('girl', tensor(0.3707)), ('dinosaur', tensor(0.3664)), ('snail', tensor(0.3651)), ('caterpillar', tensor(0.3641)), ('wardrobe', tensor(0.3552)), ('pear', tensor(0.3541)), ('butterfly', tensor(0.3458)), ('poppy', tensor(0.3449)), ('rose', tensor(0.3362)), ('woman', tensor(0.3353)), ('orange', tensor(0.3313)), ('castle', tensor(0.3307)), ('tulip', tensor(0.3265)), ('mushroom', tensor(0.3265)), ('oak_tree', tensor(0.3251)), ('sunflower', tensor(0.3246)), ('tank', tensor(0.3210)), ('cattle', tensor(0.3194)), ('couch', tensor(0.3144)), ('cloud', tensor(0.3043)), ('lamp', tensor(0.3025)), ('ray', tensor(0.3005)), ('rocket', tensor(0.2991)), ('house', tensor(0.2985)), ('lawn_mower', tensor(0.2983)), ('clock', tensor(0.2971)), ('willow_tree', tensor(0.2878)), ('orchid', tensor(0.2876)), ('flatfish', tensor(0.2866)), ('beetle', tensor(0.2841)), ('motorcycle', tensor(0.2750)), ('train', tensor(0.2744)), ('forest', tensor(0.2744)), ('bowl', tensor(0.2703)), ('tractor', tensor(0.2655)), ('bed', tensor(0.2587)), ('plate', tensor(0.2535)), ('table', tensor(0.2417)), ('television', tensor(0.2369)), ('maple_tree', tensor(0.2368)), ('plain', tensor(0.2325)), ('cup', tensor(0.2311)), ('road', tensor(0.2276)), ('bridge', tensor(0.2272)), ('bicycle', tensor(0.2270)), ('bus', tensor(0.2255)), ('computer_keyboard', tensor(0.2229)), ('pickup_truck', tensor(0.2157)), ('skyscraper', tensor(0.2067)), ('pine_tree', tensor(0.1928)), ('chair', tensor(0.1921)), ('can', tensor(0.1897)), ('streetcar', tensor(0.1792)), ('telephone', tensor(0.1401))]\n"
          ]
        }
      ]
    },
    {
      "cell_type": "code",
      "source": [
        "test_img : np.ndarray = x_test[37].copy()\n",
        "plt.imshow(test_img)"
      ],
      "metadata": {
        "colab": {
          "base_uri": "https://localhost:8080/",
          "height": 283
        },
        "id": "-Y-2k5UKyKpL",
        "outputId": "11da5d46-60a6-41da-888d-89858b510cd8"
      },
      "execution_count": null,
      "outputs": [
        {
          "output_type": "execute_result",
          "data": {
            "text/plain": [
              "<matplotlib.image.AxesImage at 0x7f0f5742b550>"
            ]
          },
          "metadata": {},
          "execution_count": 76
        },
        {
          "output_type": "display_data",
          "data": {
            "text/plain": [
              "<Figure size 432x288 with 1 Axes>"
            ],
            "image/png": "[encoded data removed]"
          },
          "metadata": {
            "needs_background": "light"
          }
        }
      ]
    },
    {
      "cell_type": "code",
      "source": [
        "pred2: np.ndarray = mob.predict(np.expand_dims(tf.keras.applications.vgg19.preprocess_input(test_img), axis=0))\n",
        "solver = Solver(\"/content/drive/MyDrive/data/cifar100-wiki2vec-300.csv\")\n",
        "totest = torch.FloatTensor(pred2.reshape(-1))\n",
        "print(solver.get_nearest_embedding_of(totest))"
      ],
      "metadata": {
        "colab": {
          "base_uri": "https://localhost:8080/"
        },
        "id": "ngL-dYzAyf7l",
        "outputId": "f54de71f-06d0-419d-e070-a38343009bdb"
      },
      "execution_count": null,
      "outputs": [
        {
          "output_type": "stream",
          "name": "stdout",
          "text": [
            "[('boy', tensor(0.7601)), ('man', tensor(0.7595)), ('girl', tensor(0.7482)), ('woman', tensor(0.7311)), ('baby', tensor(0.6994)), ('rabbit', tensor(0.5842)), ('wolf', tensor(0.5535)), ('elephant', tensor(0.5522)), ('sweet_pepper', tensor(0.5279)), ('fox', tensor(0.5248)), ('skunk', tensor(0.5244)), ('hamster', tensor(0.5132)), ('aquarium_fish', tensor(0.5099)), ('raccoon', tensor(0.5093)), ('squirrel', tensor(0.5059)), ('shark', tensor(0.5047)), ('snake', tensor(0.4983)), ('bottle', tensor(0.4893)), ('mouse', tensor(0.4867)), ('spider', tensor(0.4741)), ('turtle', tensor(0.4739)), ('bear', tensor(0.4687)), ('lion', tensor(0.4675)), ('chimpanzee', tensor(0.4665)), ('cockroach', tensor(0.4653)), ('crocodile', tensor(0.4644)), ('beaver', tensor(0.4611)), ('dolphin', tensor(0.4598)), ('lawn_mower', tensor(0.4573)), ('whale', tensor(0.4559)), ('camel', tensor(0.4530)), ('possum', tensor(0.4496)), ('palm_tree', tensor(0.4495)), ('crab', tensor(0.4421)), ('couch', tensor(0.4404)), ('tiger', tensor(0.4374)), ('lobster', tensor(0.4365)), ('can', tensor(0.4349)), ('lamp', tensor(0.4206)), ('porcupine', tensor(0.4197)), ('kangaroo', tensor(0.4190)), ('worm', tensor(0.4173)), ('bed', tensor(0.4129)), ('leopard', tensor(0.4122)), ('bee', tensor(0.4101)), ('lizard', tensor(0.4099)), ('poppy', tensor(0.4086)), ('television', tensor(0.3998)), ('rose', tensor(0.3970)), ('cattle', tensor(0.3953)), ('dinosaur', tensor(0.3934)), ('otter', tensor(0.3908)), ('mushroom', tensor(0.3883)), ('ray', tensor(0.3830)), ('train', tensor(0.3782)), ('trout', tensor(0.3776)), ('seal', tensor(0.3767)), ('wardrobe', tensor(0.3742)), ('pickup_truck', tensor(0.3739)), ('pear', tensor(0.3729)), ('shrew', tensor(0.3679)), ('motorcycle', tensor(0.3668)), ('sunflower', tensor(0.3654)), ('apple', tensor(0.3651)), ('butterfly', tensor(0.3636)), ('caterpillar', tensor(0.3587)), ('snail', tensor(0.3489)), ('clock', tensor(0.3469)), ('bicycle', tensor(0.3443)), ('tractor', tensor(0.3398)), ('mountain', tensor(0.3390)), ('rocket', tensor(0.3346)), ('chair', tensor(0.3296)), ('house', tensor(0.3289)), ('telephone', tensor(0.3233)), ('streetcar', tensor(0.3232)), ('flatfish', tensor(0.3209)), ('beetle', tensor(0.3209)), ('sea', tensor(0.3156)), ('bridge', tensor(0.3147)), ('orchid', tensor(0.3086)), ('plate', tensor(0.3077)), ('willow_tree', tensor(0.3060)), ('castle', tensor(0.3036)), ('road', tensor(0.3006)), ('cloud', tensor(0.2978)), ('computer_keyboard', tensor(0.2960)), ('bowl', tensor(0.2933)), ('plain', tensor(0.2912)), ('tank', tensor(0.2905)), ('table', tensor(0.2885)), ('bus', tensor(0.2872)), ('tulip', tensor(0.2865)), ('skyscraper', tensor(0.2827)), ('forest', tensor(0.2821)), ('orange', tensor(0.2729)), ('oak_tree', tensor(0.2685)), ('maple_tree', tensor(0.2135)), ('cup', tensor(0.2131)), ('pine_tree', tensor(0.2031))]\n"
          ]
        }
      ]
    },
    {
      "cell_type": "code",
      "source": [
        "img_path = '/content/drive/MyDrive/data/crocodile.jpg'\n",
        "croc_img: np.ndarray = np.asarray(tf.keras.preprocessing.image.load_img(img_path))\n",
        "\n",
        "# get prediction vector\n",
        "croc_pred: np.ndarray = mob.predict(np.expand_dims(\n",
        "    tf.keras.applications.vgg19.preprocess_input(\n",
        "        tf.image.resize(croc_img, (32, 32))), axis=0))\n",
        "\n",
        "solver = Solver(\"/content/drive/MyDrive/data/cifar100-wiki2vec-300.csv\")\n",
        "totest = torch.FloatTensor(croc_pred.reshape(-1))\n",
        "print(solver.get_nearest_embedding_of(totest))"
      ],
      "metadata": {
        "colab": {
          "base_uri": "https://localhost:8080/"
        },
        "id": "QdphFUec0dYy",
        "outputId": "ecda0bf4-96e9-46a3-edd8-b4c9994d3a7a"
      },
      "execution_count": null,
      "outputs": [
        {
          "output_type": "stream",
          "name": "stdout",
          "text": [
            "[('crab', tensor(0.7338)), ('snake', tensor(0.6866)), ('squirrel', tensor(0.6690)), ('lizard', tensor(0.6679)), ('turtle', tensor(0.6606)), ('lobster', tensor(0.6507)), ('leopard', tensor(0.6342)), ('shrew', tensor(0.6266)), ('beetle', tensor(0.6169)), ('shark', tensor(0.6033)), ('raccoon', tensor(0.5937)), ('crocodile', tensor(0.5898)), ('otter', tensor(0.5846)), ('cockroach', tensor(0.5835)), ('aquarium_fish', tensor(0.5785)), ('elephant', tensor(0.5759)), ('porcupine', tensor(0.5738)), ('flatfish', tensor(0.5736)), ('skunk', tensor(0.5667)), ('rabbit', tensor(0.5422)), ('butterfly', tensor(0.5415)), ('dolphin', tensor(0.5394)), ('lion', tensor(0.5381)), ('trout', tensor(0.5345)), ('worm', tensor(0.5305)), ('tiger', tensor(0.5297)), ('snail', tensor(0.5255)), ('possum', tensor(0.5252)), ('hamster', tensor(0.5226)), ('whale', tensor(0.5184)), ('wolf', tensor(0.5125)), ('spider', tensor(0.5124)), ('mouse', tensor(0.5075)), ('sweet_pepper', tensor(0.4973)), ('beaver', tensor(0.4877)), ('mushroom', tensor(0.4840)), ('orchid', tensor(0.4806)), ('pear', tensor(0.4703)), ('kangaroo', tensor(0.4670)), ('caterpillar', tensor(0.4667)), ('bear', tensor(0.4620)), ('bee', tensor(0.4583)), ('palm_tree', tensor(0.4409)), ('sea', tensor(0.4317)), ('camel', tensor(0.4309)), ('chimpanzee', tensor(0.4211)), ('sunflower', tensor(0.4208)), ('seal', tensor(0.4071)), ('bottle', tensor(0.4050)), ('fox', tensor(0.4015)), ('dinosaur', tensor(0.3999)), ('poppy', tensor(0.3949)), ('apple', tensor(0.3927)), ('mountain', tensor(0.3897)), ('lawn_mower', tensor(0.3883)), ('tulip', tensor(0.3800)), ('man', tensor(0.3670)), ('baby', tensor(0.3655)), ('house', tensor(0.3561)), ('couch', tensor(0.3543)), ('forest', tensor(0.3516)), ('willow_tree', tensor(0.3506)), ('bed', tensor(0.3468)), ('boy', tensor(0.3432)), ('cattle', tensor(0.3397)), ('orange', tensor(0.3388)), ('plate', tensor(0.3379)), ('plain', tensor(0.3360)), ('cloud', tensor(0.3241)), ('girl', tensor(0.3184)), ('tank', tensor(0.3143)), ('rocket', tensor(0.3050)), ('tractor', tensor(0.3023)), ('ray', tensor(0.3023)), ('bridge', tensor(0.3006)), ('castle', tensor(0.2870)), ('bicycle', tensor(0.2853)), ('pickup_truck', tensor(0.2849)), ('rose', tensor(0.2840)), ('road', tensor(0.2824)), ('clock', tensor(0.2815)), ('woman', tensor(0.2810)), ('can', tensor(0.2778)), ('maple_tree', tensor(0.2774)), ('motorcycle', tensor(0.2765)), ('train', tensor(0.2736)), ('wardrobe', tensor(0.2680)), ('lamp', tensor(0.2635)), ('bus', tensor(0.2616)), ('table', tensor(0.2435)), ('oak_tree', tensor(0.2360)), ('pine_tree', tensor(0.2358)), ('computer_keyboard', tensor(0.2352)), ('bowl', tensor(0.2338)), ('telephone', tensor(0.2247)), ('chair', tensor(0.2233)), ('television', tensor(0.2198)), ('skyscraper', tensor(0.2186)), ('cup', tensor(0.2113)), ('streetcar', tensor(0.2090))]\n"
          ]
        }
      ]
    },
    {
      "cell_type": "markdown",
      "source": [
        "## Training all the other models :    "
      ],
      "metadata": {
        "id": "mp2pJA5tH3hl"
      }
    },
    {
      "cell_type": "code",
      "source": [
        "X_train_vgg16: np.ndarray = tf.keras.applications.vgg16.preprocess_input(x_train)\n",
        "X_train_resnet: np.ndarray = tf.keras.applications.resnet50.preprocess_input(x_train)\n",
        "X_train_mobnet: np.ndarray = tf.keras.applications.mobilenet_v2.preprocess_input(x_train)\n",
        "\n",
        "X_trains = [X_train_vgg16, X_train_resnet, X_train_mobnet]\n",
        "\n",
        "X_test_vgg16: np.ndarray = tf.keras.applications.vgg16.preprocess_input(x_test)\n",
        "X_test_resnet: np.ndarray = tf.keras.applications.resnet50.preprocess_input(x_test)\n",
        "X_test_mobnet: np.ndarray = tf.keras.applications.mobilenet_v2.preprocess_input(x_test)\n",
        "\n",
        "X_tests = [X_test_vgg16, X_test_resnet, X_test_mobnet]"
      ],
      "metadata": {
        "id": "Vywinw9jH2zm"
      },
      "execution_count": 16,
      "outputs": []
    },
    {
      "cell_type": "code",
      "source": [
        "model_vgg16 = Mapping(cnn2, [32, 32, 3])\n",
        "model_restnet = Mapping(cnn3, [32, 32, 3])\n",
        "model_mobnet = Mapping(cnn4, [32, 32, 3])\n",
        "\n",
        "models = [model_vgg16, model_restnet, model_mobnet]\n",
        "names = ['vgg16', 'resnet', 'mobilenet']"
      ],
      "metadata": {
        "id": "cBWca7ZyIbv8"
      },
      "execution_count": null,
      "outputs": []
    },
    {
      "cell_type": "code",
      "source": [
        "optimizer = tf.keras.optimizers.Adam(learning_rate=0.001)\n",
        "loss = tf.keras.losses.CosineSimilarity(axis=1)\n",
        "\n",
        "# for idx, model in enumerate(models):\n",
        "#     print('training model num :', idx+1)\n",
        "#     model.train(X_trains[idx], y_train_vecs, optimizer=optimizer, loss=loss)\n",
        "#     print('testing model num :', idx+1)\n",
        "#     model.test(X_tests[idx], y_test_vecs)\n",
        "#     print('Saving model num :', idx+1)\n",
        "#     model.save_model(names[idx])\n",
        "#     model.plot_training_results()\n",
        "model_vgg16.train(X_train_vgg16, y_train_vecs, optimizer=optimizer, loss=loss)\n",
        "print('testing the model')\n",
        "model_vgg16.test(X_test_vgg16, y_test_vecs)\n",
        "model_vgg16.save_model(\"vgg16\")\n",
        "model_vgg16.plot_training_results()"
      ],
      "metadata": {
        "colab": {
          "base_uri": "https://localhost:8080/",
          "height": 1000
        },
        "id": "jbbvBQroIxnO",
        "outputId": "d8d67cd2-64e8-468f-e326-65b7040a5c8b"
      },
      "execution_count": null,
      "outputs": [
        {
          "output_type": "stream",
          "name": "stdout",
          "text": [
            "Model: \"sequential\"\n",
            "_________________________________________________________________\n",
            " Layer (type)                Output Shape              Param #   \n",
            "=================================================================\n",
            " random_flip (RandomFlip)    (None, 32, 32, 3)         0         \n",
            "                                                                 \n",
            " random_rotation (RandomRota  (None, 32, 32, 3)        0         \n",
            " tion)                                                           \n",
            "                                                                 \n",
            " vgg16 (Functional)          (None, 512)               14714688  \n",
            "                                                                 \n",
            " dense (Dense)               (None, 512)               262656    \n",
            "                                                                 \n",
            " dropout (Dropout)           (None, 512)               0         \n",
            "                                                                 \n",
            " dense_1 (Dense)             (None, 512)               262656    \n",
            "                                                                 \n",
            " dropout_1 (Dropout)         (None, 512)               0         \n",
            "                                                                 \n",
            " dense_2 (Dense)             (None, 300)               153900    \n",
            "                                                                 \n",
            "=================================================================\n",
            "Total params: 15,393,900\n",
            "Trainable params: 679,212\n",
            "Non-trainable params: 14,714,688\n",
            "_________________________________________________________________\n",
            "Epoch 1/20\n",
            "1250/1250 [==============================] - 573s 456ms/step - loss: -0.5706 - val_loss: -0.6219\n",
            "Epoch 2/20\n",
            "1250/1250 [==============================] - 562s 450ms/step - loss: -0.6199 - val_loss: -0.6436\n",
            "Epoch 3/20\n",
            "1250/1250 [==============================] - 565s 452ms/step - loss: -0.6400 - val_loss: -0.6546\n",
            "Epoch 4/20\n",
            "1250/1250 [==============================] - 559s 447ms/step - loss: -0.6533 - val_loss: -0.6616\n",
            "Epoch 5/20\n",
            "1250/1250 [==============================] - 560s 448ms/step - loss: -0.6620 - val_loss: -0.6664\n",
            "Epoch 6/20\n",
            "1250/1250 [==============================] - 564s 451ms/step - loss: -0.6700 - val_loss: -0.6683\n",
            "Epoch 7/20\n",
            "1250/1250 [==============================] - 561s 449ms/step - loss: -0.6767 - val_loss: -0.6704\n",
            "Epoch 8/20\n",
            "1250/1250 [==============================] - 559s 447ms/step - loss: -0.6822 - val_loss: -0.6727\n",
            "testing the model\n",
            "313/313 [==============================] - 107s 342ms/step - loss: -0.6709\n",
            "Model loss -0.6708860397338867\n"
          ]
        },
        {
          "output_type": "display_data",
          "data": {
            "text/plain": [
              "<Figure size 432x288 with 1 Axes>"
            ],
            "image/png": "[encoded data removed]"
          },
          "metadata": {
            "needs_background": "light"
          }
        }
      ]
    },
    {
      "cell_type": "code",
      "source": [
        "from tensorflow.keras.models import load_model\n",
        "\n",
        "vgg16_mod = load_model(\"/content/drive/MyDrive/data/vgg16.model\")"
      ],
      "metadata": {
        "id": "LkQYU54cJb5A"
      },
      "execution_count": 6,
      "outputs": []
    },
    {
      "cell_type": "code",
      "source": [
        "img: np.ndarray = x_test[15].copy()\n",
        "plt.imshow(img)"
      ],
      "metadata": {
        "colab": {
          "base_uri": "https://localhost:8080/",
          "height": 283
        },
        "id": "raheopywd1GY",
        "outputId": "4f6a0256-5973-4c52-9983-2de6ec7d1b3f"
      },
      "execution_count": 68,
      "outputs": [
        {
          "output_type": "execute_result",
          "data": {
            "text/plain": [
              "<matplotlib.image.AxesImage at 0x7f57926f0d90>"
            ]
          },
          "metadata": {},
          "execution_count": 68
        },
        {
          "output_type": "display_data",
          "data": {
            "text/plain": [
              "<Figure size 432x288 with 1 Axes>"
            ],
            "image/png": "[encoded data removed]"
          },
          "metadata": {
            "needs_background": "light"
          }
        }
      ]
    },
    {
      "cell_type": "code",
      "source": [
        "prediction: np.ndarray = vgg16_mod.predict(np.expand_dims(tf.keras.applications.vgg16.preprocess_input(img), axis=0))"
      ],
      "metadata": {
        "id": "JZL94rSvd4UU"
      },
      "execution_count": 69,
      "outputs": []
    },
    {
      "cell_type": "code",
      "source": [
        "solver = Solver(\"/content/drive/MyDrive/data/cifar100-wiki2vec-300.csv\")\n",
        "totest = torch.FloatTensor(prediction.reshape(-1))"
      ],
      "metadata": {
        "id": "ZGaMHCP1eEjc"
      },
      "execution_count": 70,
      "outputs": []
    },
    {
      "cell_type": "code",
      "source": [
        "solver.get_nearest_embedding_of(totest)"
      ],
      "metadata": {
        "colab": {
          "base_uri": "https://localhost:8080/"
        },
        "id": "j16vo9AWZx0z",
        "outputId": "5e5f3e33-847e-45a3-c8ec-5ce74efd956e"
      },
      "execution_count": 71,
      "outputs": [
        {
          "output_type": "execute_result",
          "data": {
            "text/plain": [
              "[('lion', tensor(0.9092)),\n",
              " ('leopard', tensor(0.7243)),\n",
              " ('elephant', tensor(0.7066)),\n",
              " ('tiger', tensor(0.6816)),\n",
              " ('wolf', tensor(0.6468)),\n",
              " ('bear', tensor(0.6173)),\n",
              " ('raccoon', tensor(0.6014)),\n",
              " ('squirrel', tensor(0.5983)),\n",
              " ('crocodile', tensor(0.5931)),\n",
              " ('porcupine', tensor(0.5737))]"
            ]
          },
          "metadata": {},
          "execution_count": 71
        }
      ]
    },
    {
      "cell_type": "code",
      "source": [
        "pred = [i[0] for i in solver.get_nearest_embedding_of(totest)]"
      ],
      "metadata": {
        "colab": {
          "base_uri": "https://localhost:8080/"
        },
        "id": "Jez7q08JZ9h-",
        "outputId": "05dfc4a9-2a02-4c32-be4c-9aecf4f1f759"
      },
      "execution_count": 30,
      "outputs": [
        {
          "output_type": "execute_result",
          "data": {
            "text/plain": [
              "['lion', 'leopard', 'elephant', 'tiger', 'wolf']"
            ]
          },
          "metadata": {},
          "execution_count": 30
        }
      ]
    },
    {
      "cell_type": "code",
      "source": [
        ""
      ],
      "metadata": {
        "id": "SUMuRoonZ9fN"
      },
      "execution_count": null,
      "outputs": []
    },
    {
      "cell_type": "code",
      "source": [
        "solver.get_nearest_embedding_of(totest)[0][0] == labels[y_test[15][0]]"
      ],
      "metadata": {
        "id": "dJWRTcUneJg4",
        "colab": {
          "base_uri": "https://localhost:8080/"
        },
        "outputId": "ad69eb4b-d2fd-4802-93bb-a29e51a34f06"
      },
      "execution_count": 14,
      "outputs": [
        {
          "output_type": "execute_result",
          "data": {
            "text/plain": [
              "True"
            ]
          },
          "metadata": {},
          "execution_count": 14
        }
      ]
    },
    {
      "cell_type": "code",
      "source": [
        "n = X_test_vgg16.shape[0]\n",
        "solver = Solver(\"/content/drive/MyDrive/data/cifar100-wiki2vec-300.csv\")\n",
        "\n",
        "y_pred = []\n",
        "for i in range(n):\n",
        "    img: np.ndarray = x_test[i].copy()\n",
        "    prediction: np.ndarray = vgg16_mod.predict(np.expand_dims(tf.keras.applications.vgg16.preprocess_input(img), axis=0))\n",
        "    totest = torch.FloatTensor(prediction.reshape(-1))\n",
        "    y_pred.append([i[0] for i in solver.get_nearest_embedding_of(totest)])"
      ],
      "metadata": {
        "id": "j4it6XU_Xbpa"
      },
      "execution_count": 72,
      "outputs": []
    },
    {
      "cell_type": "code",
      "source": [
        "y_pred[:2]"
      ],
      "metadata": {
        "colab": {
          "base_uri": "https://localhost:8080/"
        },
        "id": "u0PJ45pBdvjx",
        "outputId": "9401b134-bd3c-41fb-e962-ccca34c47ab1"
      },
      "execution_count": 74,
      "outputs": [
        {
          "output_type": "execute_result",
          "data": {
            "text/plain": [
              "[['whale',\n",
              "  'seal',\n",
              "  'elephant',\n",
              "  'dolphin',\n",
              "  'otter',\n",
              "  'shark',\n",
              "  'bear',\n",
              "  'turtle',\n",
              "  'wolf',\n",
              "  'raccoon'],\n",
              " ['tiger',\n",
              "  'shark',\n",
              "  'aquarium_fish',\n",
              "  'lobster',\n",
              "  'leopard',\n",
              "  'crab',\n",
              "  'elephant',\n",
              "  'squirrel',\n",
              "  'crocodile',\n",
              "  'flatfish']]"
            ]
          },
          "metadata": {},
          "execution_count": 74
        }
      ]
    },
    {
      "cell_type": "code",
      "source": [
        "y_true = []\n",
        "for i in range(n):\n",
        "    y_true.append(labels[y_test[i][0]])"
      ],
      "metadata": {
        "id": "ri-wh7rKYkWd"
      },
      "execution_count": 75,
      "outputs": []
    },
    {
      "cell_type": "code",
      "source": [
        "len(y_true)"
      ],
      "metadata": {
        "colab": {
          "base_uri": "https://localhost:8080/"
        },
        "id": "lZdq2ABAeBqT",
        "outputId": "3f62bffd-e1f7-4006-cf6d-c86a9b572126"
      },
      "execution_count": 76,
      "outputs": [
        {
          "output_type": "execute_result",
          "data": {
            "text/plain": [
              "10000"
            ]
          },
          "metadata": {},
          "execution_count": 76
        }
      ]
    },
    {
      "cell_type": "code",
      "source": [
        "y_pred[1][:2]"
      ],
      "metadata": {
        "colab": {
          "base_uri": "https://localhost:8080/"
        },
        "id": "7dcgu55Fk_-z",
        "outputId": "ee9741e9-9be6-423c-af65-c6b628be16d2"
      },
      "execution_count": 56,
      "outputs": [
        {
          "output_type": "execute_result",
          "data": {
            "text/plain": [
              "['tiger', 'shark']"
            ]
          },
          "metadata": {},
          "execution_count": 56
        }
      ]
    },
    {
      "cell_type": "code",
      "source": [
        "def top_k_accuracy(y_true, y_pred, k):\n",
        "    n = len(y_true)\n",
        "    true_pred = 0\n",
        "    for i in range(n):\n",
        "        if y_true[i] in y_pred[i][:k]:\n",
        "            true_pred += 1\n",
        "    return true_pred/n"
      ],
      "metadata": {
        "id": "dDMN6NbkesEN"
      },
      "execution_count": 82,
      "outputs": []
    },
    {
      "cell_type": "code",
      "source": [
        "for i in range(1, 11):\n",
        "    print(f\"top-{i} : {top_k_accuracy(y_true, y_pred, i)}\")"
      ],
      "metadata": {
        "colab": {
          "base_uri": "https://localhost:8080/"
        },
        "id": "33kRs0R_eF8M",
        "outputId": "dc26c8ef-13c8-4b02-812d-14007a4e28a8"
      },
      "execution_count": 84,
      "outputs": [
        {
          "output_type": "stream",
          "name": "stdout",
          "text": [
            "top-1 : 0.3331\n",
            "top-2 : 0.4341\n",
            "top-3 : 0.4948\n",
            "top-4 : 0.5391\n",
            "top-5 : 0.5662\n",
            "top-6 : 0.5905\n",
            "top-7 : 0.6088\n",
            "top-8 : 0.6271\n",
            "top-9 : 0.6408\n",
            "top-10 : 0.6535\n"
          ]
        }
      ]
    }
  ]
}